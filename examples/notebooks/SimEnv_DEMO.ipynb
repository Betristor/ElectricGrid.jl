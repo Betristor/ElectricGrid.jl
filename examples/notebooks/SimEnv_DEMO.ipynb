{
 "cells": [
  {
   "attachments": {},
   "cell_type": "markdown",
   "id": "1aa1010c",
   "metadata": {},
   "source": [
    "# SimEnv Demo"
   ]
  },
  {
   "attachments": {},
   "cell_type": "markdown",
   "id": "22d57658",
   "metadata": {},
   "source": [
    "This notebook is intended to show the functionality of the SimEnv. "
   ]
  },
  {
   "cell_type": "code",
   "execution_count": null,
   "id": "08e01153",
   "metadata": {},
   "outputs": [],
   "source": [
    "using Dare\n"
   ]
  },
  {
   "attachments": {},
   "cell_type": "markdown",
   "id": "1eabf77a",
   "metadata": {},
   "source": [
    "## Simplest grid"
   ]
  },
  {
   "cell_type": "code",
   "execution_count": null,
   "id": "937a199a",
   "metadata": {},
   "outputs": [],
   "source": [
    "CM = [ 0  0  1\n",
    "       0  0  2\n",
    "      -1 -2  0];"
   ]
  },
  {
   "attachments": {},
   "cell_type": "markdown",
   "id": "822ae85f",
   "metadata": {},
   "source": [
    "An entry in `CM[2,3]`."
   ]
  },
  {
   "cell_type": "markdown",
   "id": "ed8f10b4",
   "metadata": {},
   "source": []
  }
 ],
 "metadata": {
  "@webio": {
   "lastCommId": null,
   "lastKernelId": null
  },
  "kernelspec": {
   "display_name": "Julia 1.8.0",
   "language": "julia",
   "name": "julia-1.8"
  },
  "language_info": {
   "file_extension": ".jl",
   "mimetype": "application/julia",
   "name": "julia",
   "version": "1.8.0"
  }
 },
 "nbformat": 4,
 "nbformat_minor": 5
}
