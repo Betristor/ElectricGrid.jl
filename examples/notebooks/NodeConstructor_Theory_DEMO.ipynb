{
 "cells": [
  {
   "cell_type": "markdown",
   "id": "1aa1010c",
   "metadata": {},
   "source": [
    "# NodeConstructor Theory"
   ]
  },
  {
   "cell_type": "markdown",
   "id": "567425c1",
   "metadata": {},
   "source": [
    "The NodeConstructor has the goal to convert the physical system, here the grid, into a mathematical model. This mathematical model can then be used to simulate the behavior of the network. This notebook addresses the following points:\n",
    "\n",
    "- ### Introduction to the NodeConstructor\n",
    "- ### Representation of the physical grid\n",
    "- ### Building of the state-space matrices\n"
   ]
  },
  {
   "cell_type": "markdown",
   "id": "503c296e",
   "metadata": {},
   "source": [
    "## Introduction"
   ]
  },
  {
   "cell_type": "markdown",
   "id": "95c30e03",
   "metadata": {},
   "source": [
    "![Illustration of where the NodeConstructor is located](figures/OverviewJEG.png \"\")\n",
    "\n",
    "The NodeConstructor is part of the enviroment (see graphic). Its function is to create the mathematical model of the grid to be simulated. The inputs for the NodeConstructor are the specifications of the grid, which will be discussed in more detail subsequently. Within the NodeConstructor, an ordinary differential equation (ODE) system is created based on the underlying physical models and properties of the individual components. Based on this ODE system, the necessary matrices can be extracted.\n",
    "\n",
    "In the following, we will discuss how the mathematical model of an electrical power grid can be generated using the NodeConstructor."
   ]
  },
  {
   "cell_type": "markdown",
   "id": "f0a0e9bf",
   "metadata": {},
   "source": [
    "## Modelling a physical grid"
   ]
  },
  {
   "cell_type": "markdown",
   "id": "22618086",
   "metadata": {},
   "source": [
    "The following graphic shows a simple example grid:\n",
    "\n",
    "\n",
    "![ExampleGrid](figures/ExampleGrid.png \"Illustration of a simple network and its electrical equivalent circuit diagram.\")\n",
    "\n",
    "Two sources (wind turbine on the left and PV arrays on the right), as well as a load (exemplary of a household which is composed of various objects) can be seen in this. In addition, the sources are connected to the load via cables. For the sources, we assume that the voltage is provided by a DC link, so we can assume that the voltage can be modeled by a voltage source and a filter. Loads are divided into active loads, which, based on an internal function, can take power from the network, and passive loads, which are described by their resistive, capacitive and/or inductive components and thus dissipate a certain power. Cable modeling relies on the Pi equivalent circuit like depicted in the fiure below.\n",
    "\n",
    "If you abstract the above figure and insert the respective components according to the description, you get the following single-phase circuit:\n",
    "\n",
    "![ExampleGridCurcuit](figures/ExampleGridCurcuit.png \"Abstraction of the previously presented example grid.\")\n",
    "\n",
    "With the help of this example, we will now discuss the derivation of a mathematical model and what information the NodeConstructor will later need to generate this model automatically."
   ]
  },
  {
   "cell_type": "markdown",
   "id": "9345679b",
   "metadata": {},
   "source": [
    "### Fundamentals of electrical engineering"
   ]
  },
  {
   "cell_type": "markdown",
   "id": "b5858e7e",
   "metadata": {},
   "source": [
    "If we annotate the above equivalent circuit, we get the following representation:\n",
    "\n",
    "![ExampleGridCurcuitAnnotations](figures/ExampleGridCurcuit_Annotations_Kirchhof.png \"Equivalent curcuit with annotations.\")\n",
    "\n",
    "In this, the components are annotated and the currents are noted with the technical flow direction. For the sake of clarity, the voltages are only indicated by green arrows, but have the same name as the corresponding component to which they are applied.\n",
    "\n",
    "Based on the components within the equivalent circuit diagram, we can now construct the differential equations. Togehter with Kirchhoff's laws\n",
    "\n",
    "\\begin{align}\n",
    "    \\sum_k^n i_k(t) &= 0,\\\\\n",
    "    \\sum_k^n u_n(t) &= 0\n",
    "\\end{align}\n",
    "\n",
    "and the component equations\n",
    "\n",
    "\\begin{align}\n",
    "    u(t) &= R i(t),\\\\\n",
    "    i(t) &= C\\dot u(t),\\\\\n",
    "    u(t) &= L\\dot i(t).\n",
    "\\end{align}\n",
    "\n",
    "This gives the following equation system:\n",
    "\n",
    "\\begin{align}\n",
    "    \\text{M1:}\\;& 0 = u_{in1}  - u_{R11} - u_{L11} - u_{C11} - u_{RC1}, \\tag{1}\\\\\n",
    "    \\text{M2:}\\;& 0 = u_{C11} + u_{RC1} - u_{Cb11},\\tag{2}\\\\\n",
    "    \\text{M3:}\\;& 0 = u_{Cb11} - u_{Rb1} - u_{Lb1} - u_{Cb21},\\tag{3}\\\\\n",
    "    \\text{M4:}\\;& 0 = u_{RL} - u_{LL}, \\tag{4}\\\\\n",
    "    \\text{M5:}\\;& 0 = u_{Cb22} + u_{Rb2} + u_{Lb2} - u_{Cb12}, \\tag{5}\\\\\n",
    "    \\text{M6:}\\;& 0 = u_{Cb12} + u_{R22} + u_{L22} - u_{C12} - u_{RC2}, \\tag{6}\\\\\n",
    "    \\text{M7:}\\;& 0 = u_{RC2} + u_{C12} + u_{L12} + u_{R12} - u_{in2}, \\tag{7}\\\\\n",
    "    \\text{N1:}\\;& 0 = i_{11} - i_{RC1} - i_{Cb11} - i_{Rb1}, \\tag{8}\\\\\n",
    "    \\text{N2:}\\;& 0 = i_{Rb1} - i_{Cb21} - i_{CL} - i_{RL} - i_{LL} - i_{Cb22} + i_{Rb2}, \\tag{9}\\\\\n",
    "    \\text{N3:}\\;& 0 = i_{22} - i_{Rb2} - i_{Cb21}, \\tag{10}\\\\\n",
    "    \\text{N4:}\\;& 0 = i_{12} - i_{RC2} - i_{22}. \\tag{11}\n",
    "\\end{align}\n",
    "\n",
    "\n",
    "\n",
    "For the sake of clarity, the time dependencies are omitted here. For node 2 the connected capacitances are summed up, because there are several capacitors connected in parallel, e.g.:\n",
    "\n",
    "\\begin{equation}\n",
    "    C_{SL} = C_{b1} + C_L + C_{b2}\n",
    "\\end{equation}\n",
    "\n",
    "We then call this capacitor $C_{SL}$ through which the current $i_{CSL}$ flows and the voltage $u_{CSL}$ is applied. Now we insert the component equations into the equations (1) to (11) and rearrange them,  so that an ODE system is obtained:\n",
    "\n",
    "\\begin{align}\n",
    "    \\dot i_{11} &= \\frac{1}{L_{11}} \\left( u_{in1}  - R_{11} i_{11} - R_{RC1} i_{RC1} - u_{C12} \\right), \\\\\n",
    "    \\dot u_{C11} &= \\frac{1}{C_{11}R_{C11}} \\left(u_{Cb11} - u_{RC1} \\right), \\\\\n",
    "    \\dot i_{Rb1} &= \\frac{1}{L_{b1}} \\left( u_{Cb11} - i_{Rb1} R_{b1} \\right),\\\\\n",
    "    \\dot i_{LL} &= \\frac{1}{L_{L}} u_{CL}\\\\\n",
    "    \\dot i_{Rb2} &= \\frac{1}{L_{b2}} \\left( u_{Cb12} - i_{Rb2} R_{b2} - u_{Cb22}\\right),\\\\\n",
    "    \\dot i_{22} &= \\frac{1}{L_{22}} \\left( u_{C12}  - i_{22} (R_{C2}+R_{22}) - R_{RC1} i_{RC2} - u_{Cb12} \\right), \\\\\n",
    "    \\dot i_{12} &= \\frac{1}{L_{12}} \\left( u_{in2}  - i_{12} (R_{12} + R_{RC1}) - R_{RC1} i_{C1} - u_{C12} \\right), \\\\\n",
    "    \\dot u_{Cb11} &= \\frac{1}{C_{b1}} \\left(i_{11} - i_{Rb1} - \\frac{1}{R_{C1}} u_{Cb11} + \\frac{1}{R_{C1}} u_{C11}\\right),\\\\\n",
    "    \\dot u_{CSL} &= \\frac{1}{C_{SL}} \\left( i_{Rb1} + i_{Rb2} - \\frac{1}{R_{L}} u_{CSL} - i_{LL} \\right),\\\\\n",
    "    \\dot u_{Cb12} &= \\frac{1}{C_{b2}} \\left(i_{22} - i_{Rb2}\\right),\\\\\n",
    "    \\dot u_{C12} &= \\frac{1}{C_{12}} \\left(i_{12} - i_{22}\\right).\\\\\n",
    "\\end{align}\n",
    "\n",
    "These differential equations describe the system completely and could be solved for exampled using numerical solvers like Forward Euler or Runge-Kutta. "
   ]
  },
  {
   "cell_type": "markdown",
   "id": "8cba7e89",
   "metadata": {},
   "source": [
    "### Forming the system matrices from the ODEs"
   ]
  },
  {
   "cell_type": "markdown",
   "id": "41fb7b45",
   "metadata": {},
   "source": [
    "The differential equations found are now to be converted into the common state-space representation:\n",
    "\n",
    "\\begin{align}\n",
    "    \\dot{\\vec{x}}(t) &= \\mathbf{A} \\vec{x}(t) + \\mathbf{B} \\vec{u}(t)\\\\\n",
    "    \\vec{y}(t) &= \\mathbf{C} \\vec{x}(t) + \\mathbf{D} \\vec{u}(t)\n",
    "\\end{align}\n",
    "\n",
    "Since we are interested in how our grid evolves over time, the first equation is most relevant to our application. $x(t)$ describes in general the state vector, $\\dot x(t)$ the changes of this state vector. The change of the system is described on the one hand by the system dynamics, which is expressed by the matrix $\\mathbf{A}$ and on the other hand by the input signals $u(t)$ acting on the system combined with the matrix $\\mathbf{B}$.\n",
    "\n",
    "For our example, we can find the following state vector:\n",
    "\n",
    "\\begin{equation}\n",
    "    \\vec{x}(t) = \n",
    "    \\begin{pmatrix}\n",
    "        i_{11} & u_{C11} & u_{Cb11}  & i_{12} & u_{C12} & i_{22} & u_{Cb12} & i_{Rb1} & i_{Rb2} & u_{CSL} & i_{LL}\n",
    "    \\end{pmatrix}^\\top\n",
    "\\end{equation}\n",
    "\n",
    "and the following input vector:\n",
    "\n",
    "\\begin{equation}\n",
    "    \\vec{u}(t) = \n",
    "    \\begin{pmatrix}\n",
    "        u_{in1} & u_{in2}\n",
    "    \\end{pmatrix}^\\top.\n",
    "\\end{equation}\n",
    "\n",
    "It should be noted that the order of the states here is first sources, then cables and finally the loads. \n",
    "\n",
    "This leads for the investigated example to the following matrices:\n",
    "\n",
    "\\begin{equation}\n",
    "    \\mathbf{A} = \n",
    "    \\begin{pmatrix}\n",
    "        -\\frac{R_{11}}{L_{11}} & 0 & -\\frac{1}{L_{11}} & 0 & 0 & 0 & 0 & 0 & 0 & 0 & 0\\\\\n",
    "        0 & -\\frac{1}{C_{11} R_{C1}} & \\frac{1}{C_{11} R_{C1}} & 0 & 0 & 0 & 0 & 0 & 0 & 0 & 0\\\\\n",
    "        \\frac{1}{C_{b1}} & \\frac{1}{C_{b1} R_{C1}} & -\\frac{1}{C_{b1} R_{C1}} & 0 & 0 & 0 & 0 & -\\frac{1}{C_{b1}} & 0 & 0 & 0\\\\\n",
    "        0 & 0 & 0 & -\\frac{R_{12} + R_{C2}}{L_{12}} & -\\frac{1}{L_{12}} & \\frac{R_{C2}}{L_{12}} & 0 & 0 & 0 & 0 & 0\\\\\n",
    "        0 & 0 & 0 & \\frac{1}{C_{12}} & 0 & -\\frac{1}{C_{12}} & 0 & 0 & 0 & 0 & 0\\\\\n",
    "        0 & 0 & 0 & \\frac{R_{C2}}{L_{22}} & \\frac{1}{L_{22}} & -\\frac{R_{22} + R_{C2}}{L_{22}} & -\\frac{1}{L_{22}} &0&0&0&0\\\\\n",
    "        0 & 0 & 0 & 0 & 0 & \\frac{1}{C_{b2}} & 0 & 0 & -\\frac{1}{C_{b2}} & 0 & 0\\\\\n",
    "        0 & 0 & \\frac{1}{L_{b1}} & 0 & 0 & 0 & 0 & -\\frac{R_{b1}}{L_{b1}} & 0 & -\\frac{1}{L_{b1}} & 0\\\\\n",
    "        0 & 0 & 0 & 0 & 0 & 0 & \\frac{1}{L_{b2}} & 0 & -\\frac{R_{b2}}{L_{b1}} & -\\frac{1}{L_{b2}} & 0\\\\\n",
    "        0 & 0 & 0 & 0 & 0 & 0 & 0 & \\frac{1}{C_{SL}} & \\frac{1}{C_{SL}} & -\\frac{1}{R_{L} C_{SL}} & -\\frac{1}{C_{SL}}\\\\\n",
    "        0 & 0 & 0 & 0 & 0 & 0 & 0 & 0 & 0 & \\frac{1}{L_{L}} & 0\\\\\n",
    "    \\end{pmatrix}\n",
    "\\end{equation}\n",
    "\n",
    "and\n",
    "\n",
    "\\begin{equation}\n",
    "    \\mathbf{B} = \n",
    "    \\begin{pmatrix}\n",
    "        \\frac{1}{L_{11}} & 0 \\\\\n",
    "        0 & 0 \\\\\n",
    "        0 & 0 \\\\\n",
    "        0 & \\frac{1}{L_{12}} \\\\\n",
    "        0 & 0 \\\\\n",
    "        0 & 0 \\\\\n",
    "        0 & 0 \\\\\n",
    "        0 & 0 \\\\\n",
    "        0 & 0 \\\\\n",
    "        0 & 0 \\\\\n",
    "        0 & 0 \\\\\n",
    "    \\end{pmatrix}\n",
    "\\end{equation}"
   ]
  },
  {
   "cell_type": "markdown",
   "id": "16db875a",
   "metadata": {},
   "source": [
    "### Solving the ODE system"
   ]
  },
  {
   "cell_type": "markdown",
   "id": "ffc56bfb",
   "metadata": {},
   "source": [
    "Now we will deal with the solving of the ODE. The ODE was defined above in continuous time, but since we are in a digital environment, it first has to be discretised and optain the diverence equations in discret time. Assuming ideal digital-to-analogue (D/A) and analogue-to-digital (A/D) conversion with zero-order hold capability, the following system of equations results:\n",
    "\n",
    "\\begin{align}\n",
    "    \\dot{\\vec{x}}[k] &= \\mathbf{A}_d \\vec{x}[k] + \\mathbf{B}_d \\vec{u}[k]\\\\\n",
    "    \\vec{y}[k] &= \\mathbf{C}_d \\vec{x}[k] + \\mathbf{D}_d \\vec{u}[k]\n",
    "\\end{align}\n",
    "\n",
    "Note that the matrices $\\mathbf{A}_d$ and $\\mathbf{B}_d$ are different from the continuous-time counterparts. Further below it will be shown how these can be discretised. There are several tools to solve the difference equation. We use the `ControlSystem` package ([Source](https://juliacontrol.github.io/ControlSystems.jl/latest/man/creating_systems/#ss-Creating-State-Space-Systems)), to be more precise the `lsim()` function. "
   ]
  },
  {
   "cell_type": "code",
   "execution_count": null,
   "id": "f8fb4835",
   "metadata": {},
   "outputs": [],
   "source": [
    "using ControlSystemsBase\n",
    "using LinearAlgebra\n",
    "using PlotlyJS"
   ]
  },
  {
   "cell_type": "markdown",
   "id": "d6f38a88",
   "metadata": {},
   "source": [
    "Next we define some the values of the components:"
   ]
  },
  {
   "cell_type": "code",
   "execution_count": null,
   "id": "d482f2b5",
   "metadata": {},
   "outputs": [],
   "source": [
    "# Source\n",
    "R = 1.1e-3\n",
    "L = 70e-6\n",
    "R_c = 7e-3\n",
    "C = 250e-6\n",
    "\n",
    "# Cable\n",
    "C_b = 1e-4/2\n",
    "L_b = 1e-4\n",
    "R_b = 1e-3\n",
    "\n",
    "# Load\n",
    "R_l = 100\n",
    "C_l = 1e-2\n",
    "L_l = 1e-2;"
   ]
  },
  {
   "cell_type": "markdown",
   "id": "88a2eec9",
   "metadata": {},
   "source": [
    "Now we construct the matrices:"
   ]
  },
  {
   "cell_type": "code",
   "execution_count": null,
   "id": "090afbdf",
   "metadata": {},
   "outputs": [],
   "source": [
    "A = zeros((11,11))\n",
    "A[1,1] = -R/L\n",
    "A[1,3] = -1/L\n",
    "A[2,2] = -1/(C*R_c)\n",
    "A[2,3] = 1/(C*R_c)\n",
    "A[3,1] = 1/C_b\n",
    "A[3,2] = 1/(R_c*C_b)\n",
    "A[3,3] = -1/(R_c*C_b)\n",
    "A[3,8] = -1/C_b\n",
    "A[4,4] = -(R+R_c)/L\n",
    "A[4,5] = -1/L\n",
    "A[4,6] = R_c/L\n",
    "A[5,4] = 1/C\n",
    "A[5,6] = -1/C\n",
    "A[6,4] = R_c/L\n",
    "A[6,5] = 1/L\n",
    "A[6,6] = -(R+R_c)/L\n",
    "A[6,7] = -1/L\n",
    "A[7,6] = 1/C_b\n",
    "A[7,9] = -1/C_b\n",
    "A[8,3] = 1/L_b\n",
    "A[8,8] = -R_b/L_b\n",
    "A[8,10] = -1/L_b\n",
    "A[9,7] = 1/L_b\n",
    "A[9,9] = -R_b/L_b\n",
    "A[9,10] = -1/L_b\n",
    "\n",
    "C_SL = C_b + C_l + C_b\n",
    "\n",
    "A[10,8] = 1/C_SL\n",
    "A[10,9] = 1/C_SL\n",
    "A[10,10] = -1/(R_l*C_SL)\n",
    "A[10,11] = -1/C_SL\n",
    "A[11,10] = 1/L_l;"
   ]
  },
  {
   "cell_type": "code",
   "execution_count": null,
   "id": "1f9eb4d6",
   "metadata": {
    "scrolled": true
   },
   "outputs": [],
   "source": [
    "B = zeros((11,2))\n",
    "\n",
    "B[1,1] = 1/L\n",
    "B[4,2] = 1/L;"
   ]
  },
  {
   "cell_type": "code",
   "execution_count": null,
   "id": "4f75dafc",
   "metadata": {},
   "outputs": [],
   "source": [
    "C = Diagonal(ones(11));"
   ]
  },
  {
   "cell_type": "code",
   "execution_count": null,
   "id": "0489b4cd",
   "metadata": {},
   "outputs": [],
   "source": [
    "D = 0;"
   ]
  },
  {
   "cell_type": "markdown",
   "id": "60833611",
   "metadata": {},
   "source": [
    "We convert the matrices into the discrete time domain and create a discrete StateSpace object with the help of `ControlSystems`. This object can then represent the dynamics of the system for a given time interval using the function `lsim()`."
   ]
  },
  {
   "cell_type": "code",
   "execution_count": null,
   "id": "c9d91037",
   "metadata": {},
   "outputs": [],
   "source": [
    "ts = 1e-5\n",
    "Ad = exp(A*ts)\n",
    "Bd = A \\ (Ad - C) * B\n",
    "sys_d = StateSpace(Ad, Bd, C, D, ts);"
   ]
  },
  {
   "cell_type": "code",
   "execution_count": null,
   "id": "ce129037",
   "metadata": {},
   "outputs": [],
   "source": [
    "ns = length(A[1,:]) # get num of states\n",
    "ni = length(B[1,:]) # get num of inputs\n",
    "t = collect(0:ts:0.1)\n",
    "x0 = [0.0 for i = 1:ns]\n",
    "u = [230.0 for i = 1:length(t)]\n",
    "uu = [u for i = 1:ni ]\n",
    "uuu = mapreduce(permutedims, vcat, uu);"
   ]
  },
  {
   "cell_type": "markdown",
   "id": "7389beff",
   "metadata": {},
   "source": [
    "To use `lsim()` you need defined initial states `x0`, a time vector `t` and a input signal `u`. In our case we apply a jump to 230 V to the system."
   ]
  },
  {
   "cell_type": "code",
   "execution_count": null,
   "id": "8022be1f",
   "metadata": {},
   "outputs": [],
   "source": [
    "xout, _, _, _ = lsim(sys_d,uuu,t,x0=x0);"
   ]
  },
  {
   "cell_type": "code",
   "execution_count": null,
   "id": "e0dd18e1",
   "metadata": {
    "scrolled": false
   },
   "outputs": [],
   "source": [
    "layout = Layout(xaxis_title=\"Time in µs\", yaxis_title=\"v_C / V\")\n",
    "p = plot(t, xout[5,:], layout)"
   ]
  },
  {
   "cell_type": "code",
   "execution_count": null,
   "id": "bb4503c2",
   "metadata": {},
   "outputs": [],
   "source": []
  }
 ],
 "metadata": {
  "@webio": {
   "lastCommId": "72ccfeaeeaf94ddb864847f81781eadb",
   "lastKernelId": "e95a6ff3-e0a7-46a3-a2be-0cdd4c2b8534"
  },
  "kernelspec": {
   "display_name": "Julia 1.8.5",
   "language": "julia",
   "name": "julia-1.8"
  },
  "language_info": {
   "file_extension": ".jl",
   "mimetype": "application/julia",
   "name": "julia",
   "version": "1.8.5"
  }
 },
 "nbformat": 4,
 "nbformat_minor": 5
}
