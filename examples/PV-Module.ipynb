{
 "cells": [
  {
   "cell_type": "code",
   "execution_count": null,
   "id": "eca25340",
   "metadata": {},
   "outputs": [],
   "source": [
    "using DrWatson\n",
    "@quickactivate \"dare\"\n",
    "\n",
    "using ReinforcementLearning\n",
    "using IntervalSets\n",
    "using LinearAlgebra\n",
    "using ControlSystems\n",
    "using CUDA\n",
    "using DataFrames\n",
    "using Plots\n",
    "\n",
    "include(srcdir(\"nodeconstructor.jl\"))\n",
    "\n",
    "include(srcdir(\"env.jl\"));"
   ]
  },
  {
   "cell_type": "code",
   "execution_count": null,
   "id": "93a2dd6c",
   "metadata": {},
   "outputs": [],
   "source": [
    "Base.@kwdef mutable struct PV_module\n",
    "    I_0 = 2.0381e-10           # Diode seturation\n",
    "    ni = 1.2                   # Diode ideality factor for Si-mono\n",
    "    k = 1.3806e-23             # Boltzman constant\n",
    "    q = 1.6022e-19             # Electron charge\n",
    "    T_0 = 273                  # Temperature offset\n",
    "    N_cell = 36                 # Number of cells\n",
    "#     V_T = k*T/q                # thermal voltage\n",
    "    \n",
    "#     R_s = 0.45                 # Serial resistance\n",
    "#     R_p = 310.0248             # Parallel resistance\n",
    "    G_ref = 1000               # Irradiance at STC\n",
    "    mu_sc = 1.3e-3             # Coefficient tempreture of short circuit current\n",
    "    I_ph_ref = 3.11            # Phototcurrent at STC\n",
    "    \n",
    "end;"
   ]
  },
  {
   "cell_type": "code",
   "execution_count": null,
   "id": "d8be97b1",
   "metadata": {},
   "outputs": [],
   "source": [
    "Base.@kwdef mutable struct PV_array\n",
    "    pv_module::PV_module           # module parameters\n",
    "    serial = 10\n",
    "    parallel = 4\n",
    "    connection = 's'\n",
    "    \n",
    "end;"
   ]
  },
  {
   "cell_type": "code",
   "execution_count": null,
   "id": "14ce52dd",
   "metadata": {},
   "outputs": [],
   "source": [
    "Test_PV = PV_module();"
   ]
  },
  {
   "cell_type": "code",
   "execution_count": null,
   "id": "5d7351c0",
   "metadata": {},
   "outputs": [],
   "source": [
    "function get_I(self::PV_module, V, G, T)\n",
    "    function I_photo(self::PV_module, G, T)\n",
    "        dT = self.T_0 + T\n",
    "        I_ph = G/self.G_ref*(self.I_ph_ref + self.mu_sc * dT)\n",
    "        return I_ph\n",
    "    end;\n",
    "\n",
    "    function I_diode(self::PV_module, V, G, T)\n",
    "        dT = self.T_0 + T\n",
    "        V_T = self.k*dT/self.q\n",
    "        I_d = self.I_0*(exp(V/(self.ni*self.N_cell*V_T))-1)\n",
    "        return I_d\n",
    "    end;\n",
    "    \n",
    "    I = I_photo(self, G, T) - I_diode(self, V, G, T)\n",
    "    return I\n",
    "end"
   ]
  },
  {
   "cell_type": "code",
   "execution_count": null,
   "id": "f44fb90e",
   "metadata": {},
   "outputs": [],
   "source": [
    "function get_V(self::PV_module, I, G, T)\n",
    "    function I_photo(self::PV_module, G, T)\n",
    "        dT = self.T_0 + T\n",
    "        I_ph = G/self.G_ref*(self.I_ph_ref + self.mu_sc * dT)\n",
    "        return I_ph\n",
    "    end;\n",
    "    \n",
    "    I = maximum([0,I])\n",
    "    res = (I_photo(self, G, T)-I)\n",
    "    \n",
    "    dT = self.T_0 + T\n",
    "    V_T = self.k*dT/self.q\n",
    "    \n",
    "    if res <= 0\n",
    "        V=0\n",
    "    else\n",
    "        V = self.ni*self.N_cell*V_T*(log((res)/self.I_0)+1)\n",
    "    end\n",
    "    \n",
    "    return V\n",
    "end"
   ]
  },
  {
   "cell_type": "code",
   "execution_count": null,
   "id": "749ef05a",
   "metadata": {},
   "outputs": [],
   "source": [
    "function get_I_test(pv_arr::PV_array, V, G, T)\n",
    "\n",
    "    self = pv_arr.pv_module\n",
    "    function I_photo(self::PV_module, G, T)\n",
    "        dT = self.T_0 + T\n",
    "        I_ph = G/self.G_ref*(self.I_ph_ref + self.mu_sc * dT)\n",
    "        return I_ph\n",
    "    end;\n",
    "\n",
    "    function I_diode(self::PV_module, V, G, T)\n",
    "        dT = self.T_0 + T\n",
    "        V_T = self.k*dT/self.q\n",
    "        I_d = self.I_0*(exp(V/(self.ni*self.N_cell*pv_arr.serial*V_T))-1)\n",
    "        return I_d\n",
    "    end;\n",
    "    \n",
    "    I = (I_photo(self, G, T) - I_diode(self, V, G, T)) * pv_arr.parallel\n",
    "    return I\n",
    "end;\n",
    "\n",
    "function get_V_test(pv_arr::PV_array, I, G, T)\n",
    "\n",
    "    self = pv_arr.pv_module\n",
    "    function I_photo(self::PV_module, G, T)\n",
    "        dT = self.T_0 + T\n",
    "        I_ph = G/self.G_ref*(self.I_ph_ref + self.mu_sc * dT)\n",
    "        return I_ph\n",
    "    end;\n",
    "    \n",
    "    I = maximum([0.0,I[1]])\n",
    "    res = I_photo(self, G, T)-(I/pv_arr.parallel)\n",
    "    \n",
    "    dT = self.T_0 + T\n",
    "    V_T = self.k*dT/self.q\n",
    "    \n",
    "    if res <= 0\n",
    "        V=0\n",
    "    else\n",
    "        V = self.ni*self.N_cell*pv_arr.serial*V_T*(log((res)/self.I_0)+1)\n",
    "    end\n",
    "    \n",
    "    return V\n",
    "end;\n",
    "\n",
    "pv_module = PV_module()\n",
    "\n",
    "pv_array = PV_array(;pv_module);"
   ]
  },
  {
   "cell_type": "code",
   "execution_count": null,
   "id": "958fc300",
   "metadata": {},
   "outputs": [],
   "source": [
    "v_test = 150"
   ]
  },
  {
   "cell_type": "code",
   "execution_count": null,
   "id": "5f31550c",
   "metadata": {},
   "outputs": [],
   "source": [
    "i_test = get_I_test(pv_array, v_test, 1000, 27)"
   ]
  },
  {
   "cell_type": "code",
   "execution_count": null,
   "id": "1a17d040",
   "metadata": {},
   "outputs": [],
   "source": [
    "i_test2 = 13.999444539034302"
   ]
  },
  {
   "cell_type": "code",
   "execution_count": null,
   "id": "e54284e7",
   "metadata": {},
   "outputs": [],
   "source": [
    "v_test2 = get_V_test(pv_array, i_test2, 1000, 27)"
   ]
  },
  {
   "cell_type": "code",
   "execution_count": null,
   "id": "c6822133",
   "metadata": {},
   "outputs": [],
   "source": [
    "# i_d                        # Diode current\n",
    "# v_d                        # Diode voltage\n",
    "# i_0                        # Diode seturation\n",
    "ni = 1.2                   # Diode ideality factor for Si-mono\n",
    "k = 1.3806e-23             # Boltzman constant\n",
    "q = 1.6022e-19             # Electron charge\n",
    "T = 20                     # Cell temperature\n",
    "N_cell = 36                # Number of cells\n",
    "V_T = k*T/q                # thermal voltage\n",
    "\n",
    "R_s = 0.45                 # \n",
    "R_p = 310.0248             # \n",
    "G_ref = 1000               # Irradiance at STC\n",
    "mu_sc = 1.3e-3             # Coefficient tempreture of short circuit current\n",
    "I_ph_ref = 3.11            # Phototcurrent at STC\n",
    "I_0 = 2.0381e-10;"
   ]
  },
  {
   "cell_type": "code",
   "execution_count": null,
   "id": "d6b2683a",
   "metadata": {},
   "outputs": [],
   "source": [
    "serial = 10"
   ]
  },
  {
   "cell_type": "code",
   "execution_count": null,
   "id": "85ef29c4",
   "metadata": {},
   "outputs": [],
   "source": [
    "parallel = 4"
   ]
  },
  {
   "cell_type": "code",
   "execution_count": null,
   "id": "6a78f5a7",
   "metadata": {},
   "outputs": [],
   "source": [
    "G = collect(200:200:1000)"
   ]
  },
  {
   "cell_type": "code",
   "execution_count": null,
   "id": "d5496b2a",
   "metadata": {},
   "outputs": [],
   "source": [
    "T = 25"
   ]
  },
  {
   "cell_type": "code",
   "execution_count": null,
   "id": "697bdba4",
   "metadata": {},
   "outputs": [],
   "source": [
    "V = 0:1:500"
   ]
  },
  {
   "cell_type": "code",
   "execution_count": null,
   "id": "414b8169",
   "metadata": {},
   "outputs": [],
   "source": [
    "dT = 273 + T\n",
    "V_T = k*dT/q   \n",
    "I_ph = G./G_ref*(I_ph_ref + mu_sc * dT).* ones(length(V))';"
   ]
  },
  {
   "cell_type": "code",
   "execution_count": null,
   "id": "93603239",
   "metadata": {},
   "outputs": [],
   "source": [
    "I_d = I_0*(exp.(V/(ni*N_cell*serial*V_T)).-1).*ones(5)';"
   ]
  },
  {
   "cell_type": "code",
   "execution_count": null,
   "id": "e707ef9e",
   "metadata": {},
   "outputs": [],
   "source": [
    "I = (I_ph' - I_d) * parallel;"
   ]
  },
  {
   "cell_type": "code",
   "execution_count": null,
   "id": "ccfe368c",
   "metadata": {},
   "outputs": [],
   "source": [
    "V_ = V.*ones(5)';"
   ]
  },
  {
   "cell_type": "code",
   "execution_count": null,
   "id": "7a18a41f",
   "metadata": {},
   "outputs": [],
   "source": [
    "I_nn = I[I .>= zero(I)];"
   ]
  },
  {
   "cell_type": "code",
   "execution_count": null,
   "id": "acf513c3",
   "metadata": {},
   "outputs": [],
   "source": [
    "P = I .* V_;"
   ]
  },
  {
   "cell_type": "code",
   "execution_count": null,
   "id": "7667c6a7",
   "metadata": {},
   "outputs": [],
   "source": [
    "labels = [\"200 W/m^2\" \"400 W/m^2\" \"600 W/m^2\" \"800 W/m^2\" \"1000 W/m^2\"];"
   ]
  },
  {
   "cell_type": "code",
   "execution_count": null,
   "id": "23c32ede",
   "metadata": {},
   "outputs": [],
   "source": [
    "plot(V_, I, xlim=(0,300),ylim=(0,20),title=\"PV modules - I(V)\", label=labels, xlabel=\"V\", ylabel=\"I\")\n",
    "scatter!([v_test], [i_test], color=\"blue\", markershape=:star5, label=\"Test\")"
   ]
  },
  {
   "cell_type": "code",
   "execution_count": null,
   "id": "88e7b356",
   "metadata": {},
   "outputs": [],
   "source": [
    "plot(V_, P, xlim=(0,1), ylim=(0,5),title=\"PV modules - P(V)\", label=labels, xlabel=\"V\", ylabel=\"P\")"
   ]
  },
  {
   "cell_type": "code",
   "execution_count": null,
   "id": "24ca17d3",
   "metadata": {
    "scrolled": false
   },
   "outputs": [],
   "source": [
    "plot(I, V_, xlim=(0,30), ylim=(0,300),title=\"PV modules - V(I)\", label=labels, xlabel=\"I\", ylabel=\"V\")\n",
    "scatter!([i_test2],[v_test2], color=\"blue\", markershape=:star5, label=\"Test\")"
   ]
  },
  {
   "cell_type": "code",
   "execution_count": null,
   "id": "7289ad72",
   "metadata": {},
   "outputs": [],
   "source": [
    "[i_test2]"
   ]
  },
  {
   "cell_type": "code",
   "execution_count": null,
   "id": "b9609449",
   "metadata": {},
   "outputs": [],
   "source": [
    "[v_test2]"
   ]
  },
  {
   "cell_type": "code",
   "execution_count": null,
   "id": "1173ae24",
   "metadata": {},
   "outputs": [],
   "source": [
    "plot(I, P, xlim=(0,5), ylim=(0,50),title=\"PV modules - V(I)\", label=labels, xlabel=\"I\", ylabel=\"P\")"
   ]
  },
  {
   "cell_type": "markdown",
   "id": "f843f5b5",
   "metadata": {},
   "source": [
    "## PV module V(I)"
   ]
  },
  {
   "cell_type": "code",
   "execution_count": null,
   "id": "64dc8ec6",
   "metadata": {},
   "outputs": [],
   "source": [
    "I_ph = G[5]./G_ref*(I_ph_ref + mu_sc * dT)\n",
    "I = collect(0:0.001:3.497)\n",
    "V = V_T*log.((I_ph.-I)/I_0)"
   ]
  },
  {
   "cell_type": "code",
   "execution_count": null,
   "id": "76245508",
   "metadata": {},
   "outputs": [],
   "source": [
    "plot(I, V, xlim=(0,5), ylim=(0,1),title=\"PV modules - V(I)\", label=labels, xlabel=\"I\", ylabel=\"V\")"
   ]
  },
  {
   "cell_type": "markdown",
   "id": "a9b8fc70",
   "metadata": {},
   "source": [
    "## With R_s and R_p"
   ]
  },
  {
   "cell_type": "code",
   "execution_count": null,
   "id": "505aa908",
   "metadata": {},
   "outputs": [],
   "source": [
    "dT = 273 + T\n",
    "V_T = k*dT/q   \n",
    "I_ph = G./G_ref*(I_ph_ref + mu_sc * dT)*ones(length(V))';\n",
    "I_d = I_0*(exp.(V/(ni*N_cell*V_T)).-1).*ones(5)';\n",
    "\n",
    "I_init = 1 .*ones(5)\n",
    "\n",
    "R_s = 0.45                 # \n",
    "R_p = 310.0248             # \n",
    "        \n",
    "\n",
    "function get_I(G, V)\n",
    "    \n",
    "    I_ph = ones(length(V)) * G/G_ref*(I_ph_ref + mu_sc * dT);\n",
    "    delta = 0.00000000001\n",
    "    \n",
    "    function I_d(V, I)        \n",
    "        a = ni*N_cell*V_T\n",
    "        R_s = 0.45 \n",
    "        return I_0*(exp.(V.+R_s.*I/(a)).-1)\n",
    "    end\n",
    "\n",
    "    function I_p(V, I)\n",
    "        R_p = 310.0248\n",
    "        R_s = 0.45 \n",
    "        return V.+R_s.*I/R_p\n",
    "    end\n",
    "    \n",
    "    function f_dot(V,I)\n",
    "        a = ni*N_cell*V_T\n",
    "        R_p = 310.0248\n",
    "        R_s = 0.45 \n",
    "        return -I_0*1/a*exp.(V.+R_s.*I/(a)).-1/R_p\n",
    "    end\n",
    "    \n",
    "    I = 3*ones(length(V))\n",
    "    I_= zeros(length(V))\n",
    "    \n",
    "    while true\n",
    "        \n",
    "        I_ = I - (I_ph - I_d(V,I) - I_p(V,I))./f_dot(V,I)\n",
    "        \n",
    "        check = sum(broadcast(abs, (I_-I)) .< delta)\n",
    "        if check == length(V)\n",
    "            break\n",
    "        end\n",
    "        I = I_\n",
    "    end\n",
    "            \n",
    "    return I_\n",
    "end\n",
    "    "
   ]
  },
  {
   "cell_type": "code",
   "execution_count": null,
   "id": "839bc384",
   "metadata": {},
   "outputs": [],
   "source": [
    "V = 0:0.01:5"
   ]
  },
  {
   "cell_type": "code",
   "execution_count": null,
   "id": "38bd6a00",
   "metadata": {},
   "outputs": [],
   "source": [
    "I =get_I(1000, V)"
   ]
  },
  {
   "cell_type": "code",
   "execution_count": null,
   "id": "63104ea3",
   "metadata": {},
   "outputs": [],
   "source": [
    "plot(V, I,ylim=(0,5),title=\"PV modules - I(V)\", xlabel=\"V\", ylabel=\"I\")"
   ]
  },
  {
   "cell_type": "code",
   "execution_count": null,
   "id": "3ac9d83f",
   "metadata": {},
   "outputs": [],
   "source": [
    "V = 0:0.01:1"
   ]
  },
  {
   "cell_type": "code",
   "execution_count": null,
   "id": "08e8208b",
   "metadata": {},
   "outputs": [],
   "source": [
    "a = ni*N_cell*V_T\n",
    "R_s = 0.45\n",
    "R_p = 310.0248"
   ]
  },
  {
   "cell_type": "code",
   "execution_count": null,
   "id": "62ffd5e0",
   "metadata": {},
   "outputs": [],
   "source": [
    "-I_0*1/a*exp.(V.+R_s.*I/(a)).-1/R_p"
   ]
  },
  {
   "cell_type": "code",
   "execution_count": null,
   "id": "547b9ce2",
   "metadata": {},
   "outputs": [],
   "source": []
  },
  {
   "cell_type": "code",
   "execution_count": null,
   "id": "df9b23ba",
   "metadata": {},
   "outputs": [],
   "source": [
    "I_0*(exp.(V.+R_s.*I/(a)).-1)"
   ]
  },
  {
   "cell_type": "code",
   "execution_count": null,
   "id": "63f204b6",
   "metadata": {},
   "outputs": [],
   "source": [
    "sum(broadcast(abs, (I_-I)) .> delta)"
   ]
  },
  {
   "cell_type": "code",
   "execution_count": null,
   "id": "900d2a16",
   "metadata": {},
   "outputs": [],
   "source": []
  },
  {
   "cell_type": "code",
   "execution_count": null,
   "id": "5f805e8f",
   "metadata": {},
   "outputs": [],
   "source": [
    "x=4\n",
    "\n",
    "while true\n",
    "    x_ = x - 3x^3/9x^2\n",
    "    \n",
    "    if abs(x_ - x) < 0.00001\n",
    "        \n",
    "        println(x_)\n",
    "        break\n",
    "    end\n",
    "    x = x_\n",
    "end"
   ]
  },
  {
   "cell_type": "code",
   "execution_count": null,
   "id": "c52f2307",
   "metadata": {},
   "outputs": [],
   "source": []
  },
  {
   "cell_type": "code",
   "execution_count": null,
   "id": "0b3a938b",
   "metadata": {},
   "outputs": [],
   "source": []
  },
  {
   "cell_type": "code",
   "execution_count": null,
   "id": "e646c0f4",
   "metadata": {},
   "outputs": [],
   "source": []
  }
 ],
 "metadata": {
  "kernelspec": {
   "display_name": "Julia 1.7.2",
   "language": "julia",
   "name": "julia-1.7"
  },
  "language_info": {
   "file_extension": ".jl",
   "mimetype": "application/julia",
   "name": "julia",
   "version": "1.7.2"
  }
 },
 "nbformat": 4,
 "nbformat_minor": 5
}
