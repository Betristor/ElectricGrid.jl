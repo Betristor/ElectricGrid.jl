{
 "cells": [
  {
   "attachments": {},
   "cell_type": "markdown",
   "id": "1aa1010c",
   "metadata": {},
   "source": [
    "# SimEnv Demo"
   ]
  },
  {
   "attachments": {},
   "cell_type": "markdown",
   "id": "22d57658",
   "metadata": {},
   "source": [
    "This notebook is intended to show the functionality of the SimEnv which creates an environment for simulation of power-electronic driven microgrids with ad-hoc data generation.\n",
    "It can be used to to train and test reinforcement learing agents (e.g., from \n",
    "https://juliareinforcementlearning.org/).\n",
    "These agents can learn to handle different control tasks and can be compared to classical control approaches.\n",
    "\n",
    "The dynmaic bahaviour of the envorinment is simulated using linear state-space systems.\n",
    "It interacts step-wise with the agent/controller like shown in the figure below.\n",
    "Based on the input/action `u` at timestep `k` the state `x` is calculated.\n",
    "\n",
    "  \n",
    "![](figures/RL_env.png \"\")\n",
    "\n",
    "\n",
    "To use the Dare tool the Dare package has to be used:"
   ]
  },
  {
   "cell_type": "code",
   "execution_count": 1,
   "id": "08e01153",
   "metadata": {},
   "outputs": [],
   "source": [
    "using Dare"
   ]
  },
  {
   "attachments": {},
   "cell_type": "markdown",
   "id": "1eabf77a",
   "metadata": {},
   "source": [
    "## Simplest initialisation\n",
    "The easiest way to initialize an environment is as follows:"
   ]
  },
  {
   "cell_type": "code",
   "execution_count": 2,
   "id": "937a199a",
   "metadata": {},
   "outputs": [
    {
     "name": "stdout",
     "output_type": "stream",
     "text": [
      "\n",
      "******************************************************************************\n",
      "This program contains Ipopt, a library for large-scale nonlinear optimization.\n",
      " Ipopt is released as open source code under the Eclipse Public License (EPL).\n",
      "         For more information visit https://github.com/coin-or/Ipopt\n",
      "******************************************************************************\n",
      "\n",
      "This is Ipopt version 3.14.4, running with linear solver MUMPS 5.4.1.\n",
      "\n",
      "Number of nonzeros in equality constraint Jacobian...:       64\n",
      "Number of nonzeros in inequality constraint Jacobian.:       18\n",
      "Number of nonzeros in Lagrangian Hessian.............:      407\n",
      "\n",
      "Total number of variables............................:       16\n",
      "                     variables with only lower bounds:        0\n",
      "                variables with lower and upper bounds:       16\n",
      "                     variables with only upper bounds:        0\n",
      "Total number of equality constraints.................:        6\n",
      "Total number of inequality constraints...............:        3\n",
      "        inequality constraints with only lower bounds:        0\n",
      "   inequality constraints with lower and upper bounds:        0\n",
      "        inequality constraints with only upper bounds:        3\n",
      "\n",
      "iter    objective    inf_pr   inf_du lg(mu)  ||d||  lg(rg) alpha_du alpha_pr  ls\n",
      "   0  4.9005002e+07 1.07e+09 4.95e+03  -1.0 0.00e+00    -  0.00e+00 0.00e+00   0\n",
      "   1r 4.9005002e+07 1.07e+09 9.99e+02   5.8 0.00e+00    -  0.00e+00 4.03e-09R  2\n",
      "   2r 4.9005002e+07 1.07e+09 2.46e+05   5.8 6.35e+05    -  4.37e-03 6.41e-09f  2\n",
      "   3r 4.9002349e+07 1.07e+09 1.46e+06   0.9 9.82e+02    -  9.49e-02 1.05e-01f  1\n",
      "   4r 4.8996982e+07 1.07e+09 1.26e+06   0.9 1.18e+03    -  2.97e-02 1.03e-01f  1\n",
      "   5r 4.8992189e+07 1.07e+09 2.30e+06   0.9 1.91e+03    -  3.50e-02 2.29e-02f  1\n",
      "   6r 4.8984049e+07 1.07e+09 2.51e+06   0.9 8.58e+02    -  3.04e-02 4.42e-02f  1\n",
      "   7r 4.8975093e+07 1.07e+09 3.67e+06   0.9 8.72e+02    -  2.90e-02 4.23e-02f  1\n",
      "   8r 4.8970009e+07 1.07e+09 2.49e+07   0.9 5.57e+02    -  5.39e-01 2.90e-02f  1\n",
      "   9r 4.8675612e+07 1.07e+09 3.10e+07   0.9 4.67e+02    -  5.77e-01 6.39e-01f  1\n",
      "iter    objective    inf_pr   inf_du lg(mu)  ||d||  lg(rg) alpha_du alpha_pr  ls\n",
      "  10r 4.8675487e+07 1.07e+09 4.85e+07   0.9 1.13e+03   0.0 2.34e-02 4.30e-03f  1\n",
      "  11r 4.8454489e+07 1.07e+09 3.61e+07   0.9 4.46e+02    -  3.53e-01 9.08e-02f  1\n",
      "  12r 2.7642395e+07 1.07e+09 2.94e+07   0.9 3.91e+04    -  8.18e-03 1.58e-01f  1\n",
      "  13r 2.4461296e+07 1.07e+09 3.28e+07   0.9 4.87e+03    -  7.20e-01 4.73e-01f  1\n",
      "  14r 2.0222235e+07 1.07e+09 3.05e+07   0.9 3.93e+04    -  7.61e-02 9.10e-02f  1\n",
      "  15r 6.6721282e+06 1.07e+09 2.09e+07   0.9 2.49e+04    -  3.06e-01 1.78e-01f  1\n",
      "  16r 2.8183963e+07 1.07e+09 1.84e+07   0.9 1.31e+05    -  1.14e-01 5.90e-02f  1\n",
      "  17r 2.8372056e+07 1.07e+09 1.25e+07   0.9 1.62e+04    -  3.99e-01 6.64e-03f  1\n",
      "  18r 2.8956761e+07 1.07e+09 9.40e+06   0.9 1.80e+04    -  5.04e-01 4.28e-01f  1\n",
      "  19r 3.3686632e+07 1.07e+09 1.16e+07   0.9 8.49e+03    -  1.03e-02 2.32e-01f  1\n",
      "iter    objective    inf_pr   inf_du lg(mu)  ||d||  lg(rg) alpha_du alpha_pr  ls\n",
      "  20r 5.4660796e+07 1.07e+09 5.85e+06   0.9 6.62e+03    -  5.95e-01 7.83e-01f  1\n",
      "  21r 5.5723902e+07 1.07e+09 5.14e+06   0.9 8.05e+02    -  1.13e-01 3.01e-01f  1\n",
      "  22r 5.7010780e+07 1.07e+09 3.40e+06   0.9 4.60e+02    -  4.02e-01 6.16e-01f  1\n",
      "  23r 5.7010781e+07 1.07e+09 1.58e+06   0.9 3.94e+00   1.3 5.45e-01 8.88e-02f  1\n",
      "  24r 5.5217671e+07 1.07e+09 1.82e+06   0.9 2.27e+02    -  9.75e-02 8.03e-01f  1\n",
      "  25r 5.0813942e+07 1.07e+09 8.23e+05   0.9 1.46e+03    -  5.59e-01 7.79e-01f  1\n",
      "  26r 3.1660939e+07 1.07e+09 5.26e+05   0.9 8.71e+03    -  3.66e-01 5.44e-01f  1\n",
      "  27r 2.5372536e+07 1.07e+09 2.07e+05   0.9 5.27e+03    -  6.18e-01 1.00e+00f  1\n",
      "  28r 2.5250958e+07 1.07e+09 6.67e+04   0.9 1.41e+03    -  1.00e+00 1.00e+00f  1\n",
      "  29r 2.5890525e+07 1.07e+09 2.36e+04   0.9 1.59e+03    -  1.00e+00 1.00e+00f  1\n",
      "iter    objective    inf_pr   inf_du lg(mu)  ||d||  lg(rg) alpha_du alpha_pr  ls\n",
      "  30r 2.5037484e+07 1.07e+09 2.06e+04   0.9 1.20e+03    -  1.00e+00 1.00e+00h  1\n",
      "  31r 2.5037484e+07 1.07e+09 5.06e+04   0.9 8.44e-02   2.7 5.15e-01 1.00e+00H  1\n",
      "  32r 2.5037485e+07 1.07e+09 3.84e+04   0.9 1.71e-01   2.2 2.33e-01 1.00e+00F  1\n",
      "  33r 2.5037485e+07 1.07e+09 2.04e+04   0.9 8.87e-02   3.5 1.00e+00 1.00e+00f  1\n",
      "  34r 2.5122556e+07 1.07e+09 3.00e+04   0.9 8.41e+02    -  1.00e+00 7.19e-01h  1\n",
      "  35r 2.5071285e+07 1.07e+09 2.50e+04   0.9 7.96e+02    -  1.00e+00 1.00e+00f  1\n",
      "  36r 2.5171237e+07 1.07e+09 3.26e+03   0.9 1.78e+03    -  8.41e-01 4.65e-01f  2\n",
      "  37r 2.5125988e+07 1.07e+09 2.70e+04   0.9 7.07e+02    -  1.00e+00 1.00e+00H  1\n",
      "  38r 2.5002466e+07 1.07e+09 2.02e+04   0.9 1.44e+03    -  6.21e-01 2.50e-01f  3\n",
      "  39r 2.5074509e+07 1.07e+09 9.59e+03   0.9 3.01e+03    -  5.97e-01 1.25e-01f  3\n",
      "iter    objective    inf_pr   inf_du lg(mu)  ||d||  lg(rg) alpha_du alpha_pr  ls\n",
      "  40r 2.5127330e+07 1.07e+09 2.73e+04   0.9 6.50e+02    -  8.39e-01 5.22e-01H  1\n",
      "  41r 2.4999570e+07 1.07e+09 1.16e+04   0.9 1.56e+03    -  9.10e-01 2.50e-01f  3\n",
      "  42r 2.5483194e+07 1.07e+09 6.81e+04   0.9 1.44e+03    -  1.00e+00 5.09e-01H  1\n",
      "  43r 2.5286453e+07 1.07e+09 4.13e+04   0.9 1.37e+03    -  5.89e-01 1.00e+00f  1\n",
      "  44r 2.6532748e+07 1.07e+09 2.78e+04   0.9 1.89e+03    -  9.55e-01 1.00e+00f  1\n",
      "  45r 2.5287870e+07 1.07e+09 6.74e+03   0.9 2.54e+03    -  4.05e-01 2.99e-01f  2\n",
      "  46r 2.5004249e+07 1.07e+09 2.91e+03   0.9 2.10e+03    -  1.00e+00 2.95e-01h  2\n",
      "  47r 2.5044487e+07 1.07e+09 7.09e+03   0.9 7.33e+02    -  1.00e+00 4.44e-01h  2\n",
      "  48r 2.5005051e+07 1.07e+09 1.95e+04   0.9 6.81e+02    -  1.00e+00 5.00e-01h  2\n",
      "  49r 2.5322146e+07 1.07e+09 5.20e+03   0.9 1.45e+03    -  9.30e-01 5.00e-01f  2\n",
      "iter    objective    inf_pr   inf_du lg(mu)  ||d||  lg(rg) alpha_du alpha_pr  ls\n",
      "  50r 2.5045969e+07 1.07e+09 2.25e+04   0.9 8.71e+02    -  1.00e+00 1.00e+00h  1\n",
      "  51r 2.5010037e+07 1.07e+09 8.99e+03   0.9 1.63e+03    -  1.00e+00 2.27e-01f  3\n",
      "  52r 2.5382851e+07 1.07e+09 7.25e+03   0.9 9.75e+02    -  1.00e+00 5.60e-01h  1\n",
      "  53r 2.5026832e+07 1.07e+09 8.66e+03   0.9 9.68e+02    -  1.00e+00 5.00e-01f  2\n",
      "  54r 2.5090863e+07 1.07e+09 1.87e+04   0.9 1.90e+02    -  1.00e+00 1.00e+00h  1\n",
      "  55r 2.5000069e+07 1.07e+09 2.88e+04   0.9 5.60e+02    -  1.00e+00 5.00e-01f  2\n",
      "  56r 2.5353530e+07 1.07e+09 7.22e+03   0.9 1.38e+03    -  8.99e-01 5.00e-01f  2\n",
      "  57r 2.5036844e+07 1.07e+09 3.71e+03   0.9 8.76e+02    -  1.00e+00 5.00e-01h  2\n",
      "  58r 2.5002116e+07 1.07e+09 8.70e+03   0.9 7.26e+02    -  1.00e+00 2.50e-01h  3\n",
      "  59r 2.5020286e+07 1.07e+09 6.53e+03   0.9 3.75e+02    -  1.00e+00 2.50e-01h  3\n",
      "iter    objective    inf_pr   inf_du lg(mu)  ||d||  lg(rg) alpha_du alpha_pr  ls\n",
      "  60r 2.5154000e+07 1.07e+09 6.77e+04   0.9 2.97e+02    -  1.00e+00 1.00e+00h  1\n",
      "  61r 2.5025974e+07 1.07e+09 4.27e+04   0.9 1.41e+03    -  5.28e-01 5.00e-01f  2\n",
      "  62r 2.5151797e+07 1.07e+09 1.95e+04   0.9 1.12e+03    -  7.41e-01 5.00e-01f  2\n",
      "  63r 2.5001445e+07 1.07e+09 8.37e+03   0.9 1.20e+03    -  1.00e+00 3.66e-01h  2\n",
      "  64r 2.5035503e+07 1.07e+09 1.35e+04   0.9 5.64e+02    -  1.00e+00 5.00e-01h  2\n",
      "  65r 2.5002740e+07 1.07e+09 2.35e+04   0.9 5.80e+02    -  1.00e+00 5.00e-01h  2\n",
      "  66r 2.5063841e+07 1.07e+09 5.98e+03   0.9 1.44e+03    -  9.16e-01 2.50e-01f  3\n",
      "  67r 2.5215514e+07 1.07e+09 2.96e+04   0.9 6.81e+02    -  1.00e+00 7.03e-01H  1\n",
      "  68r 2.5041982e+07 1.07e+09 2.21e+04   0.9 1.23e+03    -  7.08e-01 2.50e-01f  3\n",
      "  69r 2.5004470e+07 1.07e+09 2.17e+04   0.9 7.65e+03    -  2.02e-01 2.11e-02f  4\n",
      "iter    objective    inf_pr   inf_du lg(mu)  ||d||  lg(rg) alpha_du alpha_pr  ls\n",
      "  70r 2.5428493e+07 1.07e+09 3.98e+03   0.9 1.49e+03    -  6.37e-01 5.00e-01f  2\n",
      "  71r 2.5033583e+07 1.07e+09 2.03e+03   0.9 9.81e+02    -  1.00e+00 5.00e-01h  2\n",
      "  72r 2.5012793e+07 1.07e+09 9.12e+03   0.9 7.06e+02    -  1.00e+00 1.25e-01h  4\n",
      "  73r 2.5073219e+07 1.07e+09 8.54e+03   0.9 3.39e+02    -  1.00e+00 5.00e-01h  2\n",
      "  74r 2.5016872e+07 1.07e+09 6.70e+03   0.9 6.20e+02    -  1.00e+00 2.50e-01h  3\n",
      "  75r 2.5155150e+07 1.07e+09 1.82e+04   0.9 2.75e+02    -  1.00e+00 1.00e+00h  1\n",
      "  76r 2.5005842e+07 1.07e+09 2.68e+04   0.9 6.40e+02    -  1.00e+00 5.00e-01f  2\n",
      "  77r 2.5048840e+07 1.07e+09 8.78e+03   0.9 1.36e+03    -  1.00e+00 1.25e-01f  4\n",
      "  78r 2.4999562e+07 1.07e+09 2.59e+04   0.9 9.92e+02    -  1.00e+00 2.50e-01f  3\n",
      "  79r 2.5056391e+07 1.07e+09 5.44e+03   0.9 1.48e+03    -  7.08e-01 2.05e-01f  3\n",
      "iter    objective    inf_pr   inf_du lg(mu)  ||d||  lg(rg) alpha_du alpha_pr  ls\n",
      "  80r 2.5220616e+07 1.07e+09 3.04e+04   0.9 6.90e+02    -  1.00e+00 7.19e-01H  1\n",
      "  81r 2.5000340e+07 1.07e+09 8.03e+03   0.9 1.24e+03    -  6.19e-01 5.00e-01f  2\n",
      "  82r 2.5233807e+07 1.07e+09 1.60e+04   0.9 9.79e+02    -  1.00e+00 4.77e-01H  1\n",
      "  83r 2.5037888e+07 1.07e+09 8.12e+03   0.9 6.04e+02    -  1.00e+00 5.00e-01f  2\n",
      "  84r 2.4999518e+07 1.07e+09 2.61e+04   0.9 9.69e+02    -  1.00e+00 2.50e-01f  3\n",
      "  85r 2.5047931e+07 1.07e+09 7.51e+03   0.9 1.05e+03    -  6.39e-01 2.50e-01f  3\n",
      "  86r 2.5001188e+07 1.07e+09 2.23e+04   0.9 8.89e+02    -  1.00e+00 2.50e-01f  3\n",
      "  87r 2.5010585e+07 1.07e+09 9.53e+03   0.9 1.31e+03    -  7.60e-01 5.93e-02f  5\n",
      "  88r 2.5103353e+07 1.07e+09 7.67e+03   0.9 7.16e+02    -  1.00e+00 3.18e-01h  2\n",
      "  89r 2.5024857e+07 1.07e+09 8.12e+03   0.9 7.12e+02    -  1.00e+00 2.50e-01h  3\n",
      "iter    objective    inf_pr   inf_du lg(mu)  ||d||  lg(rg) alpha_du alpha_pr  ls\n",
      "  90r 2.5110584e+07 1.07e+09 1.83e+04   0.9 2.14e+02    -  1.00e+00 1.00e+00h  1\n",
      "  91r 2.5001584e+07 1.07e+09 2.75e+04   0.9 5.80e+02    -  1.00e+00 5.00e-01f  2\n",
      "  92r 2.5034662e+07 1.07e+09 8.59e+03   0.9 1.36e+03    -  9.82e-01 1.25e-01f  4\n",
      "  93r 2.5004706e+07 1.07e+09 2.53e+04   0.9 1.01e+03    -  1.00e+00 1.25e-01f  4\n",
      "  94r 2.5034622e+07 1.07e+09 6.76e+03   0.9 1.34e+03    -  6.94e-01 1.08e-01f  4\n",
      "  95r 2.5011144e+07 1.07e+09 7.01e+03   0.9 7.56e+02    -  1.00e+00 1.25e-01h  4\n",
      "  96r 2.5150432e+07 1.07e+09 1.71e+04   0.9 2.89e+02    -  1.00e+00 1.00e+00h  1\n",
      "  97r 2.5006189e+07 1.07e+09 2.58e+04   0.9 6.32e+02    -  1.00e+00 5.00e-01f  2\n",
      "  98r 2.5049855e+07 1.07e+09 8.26e+03   0.9 1.36e+03    -  9.62e-01 1.25e-01f  4\n",
      "  99r 2.5013236e+07 1.07e+09 7.35e+03   0.9 9.35e+02    -  1.00e+00 1.25e-01f  4\n",
      "iter    objective    inf_pr   inf_du lg(mu)  ||d||  lg(rg) alpha_du alpha_pr  ls\n",
      " 100r 2.5135038e+07 1.07e+09 1.87e+04   0.9 2.65e+02    -  1.00e+00 1.00e+00h  1\n",
      " 101r 2.5003540e+07 1.07e+09 2.75e+04   0.9 6.28e+02    -  1.00e+00 5.00e-01f  2\n",
      " 102r 2.5041333e+07 1.07e+09 8.91e+03   0.9 1.35e+03    -  1.00e+00 1.25e-01f  4\n",
      " 103r 2.5007403e+07 1.07e+09 2.53e+04   0.9 1.01e+03    -  1.00e+00 1.25e-01f  4\n",
      " 104r 2.5040625e+07 1.07e+09 6.95e+03   0.9 1.29e+03    -  6.82e-01 1.11e-01f  4\n",
      " 105r 2.5013984e+07 1.07e+09 7.10e+03   0.9 7.89e+02    -  1.00e+00 1.25e-01h  4\n",
      " 106r 2.5137027e+07 1.07e+09 1.72e+04   0.9 2.70e+02    -  1.00e+00 1.00e+00h  1\n",
      " 107r 2.5004399e+07 1.07e+09 2.60e+04   0.9 6.18e+02    -  1.00e+00 5.00e-01f  2\n",
      " 108r 2.5019342e+07 1.07e+09 6.54e+03   0.9 1.36e+03    -  1.00e+00 6.25e-02f  5\n",
      " 109r 2.5187938e+07 1.07e+09 6.74e+04   0.9 3.23e+02    -  1.00e+00 1.00e+00h  1\n",
      "iter    objective    inf_pr   inf_du lg(mu)  ||d||  lg(rg) alpha_du alpha_pr  ls\n",
      " 110r 2.5133685e+07 1.07e+09 1.75e+04   0.9 1.38e+03    -  5.33e-01 6.25e-02f  5\n",
      " 111r 2.5000378e+07 1.07e+09 2.60e+04   0.9 1.16e+03    -  1.00e+00 3.33e-01f  2\n",
      " 112r 2.5130064e+07 1.07e+09 1.06e+04   0.9 1.41e+03    -  8.37e-01 2.50e-01f  3\n",
      " 113r 2.5022139e+07 1.07e+09 7.96e+03   0.9 9.08e+02    -  1.00e+00 2.50e-01h  3\n",
      " 114r 2.5007012e+07 1.07e+09 4.98e+03   0.9 6.64e+02    -  1.00e+00 1.25e-01h  4\n",
      " 115r 2.5027977e+07 1.07e+09 9.32e+03   0.9 3.48e+02    -  1.00e+00 2.50e-01h  3\n",
      " 116r 2.5011473e+07 1.07e+09 4.93e+03   0.9 5.46e+02    -  1.00e+00 1.25e-01h  4\n",
      " 117r 2.5162610e+07 1.07e+09 1.74e+04   0.9 3.06e+02    -  1.00e+00 1.00e+00h  1\n",
      " 118r 2.5006929e+07 1.07e+09 2.59e+04   0.9 6.50e+02    -  1.00e+00 5.00e-01f  2\n",
      " 119r 2.5052205e+07 1.07e+09 8.46e+03   0.9 1.37e+03    -  9.74e-01 1.25e-01f  4\n",
      "iter    objective    inf_pr   inf_du lg(mu)  ||d||  lg(rg) alpha_du alpha_pr  ls\n",
      " 120r 2.5014108e+07 1.07e+09 7.27e+03   0.9 9.45e+02    -  1.00e+00 1.25e-01f  4\n",
      " 121r 2.5133561e+07 1.07e+09 1.87e+04   0.9 2.61e+02    -  1.00e+00 1.00e+00h  1\n",
      " 122r 2.5003339e+07 1.07e+09 2.75e+04   0.9 6.26e+02    -  1.00e+00 5.00e-01f  2\n",
      " 123r 2.5040661e+07 1.07e+09 8.87e+03   0.9 1.35e+03    -  1.00e+00 1.25e-01f  4\n",
      " 124r 2.5020489e+07 1.07e+09 6.32e+03   0.9 1.02e+03    -  1.00e+00 6.25e-02f  5\n",
      " 125r 2.5122796e+07 1.07e+09 1.90e+04   0.9 2.25e+02    -  1.00e+00 1.00e+00h  1\n",
      " 126r 2.5002007e+07 1.07e+09 2.79e+04   0.9 6.17e+02    -  1.00e+00 5.00e-01f  2\n",
      " 127r 2.5035924e+07 1.07e+09 8.92e+03   0.9 1.35e+03    -  9.92e-01 1.25e-01f  4\n",
      " 128r 2.5030518e+07 1.07e+09 5.67e+03   0.9 1.03e+03    -  1.00e+00 1.56e-02f  7\n",
      " 129r 2.5118474e+07 1.07e+09 1.92e+04   0.9 1.94e+02    -  1.00e+00 1.00e+00h  1\n",
      "iter    objective    inf_pr   inf_du lg(mu)  ||d||  lg(rg) alpha_du alpha_pr  ls\n",
      " 130r 2.5001425e+07 1.07e+09 2.81e+04   0.9 6.12e+02    -  1.00e+00 5.00e-01f  2\n",
      " 131r 2.5012568e+07 1.07e+09 5.77e+03   0.9 1.35e+03    -  9.83e-01 6.25e-02f  5\n",
      " 132r 2.5293514e+07 1.07e+09 6.20e+04   0.9 5.47e+02    -  1.00e+00 6.12e-01H  1\n",
      " 133r 2.5222706e+07 1.07e+09 1.51e+04   0.9 1.39e+03    -  5.88e-01 6.25e-02f  5\n",
      " 134r 2.5005764e+07 1.07e+09 4.54e+03   0.9 1.26e+03    -  1.00e+00 3.38e-01f  2\n",
      " 135r 2.5090476e+07 1.07e+09 1.90e+04   0.9 3.10e+02    -  1.00e+00 1.00e+00h  1\n",
      " 136r 2.5025768e+07 1.07e+09 3.36e+04   0.9 5.63e+02    -  1.00e+00 2.50e-01f  3\n",
      " 137r 2.5083931e+07 1.07e+09 1.29e+04   0.9 1.27e+03    -  7.48e-01 1.25e-01f  4\n",
      " 138r 2.5024841e+07 1.07e+09 3.78e+03   0.9 1.13e+03    -  1.00e+00 1.25e-01f  4\n",
      " 139r 2.5146269e+07 1.07e+09 1.85e+04   0.9 2.32e+02    -  1.00e+00 1.00e+00h  1\n",
      "iter    objective    inf_pr   inf_du lg(mu)  ||d||  lg(rg) alpha_du alpha_pr  ls\n",
      " 140r 2.5048549e+07 1.07e+09 1.38e+04   0.9 6.60e+02    -  1.00e+00 2.50e-01f  3\n",
      " 141r 2.5019833e+07 1.07e+09 3.02e+04   0.9 7.15e+02    -  1.00e+00 1.25e-01f  4\n",
      " 142r 2.5038534e+07 1.07e+09 1.18e+04   0.9 1.08e+03    -  6.70e-01 6.25e-02f  5\n",
      " 143r 2.5019018e+07 1.07e+09 4.60e+03   0.9 1.05e+03    -  1.00e+00 6.25e-02f  5\n",
      " 144r 2.5106831e+07 1.07e+09 1.83e+04   0.9 1.88e+02    -  1.00e+00 1.00e+00h  1\n",
      " 145r 2.5030644e+07 1.07e+09 2.92e+03   0.9 6.20e+02    -  1.00e+00 2.50e-01f  3\n",
      " 146r 2.5050768e+07 1.07e+09 1.53e+04   0.9 2.00e+02    -  1.00e+00 2.50e-01h  3\n",
      " 147r 2.5010615e+07 1.07e+09 2.98e+04   0.9 4.97e+02    -  1.00e+00 2.50e-01f  3\n",
      " 148r 2.5056161e+07 1.07e+09 1.06e+04   0.9 1.29e+03    -  8.55e-01 1.25e-01f  4\n",
      " 149r 2.5013252e+07 1.07e+09 5.14e+03   0.9 1.06e+03    -  1.00e+00 1.25e-01f  4\n",
      "iter    objective    inf_pr   inf_du lg(mu)  ||d||  lg(rg) alpha_du alpha_pr  ls\n",
      " 150r 2.5058436e+07 1.07e+09 1.38e+04   0.9 2.57e+02    -  1.00e+00 5.00e-01h  2\n",
      " 151r 2.5011815e+07 1.07e+09 2.85e+04   0.9 5.62e+02    -  1.00e+00 2.50e-01f  3\n",
      " 152r 2.5417426e+07 1.07e+09 7.79e+03   0.9 1.29e+03    -  9.17e-01 5.00e-01f  2\n",
      " 153r 2.5023466e+07 1.07e+09 2.39e+04   0.9 8.71e+02    -  1.00e+00 1.00e+00h  1\n",
      " 154r 2.5226006e+07 1.07e+09 3.21e+03   0.9 1.55e+03    -  8.98e-01 4.76e-01f  2\n",
      " 155r 2.5014186e+07 1.07e+09 2.45e+04   0.9 7.07e+02    -  1.00e+00 1.00e+00h  1\n",
      " 156r 2.5438937e+07 1.07e+09 1.16e+04   0.9 1.49e+03    -  4.05e-01 2.63e-01H  1\n",
      " 157r 2.5438937e+07 1.07e+09 1.22e+03   0.9 2.80e-02   3.0 1.00e+00 9.23e-01h  1\n",
      " 158r 2.5053569e+07 1.07e+09 5.49e+02   0.2 1.11e+03    -  5.12e-01 4.84e-01f  1\n",
      " 159r 2.5018374e+07 1.07e+09 1.37e+04   0.2 2.87e+02    -  1.00e+00 4.70e-01f  1\n",
      "iter    objective    inf_pr   inf_du lg(mu)  ||d||  lg(rg) alpha_du alpha_pr  ls\n",
      " 160r 2.5018374e+07 1.07e+09 9.58e+03   0.2 7.70e-02   2.6 1.00e+00 1.00e+00f  1\n",
      " 161r 2.5018374e+07 1.07e+09 7.35e+03   0.2 1.71e-01   2.1 2.83e-01 1.00e+00h  1\n",
      " 162r 2.5018374e+07 1.07e+09 2.83e+03   0.2 3.22e+00   2.5 5.99e-02 4.34e-03h  5\n",
      " 163r 2.5018374e+07 1.07e+09 1.39e+03   0.2 1.34e-01   2.9 1.00e+00 9.08e-01h  1\n",
      " 164r 2.5018374e+07 1.07e+09 1.10e+04   0.2 1.91e-01   3.4 4.15e-01 1.00e+00f  1\n",
      " 165r 2.5018374e+07 1.07e+09 1.13e+03   0.2 9.87e-02   2.9 8.38e-01 1.00e+00f  1\n",
      " 166r 2.5018374e+07 1.07e+09 4.79e+02   0.2 2.11e-02   2.4 1.00e+00 1.00e+00h  1\n",
      " 167r 2.5016724e+07 1.07e+09 1.05e+04   0.2 1.28e+02    -  2.56e-01 6.81e-02f  2\n",
      " 168r 2.5016724e+07 1.07e+09 1.04e+04   0.2 4.55e-02   1.9 1.00e+00 1.00e+00f  1\n",
      " 169r 2.5016723e+07 1.07e+09 9.48e+03   0.2 6.11e-01   1.4 1.00e+00 1.04e-01f  2\n",
      "iter    objective    inf_pr   inf_du lg(mu)  ||d||  lg(rg) alpha_du alpha_pr  ls\n",
      " 170r 2.5007674e+07 1.07e+09 5.25e+03   0.2 2.27e+02    -  1.00e+00 1.00e+00h  1\n",
      " 171r 2.5007672e+07 1.07e+09 3.96e+03   0.2 9.77e-02   1.9 1.00e+00 2.50e-01f  3\n",
      " 172r 2.5008408e+07 1.07e+09 9.83e+02   0.2 2.48e+02    -  1.00e+00 1.00e+00F  1\n",
      " 173r 2.5008407e+07 1.07e+09 2.55e+03   0.2 1.72e-01   2.3 1.00e+00 9.60e-02h  2\n",
      " 174r 2.5016976e+07 1.07e+09 1.08e+04   0.2 5.31e+01    -  1.00e+00 1.00e+00h  1\n",
      " 175r 2.5016974e+07 1.07e+09 2.48e+03   0.2 1.66e-01   1.8 4.86e-01 1.00e+00H  1\n",
      " 176r 2.5016974e+07 1.07e+09 1.04e+04   0.2 5.83e-03   3.2 1.00e+00 1.00e+00h  1\n",
      " 177r 2.5016973e+07 1.07e+09 1.09e+04   0.2 1.52e-02   2.7 1.00e+00 1.00e+00f  1\n",
      " 178r 2.5016972e+07 1.07e+09 1.15e+04   0.2 5.17e-02   2.2 1.00e+00 1.00e+00f  1\n",
      " 179r 2.5016969e+07 1.07e+09 1.04e+04   0.2 1.42e-01   1.7 1.00e+00 1.00e+00F  1\n",
      "iter    objective    inf_pr   inf_du lg(mu)  ||d||  lg(rg) alpha_du alpha_pr  ls\n",
      " 180r 2.5016968e+07 1.07e+09 3.65e+02   0.2 1.29e-01   2.1 1.00e+00 1.00e+00H  1\n",
      " 181r 2.5016965e+07 1.07e+09 3.71e+02   0.2 2.01e-01   1.7 6.36e-01 1.00e+00H  1\n",
      " 182r 2.5016965e+07 1.07e+09 3.01e+03   0.2 1.43e-01   3.0 1.00e+00 1.00e+00H  1\n",
      " 183r 2.5016965e+07 1.07e+09 4.49e+03   0.2 3.22e-01   2.5 5.06e-01 1.25e-01h  4\n",
      " 184r 2.5016964e+07 1.07e+09 4.91e+03   0.2 2.60e-01   2.0 1.00e+00 1.19e-01h  3\n",
      " 185r 2.5016964e+07 1.07e+09 4.30e+03   0.2 2.66e-01   1.6 1.00e+00 3.12e-02h  6\n",
      " 186r 2.5016964e+07 1.07e+09 4.77e+03   0.2 7.49e-01   1.1 6.34e-01 3.35e-03h  9\n",
      " 187r 2.5016964e+07 1.07e+09 4.21e+03   0.2 2.51e-01   1.5 1.00e+00 4.88e-04h 12\n",
      " 188r 2.5016953e+07 1.07e+09 8.29e+02   0.2 3.40e-01   1.0 1.00e+00 1.00e+00h  1\n",
      " 189r 2.5016949e+07 1.07e+09 3.89e+02   0.2 2.86e-01   1.5 1.00e+00 1.00e+00F  1\n",
      "iter    objective    inf_pr   inf_du lg(mu)  ||d||  lg(rg) alpha_du alpha_pr  ls\n",
      " 190r 2.5000107e+07 1.07e+09 1.70e+04   0.2 1.52e+02    -  8.78e-01 1.00e+00F  1\n",
      " 191r 2.5000107e+07 1.07e+09 1.62e+04   0.2 2.86e+00   1.0 9.16e-02 6.44e-02h  3\n",
      " 192r 2.5000106e+07 1.07e+09 1.11e+03   0.2 5.76e-01   1.4 1.00e+00 1.00e+00h  1\n",
      " 193r 2.5000106e+07 1.07e+09 1.33e+03   0.2 3.73e+00   0.9 6.54e-02 9.00e-02H  1\n",
      " 194r 2.5003706e+07 1.07e+09 1.50e+03   0.2 6.04e+01    -  6.86e-01 1.00e+00f  1\n",
      " 195r 2.5003706e+07 1.07e+09 5.71e+03   0.2 3.93e+00   0.5 1.00e+00 4.06e-02f  3\n",
      " 196r 2.5005666e+07 1.07e+09 1.26e+02   0.2 1.56e+01    -  1.00e+00 1.00e+00f  1\n",
      " 197r 2.5005665e+07 1.07e+09 8.80e+03  -0.5 7.56e-01   0.9 5.66e-01 3.62e-01f  1\n",
      " 198r 2.5005665e+07 1.07e+09 8.66e+03  -0.5 3.51e-01   2.2 1.00e+00 4.37e-01h  2\n",
      " 199r 2.5005665e+07 1.07e+09 6.71e+03  -0.5 4.70e-01   2.6 2.39e-01 1.40e-01h  1\n",
      "iter    objective    inf_pr   inf_du lg(mu)  ||d||  lg(rg) alpha_du alpha_pr  ls\n",
      " 200r 2.5005665e+07 1.07e+09 4.82e+03  -0.5 1.70e-01   3.1 1.00e+00 7.22e-01h  1\n",
      " 201r 2.5005665e+07 1.07e+09 2.85e+03  -0.5 2.63e-01   3.5 3.18e-01 3.10e-01h  1\n",
      " 202r 2.5005665e+07 1.07e+09 2.60e+03  -0.5 2.57e-01   3.9 1.83e-01 1.73e-01f  1\n",
      " 203r 2.5005665e+07 1.07e+09 1.05e+03  -0.5 8.10e-02   3.4 2.49e-02 3.05e-01f  1\n",
      " 204r 2.5004845e+07 1.07e+09 1.27e+03  -0.5 2.29e+02    -  3.72e-01 1.75e-01f  1\n",
      " 205r 2.5004845e+07 1.07e+09 1.44e+03  -0.5 1.18e-01   3.0 3.23e-01 5.24e-01f  1\n",
      " 206r 2.5004845e+07 1.07e+09 8.00e+03  -0.5 1.07e-01   2.5 8.92e-01 9.19e-01f  1\n",
      " 207r 2.5004845e+07 1.07e+09 5.96e+03  -0.5 2.76e-02   3.8 1.67e-01 1.79e-01h  1\n",
      " 208r 2.5004845e+07 1.07e+09 6.99e+03  -0.5 2.23e-02   4.2 2.52e-01 4.05e-01h  1\n",
      " 209r 2.5004845e+07 1.07e+09 6.90e+03  -0.5 1.74e-01   3.8 7.70e-02 1.91e-02h  2\n",
      "iter    objective    inf_pr   inf_du lg(mu)  ||d||  lg(rg) alpha_du alpha_pr  ls\n",
      " 210r 2.5004845e+07 1.07e+09 2.69e+03  -0.5 2.70e-02   4.2 1.00e+00 1.00e+00f  1\n",
      " 211r 2.5004845e+07 1.07e+09 1.83e+03  -0.5 8.48e-03   3.7 5.91e-01 7.27e-01f  1\n",
      " 212r 2.5004845e+07 1.07e+09 5.78e+02  -0.5 4.71e-03   3.2 6.55e-01 1.00e+00f  1\n",
      " 213r 2.5004845e+07 1.07e+09 5.42e+02  -0.5 1.95e-02   2.8 1.00e+00 1.00e+00f  1\n",
      " 214r 2.5004844e+07 1.07e+09 1.57e+02  -0.5 2.99e-02   2.3 1.00e+00 1.00e+00f  1\n",
      " 215r 2.5004843e+07 1.07e+09 2.43e+03  -0.5 1.90e-01   1.8 1.00e+00 1.00e+00f  1\n",
      " 216r 2.5004843e+07 1.07e+09 8.40e+02  -0.5 2.82e-02   3.1 1.00e+00 1.00e+00h  1\n",
      " 217r 2.5004843e+07 1.07e+09 1.10e+03  -0.5 1.16e-01   2.7 3.00e-01 4.51e-01h  2\n",
      " 218r 2.5004843e+07 1.07e+09 1.01e+03  -0.5 8.44e-02   3.1 1.00e+00 1.00e+00h  1\n",
      " 219r 2.5004842e+07 1.07e+09 1.07e+03  -0.5 2.67e-01   2.6 3.87e-01 5.00e-01h  2\n",
      "iter    objective    inf_pr   inf_du lg(mu)  ||d||  lg(rg) alpha_du alpha_pr  ls\n",
      " 220r 2.5004842e+07 1.07e+09 7.48e+02  -0.5 1.15e-01   2.1 1.00e+00 1.00e+00f  1\n",
      " 221r 2.5004840e+07 1.07e+09 6.22e+01  -0.5 8.66e-02   1.7 1.00e+00 1.00e+00f  1\n",
      " 222r 2.5004839e+07 1.07e+09 1.90e+03  -0.5 2.07e+00   1.2 2.93e-01 7.12e-02f  2\n",
      " 223r 2.5004839e+07 1.07e+09 1.42e+01  -0.5 2.39e-02   2.5 1.00e+00 1.00e+00f  1\n",
      " 224r 2.5004839e+07 1.07e+09 3.53e+02  -1.2 8.06e-02   2.0 9.01e-01 9.82e-01f  1\n",
      " 225r 2.5004839e+07 1.07e+09 7.86e+01  -1.2 4.21e-02   2.5 1.00e+00 1.00e+00f  1\n",
      " 226r 2.5004839e+07 1.07e+09 7.36e+01  -1.2 3.15e-02   2.9 1.00e+00 1.00e+00f  1\n",
      " 227r 2.5004838e+07 1.07e+09 1.55e+02  -1.2 1.42e-02   3.3 1.00e+00 1.00e+00f  1\n",
      " 228r 2.5004838e+07 1.07e+09 4.34e+02  -1.2 4.62e-02   2.8 1.00e+00 5.09e-01f  1\n",
      " 229r 2.5004838e+07 1.07e+09 1.45e+03  -1.2 1.14e-01   2.4 1.00e+00 3.37e-01f  1\n",
      "iter    objective    inf_pr   inf_du lg(mu)  ||d||  lg(rg) alpha_du alpha_pr  ls\n",
      " 230r 2.5011211e+07 1.07e+09 1.34e+03  -1.2 3.07e+03    -  4.27e-02 1.20e-02f  1\n",
      " 231r 2.5007860e+07 1.07e+09 4.58e+03  -1.2 1.08e+02    -  8.26e-01 1.50e-01f  1\n",
      " 232r 2.5002562e+07 1.07e+09 2.64e+02  -1.2 3.90e+01    -  1.00e+00 1.00e+00f  1\n",
      " 233r 2.5002400e+07 1.07e+09 2.32e-02  -1.2 1.53e+00    -  1.00e+00 1.00e+00h  1\n",
      " 234r 2.5004605e+07 1.07e+09 6.31e+00  -4.2 1.45e+02    -  8.28e-01 8.07e-01f  1\n",
      " 235r 2.5000846e+07 1.07e+09 7.31e+00  -4.2 3.89e+01    -  9.01e-01 9.98e-01f  1\n",
      " 236r 2.5000083e+07 1.07e+09 1.43e-02  -4.2 2.01e+01    -  1.00e+00 1.00e+00h  1\n",
      " 237r 2.5000081e+07 1.07e+09 5.25e-07  -4.2 7.62e-02    -  1.00e+00 1.00e+00h  1\n",
      " 238r 2.5000088e+07 1.07e+09 7.11e-05  -6.4 3.52e-01    -  1.00e+00 1.00e+00f  1\n",
      " 239r 2.5000004e+07 1.07e+09 3.33e-03  -6.4 7.76e+00    -  1.00e+00 1.00e+00h  1\n",
      "iter    objective    inf_pr   inf_du lg(mu)  ||d||  lg(rg) alpha_du alpha_pr  ls\n",
      " 240r 2.5000004e+07 1.07e+09 1.37e-07  -6.4 2.89e-06    -  1.00e+00 1.00e+00h  1\n",
      " 241r 2.5000004e+07 1.07e+09 6.30e-06  -9.0 2.63e-03    -  1.00e+00 1.00e+00f  1\n",
      " 242r 2.5000002e+07 1.07e+09 2.79e-05  -9.0 7.10e-01    -  1.00e+00 1.00e+00h  1\n",
      " 243r 2.5000002e+07 1.07e+09 2.24e-07  -9.0 1.61e-07    -  1.00e+00 1.00e+00h  1\n",
      " 244r 2.5000002e+07 1.07e+09 1.12e-07  -9.0 8.04e-08    -  1.00e+00 1.00e+00h  1\n",
      " 245r 2.5000002e+07 1.07e+09 1.13e-07  -9.0 8.04e-08    -  1.00e+00 1.00e+00h  1\n",
      " 246r 2.5000002e+07 1.07e+09 1.13e-07  -9.0 1.61e-07    -  1.00e+00 1.00e+00h  1\n",
      " 247r 2.5000002e+07 1.07e+09 1.13e-07  -9.0 8.04e-08    -  1.00e+00 1.00e+00h  1\n",
      "\n",
      "Number of Iterations....: 247\n",
      "\n",
      "                                   (scaled)                 (unscaled)\n",
      "Objective...............:   2.5000002142714962e+07    2.5000002142714962e+07\n",
      "Dual infeasibility......:   5.0000001159166359e+03    5.0000001159166359e+03\n",
      "Constraint violation....:   6.3636044209366594e+05    1.0689556606057087e+09\n",
      "Variable bound violation:   9.9998456789762713e-05    9.9998456789762713e-05\n",
      "Complementarity.........:   9.0937059309838342e-10    9.0937059309838342e-10\n",
      "Overall NLP error.......:   6.3636044209366594e+05    1.0689556606057087e+09\n",
      "\n",
      "\n",
      "Number of objective function evaluations             = 698\n",
      "Number of objective gradient evaluations             = 3\n",
      "Number of equality constraint evaluations            = 698\n",
      "Number of inequality constraint evaluations          = 698\n",
      "Number of equality constraint Jacobian evaluations   = 250\n",
      "Number of inequality constraint Jacobian evaluations = 250\n",
      "Number of Lagrangian Hessian evaluations             = 248\n",
      "Total seconds in IPOPT                               = 4.308\n",
      "\n",
      "EXIT: Converged to a point of local infeasibility. Problem may be infeasible.\n"
     ]
    },
    {
     "name": "stderr",
     "output_type": "stream",
     "text": [
      "┌ Info: 3 Current limits set to 1000 A - please define in nc.parameters -> source -> i_limit! What???\n",
      "└ @ Dare /home/webbah/Dokumente/GIT/dare/src/env.jl:335\n",
      "┌ Info: 3 Voltage limits set to 1.05*nc.parameters[grid][v_rms] - please define in nc.parameters -> source -> v_limit! Whatt???\n",
      "└ @ Dare /home/webbah/Dokumente/GIT/dare/src/env.jl:336\n"
     ]
    },
    {
     "data": {
      "text/markdown": [
       "# SimEnv\n",
       "\n",
       "## Traits\n",
       "\n",
       "| Trait Type        |                                            Value |\n",
       "|:----------------- | ------------------------------------------------:|\n",
       "| NumAgentStyle     |          ReinforcementLearningBase.SingleAgent() |\n",
       "| DynamicStyle      |           ReinforcementLearningBase.Sequential() |\n",
       "| InformationStyle  | ReinforcementLearningBase.ImperfectInformation() |\n",
       "| ChanceStyle       |           ReinforcementLearningBase.Stochastic() |\n",
       "| RewardStyle       |           ReinforcementLearningBase.StepReward() |\n",
       "| UtilityStyle      |           ReinforcementLearningBase.GeneralSum() |\n",
       "| ActionStyle       |     ReinforcementLearningBase.MinimalActionSet() |\n",
       "| StateStyle        |     ReinforcementLearningBase.Observation{Any}() |\n",
       "| DefaultStateStyle |     ReinforcementLearningBase.Observation{Any}() |\n",
       "\n",
       "## Is Environment Terminated?\n",
       "\n",
       "No\n",
       "\n",
       "## State Space\n",
       "\n",
       "`ReinforcementLearningBase.Space{Vector{IntervalSets.ClosedInterval{Float64}}}(IntervalSets.ClosedInterval{Float64}[-1.0..1.0, -1.0..1.0, -1.0..1.0, -1.0..1.0, -1.0..1.0, -1.0..1.0, -1.0..1.0, -1.0..1.0, -1.0..1.0, -1.0..1.0, -1.0..1.0, -1.0..1.0, -1.0..1.0, -1.0..1.0, -1.0..1.0, -1.0..1.0, -1.0..1.0, -1.0..1.0, -1.0..1.0, -1.0..1.0, -1.0..1.0, -1.0..1.0, -1.0..1.0, -1.0..1.0, -1.0..1.0, -1.0..1.0, -1.0..1.0, -1.0..1.0, -1.0..1.0, -1.0..1.0])`\n",
       "\n",
       "## Action Space\n",
       "\n",
       "`ReinforcementLearningBase.Space{Vector{IntervalSets.ClosedInterval{Float64}}}(IntervalSets.ClosedInterval{Float64}[-1.0..1.0, -1.0..1.0, -1.0..1.0, -1.0..1.0, -1.0..1.0, -1.0..1.0])`\n",
       "\n",
       "## Current State\n",
       "\n",
       "```\n",
       "[0.0, 0.0, 0.0, 0.0, 0.0, 0.0, 0.0, 0.0, 0.0, 0.0, 0.0, 0.0, 0.0, 0.0, 0.0, 0.0, 0.0, 0.0, 0.0, 0.0, 0.0, 0.0, 0.0, 0.0, 0.0, 0.0, 0.0, 0.0, 0.0, 0.0]\n",
       "```\n"
      ],
      "text/plain": [
       "# SimEnv\n",
       "\n",
       "## Traits\n",
       "\n",
       "| Trait Type        |                                            Value |\n",
       "|:----------------- | ------------------------------------------------:|\n",
       "| NumAgentStyle     |          ReinforcementLearningBase.SingleAgent() |\n",
       "| DynamicStyle      |           ReinforcementLearningBase.Sequential() |\n",
       "| InformationStyle  | ReinforcementLearningBase.ImperfectInformation() |\n",
       "| ChanceStyle       |           ReinforcementLearningBase.Stochastic() |\n",
       "| RewardStyle       |           ReinforcementLearningBase.StepReward() |\n",
       "| UtilityStyle      |           ReinforcementLearningBase.GeneralSum() |\n",
       "| ActionStyle       |     ReinforcementLearningBase.MinimalActionSet() |\n",
       "| StateStyle        |     ReinforcementLearningBase.Observation{Any}() |\n",
       "| DefaultStateStyle |     ReinforcementLearningBase.Observation{Any}() |\n",
       "\n",
       "## Is Environment Terminated?\n",
       "\n",
       "No\n",
       "\n",
       "## State Space\n",
       "\n",
       "`ReinforcementLearningBase.Space{Vector{IntervalSets.ClosedInterval{Float64}}}(IntervalSets.ClosedInterval{Float64}[-1.0..1.0, -1.0..1.0, -1.0..1.0, -1.0..1.0, -1.0..1.0, -1.0..1.0, -1.0..1.0, -1.0..1.0, -1.0..1.0, -1.0..1.0, -1.0..1.0, -1.0..1.0, -1.0..1.0, -1.0..1.0, -1.0..1.0, -1.0..1.0, -1.0..1.0, -1.0..1.0, -1.0..1.0, -1.0..1.0, -1.0..1.0, -1.0..1.0, -1.0..1.0, -1.0..1.0, -1.0..1.0, -1.0..1.0, -1.0..1.0, -1.0..1.0, -1.0..1.0, -1.0..1.0])`\n",
       "\n",
       "## Action Space\n",
       "\n",
       "`ReinforcementLearningBase.Space{Vector{IntervalSets.ClosedInterval{Float64}}}(IntervalSets.ClosedInterval{Float64}[-1.0..1.0, -1.0..1.0, -1.0..1.0, -1.0..1.0, -1.0..1.0, -1.0..1.0])`\n",
       "\n",
       "## Current State\n",
       "\n",
       "```\n",
       "[0.0, 0.0, 0.0, 0.0, 0.0, 0.0, 0.0, 0.0, 0.0, 0.0, 0.0, 0.0, 0.0, 0.0, 0.0, 0.0, 0.0, 0.0, 0.0, 0.0, 0.0, 0.0, 0.0, 0.0, 0.0, 0.0, 0.0, 0.0, 0.0, 0.0]\n",
       "```\n"
      ]
     },
     "metadata": {},
     "output_type": "display_data"
    }
   ],
   "source": [
    "env = SimEnv(num_sources = 2, num_loads = 1)"
   ]
  },
  {
   "attachments": {},
   "cell_type": "markdown",
   "id": "822ae85f",
   "metadata": {},
   "source": [
    "This creates an environment consisting of an electrical power grid with two sources `num_sources = 2` - which could be for example an inverter fed by a PV plant - supplying one load `num_sources = 1`.\n",
    "An easy exemplary example is shown in the figure below, where a load (an electric car to be charged) is supplied by 2 sources (inverters, fed PV plant and wind turbine) via two transmition lines.\n",
    "\n",
    "![](figures/ExampleGrid1.png \"\")\n",
    "\n",
    "For better visuablilty the exemplary shaded electircal circut in the background is displayed as single phase diagram.\n",
    "(By default a three-phase four wire system is created).\n",
    "If it is not defined during the initialization of the env, all parameters (connections between the different sources and loads, parameters of the electric components,...) are drawn randomly, while a few are set to fixed value per default.\n",
    "One of the latter would be for example the stepsize `ts`. After the initialization a step-wise interaction with the environment is possible. \n",
    "As can be seen in the first picture, an action can be selected and the env can be executed with it. \n",
    "Based on that action `u_k` and the internal state-space system (defined depending on the electric components - for more information about the odernary differential equation,... see NodeConstructor_DEMO.ipynb) the system is evovled for one timestep and the new states `x_k+1` of the system are calulated.\n",
    "First, the current state of the environment is checked:\n"
   ]
  },
  {
   "cell_type": "code",
   "execution_count": 3,
   "id": "9fdd5b29",
   "metadata": {},
   "outputs": [
    {
     "data": {
      "text/plain": [
       "30-element Vector{Float64}:\n",
       " 0.0\n",
       " 0.0\n",
       " 0.0\n",
       " 0.0\n",
       " 0.0\n",
       " 0.0\n",
       " 0.0\n",
       " 0.0\n",
       " 0.0\n",
       " 0.0\n",
       " ⋮\n",
       " 0.0\n",
       " 0.0\n",
       " 0.0\n",
       " 0.0\n",
       " 0.0\n",
       " 0.0\n",
       " 0.0\n",
       " 0.0\n",
       " 0.0"
      ]
     },
     "metadata": {},
     "output_type": "display_data"
    }
   ],
   "source": [
    "env.state"
   ]
  },
  {
   "attachments": {},
   "cell_type": "markdown",
   "id": "8b507ff2",
   "metadata": {},
   "source": [
    "If the state is not zero, but should be in the beginning, the reset method can be used which sets the state to the internally defined `x0` (which consists of zeros per default).\n",
    "If we do not want to not start from zero, we could set `x0` in the initialisation of the env:"
   ]
  },
  {
   "cell_type": "code",
   "execution_count": 4,
   "id": "ed8f10b4",
   "metadata": {},
   "outputs": [
    {
     "data": {
      "text/plain": [
       "30-element Vector{Float64}:\n",
       " 0.1\n",
       " 0.1\n",
       " 0.1\n",
       " 0.1\n",
       " 0.1\n",
       " 0.1\n",
       " 0.1\n",
       " 0.1\n",
       " 0.1\n",
       " 0.1\n",
       " ⋮\n",
       " 0.1\n",
       " 0.1\n",
       " 0.1\n",
       " 0.1\n",
       " 0.1\n",
       " 0.1\n",
       " 0.1\n",
       " 0.1\n",
       " 0.1"
      ]
     },
     "metadata": {},
     "output_type": "display_data"
    }
   ],
   "source": [
    "using ReinforcementLearning\n",
    "env.x0 = 0.1 * ones(length(env.state_space))\n",
    "reset!(env)\n",
    "env.state"
   ]
  },
  {
   "attachments": {},
   "cell_type": "markdown",
   "id": "07f346cc",
   "metadata": {},
   "source": [
    "To interact wiht the env, first it has to be figured out how many actions are needed. Therefore the length of the action space can be checked:\n",
    "\n",
    "\n"
   ]
  },
  {
   "cell_type": "code",
   "execution_count": 5,
   "id": "27c74e37",
   "metadata": {},
   "outputs": [
    {
     "data": {
      "text/plain": [
       "6"
      ]
     },
     "metadata": {},
     "output_type": "display_data"
    }
   ],
   "source": [
    "n_a = length(env.action_space)"
   ]
  },
  {
   "attachments": {},
   "cell_type": "markdown",
   "id": "4155c448",
   "metadata": {},
   "source": [
    "The six action requested by the environment belong to the 2 sources. Since per default the env produces a three-phase system we need one action per phase per source -> 6 actions.\n",
    "To exite the env by an action the following command can be used:"
   ]
  },
  {
   "cell_type": "code",
   "execution_count": 6,
   "id": "b5393930",
   "metadata": {},
   "outputs": [
    {
     "data": {
      "text/plain": [
       "30-element Vector{Float64}:\n",
       " -0.13639092171526726\n",
       "  3.224892495980788e-5\n",
       " -3.880694037558475e-12\n",
       " -0.36594994587855945\n",
       " -2.8379915813107303e-12\n",
       "  7.775182074065927e-6\n",
       " -5.968296088921655e-5\n",
       " -4.52327260887284e-5\n",
       "  0.09020609305217389\n",
       "  0.10000014785009308\n",
       "  ⋮\n",
       "  3.224892495980788e-5\n",
       " -3.880718183691352e-12\n",
       " -0.36594994587855945\n",
       " -2.8379674351778556e-12\n",
       "  7.775182074065927e-6\n",
       " -5.968296088921655e-5\n",
       " -4.52327260887284e-5\n",
       "  0.09020609305217388\n",
       "  0.10000014785009308"
      ]
     },
     "metadata": {},
     "output_type": "display_data"
    }
   ],
   "source": [
    "env([0.2, 0.2, 0.2, 0.3, 0.3, 0.3])"
   ]
  },
  {
   "attachments": {},
   "cell_type": "markdown",
   "id": "6dff5143",
   "metadata": {},
   "source": [
    "Here, the first source got an action of `0.2` to all three phases, while the secound source got an action of `0.3` to all three phases.\n",
    "As can be seen, the states have changed from 0.1 to different values.\n",
    "The get a little bit more intuition about the different states, the state_ids can be investigated:"
   ]
  },
  {
   "cell_type": "code",
   "execution_count": 7,
   "id": "ddc6fbc9",
   "metadata": {},
   "outputs": [
    {
     "data": {
      "text/plain": [
       "30-element Vector{String}:\n",
       " \"source1_i_L1_a\"\n",
       " \"source1_v_C_filt_a\"\n",
       " \"source1_v_C_cables_a\"\n",
       " \"source2_i_L1_a\"\n",
       " \"source2_v_C_cables_a\"\n",
       " \"cable1_i_L_a\"\n",
       " \"cable2_i_L_a\"\n",
       " \"cable3_i_L_a\"\n",
       " \"load1_v_C_total_a\"\n",
       " \"load1_i_L_a\"\n",
       " ⋮\n",
       " \"source1_v_C_filt_c\"\n",
       " \"source1_v_C_cables_c\"\n",
       " \"source2_i_L1_c\"\n",
       " \"source2_v_C_cables_c\"\n",
       " \"cable1_i_L_c\"\n",
       " \"cable2_i_L_c\"\n",
       " \"cable3_i_L_c\"\n",
       " \"load1_v_C_total_c\"\n",
       " \"load1_i_L_c\""
      ]
     },
     "metadata": {},
     "output_type": "display_data"
    }
   ],
   "source": [
    "env.state_ids"
   ]
  },
  {
   "attachments": {},
   "cell_type": "markdown",
   "id": "15505673",
   "metadata": {},
   "source": [
    "The labels define to which source the state belongs and what it is about. \n",
    "For example the first state is called `\"source1_i_L1_a\"`. The tells, it belongs to the first source (in the picture abouve the PV plant) and represents the current `i` through the incductor `L1` of phase `a`.\n",
    "For example, this information can be used to control the current through the filter inductance (or to learn this control task)."
   ]
  },
  {
   "cell_type": "code",
   "execution_count": 8,
   "id": "a0419b99",
   "metadata": {},
   "outputs": [
    {
     "data": {
      "text/plain": [
       "Space{Vector{IntervalSets.ClosedInterval{Float64}}}(IntervalSets.ClosedInterval{Float64}[-1.0..1.0, -1.0..1.0, -1.0..1.0, -1.0..1.0, -1.0..1.0, -1.0..1.0, -1.0..1.0, -1.0..1.0, -1.0..1.0, -1.0..1.0  …  -1.0..1.0, -1.0..1.0, -1.0..1.0, -1.0..1.0, -1.0..1.0, -1.0..1.0, -1.0..1.0, -1.0..1.0, -1.0..1.0, -1.0..1.0])"
      ]
     },
     "metadata": {},
     "output_type": "display_data"
    }
   ],
   "source": [
    "env.state_space"
   ]
  },
  {
   "attachments": {},
   "cell_type": "markdown",
   "id": "8e7973f0",
   "metadata": {},
   "source": [
    "Since the state space of the env tells, that it ranges from -1.0..1.0, the current through the filter inductor in the example is normalized by the maximal current allowed to flow through the inductor.\n",
    "If this parameter is not defined it it set per default based on the filter layout happening in the env.\n",
    "\n",
    "All (technical) parameters needed for the simulation are defined in the parameter dict (For more detailed information see NodeConstructor_DEMO.ipynb).\n",
    "It can be investigated by:"
   ]
  },
  {
   "cell_type": "code",
   "execution_count": 9,
   "id": "b375692f",
   "metadata": {},
   "outputs": [
    {
     "data": {
      "text/plain": [
       "Dict{Any, Any} with 4 entries:\n",
       "  \"source\" => Any[Dict{Any, Any}(\"L1\"=>0.00195161, \"C\"=>2.69715e-5, \"mode\"=>\"Dr…\n",
       "  \"grid\"   => Dict{Any, Any}(\"f_grid\"=>50, \"Δfmax\"=>0.005, \"fs\"=>10000.0, \"proc…\n",
       "  \"load\"   => Any[Dict{Any, Any}(\"Z\"=>1.12003e-13-4.94869e-5im, \"C\"=>64.322, \"L…\n",
       "  \"cable\"  => Any[Dict{Any, Any}(\"Cb\"=>5.06381e-11, \"Lb\"=>5.39443e-7, \"Rb\"=>0.0…"
      ]
     },
     "metadata": {},
     "output_type": "display_data"
    }
   ],
   "source": [
    "env.nc.parameters\n"
   ]
  },
  {
   "attachments": {},
   "cell_type": "markdown",
   "id": "82e36955",
   "metadata": {},
   "source": [
    "The limit of the filter inductor current can be found using:"
   ]
  },
  {
   "cell_type": "code",
   "execution_count": 10,
   "id": "bb4e6731",
   "metadata": {},
   "outputs": [
    {
     "data": {
      "text/plain": [
       "121.76152238967438"
      ]
     },
     "metadata": {},
     "output_type": "display_data"
    }
   ],
   "source": [
    "env.nc.parameters[\"source\"][1][\"i_limit\"]"
   ]
  },
  {
   "attachments": {},
   "cell_type": "markdown",
   "id": "08e1d5e0",
   "metadata": {},
   "source": [
    "Which returns the current limit (belonging to the inductor) of source one.\n",
    "The voltage limit for normalization is depending on the filter capacitance.\n",
    "The same concept holds for the cables and loads (parametrization can be found in the parameter dict, too).\n",
    "\n",
    "Since the action space it defined in a range -1.0..1.0, the actions are \"normalized\", too, by the DC-link voltage of the specific source. \n",
    "In the simulation the chosen action is multiplied by half of the DC-link voltage (and can be interpreted as modulation index in an electrical engineering context).\n",
    "The DC-link voltage can be found in (or set via) the parameter dict, too:"
   ]
  },
  {
   "cell_type": "code",
   "execution_count": 11,
   "id": "8b4c3fce",
   "metadata": {},
   "outputs": [
    {
     "data": {
      "text/plain": [
       "800"
      ]
     },
     "metadata": {},
     "output_type": "display_data"
    }
   ],
   "source": [
    "env.nc.parameters[\"source\"][1][\"vdc\"]"
   ]
  },
  {
   "attachments": {},
   "cell_type": "markdown",
   "id": "2888dffe",
   "metadata": {},
   "source": [
    "## Interact with the Env\n",
    "To interact with the env, the above decribed function (`env(action)`) can be called in a loop and the state logged during this process:"
   ]
  },
  {
   "cell_type": "code",
   "execution_count": 12,
   "id": "4683bb40",
   "metadata": {},
   "outputs": [
    {
     "data": {
      "text/plain": [
       "30-element Vector{Float64}:\n",
       " 0.09859605862117994\n",
       " 0.00010290244997245628\n",
       " 0.00010555178441328813\n",
       " 0.10315537667280711\n",
       " 0.0003260113086840901\n",
       " 0.24601784060569806\n",
       " 0.24143832812484953\n",
       " 0.2245522168461066\n",
       " 0.0002674243459521656\n",
       " 0.00010000038428713425\n",
       " ⋮\n",
       " 0.00011296674819405862\n",
       " 0.00011694223364493259\n",
       " 0.15216060654613744\n",
       " 0.00034912717178715765\n",
       " 0.36806529291830975\n",
       " 0.3599567047439114\n",
       " 0.3366486409901768\n",
       " 0.0002674672687043454\n",
       " 0.00010000036668461791"
      ]
     },
     "metadata": {},
     "output_type": "display_data"
    }
   ],
   "source": [
    "env.x0 = zeros(length(env.state_space))   # set initial values back to zero\n",
    "\n",
    "# run 3 steps\n",
    "for _ in 1:3\n",
    "    env([0.2, 0.2, 0.2, 0.3, 0.3, 0.3])\n",
    "end\n",
    "\n",
    "env.state   # print state"
   ]
  },
  {
   "attachments": {},
   "cell_type": "markdown",
   "id": "07152308",
   "metadata": {},
   "source": [
    "The Dare toolbox provides a more enhanced methode to run an experiment with a specific number of steps and even more episodes.\n",
    "It is based in the `run` command provided by the ReinforcementLeaning.jl (https://github.com/JuliaReinforcementLearning/ReinforcementLearning.jl/blob/master/src/ReinforcementLearningCore/src/core/run.jl) toolbox and therefore can be used to train RL agents.\n",
    "\n",
    "To examine this functionality in more detail the example environment is reduced to a setting with 1 source and 1 load as shown in the figure below:\n",
    "\n",
    "![](figures/ExampleGrid2.png \"\")\n",
    "\n",
    "Shown is a 3-phase inverter with an LC filter supplying a load via a cable (model parameters not shown).\n",
    "To get that specific setting with the correct filter type, the parameter dict is defined in beforehand an handed over to the env.\n",
    "(The IGBTs are not simulated. Since average models are used, the action is multiplied with half of `vdc`.)\n",
    "\n",
    "Instead of `num_sorces` and `num_loads`, now the parameter dict and the connectivity matrix CM is used which defines if there is a connection between two nodes (e.g., source <-> load) (-> !=0) or if there is no connection (in that case the entry is `0`). For more information about the CM matrix see NodeConstructor_DEMO.ipynb."
   ]
  },
  {
   "cell_type": "code",
   "execution_count": 13,
   "id": "23420f15",
   "metadata": {},
   "outputs": [
    {
     "name": "stderr",
     "output_type": "stream",
     "text": [
      "┌ Info: 3 Voltage limits set to 1.05*nc.parameters[grid][v_rms] - please define in nc.parameters -> source -> v_limit! Whatt???\n",
      "└ @ Dare /home/webbah/Dokumente/GIT/dare/src/env.jl:336\n"
     ]
    },
    {
     "data": {
      "text/markdown": [
       "# SimEnv\n",
       "\n",
       "## Traits\n",
       "\n",
       "| Trait Type        |                  Value |\n",
       "|:----------------- | ----------------------:|\n",
       "| NumAgentStyle     |          SingleAgent() |\n",
       "| DynamicStyle      |           Sequential() |\n",
       "| InformationStyle  | ImperfectInformation() |\n",
       "| ChanceStyle       |           Stochastic() |\n",
       "| RewardStyle       |           StepReward() |\n",
       "| UtilityStyle      |           GeneralSum() |\n",
       "| ActionStyle       |     MinimalActionSet() |\n",
       "| StateStyle        |     Observation{Any}() |\n",
       "| DefaultStateStyle |     Observation{Any}() |\n",
       "\n",
       "## Is Environment Terminated?\n",
       "\n",
       "No\n",
       "\n",
       "## State Space\n",
       "\n",
       "`Space{Vector{IntervalSets.ClosedInterval{Float64}}}(IntervalSets.ClosedInterval{Float64}[-1.0..1.0, -1.0..1.0, -1.0..1.0, -1.0..1.0, -1.0..1.0, -1.0..1.0, -1.0..1.0, -1.0..1.0, -1.0..1.0, -1.0..1.0, -1.0..1.0, -1.0..1.0, -1.0..1.0, -1.0..1.0, -1.0..1.0])`\n",
       "\n",
       "## Action Space\n",
       "\n",
       "`Space{Vector{IntervalSets.ClosedInterval{Float64}}}(IntervalSets.ClosedInterval{Float64}[-1.0..1.0, -1.0..1.0, -1.0..1.0])`\n",
       "\n",
       "## Current State\n",
       "\n",
       "```\n",
       "[0.0, 0.0, 0.0, 0.0, 0.0, 0.0, 0.0, 0.0, 0.0, 0.0, 0.0, 0.0, 0.0, 0.0, 0.0]\n",
       "```\n"
      ],
      "text/plain": [
       "# SimEnv\n",
       "\n",
       "## Traits\n",
       "\n",
       "| Trait Type        |                  Value |\n",
       "|:----------------- | ----------------------:|\n",
       "| NumAgentStyle     |          SingleAgent() |\n",
       "| DynamicStyle      |           Sequential() |\n",
       "| InformationStyle  | ImperfectInformation() |\n",
       "| ChanceStyle       |           Stochastic() |\n",
       "| RewardStyle       |           StepReward() |\n",
       "| UtilityStyle      |           GeneralSum() |\n",
       "| ActionStyle       |     MinimalActionSet() |\n",
       "| StateStyle        |     Observation{Any}() |\n",
       "| DefaultStateStyle |     Observation{Any}() |\n",
       "\n",
       "## Is Environment Terminated?\n",
       "\n",
       "No\n",
       "\n",
       "## State Space\n",
       "\n",
       "`Space{Vector{IntervalSets.ClosedInterval{Float64}}}(IntervalSets.ClosedInterval{Float64}[-1.0..1.0, -1.0..1.0, -1.0..1.0, -1.0..1.0, -1.0..1.0, -1.0..1.0, -1.0..1.0, -1.0..1.0, -1.0..1.0, -1.0..1.0, -1.0..1.0, -1.0..1.0, -1.0..1.0, -1.0..1.0, -1.0..1.0])`\n",
       "\n",
       "## Action Space\n",
       "\n",
       "`Space{Vector{IntervalSets.ClosedInterval{Float64}}}(IntervalSets.ClosedInterval{Float64}[-1.0..1.0, -1.0..1.0, -1.0..1.0])`\n",
       "\n",
       "## Current State\n",
       "\n",
       "```\n",
       "[0.0, 0.0, 0.0, 0.0, 0.0, 0.0, 0.0, 0.0, 0.0, 0.0, 0.0, 0.0, 0.0, 0.0, 0.0]\n",
       "```\n"
      ]
     },
     "metadata": {},
     "output_type": "display_data"
    }
   ],
   "source": [
    "CM = [0. 1.\n",
    "    -1. 0.]\n",
    "\n",
    "parameters = Dict{Any, Any}(\n",
    "        \"source\" => Any[\n",
    "                        Dict{Any, Any}(\"pwr\" => 200e3, \"control_type\" => \"classic\", \"mode\" => \"Swing\", \"fltr\" => \"LC\"),\n",
    "                        ],\n",
    "        \"load\"   => Any[\n",
    "                        Dict{Any, Any}(\"impedance\" => \"R\", \"R\" => 2),\n",
    "                        ],\n",
    "        \"cable\"   => Any[\n",
    "                        Dict{Any, Any}(\"R\" => 1e-3, \"L\" => 1e-4, \"C\" => 1e-4, \"i_limit\" => 10e8,),\n",
    "                        ],\n",
    "        \"grid\" => Dict{Any, Any}(\"fs\"=>1e4, \"phase\"=>3, \"v_rms\"=>230, \"f_grid\" => 50, \"ramp_end\"=>0.0)\n",
    "    )\n",
    "\n",
    "\n",
    "env = SimEnv(CM = CM, parameters = parameters)"
   ]
  },
  {
   "cell_type": "code",
   "execution_count": 14,
   "id": "d78ad0a0",
   "metadata": {},
   "outputs": [],
   "source": []
  }
 ],
 "metadata": {
  "@webio": {
   "lastCommId": null,
   "lastKernelId": null
  },
  "kernelspec": {
   "display_name": "Julia 1.8.0",
   "language": "julia",
   "name": "julia-1.8"
  },
  "language_info": {
   "file_extension": ".jl",
   "mimetype": "application/julia",
   "name": "julia",
   "version": "1.8.0"
  }
 },
 "nbformat": 4,
 "nbformat_minor": 5
}
