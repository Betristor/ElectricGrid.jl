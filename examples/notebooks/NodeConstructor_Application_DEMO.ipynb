{
 "cells": [
  {
   "cell_type": "markdown",
   "id": "7db2b578",
   "metadata": {},
   "source": [
    "# NodeConstructor Application\n",
    "\n",
    "The creation of a grid always follows a certain pattern and can therefore be automated. In this way, you can avoid errors that may arise from the handwritten rearrangement of the equations. It is therefore obvious to write an automatism for the generation, which generates the matrices on the basis of input parameters. In this notebook we will discuss:\n",
    "\n",
    "- ### Automatic Generation of Grids\n",
    "- ### Three-phase Systems"
   ]
  },
  {
   "cell_type": "markdown",
   "id": "2ae3d2ef",
   "metadata": {},
   "source": [
    "## Automatic Generation of Grids"
   ]
  },
  {
   "cell_type": "markdown",
   "id": "cace0c05",
   "metadata": {},
   "source": [
    "In this part of the notebook the example of the `NodeConstructor_Theory.ipynb` shall be reproduced with the help of the NodeConstructor.\n",
    "\n",
    "An important point is the information about how the components are connected by which cable. To pass this information to the NodeConstructor we introduce the connection matrix (`CM`)."
   ]
  },
  {
   "cell_type": "markdown",
   "id": "ae622aa4",
   "metadata": {},
   "source": [
    "### Structured Grid Generation via Connection Matrix"
   ]
  },
  {
   "cell_type": "markdown",
   "id": "0227d19b",
   "metadata": {},
   "source": [
    "The connection matrix specifies how the elements of the grid are connected. In our grid there are two basic elements: sources and loads, which are then connected via cables.\n",
    "\n",
    "To get a better understanding of the CM, the CM of the previous example is shown below:"
   ]
  },
  {
   "cell_type": "markdown",
   "id": "d1de021b",
   "metadata": {},
   "source": [
    "| From\\To  | Source 1 | Source 2 | Load 1 |\n",
    "|:---------|:--------:|:--------:|:------:|\n",
    "| **Source 1** |     0    |     0    |    1   |\n",
    "| **Source 2** |     0    |     0    |    2   |\n",
    "| **Load 1**   |    -1    |    -2    |    0   |"
   ]
  },
  {
   "cell_type": "markdown",
   "id": "d55bb29e",
   "metadata": {},
   "source": [
    "The first column of the above matrix indicates which element we start from. The sources are considered first and after that the loads. The first row of the matrix indicates the elements to which we can connect. The number and order is identical to the first column.\n",
    "\n",
    "Since our grid elements cannot be connected to themselves, there are always zeros on the main diagonal. In the second row of the table we can now identify the connections of the first source. This source is not connected to the second source but to the first load, which is why we find a \"1\" in this cell. We can read this entry as: \"Source 1 is connected to load 1 by cable 1\". In the third row of the table above, all connections are made from source 2, which is connected to load 1 via cable 2. The fourth line contains the connections of the 1 load. As shown before, it is connected to source 1 and source 2, but the entries have a negative sign. The negative sign indicates that the flow direction of the current is assumed to be negative. The sign of the entries is taken into account when constructing the DGLs, but has no influence on the subsequent current flow in the simulation. The matrix is antisymmetric, which means that we have a mirroring of the matrix along the main diagonal with the sign of the entries reversed.\n",
    "\n",
    "In Julia, this matrix then looks like this:"
   ]
  },
  {
   "cell_type": "code",
   "execution_count": 1,
   "id": "898df96b",
   "metadata": {},
   "outputs": [],
   "source": [
    "CM = [ 0  0  1\n",
    "       0  0  2\n",
    "      -1 -2  0];"
   ]
  },
  {
   "cell_type": "markdown",
   "id": "e2b84179",
   "metadata": {},
   "source": [
    "We now import the JuliaElectricGrid package:"
   ]
  },
  {
   "cell_type": "code",
   "execution_count": 2,
   "id": "08e01153",
   "metadata": {},
   "outputs": [
    {
     "data": {
      "application/vnd.webio.node+json": {
       "children": [],
       "instanceArgs": {
        "namespace": "html",
        "tag": "div"
       },
       "nodeType": "DOM",
       "props": {},
       "type": "node"
      },
      "text/html": [
       "<div style=\"padding: 1em; background-color: #f8d6da; border: 1px solid #f5c6cb; font-weight: bold;\">\n",
       "<p>The WebIO Jupyter extension was not detected. See the\n",
       "<a href=\"https://juliagizmos.github.io/WebIO.jl/latest/providers/ijulia/\" target=\"_blank\">\n",
       "    WebIO Jupyter integration documentation\n",
       "</a>\n",
       "for more information.\n",
       "</div>\n"
      ],
      "text/plain": [
       "WebIO._IJuliaInit()"
      ]
     },
     "metadata": {
      "application/vnd.webio.node+json": {
       "kernelId": "183939e3-9978-48a7-b995-dbf14899fb07"
      }
     },
     "output_type": "display_data"
    }
   ],
   "source": [
    "# Import the package\n",
    "using JEG"
   ]
  },
  {
   "cell_type": "markdown",
   "id": "c160db41",
   "metadata": {},
   "source": [
    "To reproduce the above example exactly, the important parameters must be passed through the parameter dict: "
   ]
  },
  {
   "cell_type": "code",
   "execution_count": 3,
   "id": "9511270c",
   "metadata": {},
   "outputs": [],
   "source": [
    "# Source\n",
    "R = 1.1e-3\n",
    "L = 70e-6\n",
    "R_c = 7e-3\n",
    "C = 250e-6\n",
    "\n",
    "# Cable\n",
    "C_b = 1e-4/2\n",
    "L_b = 1e-4\n",
    "R_b = 1e-3\n",
    "\n",
    "# Load\n",
    "R_l = 100\n",
    "C_l = 1e-2\n",
    "L_l = 1e-2;"
   ]
  },
  {
   "cell_type": "code",
   "execution_count": 4,
   "id": "cebc780e",
   "metadata": {},
   "outputs": [],
   "source": [
    "parameters = Dict()\n",
    "\n",
    "grid_properties = Dict()\n",
    "grid_properties[\"fs\"] =  10e3\n",
    "grid_properties[\"v_rms\"] = 230\n",
    "grid_properties[\"phase\"] = 1;\n",
    "parameters[\"grid\"] = grid_properties\n",
    "\n",
    "source1 = Dict()\n",
    "source2 = Dict()\n",
    "source_list = []\n",
    "\n",
    "source1[\"fltr\"] = \"LCL\"\n",
    "source1[\"R1\"] = R\n",
    "source1[\"L1\"] = L\n",
    "source1[\"C\"] = C\n",
    "source1[\"R_C\"] = R_c\n",
    "source1[\"R2\"] = R\n",
    "source1[\"L2\"] = L\n",
    "\n",
    "source2[\"fltr\"] = \"LC\"\n",
    "source2[\"R1\"] = R\n",
    "source2[\"L1\"] = L\n",
    "source2[\"C\"] = C\n",
    "source2[\"R_C\"] = R_c\n",
    "push!(source_list, source1, source2)\n",
    "\n",
    "parameters[\"source\"] = source_list\n",
    "\n",
    "cable = Dict()\n",
    "cable[\"R\"] = R_b\n",
    "cable[\"L\"] = L_b\n",
    "cable[\"C\"] = C_b\n",
    "cable_list = []\n",
    "\n",
    "push!(cable_list, cable, cable);\n",
    "parameters[\"cable\"] = cable_list\n",
    "\n",
    "load1 = Dict()\n",
    "load_list = []\n",
    "\n",
    "load1[\"impedance\"] = \"RLC\"\n",
    "load1[\"R\"] = R_l;\n",
    "load1[\"L\"] = L_l;\n",
    "load1[\"C\"] = C_l;\n",
    "\n",
    "push!(load_list, load1);\n",
    "parameters[\"load\"] = load_list;"
   ]
  },
  {
   "cell_type": "markdown",
   "id": "268f1c74",
   "metadata": {},
   "source": [
    "Now the NodeConstructor is called. In addition to the number of sources and loads, this also receives the CM and the parameter dict:"
   ]
  },
  {
   "cell_type": "code",
   "execution_count": 5,
   "id": "2d874b9a",
   "metadata": {
    "scrolled": false
   },
   "outputs": [],
   "source": [
    "S2_L1 = NodeConstructor(num_sources=2, num_loads=1, parameters=parameters, CM=CM);"
   ]
  },
  {
   "cell_type": "markdown",
   "id": "70324bfa",
   "metadata": {},
   "source": [
    "With the function `DrawGraph()` the topology of the grid can now be displayed. Here, the color orange corresponds to a source and the color blue corresponds to a load."
   ]
  },
  {
   "cell_type": "code",
   "execution_count": 6,
   "id": "0dfea61e",
   "metadata": {},
   "outputs": [
    {
     "data": {
      "application/vnd.plotly.v1+json": {
       "config": {
        "editable": false,
        "responsive": true,
        "scrollZoom": true,
        "showLink": false,
        "staticPlot": false
       },
       "data": [
        {
         "line": {
          "color": "#113",
          "width": 0.8
         },
         "mode": "lines",
         "type": "scatter",
         "x": [
          1,
          -0.5000000000000004,
          null,
          -0.4999999999999998,
          -0.5000000000000004,
          null
         ],
         "y": [
          0,
          -0.8660254037844385,
          null,
          0.8660254037844387,
          -0.8660254037844385,
          null
         ]
        },
        {
         "marker": {
          "color": [
           "#FF8800",
           "#FF6600",
           "#8F00D1"
          ],
          "line": {
           "color": "Black",
           "width": 1
          },
          "size": 13
         },
         "mode": "markers",
         "text": [
          "Source: LCL",
          "Source: LC",
          "Load: RLC"
         ],
         "type": "scatter",
         "x": [
          1,
          -0.4999999999999998,
          -0.5000000000000004
         ],
         "y": [
          0,
          0.8660254037844387,
          -0.8660254037844385
         ]
        }
       ],
       "frames": [],
       "layout": {
        "dragmode": "select",
        "hovermode": "closest",
        "margin": {
         "b": 50,
         "l": 50,
         "r": 50,
         "t": 60
        },
        "plot_bgcolor": "#f1f3f7",
        "showarrow": false,
        "showlegend": false,
        "template": {
         "data": {
          "bar": [
           {
            "error_x": {
             "color": "#2a3f5f"
            },
            "error_y": {
             "color": "#2a3f5f"
            },
            "marker": {
             "line": {
              "color": "#E5ECF6",
              "width": 0.5
             }
            },
            "type": "bar"
           }
          ],
          "barpolar": [
           {
            "marker": {
             "line": {
              "color": "#E5ECF6",
              "width": 0.5
             }
            },
            "type": "barpolar"
           }
          ],
          "carpet": [
           {
            "aaxis": {
             "endlinecolor": "#2a3f5f",
             "gridcolor": "white",
             "linecolor": "white",
             "minorgridcolor": "white",
             "startlinecolor": "#2a3f5f"
            },
            "baxis": {
             "endlinecolor": "#2a3f5f",
             "gridcolor": "white",
             "linecolor": "white",
             "minorgridcolor": "white",
             "startlinecolor": "#2a3f5f"
            },
            "type": "carpet"
           }
          ],
          "choropleth": [
           {
            "colorbar": {
             "outlinewidth": 0,
             "ticks": ""
            },
            "type": "choropleth"
           }
          ],
          "contour": [
           {
            "colorbar": {
             "outlinewidth": 0,
             "ticks": ""
            },
            "colorscale": [
             [
              0,
              "#0d0887"
             ],
             [
              0.1111111111111111,
              "#46039f"
             ],
             [
              0.2222222222222222,
              "#7201a8"
             ],
             [
              0.3333333333333333,
              "#9c179e"
             ],
             [
              0.4444444444444444,
              "#bd3786"
             ],
             [
              0.5555555555555556,
              "#d8576b"
             ],
             [
              0.6666666666666666,
              "#ed7953"
             ],
             [
              0.7777777777777778,
              "#fb9f3a"
             ],
             [
              0.8888888888888888,
              "#fdca26"
             ],
             [
              1,
              "#f0f921"
             ]
            ],
            "type": "contour"
           }
          ],
          "contourcarpet": [
           {
            "colorbar": {
             "outlinewidth": 0,
             "ticks": ""
            },
            "type": "contourcarpet"
           }
          ],
          "heatmap": [
           {
            "colorbar": {
             "outlinewidth": 0,
             "ticks": ""
            },
            "colorscale": [
             [
              0,
              "#0d0887"
             ],
             [
              0.1111111111111111,
              "#46039f"
             ],
             [
              0.2222222222222222,
              "#7201a8"
             ],
             [
              0.3333333333333333,
              "#9c179e"
             ],
             [
              0.4444444444444444,
              "#bd3786"
             ],
             [
              0.5555555555555556,
              "#d8576b"
             ],
             [
              0.6666666666666666,
              "#ed7953"
             ],
             [
              0.7777777777777778,
              "#fb9f3a"
             ],
             [
              0.8888888888888888,
              "#fdca26"
             ],
             [
              1,
              "#f0f921"
             ]
            ],
            "type": "heatmap"
           }
          ],
          "heatmapgl": [
           {
            "colorbar": {
             "outlinewidth": 0,
             "ticks": ""
            },
            "colorscale": [
             [
              0,
              "#0d0887"
             ],
             [
              0.1111111111111111,
              "#46039f"
             ],
             [
              0.2222222222222222,
              "#7201a8"
             ],
             [
              0.3333333333333333,
              "#9c179e"
             ],
             [
              0.4444444444444444,
              "#bd3786"
             ],
             [
              0.5555555555555556,
              "#d8576b"
             ],
             [
              0.6666666666666666,
              "#ed7953"
             ],
             [
              0.7777777777777778,
              "#fb9f3a"
             ],
             [
              0.8888888888888888,
              "#fdca26"
             ],
             [
              1,
              "#f0f921"
             ]
            ],
            "type": "heatmapgl"
           }
          ],
          "histogram": [
           {
            "marker": {
             "colorbar": {
              "outlinewidth": 0,
              "ticks": ""
             }
            },
            "type": "histogram"
           }
          ],
          "histogram2d": [
           {
            "colorbar": {
             "outlinewidth": 0,
             "ticks": ""
            },
            "colorscale": [
             [
              0,
              "#0d0887"
             ],
             [
              0.1111111111111111,
              "#46039f"
             ],
             [
              0.2222222222222222,
              "#7201a8"
             ],
             [
              0.3333333333333333,
              "#9c179e"
             ],
             [
              0.4444444444444444,
              "#bd3786"
             ],
             [
              0.5555555555555556,
              "#d8576b"
             ],
             [
              0.6666666666666666,
              "#ed7953"
             ],
             [
              0.7777777777777778,
              "#fb9f3a"
             ],
             [
              0.8888888888888888,
              "#fdca26"
             ],
             [
              1,
              "#f0f921"
             ]
            ],
            "type": "histogram2d"
           }
          ],
          "histogram2dcontour": [
           {
            "colorbar": {
             "outlinewidth": 0,
             "ticks": ""
            },
            "colorscale": [
             [
              0,
              "#0d0887"
             ],
             [
              0.1111111111111111,
              "#46039f"
             ],
             [
              0.2222222222222222,
              "#7201a8"
             ],
             [
              0.3333333333333333,
              "#9c179e"
             ],
             [
              0.4444444444444444,
              "#bd3786"
             ],
             [
              0.5555555555555556,
              "#d8576b"
             ],
             [
              0.6666666666666666,
              "#ed7953"
             ],
             [
              0.7777777777777778,
              "#fb9f3a"
             ],
             [
              0.8888888888888888,
              "#fdca26"
             ],
             [
              1,
              "#f0f921"
             ]
            ],
            "type": "histogram2dcontour"
           }
          ],
          "mesh3d": [
           {
            "colorbar": {
             "outlinewidth": 0,
             "ticks": ""
            },
            "type": "mesh3d"
           }
          ],
          "parcoords": [
           {
            "line": {
             "colorbar": {
              "outlinewidth": 0,
              "ticks": ""
             }
            },
            "type": "parcoords"
           }
          ],
          "pie": [
           {
            "automargin": true,
            "type": "pie"
           }
          ],
          "scatter": [
           {
            "marker": {
             "colorbar": {
              "outlinewidth": 0,
              "ticks": ""
             }
            },
            "type": "scatter"
           }
          ],
          "scatter3d": [
           {
            "line": {
             "colorbar": {
              "outlinewidth": 0,
              "ticks": ""
             }
            },
            "marker": {
             "colorbar": {
              "outlinewidth": 0,
              "ticks": ""
             }
            },
            "type": "scatter3d"
           }
          ],
          "scattercarpet": [
           {
            "marker": {
             "colorbar": {
              "outlinewidth": 0,
              "ticks": ""
             }
            },
            "type": "scattercarpet"
           }
          ],
          "scattergeo": [
           {
            "marker": {
             "colorbar": {
              "outlinewidth": 0,
              "ticks": ""
             }
            },
            "type": "scattergeo"
           }
          ],
          "scattergl": [
           {
            "marker": {
             "colorbar": {
              "outlinewidth": 0,
              "ticks": ""
             }
            },
            "type": "scattergl"
           }
          ],
          "scattermapbox": [
           {
            "marker": {
             "colorbar": {
              "outlinewidth": 0,
              "ticks": ""
             }
            },
            "type": "scattermapbox"
           }
          ],
          "scatterpolar": [
           {
            "marker": {
             "colorbar": {
              "outlinewidth": 0,
              "ticks": ""
             }
            },
            "type": "scatterpolar"
           }
          ],
          "scatterpolargl": [
           {
            "marker": {
             "colorbar": {
              "outlinewidth": 0,
              "ticks": ""
             }
            },
            "type": "scatterpolargl"
           }
          ],
          "scatterternary": [
           {
            "marker": {
             "colorbar": {
              "outlinewidth": 0,
              "ticks": ""
             }
            },
            "type": "scatterternary"
           }
          ],
          "surface": [
           {
            "colorbar": {
             "outlinewidth": 0,
             "ticks": ""
            },
            "colorscale": [
             [
              0,
              "#0d0887"
             ],
             [
              0.1111111111111111,
              "#46039f"
             ],
             [
              0.2222222222222222,
              "#7201a8"
             ],
             [
              0.3333333333333333,
              "#9c179e"
             ],
             [
              0.4444444444444444,
              "#bd3786"
             ],
             [
              0.5555555555555556,
              "#d8576b"
             ],
             [
              0.6666666666666666,
              "#ed7953"
             ],
             [
              0.7777777777777778,
              "#fb9f3a"
             ],
             [
              0.8888888888888888,
              "#fdca26"
             ],
             [
              1,
              "#f0f921"
             ]
            ],
            "type": "surface"
           }
          ],
          "table": [
           {
            "cells": {
             "fill": {
              "color": "#EBF0F8"
             },
             "line": {
              "color": "white"
             }
            },
            "header": {
             "fill": {
              "color": "#C8D4E3"
             },
             "line": {
              "color": "white"
             }
            },
            "type": "table"
           }
          ]
         },
         "layout": {
          "annotationdefaults": {
           "arrowcolor": "#2a3f5f",
           "arrowhead": 0,
           "arrowwidth": 1
          },
          "autotypenumbers": "strict",
          "coloraxis": {
           "colorbar": {
            "outlinewidth": 0,
            "ticks": ""
           }
          },
          "colorscale": {
           "diverging": [
            [
             0,
             "#8e0152"
            ],
            [
             0.1,
             "#c51b7d"
            ],
            [
             0.2,
             "#de77ae"
            ],
            [
             0.3,
             "#f1b6da"
            ],
            [
             0.4,
             "#fde0ef"
            ],
            [
             0.5,
             "#f7f7f7"
            ],
            [
             0.6,
             "#e6f5d0"
            ],
            [
             0.7,
             "#b8e186"
            ],
            [
             0.8,
             "#7fbc41"
            ],
            [
             0.9,
             "#4d9221"
            ],
            [
             1,
             "#276419"
            ]
           ],
           "sequential": [
            [
             0,
             "#0d0887"
            ],
            [
             0.1111111111111111,
             "#46039f"
            ],
            [
             0.2222222222222222,
             "#7201a8"
            ],
            [
             0.3333333333333333,
             "#9c179e"
            ],
            [
             0.4444444444444444,
             "#bd3786"
            ],
            [
             0.5555555555555556,
             "#d8576b"
            ],
            [
             0.6666666666666666,
             "#ed7953"
            ],
            [
             0.7777777777777778,
             "#fb9f3a"
            ],
            [
             0.8888888888888888,
             "#fdca26"
            ],
            [
             1,
             "#f0f921"
            ]
           ],
           "sequentialminus": [
            [
             0,
             "#0d0887"
            ],
            [
             0.1111111111111111,
             "#46039f"
            ],
            [
             0.2222222222222222,
             "#7201a8"
            ],
            [
             0.3333333333333333,
             "#9c179e"
            ],
            [
             0.4444444444444444,
             "#bd3786"
            ],
            [
             0.5555555555555556,
             "#d8576b"
            ],
            [
             0.6666666666666666,
             "#ed7953"
            ],
            [
             0.7777777777777778,
             "#fb9f3a"
            ],
            [
             0.8888888888888888,
             "#fdca26"
            ],
            [
             1,
             "#f0f921"
            ]
           ]
          },
          "colorway": [
           "#636efa",
           "#EF553B",
           "#00cc96",
           "#ab63fa",
           "#FFA15A",
           "#19d3f3",
           "#FF6692",
           "#B6E880",
           "#FF97FF",
           "#FECB52"
          ],
          "font": {
           "color": "#2a3f5f"
          },
          "geo": {
           "bgcolor": "white",
           "lakecolor": "white",
           "landcolor": "#E5ECF6",
           "showlakes": true,
           "showland": true,
           "subunitcolor": "white"
          },
          "hoverlabel": {
           "align": "left"
          },
          "hovermode": "closest",
          "mapbox": {
           "style": "light"
          },
          "paper_bgcolor": "white",
          "plot_bgcolor": "#E5ECF6",
          "polar": {
           "angularaxis": {
            "gridcolor": "white",
            "linecolor": "white",
            "ticks": ""
           },
           "bgcolor": "#E5ECF6",
           "radialaxis": {
            "gridcolor": "white",
            "linecolor": "white",
            "ticks": ""
           }
          },
          "scene": {
           "xaxis": {
            "backgroundcolor": "#E5ECF6",
            "gridcolor": "white",
            "gridwidth": 2,
            "linecolor": "white",
            "showbackground": true,
            "ticks": "",
            "zerolinecolor": "white"
           },
           "yaxis": {
            "backgroundcolor": "#E5ECF6",
            "gridcolor": "white",
            "gridwidth": 2,
            "linecolor": "white",
            "showbackground": true,
            "ticks": "",
            "zerolinecolor": "white"
           },
           "zaxis": {
            "backgroundcolor": "#E5ECF6",
            "gridcolor": "white",
            "gridwidth": 2,
            "linecolor": "white",
            "showbackground": true,
            "ticks": "",
            "zerolinecolor": "white"
           }
          },
          "shapedefaults": {
           "line": {
            "color": "#2a3f5f"
           }
          },
          "ternary": {
           "aaxis": {
            "gridcolor": "white",
            "linecolor": "white",
            "ticks": ""
           },
           "baxis": {
            "gridcolor": "white",
            "linecolor": "white",
            "ticks": ""
           },
           "bgcolor": "#E5ECF6",
           "caxis": {
            "gridcolor": "white",
            "linecolor": "white",
            "ticks": ""
           }
          },
          "title": {
           "x": 0.05
          },
          "xaxis": {
           "automargin": true,
           "gridcolor": "white",
           "linecolor": "white",
           "ticks": "",
           "title": {
            "standoff": 15
           },
           "zerolinecolor": "white",
           "zerolinewidth": 2
          },
          "yaxis": {
           "automargin": true,
           "gridcolor": "white",
           "linecolor": "white",
           "ticks": "",
           "title": {
            "standoff": 15
           },
           "zerolinecolor": "white",
           "zerolinewidth": 2
          }
         }
        },
        "xaxis": {
         "showgrid": false,
         "showticklabels": false,
         "zeroline": false
        },
        "yaxis": {
         "showgrid": false,
         "showticklabels": false,
         "zeroline": false
        }
       }
      },
      "text/html": [
       "<html>\n",
       "<head><meta charset=\"utf-8\" /></head>\n",
       "<body>\n",
       "<div>\n",
       "    <script src=\"https://cdnjs.cloudflare.com/ajax/libs/mathjax/2.7.5/MathJax.js?config=TeX-AMS-MML_SVG\"></script>\n",
       "    <script type=\"text/javascript\">\n",
       "window.PlotlyConfig = {MathJaxConfig: 'local'};\n",
       "</script>\n",
       "<script type=\"text/javascript\">\n",
       "if (window.MathJax) {MathJax.Hub.Config({SVG: {font: \"STIX-Web\"}});}\n",
       "</script>\n",
       "<script type=\"text/javascript\">\n",
       "    if (typeof require !== 'undefined') {\n",
       "        require.undef(\"plotly\");\n",
       "        requirejs.config({\n",
       "            paths: {\n",
       "                'plotly': ['https://cdn.plot.ly/plotly-2.3.0.min']\n",
       "            }\n",
       "        });\n",
       "        require(['plotly'], function(Plotly) {\n",
       "            window._Plotly = Plotly;\n",
       "        });\n",
       "    }\n",
       "</script>\n",
       "\n",
       "    <div\n",
       "        id=98fa629d-3d68-41da-a6b8-33bde237e67a\n",
       "        class=\"plotly-graph-div\"\n",
       "        style=\"height:100%; width:100%;\">\n",
       "    </div>\n",
       "    <script type=\"text/javascript\">\n",
       "        require([\"plotly\"], function(Plotly) {\n",
       "        window.PLOTLYENV = window.PLOTLYENV || {}\n",
       "        \n",
       "        if (document.getElementById('98fa629d-3d68-41da-a6b8-33bde237e67a')) {\n",
       "    Plotly.newPlot(\n",
       "        '98fa629d-3d68-41da-a6b8-33bde237e67a',\n",
       "        [{\"mode\":\"lines\",\"line\":{\"color\":\"#113\",\"width\":0.8},\"y\":[0.0,-0.8660254037844385,null,0.8660254037844387,-0.8660254037844385,null],\"type\":\"scatter\",\"x\":[1.0,-0.5000000000000004,null,-0.4999999999999998,-0.5000000000000004,null]},{\"x\":[1.0,-0.4999999999999998,-0.5000000000000004],\"mode\":\"markers\",\"y\":[0.0,0.8660254037844387,-0.8660254037844385],\"type\":\"scatter\",\"text\":[\"Source: LCL\",\"Source: LC\",\"Load: RLC\"],\"marker\":{\"color\":[\"#FF8800\",\"#FF6600\",\"#8F00D1\"],\"line\":{\"color\":\"Black\",\"width\":1},\"size\":13}}],\n",
       "        {\"showlegend\":false,\"xaxis\":{\"showgrid\":false,\"showticklabels\":false,\"zeroline\":false},\"hovermode\":\"closest\",\"template\":{\"layout\":{\"coloraxis\":{\"colorbar\":{\"ticks\":\"\",\"outlinewidth\":0}},\"xaxis\":{\"gridcolor\":\"white\",\"zerolinewidth\":2,\"title\":{\"standoff\":15},\"ticks\":\"\",\"zerolinecolor\":\"white\",\"automargin\":true,\"linecolor\":\"white\"},\"hovermode\":\"closest\",\"paper_bgcolor\":\"white\",\"geo\":{\"showlakes\":true,\"showland\":true,\"landcolor\":\"#E5ECF6\",\"bgcolor\":\"white\",\"subunitcolor\":\"white\",\"lakecolor\":\"white\"},\"colorscale\":{\"sequential\":[[0.0,\"#0d0887\"],[0.1111111111111111,\"#46039f\"],[0.2222222222222222,\"#7201a8\"],[0.3333333333333333,\"#9c179e\"],[0.4444444444444444,\"#bd3786\"],[0.5555555555555556,\"#d8576b\"],[0.6666666666666666,\"#ed7953\"],[0.7777777777777778,\"#fb9f3a\"],[0.8888888888888888,\"#fdca26\"],[1.0,\"#f0f921\"]],\"diverging\":[[0,\"#8e0152\"],[0.1,\"#c51b7d\"],[0.2,\"#de77ae\"],[0.3,\"#f1b6da\"],[0.4,\"#fde0ef\"],[0.5,\"#f7f7f7\"],[0.6,\"#e6f5d0\"],[0.7,\"#b8e186\"],[0.8,\"#7fbc41\"],[0.9,\"#4d9221\"],[1,\"#276419\"]],\"sequentialminus\":[[0.0,\"#0d0887\"],[0.1111111111111111,\"#46039f\"],[0.2222222222222222,\"#7201a8\"],[0.3333333333333333,\"#9c179e\"],[0.4444444444444444,\"#bd3786\"],[0.5555555555555556,\"#d8576b\"],[0.6666666666666666,\"#ed7953\"],[0.7777777777777778,\"#fb9f3a\"],[0.8888888888888888,\"#fdca26\"],[1.0,\"#f0f921\"]]},\"yaxis\":{\"gridcolor\":\"white\",\"zerolinewidth\":2,\"title\":{\"standoff\":15},\"ticks\":\"\",\"zerolinecolor\":\"white\",\"automargin\":true,\"linecolor\":\"white\"},\"shapedefaults\":{\"line\":{\"color\":\"#2a3f5f\"}},\"hoverlabel\":{\"align\":\"left\"},\"mapbox\":{\"style\":\"light\"},\"polar\":{\"angularaxis\":{\"gridcolor\":\"white\",\"ticks\":\"\",\"linecolor\":\"white\"},\"bgcolor\":\"#E5ECF6\",\"radialaxis\":{\"gridcolor\":\"white\",\"ticks\":\"\",\"linecolor\":\"white\"}},\"autotypenumbers\":\"strict\",\"font\":{\"color\":\"#2a3f5f\"},\"ternary\":{\"baxis\":{\"gridcolor\":\"white\",\"ticks\":\"\",\"linecolor\":\"white\"},\"bgcolor\":\"#E5ECF6\",\"caxis\":{\"gridcolor\":\"white\",\"ticks\":\"\",\"linecolor\":\"white\"},\"aaxis\":{\"gridcolor\":\"white\",\"ticks\":\"\",\"linecolor\":\"white\"}},\"annotationdefaults\":{\"arrowhead\":0,\"arrowwidth\":1,\"arrowcolor\":\"#2a3f5f\"},\"plot_bgcolor\":\"#E5ECF6\",\"title\":{\"x\":0.05},\"scene\":{\"xaxis\":{\"gridcolor\":\"white\",\"gridwidth\":2,\"backgroundcolor\":\"#E5ECF6\",\"ticks\":\"\",\"showbackground\":true,\"zerolinecolor\":\"white\",\"linecolor\":\"white\"},\"zaxis\":{\"gridcolor\":\"white\",\"gridwidth\":2,\"backgroundcolor\":\"#E5ECF6\",\"ticks\":\"\",\"showbackground\":true,\"zerolinecolor\":\"white\",\"linecolor\":\"white\"},\"yaxis\":{\"gridcolor\":\"white\",\"gridwidth\":2,\"backgroundcolor\":\"#E5ECF6\",\"ticks\":\"\",\"showbackground\":true,\"zerolinecolor\":\"white\",\"linecolor\":\"white\"}},\"colorway\":[\"#636efa\",\"#EF553B\",\"#00cc96\",\"#ab63fa\",\"#FFA15A\",\"#19d3f3\",\"#FF6692\",\"#B6E880\",\"#FF97FF\",\"#FECB52\"]},\"data\":{\"barpolar\":[{\"type\":\"barpolar\",\"marker\":{\"line\":{\"color\":\"#E5ECF6\",\"width\":0.5}}}],\"carpet\":[{\"aaxis\":{\"gridcolor\":\"white\",\"endlinecolor\":\"#2a3f5f\",\"minorgridcolor\":\"white\",\"startlinecolor\":\"#2a3f5f\",\"linecolor\":\"white\"},\"type\":\"carpet\",\"baxis\":{\"gridcolor\":\"white\",\"endlinecolor\":\"#2a3f5f\",\"minorgridcolor\":\"white\",\"startlinecolor\":\"#2a3f5f\",\"linecolor\":\"white\"}}],\"scatterpolar\":[{\"type\":\"scatterpolar\",\"marker\":{\"colorbar\":{\"ticks\":\"\",\"outlinewidth\":0}}}],\"parcoords\":[{\"line\":{\"colorbar\":{\"ticks\":\"\",\"outlinewidth\":0}},\"type\":\"parcoords\"}],\"scatter\":[{\"type\":\"scatter\",\"marker\":{\"colorbar\":{\"ticks\":\"\",\"outlinewidth\":0}}}],\"histogram2dcontour\":[{\"colorbar\":{\"ticks\":\"\",\"outlinewidth\":0},\"type\":\"histogram2dcontour\",\"colorscale\":[[0.0,\"#0d0887\"],[0.1111111111111111,\"#46039f\"],[0.2222222222222222,\"#7201a8\"],[0.3333333333333333,\"#9c179e\"],[0.4444444444444444,\"#bd3786\"],[0.5555555555555556,\"#d8576b\"],[0.6666666666666666,\"#ed7953\"],[0.7777777777777778,\"#fb9f3a\"],[0.8888888888888888,\"#fdca26\"],[1.0,\"#f0f921\"]]}],\"contour\":[{\"colorbar\":{\"ticks\":\"\",\"outlinewidth\":0},\"type\":\"contour\",\"colorscale\":[[0.0,\"#0d0887\"],[0.1111111111111111,\"#46039f\"],[0.2222222222222222,\"#7201a8\"],[0.3333333333333333,\"#9c179e\"],[0.4444444444444444,\"#bd3786\"],[0.5555555555555556,\"#d8576b\"],[0.6666666666666666,\"#ed7953\"],[0.7777777777777778,\"#fb9f3a\"],[0.8888888888888888,\"#fdca26\"],[1.0,\"#f0f921\"]]}],\"scattercarpet\":[{\"type\":\"scattercarpet\",\"marker\":{\"colorbar\":{\"ticks\":\"\",\"outlinewidth\":0}}}],\"mesh3d\":[{\"colorbar\":{\"ticks\":\"\",\"outlinewidth\":0},\"type\":\"mesh3d\"}],\"surface\":[{\"colorbar\":{\"ticks\":\"\",\"outlinewidth\":0},\"type\":\"surface\",\"colorscale\":[[0.0,\"#0d0887\"],[0.1111111111111111,\"#46039f\"],[0.2222222222222222,\"#7201a8\"],[0.3333333333333333,\"#9c179e\"],[0.4444444444444444,\"#bd3786\"],[0.5555555555555556,\"#d8576b\"],[0.6666666666666666,\"#ed7953\"],[0.7777777777777778,\"#fb9f3a\"],[0.8888888888888888,\"#fdca26\"],[1.0,\"#f0f921\"]]}],\"scattermapbox\":[{\"type\":\"scattermapbox\",\"marker\":{\"colorbar\":{\"ticks\":\"\",\"outlinewidth\":0}}}],\"scattergeo\":[{\"type\":\"scattergeo\",\"marker\":{\"colorbar\":{\"ticks\":\"\",\"outlinewidth\":0}}}],\"histogram\":[{\"type\":\"histogram\",\"marker\":{\"colorbar\":{\"ticks\":\"\",\"outlinewidth\":0}}}],\"pie\":[{\"type\":\"pie\",\"automargin\":true}],\"choropleth\":[{\"colorbar\":{\"ticks\":\"\",\"outlinewidth\":0},\"type\":\"choropleth\"}],\"heatmapgl\":[{\"colorbar\":{\"ticks\":\"\",\"outlinewidth\":0},\"type\":\"heatmapgl\",\"colorscale\":[[0.0,\"#0d0887\"],[0.1111111111111111,\"#46039f\"],[0.2222222222222222,\"#7201a8\"],[0.3333333333333333,\"#9c179e\"],[0.4444444444444444,\"#bd3786\"],[0.5555555555555556,\"#d8576b\"],[0.6666666666666666,\"#ed7953\"],[0.7777777777777778,\"#fb9f3a\"],[0.8888888888888888,\"#fdca26\"],[1.0,\"#f0f921\"]]}],\"bar\":[{\"type\":\"bar\",\"error_y\":{\"color\":\"#2a3f5f\"},\"error_x\":{\"color\":\"#2a3f5f\"},\"marker\":{\"line\":{\"color\":\"#E5ECF6\",\"width\":0.5}}}],\"heatmap\":[{\"colorbar\":{\"ticks\":\"\",\"outlinewidth\":0},\"type\":\"heatmap\",\"colorscale\":[[0.0,\"#0d0887\"],[0.1111111111111111,\"#46039f\"],[0.2222222222222222,\"#7201a8\"],[0.3333333333333333,\"#9c179e\"],[0.4444444444444444,\"#bd3786\"],[0.5555555555555556,\"#d8576b\"],[0.6666666666666666,\"#ed7953\"],[0.7777777777777778,\"#fb9f3a\"],[0.8888888888888888,\"#fdca26\"],[1.0,\"#f0f921\"]]}],\"contourcarpet\":[{\"colorbar\":{\"ticks\":\"\",\"outlinewidth\":0},\"type\":\"contourcarpet\"}],\"table\":[{\"type\":\"table\",\"header\":{\"line\":{\"color\":\"white\"},\"fill\":{\"color\":\"#C8D4E3\"}},\"cells\":{\"line\":{\"color\":\"white\"},\"fill\":{\"color\":\"#EBF0F8\"}}}],\"scatter3d\":[{\"line\":{\"colorbar\":{\"ticks\":\"\",\"outlinewidth\":0}},\"type\":\"scatter3d\",\"marker\":{\"colorbar\":{\"ticks\":\"\",\"outlinewidth\":0}}}],\"scattergl\":[{\"type\":\"scattergl\",\"marker\":{\"colorbar\":{\"ticks\":\"\",\"outlinewidth\":0}}}],\"histogram2d\":[{\"colorbar\":{\"ticks\":\"\",\"outlinewidth\":0},\"type\":\"histogram2d\",\"colorscale\":[[0.0,\"#0d0887\"],[0.1111111111111111,\"#46039f\"],[0.2222222222222222,\"#7201a8\"],[0.3333333333333333,\"#9c179e\"],[0.4444444444444444,\"#bd3786\"],[0.5555555555555556,\"#d8576b\"],[0.6666666666666666,\"#ed7953\"],[0.7777777777777778,\"#fb9f3a\"],[0.8888888888888888,\"#fdca26\"],[1.0,\"#f0f921\"]]}],\"scatterternary\":[{\"type\":\"scatterternary\",\"marker\":{\"colorbar\":{\"ticks\":\"\",\"outlinewidth\":0}}}],\"scatterpolargl\":[{\"type\":\"scatterpolargl\",\"marker\":{\"colorbar\":{\"ticks\":\"\",\"outlinewidth\":0}}}]}},\"showarrow\":false,\"margin\":{\"l\":50,\"b\":50,\"r\":50,\"t\":60},\"plot_bgcolor\":\"#f1f3f7\",\"yaxis\":{\"showgrid\":false,\"showticklabels\":false,\"zeroline\":false},\"dragmode\":\"select\"},\n",
       "        {\"editable\":false,\"responsive\":true,\"staticPlot\":false,\"scrollZoom\":true},\n",
       "    )\n",
       "}\n",
       "\n",
       "        });\n",
       "    </script>\n",
       "</div>\n",
       "\n",
       "</body>\n",
       "</html>"
      ],
      "text/plain": [
       "data: [\n",
       "  \"scatter with fields line, mode, type, x, and y\",\n",
       "  \"scatter with fields marker, mode, text, type, x, and y\"\n",
       "]\n",
       "\n",
       "layout: \"layout with fields dragmode, hovermode, margin, plot_bgcolor, showarrow, showlegend, template, xaxis, and yaxis\"\n",
       "\n"
      ]
     },
     "metadata": {},
     "output_type": "display_data"
    }
   ],
   "source": [
    "DrawGraph(S2_L1)"
   ]
  },
  {
   "cell_type": "markdown",
   "id": "84112f3f",
   "metadata": {},
   "source": [
    "After the grid has been created it can be passed to the function `GetSystem()`, which then returns the system matrices for the state space representation in the continous time domain."
   ]
  },
  {
   "cell_type": "code",
   "execution_count": 7,
   "id": "d32b4cfa",
   "metadata": {},
   "outputs": [],
   "source": [
    "A, B, C, D = GetSystem(S2_L1);"
   ]
  },
  {
   "cell_type": "markdown",
   "id": "4a4820db",
   "metadata": {},
   "source": [
    "We convert the matrices into the discrete time domain and create a discrete StateSpace object with the help of `ControlSystems`. This object can then represent the dynamics of the system for a given time interval using the function `lsim()`."
   ]
  },
  {
   "cell_type": "code",
   "execution_count": 8,
   "id": "2bbbfcb5",
   "metadata": {},
   "outputs": [
    {
     "ename": "LoadError",
     "evalue": "UndefVarError: StateSpace not defined",
     "output_type": "error",
     "traceback": [
      "UndefVarError: StateSpace not defined",
      "",
      "Stacktrace:",
      " [1] top-level scope",
      "   @ In[8]:4"
     ]
    }
   ],
   "source": [
    "ts = 1e-5\n",
    "Ad = exp(A*ts)\n",
    "Bd = A \\ (Ad - C) * B\n",
    "sys_d = StateSpace(Ad, Bd, C, D, ts);"
   ]
  },
  {
   "cell_type": "markdown",
   "id": "a9d76899",
   "metadata": {},
   "source": [
    "To use `lsim()` you need defined initial states `x0`, a time vector `t` and a input signal `u`. In our case we apply a jump to 250 V to the system."
   ]
  },
  {
   "cell_type": "code",
   "execution_count": 9,
   "id": "6560be47",
   "metadata": {},
   "outputs": [],
   "source": [
    "ns = length(A[1,:]) # get num of states\n",
    "ni = length(B[1,:]) # get num of inputs\n",
    "t = collect(0:ts:0.1)\n",
    "x0 = [0.0 for i = 1:ns]\n",
    "u = [250.0 for i = 1:length(t)]\n",
    "uu = [u for i = 1:ni ]\n",
    "uuu = mapreduce(permutedims, vcat, uu);"
   ]
  },
  {
   "cell_type": "markdown",
   "id": "b5e40cc1",
   "metadata": {},
   "source": [
    "`lsim()` now solves the difference equations for the given time steps and we can observe how the states evolve."
   ]
  },
  {
   "cell_type": "code",
   "execution_count": 10,
   "id": "27941a42",
   "metadata": {},
   "outputs": [
    {
     "ename": "LoadError",
     "evalue": "UndefVarError: lsim not defined",
     "output_type": "error",
     "traceback": [
      "UndefVarError: lsim not defined",
      "",
      "Stacktrace:",
      " [1] top-level scope",
      "   @ In[10]:1"
     ]
    }
   ],
   "source": [
    "xout, _, _, _ = lsim(sys_d,uuu,t,x0=x0);"
   ]
  },
  {
   "cell_type": "markdown",
   "id": "24fd6961",
   "metadata": {},
   "source": [
    "Here we plot the voltage across the capacitor in the first source."
   ]
  },
  {
   "cell_type": "code",
   "execution_count": 11,
   "id": "1002c3bd",
   "metadata": {},
   "outputs": [
    {
     "ename": "LoadError",
     "evalue": "UndefVarError: Layout not defined",
     "output_type": "error",
     "traceback": [
      "UndefVarError: Layout not defined",
      "",
      "Stacktrace:",
      " [1] top-level scope",
      "   @ In[11]:1"
     ]
    }
   ],
   "source": [
    "layout = Layout(xaxis_title=\"Time in µs\", yaxis_title=\"v_C / V\")\n",
    "p = plot(t, xout[2,:], layout)"
   ]
  },
  {
   "cell_type": "markdown",
   "id": "a6c7be65",
   "metadata": {},
   "source": [
    "### Random Grid Generation \n",
    "\n",
    "The manual creation of a grid can be time consuming because all parameters have to be specified. To quickly create different topologies with little effort, automatic generation can be used. t only needs the number of sources and loads, all other parameters are set by default or are randomly selected. An important feature is the creation of random node structures, where the parameters of the elements are chosen randomly."
   ]
  },
  {
   "cell_type": "code",
   "execution_count": 12,
   "id": "856b41db",
   "metadata": {
    "scrolled": true
   },
   "outputs": [
    {
     "name": "stdout",
     "output_type": "stream",
     "text": [
      "\n",
      "******************************************************************************\n",
      "This program contains Ipopt, a library for large-scale nonlinear optimization.\n",
      " Ipopt is released as open source code under the Eclipse Public License (EPL).\n",
      "         For more information visit https://github.com/coin-or/Ipopt\n",
      "******************************************************************************\n",
      "\n"
     ]
    }
   ],
   "source": [
    "S2_L2_FC = NodeConstructor(num_sources=2, num_loads=2);"
   ]
  },
  {
   "cell_type": "markdown",
   "id": "9c1b7141",
   "metadata": {},
   "source": [
    "To create the CM matrix randomly, the parameters `S2S_p`, `L2L_p` and `S2L_p` can also be used to set the connection probabilities. These indicate the probability with which a source/load will be connected to any other source/load. A fully connected grid would be obtained if all parameters are set to 1."
   ]
  },
  {
   "cell_type": "code",
   "execution_count": 13,
   "id": "854421ad",
   "metadata": {},
   "outputs": [],
   "source": [
    "S2_L2_FC = NodeConstructor(num_sources=2, num_loads=2, S2S_p=1, S2L_p=1, L2L_p=1);"
   ]
  },
  {
   "cell_type": "markdown",
   "id": "fdba3e51",
   "metadata": {},
   "source": [
    "Let's check the CM matrix."
   ]
  },
  {
   "cell_type": "code",
   "execution_count": 14,
   "id": "4b727ee6",
   "metadata": {},
   "outputs": [
    {
     "data": {
      "text/plain": [
       "4×4 Matrix{Float64}:\n",
       "  0.0   1.0   2.0  3.0\n",
       " -1.0   0.0   4.0  5.0\n",
       " -2.0  -4.0   0.0  6.0\n",
       " -3.0  -5.0  -6.0  0.0"
      ]
     },
     "execution_count": 14,
     "metadata": {},
     "output_type": "execute_result"
    }
   ],
   "source": [
    "S2_L2_FC.CM"
   ]
  },
  {
   "cell_type": "markdown",
   "id": "be551e90",
   "metadata": {},
   "source": [
    "With a look into the parameter dict we also see that the parameters of the individual elements were randomly generated. The current policy for the sources is that an LC filter is always taken and the other filter types are chosen randomly."
   ]
  },
  {
   "cell_type": "code",
   "execution_count": 15,
   "id": "359aba05",
   "metadata": {},
   "outputs": [
    {
     "data": {
      "text/plain": [
       "2-element Vector{Any}:\n",
       " Dict{Any, Any}(\"L1\" => 683065.1506262049, \"C\" => 770.6152043421689, \"mode\" => \"Synchronverter\", \"fltr\" => \"LCL\", \"pwr\" => 10000.0, \"source_type\" => \"ideal\", \"L2\" => 93413.60873776274, \"R_C\" => 9.924097510713226, \"std_asy\" => 2500.0, \"σ\" => 0.0…)\n",
       " Dict{Any, Any}(\"L1\" => 455376.76708413655, \"C\" => 1155.9228065132534, \"mode\" => \"Synchronverter\", \"fltr\" => \"LC\", \"pwr\" => 15000.0, \"source_type\" => \"ideal\", \"R_C\" => 6.616065007142151, \"std_asy\" => 3750.0, \"σ\" => 0.0, \"i_limit\" => 52.183509595574726…)"
      ]
     },
     "execution_count": 15,
     "metadata": {},
     "output_type": "execute_result"
    }
   ],
   "source": [
    "S2_L2_FC.parameters[\"source\"]"
   ]
  },
  {
   "cell_type": "markdown",
   "id": "65d4b92e",
   "metadata": {},
   "source": [
    "For larger networks, of course, only the number of sources and loads can be handed over, so that the network structures are created on the basis of the default values. An important point here is that it is ensured that no subnets are created. By default, it is ensured that each element of the network has at least one connection to the other components of the network, so that no subnetworks are created.\n",
    "\n",
    "Internally, this is done by checking for connections for each element. If these are not present, they are automatically created. For smaller networks it is advisable to specify a CM matrix, because otherwise usually too many connections are made than necessary. However, this is no longer noticeable with more than 10+ elements."
   ]
  },
  {
   "cell_type": "code",
   "execution_count": 16,
   "id": "f66105c5",
   "metadata": {},
   "outputs": [],
   "source": [
    "S5_L15 = NodeConstructor(num_sources=5, num_loads=15);"
   ]
  },
  {
   "cell_type": "markdown",
   "id": "ac00ae85",
   "metadata": {},
   "source": [
    "## Three-phase simulation"
   ]
  },
  {
   "cell_type": "markdown",
   "id": "7a33f4b0",
   "metadata": {},
   "source": [
    "Until now, only single-phase grids have been created with NodeConstructor. However, the default value for the number of phases is 3, so we will now also consider the three-phase variant. For the simulation of the grid in 3 phases the system matrix is extended:\n",
    "\n",
    "\\begin{equation}\n",
    "A_{all} = \\begin{pmatrix}\n",
    "        A_{a} & 0 & 0 \\\\\n",
    "        0 & A_{b} & 0 \\\\\n",
    "        0 & 0 & A_{c} \n",
    "    \\end{pmatrix}\n",
    "\\end{equation}\n",
    "\n",
    "Lets see how this looks like in Julia."
   ]
  },
  {
   "cell_type": "code",
   "execution_count": 17,
   "id": "fe8f5597",
   "metadata": {},
   "outputs": [],
   "source": [
    "S1_L2 = NodeConstructor(num_sources=1, num_loads=2);"
   ]
  },
  {
   "cell_type": "code",
   "execution_count": 18,
   "id": "81b0cdf7",
   "metadata": {},
   "outputs": [
    {
     "data": {
      "text/plain": [
       "3"
      ]
     },
     "execution_count": 18,
     "metadata": {},
     "output_type": "execute_result"
    }
   ],
   "source": [
    "S1_L2.parameters[\"grid\"][\"phase\"]"
   ]
  },
  {
   "cell_type": "code",
   "execution_count": 19,
   "id": "d729c3d6",
   "metadata": {},
   "outputs": [
    {
     "ename": "LoadError",
     "evalue": "UndefVarError: StateSpace not defined",
     "output_type": "error",
     "traceback": [
      "UndefVarError: StateSpace not defined",
      "",
      "Stacktrace:",
      " [1] top-level scope",
      "   @ In[19]:5"
     ]
    }
   ],
   "source": [
    "A, B, C, D = GetSystem(S1_L2)\n",
    "ts = 1e-4\n",
    "Ad = exp(A*ts)\n",
    "Bd = A \\ (Ad - C) * B\n",
    "sys_d = StateSpace(Ad, Bd, C, D, ts);"
   ]
  },
  {
   "cell_type": "markdown",
   "id": "9d155c22",
   "metadata": {},
   "source": [
    "We then collect a few useful variables and set the time horizon for the simulation."
   ]
  },
  {
   "cell_type": "code",
   "execution_count": 20,
   "id": "6742eae7",
   "metadata": {},
   "outputs": [],
   "source": [
    "ns = S1_L2.num_spp  # get num of states per phase\n",
    "ni = S1_L2.num_sources # get num of inputs per phase\n",
    "t = collect(0:ts:1);"
   ]
  },
  {
   "cell_type": "markdown",
   "id": "25503285",
   "metadata": {},
   "source": [
    "Next we want to generate the three-phase input signals and repeat it for the number of sources:"
   ]
  },
  {
   "cell_type": "code",
   "execution_count": 21,
   "id": "4a2ba415",
   "metadata": {},
   "outputs": [],
   "source": [
    "# Stepfunction\n",
    "u = sqrt(2)*[230, 0, -230]\n",
    "uu = repeat(u, inner=ni) .* ones(length(t))';"
   ]
  },
  {
   "cell_type": "code",
   "execution_count": 22,
   "id": "9a9758b7",
   "metadata": {},
   "outputs": [],
   "source": [
    "# Sin wave\n",
    "u = [230 * sin.(2*pi*t .- 2/3*pi*(i-1)) for i = 1:3]\n",
    "uu = transpose(hcat(repeat(u[1], inner=[1,ni]),repeat(u[2], inner=[1,ni]),repeat(u[3], inner=[1,ni])));"
   ]
  },
  {
   "cell_type": "markdown",
   "id": "38b7c27f",
   "metadata": {},
   "source": [
    "Lets have a look:"
   ]
  },
  {
   "cell_type": "code",
   "execution_count": 23,
   "id": "398e536e",
   "metadata": {},
   "outputs": [
    {
     "ename": "LoadError",
     "evalue": "UndefVarError: Layout not defined",
     "output_type": "error",
     "traceback": [
      "UndefVarError: Layout not defined",
      "",
      "Stacktrace:",
      " [1] top-level scope",
      "   @ In[23]:1"
     ]
    }
   ],
   "source": [
    "layout = Layout(xaxis_title=\"Time in µs\", yaxis_title=\"U in V\")\n",
    "input = 1\n",
    "\n",
    "phase_a = scatter(x=t, y=uu[input+ni*0,:], mode=\"lines\", name=\"Phase A\")\n",
    "phase_b = scatter(x=t, y=uu[input+ni*1,:], mode=\"lines\", name=\"Phase B\")\n",
    "phase_c = scatter(x=t, y=uu[input+ni*2,:], mode=\"lines\", name=\"Phase C\")\n",
    "\n",
    "plot([phase_a, phase_b, phase_c], layout)"
   ]
  },
  {
   "cell_type": "markdown",
   "id": "d6cec2be",
   "metadata": {},
   "source": [
    "Again, the discretized matrices can now be used to model the grid."
   ]
  },
  {
   "cell_type": "code",
   "execution_count": 24,
   "id": "c4f34ffc",
   "metadata": {},
   "outputs": [
    {
     "ename": "LoadError",
     "evalue": "UndefVarError: lsim not defined",
     "output_type": "error",
     "traceback": [
      "UndefVarError: lsim not defined",
      "",
      "Stacktrace:",
      " [1] top-level scope",
      "   @ In[24]:2"
     ]
    }
   ],
   "source": [
    "x0 = [0.0 for i = 1:ns*3]\n",
    "xout, _, _, _ = lsim(sys_d,uu,t,x0=x0);"
   ]
  },
  {
   "cell_type": "markdown",
   "id": "8fb97bff",
   "metadata": {},
   "source": [
    "Now a state can be selected and the corresponding trajectories can be plotted."
   ]
  },
  {
   "cell_type": "code",
   "execution_count": 25,
   "id": "5ac6268d",
   "metadata": {},
   "outputs": [
    {
     "data": {
      "text/plain": [
       "27-element Vector{String}:\n",
       " \"source1_i_L1_a\"\n",
       " \"source1_v_C_filt_a\"\n",
       " \"source1_i_L2_a\"\n",
       " \"source1_v_C_cables_a\"\n",
       " \"cable1_i_L_a\"\n",
       " \"cable2_i_L_a\"\n",
       " \"load1_v_C_total_a\"\n",
       " \"load1_i_L_a\"\n",
       " \"load2_v_C_total_a\"\n",
       " \"source1_i_L1_b\"\n",
       " \"source1_v_C_filt_b\"\n",
       " \"source1_i_L2_b\"\n",
       " \"source1_v_C_cables_b\"\n",
       " ⋮\n",
       " \"load1_v_C_total_b\"\n",
       " \"load1_i_L_b\"\n",
       " \"load2_v_C_total_b\"\n",
       " \"source1_i_L1_c\"\n",
       " \"source1_v_C_filt_c\"\n",
       " \"source1_i_L2_c\"\n",
       " \"source1_v_C_cables_c\"\n",
       " \"cable1_i_L_c\"\n",
       " \"cable2_i_L_c\"\n",
       " \"load1_v_C_total_c\"\n",
       " \"load1_i_L_c\"\n",
       " \"load2_v_C_total_c\""
      ]
     },
     "execution_count": 25,
     "metadata": {},
     "output_type": "execute_result"
    }
   ],
   "source": [
    "state_list = GetStateIds(S1_L2)"
   ]
  },
  {
   "cell_type": "code",
   "execution_count": 26,
   "id": "50497cac",
   "metadata": {},
   "outputs": [
    {
     "ename": "LoadError",
     "evalue": "UndefVarError: Layout not defined",
     "output_type": "error",
     "traceback": [
      "UndefVarError: Layout not defined",
      "",
      "Stacktrace:",
      " [1] top-level scope",
      "   @ In[26]:4"
     ]
    }
   ],
   "source": [
    "state = 3\n",
    "state_list = GetStateIds(S1_L2)\n",
    "\n",
    "layout = Layout(xaxis_title=\"Time in µs\", yaxis_title=\"$(state_list[state]) in V\")\n",
    "\n",
    "phase_a = scatter(x=t, y=xout[state+ns*0,:], mode=\"lines\", name=\"Phase A\")\n",
    "phase_b = scatter(x=t, y=xout[state+ns*1,:], mode=\"lines\", name=\"Phase B\")\n",
    "phase_c = scatter(x=t, y=xout[state+ns*2,:], mode=\"lines\", name=\"Phase C\")\n",
    "\n",
    "plot([phase_a, phase_b, phase_c], layout)\n"
   ]
  },
  {
   "cell_type": "markdown",
   "id": "6c2b3872",
   "metadata": {},
   "source": [
    "### Access to the different states"
   ]
  },
  {
   "cell_type": "markdown",
   "id": "2ac99a0c",
   "metadata": {},
   "source": [
    "A way to get the different states of our NodeConstructor is to use the function `GetStateIds()`."
   ]
  },
  {
   "cell_type": "code",
   "execution_count": 27,
   "id": "1410bd96",
   "metadata": {},
   "outputs": [
    {
     "data": {
      "text/plain": [
       "27-element Vector{String}:\n",
       " \"source1_i_L1_a\"\n",
       " \"source1_v_C_filt_a\"\n",
       " \"source1_i_L2_a\"\n",
       " \"source1_v_C_cables_a\"\n",
       " \"cable1_i_L_a\"\n",
       " \"cable2_i_L_a\"\n",
       " \"load1_v_C_total_a\"\n",
       " \"load1_i_L_a\"\n",
       " \"load2_v_C_total_a\"\n",
       " \"source1_i_L1_b\"\n",
       " \"source1_v_C_filt_b\"\n",
       " \"source1_i_L2_b\"\n",
       " \"source1_v_C_cables_b\"\n",
       " ⋮\n",
       " \"load1_v_C_total_b\"\n",
       " \"load1_i_L_b\"\n",
       " \"load2_v_C_total_b\"\n",
       " \"source1_i_L1_c\"\n",
       " \"source1_v_C_filt_c\"\n",
       " \"source1_i_L2_c\"\n",
       " \"source1_v_C_cables_c\"\n",
       " \"cable1_i_L_c\"\n",
       " \"cable2_i_L_c\"\n",
       " \"load1_v_C_total_c\"\n",
       " \"load1_i_L_c\"\n",
       " \"load2_v_C_total_c\""
      ]
     },
     "execution_count": 27,
     "metadata": {},
     "output_type": "execute_result"
    }
   ],
   "source": [
    "state_list = GetStateIds(S1_L2)"
   ]
  },
  {
   "cell_type": "markdown",
   "id": "a8f3115f",
   "metadata": {},
   "source": [
    "The IDs created here are unique and can be used to access particular states. When creating the IDs, the sources are checked first in the order LCL, LC and then L. Then the cables are listed, which are also arranged in order. For the loads the order is RLC, LC, RL, L, RC, C and then R.\n",
    "\n",
    "For the three-phase case, the state IDs are repeated and the respective phase is added.\n",
    "\n",
    "These can then be accessed as follows:"
   ]
  },
  {
   "cell_type": "code",
   "execution_count": 28,
   "id": "16cb151a",
   "metadata": {},
   "outputs": [
    {
     "name": "stdout",
     "output_type": "stream",
     "text": [
      "source1_i_L2_a\n",
      "source1_i_L2_b\n",
      "source1_i_L2_c\n"
     ]
    }
   ],
   "source": [
    "state = 3\n",
    "println(state_list[state+ns*0])\n",
    "println(state_list[state+ns*1])\n",
    "println(state_list[state+ns*2])"
   ]
  },
  {
   "cell_type": "markdown",
   "id": "7df87a77",
   "metadata": {},
   "source": [
    "Or:"
   ]
  },
  {
   "cell_type": "code",
   "execution_count": 29,
   "id": "3bad98ee",
   "metadata": {},
   "outputs": [
    {
     "data": {
      "text/plain": [
       "3-element Vector{Int64}:\n",
       "  1\n",
       " 10\n",
       " 19"
      ]
     },
     "execution_count": 29,
     "metadata": {},
     "output_type": "execute_result"
    }
   ],
   "source": [
    "state = \"source1_i_L1\"\n",
    "idx_of_state = findall(x->occursin(state, x), state_list)\n",
    "idx = idx_of_state"
   ]
  },
  {
   "cell_type": "code",
   "execution_count": 30,
   "id": "18ac1c00",
   "metadata": {},
   "outputs": [
    {
     "data": {
      "text/plain": [
       "1-element Vector{Int64}:\n",
       " 1"
      ]
     },
     "execution_count": 30,
     "metadata": {},
     "output_type": "execute_result"
    }
   ],
   "source": [
    "state = \"source1_i_L1_a\"\n",
    "idx_of_state = findall(x->occursin(state, x), state_list)\n",
    "idx = idx_of_state"
   ]
  },
  {
   "cell_type": "markdown",
   "id": "9e4c044d",
   "metadata": {},
   "source": [
    "The actions in the grid are also assigned unique IDs, here the sources are sorted in order. The IDs are output via the function `GetActionIds()`."
   ]
  },
  {
   "cell_type": "code",
   "execution_count": 31,
   "id": "6311cdfe",
   "metadata": {},
   "outputs": [
    {
     "data": {
      "text/plain": [
       "3-element Vector{String}:\n",
       " \"source1_u_a\"\n",
       " \"source1_u_b\"\n",
       " \"source1_u_c\""
      ]
     },
     "execution_count": 31,
     "metadata": {},
     "output_type": "execute_result"
    }
   ],
   "source": [
    "GetActionIds(S1_L2)"
   ]
  },
  {
   "cell_type": "code",
   "execution_count": null,
   "id": "bb4503c2",
   "metadata": {},
   "outputs": [],
   "source": []
  }
 ],
 "metadata": {
  "@webio": {
   "lastCommId": "3165f14f0c114d8c8b2a0932fe372c58",
   "lastKernelId": "183939e3-9978-48a7-b995-dbf14899fb07"
  },
  "kernelspec": {
   "display_name": "Julia 1.8.0",
   "language": "julia",
   "name": "julia-1.8"
  },
  "language_info": {
   "file_extension": ".jl",
   "mimetype": "application/julia",
   "name": "julia",
   "version": "1.8.0"
  }
 },
 "nbformat": 4,
 "nbformat_minor": 5
}
