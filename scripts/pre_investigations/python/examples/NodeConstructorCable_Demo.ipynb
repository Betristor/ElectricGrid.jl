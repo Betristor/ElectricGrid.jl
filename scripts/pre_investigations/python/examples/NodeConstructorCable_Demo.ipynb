{
 "cells": [
  {
   "cell_type": "code",
   "execution_count": null,
   "id": "a4380f6b",
   "metadata": {},
   "outputs": [],
   "source": [
    "import control\n",
    "import matplotlib.pyplot as plt\n",
    "import numpy as np"
   ]
  },
  {
   "cell_type": "code",
   "execution_count": null,
   "id": "6e25c597",
   "metadata": {},
   "outputs": [],
   "source": [
    "from dare.utils.nodeconstructorcable import NodeConstructorCable"
   ]
  },
  {
   "cell_type": "code",
   "execution_count": null,
   "id": "0c207109",
   "metadata": {},
   "outputs": [],
   "source": [
    "def generate_sin(num, t, V_eff=230 * np.sqrt(2), f0 = 50):\n",
    "    v = list()\n",
    "    for i in range(num):\n",
    "        v.append(V_eff * np.sin(2*np.pi * f0 * t+i))\n",
    "    out = np.vstack(v)\n",
    "    return out"
   ]
  },
  {
   "cell_type": "markdown",
   "id": "5e0391dc",
   "metadata": {},
   "source": [
    "### Predefined CM"
   ]
  },
  {
   "cell_type": "markdown",
   "id": "e30bdaf0",
   "metadata": {},
   "source": [
    "Using NodeConstructor always requires that the number of sources and loads are defined. If you want to specify a certain structure of the connections, you can pass a CM that describes the connections in the node completely. However, it is important that the number of elements in the node matches the structure specified in CM."
   ]
  },
  {
   "cell_type": "code",
   "execution_count": null,
   "id": "d4bbb4f6",
   "metadata": {},
   "outputs": [],
   "source": [
    "# set up CM\n",
    "\n",
    "CM = np.array([[0, 0, 1],\n",
    "               [0, 0, 2],\n",
    "               [-1, -2, 0]])"
   ]
  },
  {
   "cell_type": "code",
   "execution_count": null,
   "id": "970bddc1",
   "metadata": {},
   "outputs": [],
   "source": []
  },
  {
   "cell_type": "markdown",
   "id": "78c446c4",
   "metadata": {},
   "source": [
    "Here is an intentionally generated error:"
   ]
  },
  {
   "cell_type": "code",
   "execution_count": null,
   "id": "ae6de0a4",
   "metadata": {},
   "outputs": [],
   "source": [
    "NodeConstructorCable(3, 2, CM=CM)"
   ]
  },
  {
   "cell_type": "markdown",
   "id": "d4c76e9a",
   "metadata": {},
   "source": [
    "3 sources and 2 loads add up to 5 elements in the node, but the CM is only designed for 3 elements.  \n",
    "  \n",
    "In the following now a correct definition:"
   ]
  },
  {
   "cell_type": "code",
   "execution_count": null,
   "id": "a7c1ad3a",
   "metadata": {},
   "outputs": [],
   "source": [
    "Grid_S2_L1_2C = NodeConstructorCable(2, 1, CM=CM)"
   ]
  },
  {
   "cell_type": "markdown",
   "id": "111535ff",
   "metadata": {},
   "source": [
    "In this case, the parameters of the node are now generated automatically and randomly."
   ]
  },
  {
   "cell_type": "code",
   "execution_count": null,
   "id": "40c62051",
   "metadata": {},
   "outputs": [],
   "source": [
    "Grid_S2_L1_2C.parameter"
   ]
  },
  {
   "cell_type": "markdown",
   "id": "84b2161b",
   "metadata": {},
   "source": [
    "The parameters of the node are summarized in a dict which contains three keys:"
   ]
  },
  {
   "cell_type": "code",
   "execution_count": null,
   "id": "63d21993",
   "metadata": {},
   "outputs": [],
   "source": [
    "Grid_S2_L1_2C.parameter.keys()"
   ]
  },
  {
   "cell_type": "markdown",
   "id": "009a4792",
   "metadata": {},
   "source": [
    "Behind each of these keys there is a list of the respective elements of the node. Let's look at the sources:"
   ]
  },
  {
   "cell_type": "code",
   "execution_count": null,
   "id": "81849dae",
   "metadata": {},
   "outputs": [],
   "source": [
    "Grid_S2_L1_2C.parameter['source']"
   ]
  },
  {
   "cell_type": "code",
   "execution_count": null,
   "id": "cef14ce5",
   "metadata": {},
   "outputs": [],
   "source": [
    "type(Grid_S2_L1_2C.parameter['source'])"
   ]
  },
  {
   "cell_type": "markdown",
   "id": "929ec9ba",
   "metadata": {},
   "source": [
    "This list of the sources contains dicts, which specify the respective source."
   ]
  },
  {
   "cell_type": "code",
   "execution_count": null,
   "id": "62e5a2a0",
   "metadata": {},
   "outputs": [],
   "source": [
    "Grid_S2_L1_2C.parameter['source'][0]"
   ]
  },
  {
   "cell_type": "markdown",
   "id": "b2bb9b85",
   "metadata": {},
   "source": [
    "### Predefined CM and parameters"
   ]
  },
  {
   "cell_type": "markdown",
   "id": "2f0cf335",
   "metadata": {},
   "source": [
    "Besides the structure, the parameters of the node can be predefined as well. It is important that the previously explained structure is kept. The following code can be used to generate identical values for the elements:"
   ]
  },
  {
   "cell_type": "code",
   "execution_count": null,
   "id": "28c61a67",
   "metadata": {},
   "outputs": [],
   "source": [
    "num_source = 2\n",
    "num_connections = 2\n",
    "num_loads = 1\n",
    "\n",
    "source = dict()\n",
    "cable = dict()\n",
    "load = dict()"
   ]
  },
  {
   "cell_type": "code",
   "execution_count": null,
   "id": "da9a1edf",
   "metadata": {},
   "outputs": [],
   "source": [
    "#LCL-filter\n",
    "\n",
    "source['fltr'] = 'LCL'\n",
    "source['R'] = 10\n",
    "source['L1'] = 5\n",
    "source['L2'] = 10\n",
    "source['C'] = 2\n",
    "\n",
    "#LC-filter\n",
    "\n",
    "# source['fltr'] = 'LC'\n",
    "# source['R'] = 10\n",
    "# source['L1'] = 5\n",
    "# source['C'] = 2"
   ]
  },
  {
   "cell_type": "code",
   "execution_count": null,
   "id": "f6f41038",
   "metadata": {},
   "outputs": [],
   "source": [
    "# load\n",
    "\n",
    "load['R'] = 14"
   ]
  },
  {
   "cell_type": "code",
   "execution_count": null,
   "id": "08b95e79",
   "metadata": {},
   "outputs": [],
   "source": [
    "# cable\n",
    "\n",
    "Rb = 0.722\n",
    "Cb = 8*10**-9\n",
    "Lb = 0.955*10**-3\n",
    "\n",
    "l = 1\n",
    "\n",
    "cable['R'] = l * Rb\n",
    "cable['L'] = l * Lb\n",
    "cable['C'] = l * Cb"
   ]
  },
  {
   "cell_type": "code",
   "execution_count": null,
   "id": "6aac1ab9",
   "metadata": {},
   "outputs": [],
   "source": [
    "source_list = list()\n",
    "cable_list = list()\n",
    "load_list = list()\n",
    "\n",
    "for s in range(1, num_source+1):\n",
    "    source_list.append(source)\n",
    "\n",
    "for c in range(1, num_connections+1):\n",
    "    cable_list.append(cable)\n",
    "\n",
    "for l in range(1, num_loads+1):\n",
    "    load_list.append(load)\n",
    "\n",
    "parameter = dict()\n",
    "parameter['source'] = source_list\n",
    "parameter['cable'] = cable_list\n",
    "parameter['load'] = load_list"
   ]
  },
  {
   "cell_type": "code",
   "execution_count": null,
   "id": "ac1a23a4",
   "metadata": {},
   "outputs": [],
   "source": [
    "Grid_S2_L1_2C = NodeConstructorCable(2, 1, CM=CM, parameter=parameter)"
   ]
  },
  {
   "cell_type": "code",
   "execution_count": null,
   "id": "94d1eabb",
   "metadata": {},
   "outputs": [],
   "source": [
    "A, B, C, D = Grid_S2_L1_2C.get_sys()"
   ]
  },
  {
   "cell_type": "code",
   "execution_count": null,
   "id": "53e5f41b",
   "metadata": {},
   "outputs": [],
   "source": [
    "sys = control.ss(A, B, C, D)"
   ]
  },
  {
   "cell_type": "code",
   "execution_count": null,
   "id": "ae21f58d",
   "metadata": {},
   "outputs": [],
   "source": [
    "# define time vector\n",
    "ts = 1e-4\n",
    "t_end = 0.005\n",
    "steps = int(1/ts)\n",
    "t = np.arange(0, t_end+ts, ts)\n",
    "num_samples = len(t)\n",
    "\n",
    "# generate init state\n",
    "x0 = np.zeros((A.shape[0],1))\n",
    "\n",
    "# simple input signal of constant 230V from all sources\n",
    "u = np.array([230]).repeat(Grid_S2_L1_2C.num_source)[:,None] * np.ones((Grid_S2_L1_2C.num_source,len(t)))\n",
    "\n",
    "T, yout, xout = control.forced_response(sys, T=t, U=u, X0=x0, return_x=True, squeeze=True)\n",
    "\n",
    "plt.plot(t, xout[1], label='$v_1$')\n",
    "plt.xlabel(r'$t\\,/\\,\\mathrm{s}$')\n",
    "plt.ylabel('$v_{\\mathrm{1}}\\,/\\,\\mathrm{V}$')\n",
    "plt.title('Plot current $v_1$')\n",
    "plt.legend()\n",
    "plt.grid()\n",
    "plt.show()"
   ]
  },
  {
   "cell_type": "code",
   "execution_count": null,
   "id": "3a1efa4d",
   "metadata": {},
   "outputs": [],
   "source": []
  },
  {
   "cell_type": "code",
   "execution_count": null,
   "id": "799bad74",
   "metadata": {},
   "outputs": [],
   "source": []
  }
 ],
 "metadata": {
  "kernelspec": {
   "display_name": "Python 3 (ipykernel)",
   "language": "python",
   "name": "python3"
  },
  "language_info": {
   "codemirror_mode": {
    "name": "ipython",
    "version": 3
   },
   "file_extension": ".py",
   "mimetype": "text/x-python",
   "name": "python",
   "nbconvert_exporter": "python",
   "pygments_lexer": "ipython3",
   "version": "3.9.4"
  }
 },
 "nbformat": 4,
 "nbformat_minor": 5
}
