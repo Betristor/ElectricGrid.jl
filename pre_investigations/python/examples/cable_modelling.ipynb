{
 "cells": [
  {
   "cell_type": "code",
   "execution_count": 1,
   "id": "28b46335",
   "metadata": {},
   "outputs": [],
   "source": [
    "%load_ext autoreload\n",
    "%autoreload 2\n",
    "\n",
    "%load_ext line_profiler"
   ]
  },
  {
   "cell_type": "code",
   "execution_count": 2,
   "id": "cb92d846",
   "metadata": {},
   "outputs": [],
   "source": [
    "import numpy as np\n",
    "from dare.utils.nodeconstructor import NodeConstructor\n",
    "import matplotlib.pyplot as plt\n",
    "import scipy\n",
    "import control\n",
    "import copy\n",
    "import networkx as nx\n",
    "import random"
   ]
  },
  {
   "cell_type": "code",
   "execution_count": 64,
   "id": "4e7eb339",
   "metadata": {},
   "outputs": [],
   "source": [
    "# define time vector\n",
    "ts = 1e-4\n",
    "t_end = 0.1\n",
    "steps = int(1/ts)\n",
    "t = np.arange(0, t_end+ts, ts)\n",
    "num_samples = len(t)\n",
    "\n",
    "# define values of the parameter\n",
    "R = 0.4\n",
    "L = 2.3e-3\n",
    "C = 10e-6\n",
    "LT = 2.3e-3\n",
    "RL = 14\n",
    "\n",
    "l=1\n",
    "\n",
    "Rb = l * 0.722\n",
    "Cb = l * 8*10**-9\n",
    "Lb = l * 0.955*10**-3\n",
    "\n",
    "vi1 = 230\n",
    "vi2 = 230\n",
    "\n",
    "f0 = 50\n",
    "V_eff = 230 * np.sqrt(2)\n",
    "\n",
    "v_sin1 = V_eff * np.sin(2*np.pi * f0 * t)\n",
    "v_sin2 = V_eff * np.sin(2*np.pi * f0 * t+1)"
   ]
  },
  {
   "cell_type": "code",
   "execution_count": 65,
   "id": "ce8acecb",
   "metadata": {},
   "outputs": [],
   "source": [
    "u = np.array([vi1, vi2])[:,None] * np.ones((2,len(t)))\n",
    "u_sin = np.array([v_sin1, v_sin2])"
   ]
  },
  {
   "cell_type": "code",
   "execution_count": 66,
   "id": "858ad173",
   "metadata": {},
   "outputs": [],
   "source": [
    "#def varaibles\n",
    "\n",
    "R1 = R\n",
    "L1 = L\n",
    "C1 = C\n",
    "R2 = R\n",
    "L2 = L\n",
    "C2 = C\n",
    "Lb1 = Lb\n",
    "Lb2 = Lb\n",
    "Rb1 = Rb\n",
    "Rb2 = Rb\n",
    "Cb1 = Cb\n",
    "Cb2 = Cb"
   ]
  },
  {
   "cell_type": "code",
   "execution_count": 67,
   "id": "d5250013",
   "metadata": {},
   "outputs": [],
   "source": [
    "i10 = 0\n",
    "v10 = 0\n",
    "iT10 = 0\n",
    "i20 = 0\n",
    "v20 = 0\n",
    "iT20 = 0\n",
    "url1 = 0 \n",
    "t0 = 0\n",
    "\n",
    "# x0 = np.array([i10, v10, iT10, i20, v20, iT20])\n",
    "x0 = [i10, v10, i20, v20, iT10, iT20, url1]"
   ]
  },
  {
   "cell_type": "code",
   "execution_count": 68,
   "id": "a5b81c9a",
   "metadata": {},
   "outputs": [],
   "source": [
    "A_source1 = np.array([[-R1/L1, -1/L1],\n",
    "                     [1/C, 0]])\n",
    "\n",
    "A_source2 = np.array([[-R2/L2, -1/L2],\n",
    "                     [1/C, 0]])\n",
    "\n",
    "A_zeros = np.zeros((2,2))\n",
    "\n",
    "A_source = np.block([[A_source1, A_zeros],\n",
    "                     [A_zeros, A_source2]])"
   ]
  },
  {
   "cell_type": "code",
   "execution_count": 69,
   "id": "fe0d7a2c",
   "metadata": {},
   "outputs": [],
   "source": [
    "A_col1 = np.array([[0,0,0],\n",
    "                   [-1/C1, 0,0]])\n",
    "\n",
    "A_col2 = np.array([[0,0,0],\n",
    "                   [0, -1/C2, 0]])\n",
    "\n",
    "A_col = np.block([[A_col1],\n",
    "                 [A_col2]])"
   ]
  },
  {
   "cell_type": "code",
   "execution_count": 70,
   "id": "b76e396b",
   "metadata": {},
   "outputs": [],
   "source": [
    "A_row1 = np.array([[0, 1/Lb1],\n",
    "                  [0, 0],\n",
    "                  [0, 0]])\n",
    "\n",
    "A_row2 = np.array([[0, 0],\n",
    "                  [0, 1/Lb2],\n",
    "                  [0, 0]])\n",
    "\n",
    "A_row = np.block([A_row1, A_row2])"
   ]
  },
  {
   "cell_type": "code",
   "execution_count": 71,
   "id": "a9d562dc",
   "metadata": {},
   "outputs": [],
   "source": [
    "A_transitions = np.array([[-Rb1/Lb1, 0, -1/Lb1],\n",
    "                          [0, -Rb2/Lb2, -1/Lb2],\n",
    "                          [1/(Cb1+Cb2), 1/(Cb1+Cb2), -1/(RL*(Cb1+Cb2))]])"
   ]
  },
  {
   "cell_type": "code",
   "execution_count": 72,
   "id": "e843e827",
   "metadata": {},
   "outputs": [],
   "source": [
    "A_1 = np.block([[A_source, A_col],\n",
    "              [A_row, A_transitions]])"
   ]
  },
  {
   "cell_type": "code",
   "execution_count": 73,
   "id": "5f44595d",
   "metadata": {},
   "outputs": [
    {
     "data": {
      "text/plain": [
       "(7, 7)"
      ]
     },
     "execution_count": 73,
     "metadata": {},
     "output_type": "execute_result"
    }
   ],
   "source": [
    "A_1.shape"
   ]
  },
  {
   "cell_type": "code",
   "execution_count": 74,
   "id": "93a02717",
   "metadata": {},
   "outputs": [],
   "source": [
    "B_source1 = np.array([[1/L1, 0],\n",
    "                     [0, 0]])\n",
    "B_source2 = np.array([[0, 1/L2],\n",
    "                     [0, 0]])\n",
    "\n",
    "B_transition = np.zeros((3,2))\n",
    "\n",
    "B_1 = np.block([[B_source1],\n",
    "              [B_source2],\n",
    "              [B_transition]])"
   ]
  },
  {
   "cell_type": "code",
   "execution_count": 75,
   "id": "abd4d04a",
   "metadata": {},
   "outputs": [
    {
     "data": {
      "text/plain": [
       "array([[434.7826087,   0.       ],\n",
       "       [  0.       ,   0.       ],\n",
       "       [  0.       , 434.7826087],\n",
       "       [  0.       ,   0.       ],\n",
       "       [  0.       ,   0.       ],\n",
       "       [  0.       ,   0.       ],\n",
       "       [  0.       ,   0.       ]])"
      ]
     },
     "execution_count": 75,
     "metadata": {},
     "output_type": "execute_result"
    }
   ],
   "source": [
    "B_1"
   ]
  },
  {
   "cell_type": "code",
   "execution_count": 76,
   "id": "348b7de2",
   "metadata": {},
   "outputs": [],
   "source": [
    "C_1 = np.eye(7)"
   ]
  },
  {
   "cell_type": "code",
   "execution_count": 77,
   "id": "dc496426",
   "metadata": {},
   "outputs": [],
   "source": [
    "D_1 = 0"
   ]
  },
  {
   "cell_type": "code",
   "execution_count": 78,
   "id": "8edf5241",
   "metadata": {},
   "outputs": [],
   "source": [
    "sys_1 = control.ss(A_1, B_1, C_1, D_1)"
   ]
  },
  {
   "cell_type": "code",
   "execution_count": 79,
   "id": "026a84bd",
   "metadata": {},
   "outputs": [],
   "source": [
    "T, yout, xout = control.forced_response(sys_1, T=t, U=u_sin, X0=x0, return_x=True, squeeze=True)"
   ]
  },
  {
   "cell_type": "code",
   "execution_count": 80,
   "id": "3a339dfa",
   "metadata": {},
   "outputs": [
    {
     "data": {
      "image/png": "[encoded data removed]",
      "text/plain": [
       "<Figure size 432x288 with 1 Axes>"
      ]
     },
     "metadata": {
      "needs_background": "light"
     },
     "output_type": "display_data"
    }
   ],
   "source": [
    "plt.plot(t, xout[1], label='v1')\n",
    "# plt.plot(t,result[:steps,0], label = 'i1')\n",
    "plt.xlabel(r'$t\\,/\\,\\mathrm{s}$')\n",
    "plt.ylabel('$v_{\\mathrm{1}}\\,/\\,\\mathrm{V}$')\n",
    "# plt.title('{}'.format())\n",
    "plt.legend()\n",
    "plt.grid()\n",
    "plt.show()"
   ]
  },
  {
   "cell_type": "code",
   "execution_count": null,
   "id": "42356d43",
   "metadata": {},
   "outputs": [],
   "source": []
  },
  {
   "cell_type": "markdown",
   "id": "526234de",
   "metadata": {},
   "source": [
    "### Erweiterung NodeConstructor"
   ]
  },
  {
   "cell_type": "code",
   "execution_count": 81,
   "id": "31b6d499",
   "metadata": {},
   "outputs": [],
   "source": [
    "parameter = dict()\n",
    "parameter['R_source'] = R\n",
    "parameter['L_source'] = L\n",
    "parameter['C_source'] = C\n",
    "parameter['L_cable'] = Lb\n",
    "parameter['R_cable'] = Rb\n",
    "parameter['C_cable'] = Cb\n",
    "parameter['R_load'] = RL"
   ]
  },
  {
   "cell_type": "code",
   "execution_count": 246,
   "id": "0a79f17f",
   "metadata": {},
   "outputs": [],
   "source": [
    "class NodeConstructor():\n",
    "    \"\"\"Node Constructor implementation.\n",
    "\n",
    "    Helper class for creating a grid structure for scaling purposes. The grid can be defined externally via a so-called CM matrix or randomly generated by the class. The given grid structure is then used to create the ODE equation systems. The output of the equation systems is done via the state space representation with the help of the A, B, C and D matrices. The generated grid can be visualized additionally.\n",
    "\n",
    "    Attributes:\n",
    "        num_source: Number of sources in the grid (1,)\n",
    "        num_loads: Number of loads in the grid (1,)\n",
    "        tot_ele: Total number of objects in the grid (1,)\n",
    "        parameter: Dict which includes the parameters of the components \n",
    "        S2S_p: Probability that a source is connected to a source (1,)\n",
    "        S2L_p: Probability that a source is connected to a load (1,)\n",
    "        num_connections: Number of drawn connections between all objects (1,)\n",
    "        CM: Connection Matrix specifies which objects are linked to each other via which connection (tot_ele, tot_ele)\n",
    "        generate_CM: Function that generates CM randomly. A connection to the network is guaranteed, so that no subnets can occur.\n",
    "        get_sys: Function which outputs the system matrices in the statespace representation\n",
    "        draw_graph: Function which plots a graph based on the CM\n",
    "    \"\"\"\n",
    "    def __init__(self, num_source, num_loads, parameter, S2S_p=0.1, S2L_p=0.8, CM=None):\n",
    "        \"\"\"Creates and initialize a nodeconstructor class instance.\n",
    "\n",
    "        First the parameters are unpacked and then a CM is created, if not passed.\n",
    "\n",
    "        Args:\n",
    "            num_source: Number of sources in the grid (1,)\n",
    "            num_loads: Number of loads in the grid (1,)\n",
    "            parameter: Dict which includes the parameters of the components\n",
    "            S2S_p: Probability that a source is connected to a source (1,)\n",
    "            S2L_p: Probability that a source is connected to a load (1,)\n",
    "            CM: Connection Matrix specifies which objects are linked to each other via which connection (tot_ele, tot_ele)\n",
    "        \n",
    "        \"\"\"\n",
    "        self.num_source = num_source\n",
    "        self.num_loads = num_loads\n",
    "        self.tot_ele = num_source + num_loads\n",
    "        self.S2S_p = S2S_p\n",
    "        self.S2L_p = S2L_p\n",
    "        self.cntr = 0\n",
    "        self.num_connections = 0\n",
    "        \n",
    "        # unpack parameters\n",
    "        self.parameter = parameter\n",
    "        self.R_source = parameter['R_source']\n",
    "        self.L_source = parameter['L_source']\n",
    "        self.C_source = parameter['C_source']\n",
    "        self.R_cable = parameter['R_cable']\n",
    "        self.L_cable = parameter['L_cable']\n",
    "        self.C_cable = parameter['C_cable']\n",
    "        self.R_load = parameter['R_load']\n",
    "        \n",
    "        if isinstance(CM, np.ndarray):\n",
    "            assert CM.shape[0] == self.tot_ele, \"Expect CM to have the same number of elements as tot_ele.\"\n",
    "            self.CM = CM\n",
    "            self.num_connections = int(np.amax(CM))\n",
    "        elif CM == None:\n",
    "            self.generate_CM()\n",
    "        else:\n",
    "            raise f\"Expect CM to be an np.ndarray or None not {type(CM)}.\"\n",
    "    \n",
    "    def tobe_or_n2b(self, x, p):\n",
    "        \"\"\"Sets x based on p to zero or to the value of the counter and increments it.\"\"\"\n",
    "\n",
    "        # To count up the connection, cntr is returned.\n",
    "        # If only one type of cable is used this is not necessary an can be replaced by 1\n",
    "        \n",
    "        if x < p:\n",
    "            self.cntr += 1  \n",
    "            return self.cntr\n",
    "        else:\n",
    "            x = 0\n",
    "            return x\n",
    "    \n",
    "    def count_up(self):\n",
    "        \"\"\"Increment counter\"\"\"\n",
    "\n",
    "        self.cntr += 1\n",
    "        return self.cntr\n",
    "    \n",
    "    def generate_CM(self):\n",
    "        \"\"\"Constructs the CM\n",
    "        \n",
    "        Returns the constructed CM and the total number of connections.\n",
    "        \"\"\"\n",
    "        \n",
    "        # counting the connections \n",
    "        self.cntr = 0\n",
    "\n",
    "        # get a upper triangular matrix\n",
    "        mask = np.tri(self.tot_ele).T\n",
    "        CM = np.random.rand(self.tot_ele,self.tot_ele) * mask # fill matrix with random entries between [0,1]\n",
    "        CM = CM - np.eye(CM.shape[0]) * np.diag(CM) # delet diagonal bc no connection with itself\n",
    "        \n",
    "        # go throught the matrix\n",
    "        # -1 bc last entrie is 0 anyway\n",
    "        for i in range(self.tot_ele-1):\n",
    "\n",
    "            # start at i, bc we need to check only upper triangle\n",
    "            for j in range(i, self.tot_ele-1):\n",
    "                if j >= self.num_source-1: # select propability according to column\n",
    "                    CM[i, j+1] = self.tobe_or_n2b(CM[i, j+1], self.S2L_p)\n",
    "                else:\n",
    "                    CM[i, j+1] = self.tobe_or_n2b(CM[i, j+1], self.S2S_p)\n",
    "        \n",
    "        # make sure that no objects disappear or subnets are formed\n",
    "        for i in range(self.tot_ele):\n",
    "            entries = list()\n",
    "            \n",
    "            # save rows and columns entries\n",
    "            Col = CM[:i,i]\n",
    "            Row = CM[i,i+1:]\n",
    "            \n",
    "            # get one list in the form of: [column, row]-entries\n",
    "            entries.append(CM[:i,i].tolist())\n",
    "            entries.append(CM[i,i+1:].tolist())\n",
    "            entries = [item for sublist in entries for item in sublist]\n",
    "\n",
    "            non_zero = np.sum([entries[i] != 0 for i in range(len(entries))]) # number of non_zero entries\n",
    "            zero = np.sum([entries[i] == 0 for i in range(len(entries))]) # number of zero entries\n",
    "\n",
    "            val_to_set = min(2, zero) # minimum of connections is 2\n",
    "            \n",
    "            if non_zero <= 2: # we need to set values if there are less then 2 entries\n",
    "                idx_list = list() # create list to store indexes\n",
    "                idx_row_entries = np.where(0==Col) # Get rows of the entries = 0\n",
    "                idx_col_entries = np.where(0==Row) # Get col of the entries = 0\n",
    "\n",
    "                idx_row_entries = idx_row_entries[0].tolist()\n",
    "                idx_col_entries = idx_col_entries[0].tolist()\n",
    "\n",
    "                idx_list.append([(j,i) for _,j in enumerate(idx_row_entries)]) \n",
    "                idx_list.append([(i,i+j+1) for _,j in enumerate(idx_col_entries)])\n",
    "                idx_list = [item for sublist in idx_list for item in sublist]\n",
    "                \n",
    "                samples = np.array(val_to_set).clip(0, len(idx_list)) \n",
    "                idx_rnd = random.sample(range(0,len(idx_list)), samples) # draw samples from the list\n",
    "                idx_rnd = np.array(idx_rnd) \n",
    "                \n",
    "                for _, ix in enumerate(idx_rnd):\n",
    "                    # Based on the random sample, select an indize\n",
    "                    # from the list and write into the corresponding CM cell.\n",
    "                    CM[idx_list[ix]] = self.count_up() \n",
    "            \n",
    "        CM = CM - CM.T # copy with negative sign to lower triangle\n",
    "        \n",
    "        # save CM\n",
    "        self.CM = CM\n",
    "        \n",
    "        # save number of connections\n",
    "        self.num_connections = self.cntr\n",
    "        pass\n",
    "        \n",
    "    \n",
    "    def get_A_source(self, source_x):\n",
    "        \"\"\"Create the A_source entry for a source in the A matrix\n",
    "        \n",
    "        Returns:\n",
    "            A_source: Matrix with values belonging to corresponding source (2, 2)\n",
    "        \"\"\"\n",
    "        # this matrix is always a 2x2 for inverter\n",
    "        A_source = np.zeros((2,2))\n",
    "        A_source[0,0] = -self.R_source/self.L_source\n",
    "        A_source[0,1] = -1/self.L_source\n",
    "        \n",
    "        \n",
    "        C_sum =  self.C_source\n",
    "        \n",
    "        CM_row = CM[source_x-1]\n",
    "        indizes = list(CM_row[CM_row != 0])\n",
    "        \n",
    "        for _, idx in enumerate(indizes):\n",
    "            C_sum += self.C_cable # self.C_cable[idx] if diffrent parameters\n",
    "            \n",
    "        A_source[1,0] = C_sum**-1\n",
    "        \n",
    "        return A_source\n",
    "    \n",
    "    def get_B_source(self):\n",
    "        \"\"\"Create the B_source entry for a source in the B matrix\n",
    "        \n",
    "        Return:\n",
    "            B_source: Matrix with values belonging to corresponding source (2, 1)\n",
    "        \"\"\"\n",
    "        B_source = np.zeros((2,1))\n",
    "        B_source[0,0] =  1/self.L_source\n",
    "        return B_source\n",
    "    \n",
    "    def get_A_col(self, source_x):\n",
    "        \"\"\"Create the A_col entry in the A matrix\n",
    "\n",
    "        Return:\n",
    "            A_col: Matrix with the column entries for A (2, num_connections)\n",
    "        \"\"\"\n",
    "\n",
    "        # for this case self.C_source is assumed to be just an int.\n",
    "        # Later self.C_source could be an array with the diffrent paramters and would be indexed via self.C_source[source_x]\n",
    "        \n",
    "        A_col = np.zeros((2, self.num_connections))\n",
    "\n",
    "        CM_row = self.CM[source_x-1]\n",
    "\n",
    "        indizes = list(CM_row[CM_row != 0]) # get entries unequal 0\n",
    "        signs = np.sign(indizes) # get signs\n",
    "        indizes_ = indizes*signs # delet signs from indices\n",
    "        indizes_.astype(dtype=np.int32)\n",
    "\n",
    "\n",
    "        for i, (idx, sign) in enumerate(zip(indizes_, signs)):\n",
    "            idx = int(idx)\n",
    "            C_sum = self.C_source # C[idx] for diffrent values\n",
    "#             print(f'C_sum:{C_sum}')\n",
    "#             print(f'Cb:{Cb}')\n",
    "\n",
    "            for _, jdx in enumerate(indizes):\n",
    "                C_sum += Cb # self.C_cable[jdx] if diffrent parameters\n",
    "\n",
    "\n",
    "#             print(f'C_sum:{C_sum}')\n",
    "#             print(f'C_sum**-1:{C_sum**-1}')\n",
    "            A_col[1,idx-1] = sign * -(C_sum**-1)\n",
    "        return A_col\n",
    "    \n",
    "    def get_A_row(self, source_x):\n",
    "        \"\"\"Create the A_row entry in the A matrix\n",
    "\n",
    "        Return:\n",
    "            A_row: Matrix with the row entries for A (num_connections, 2)\n",
    "        \"\"\"\n",
    "\n",
    "        A_row = np.zeros((2, self.num_connections))\n",
    "        \n",
    "        CM_col = self.CM[source_x-1]\n",
    "        \n",
    "        indizes = list(CM_col[CM_col != 0]) # get entries unequal 0\n",
    "        \n",
    "        signs = np.sign(indizes) # get signs\n",
    "        indizes_ = indizes*signs # delet signs from indices\n",
    "        \n",
    "        for i, (idx, sign) in enumerate(zip(indizes_, signs)):\n",
    "            idx = int(idx)\n",
    "            A_row[1,idx-1] = sign *1/self.L_cable \n",
    "        \n",
    "        return A_row.T\n",
    "    \n",
    "#     def get_A_transitions(self):\n",
    "#         \"\"\"Create the A_transitions entry in the A matrix\n",
    "\n",
    "#         Return:\n",
    "#             A_transitions: Matrix with column entries for A (num_connections, num_connections)\n",
    "#         \"\"\"\n",
    "#         A_transitions = np.zeros((self.num_connections, self.num_connections))\n",
    "#         for i in range(1,self.num_connections+1):\n",
    "#             (row, col) = np.where(self.CM==i)\n",
    "#             (row_idx, col_idx) = (row[0], col[0])\n",
    "            \n",
    "#             # check if its a S2S connection\n",
    "#             if col_idx < self.num_source: # row_idx < self.num_source and \n",
    "                \n",
    "#                 A_transitions[i-1,i-1] = -self.R_cable/self.L_cable # self.R_cable[i] and self.L_cable[i]\n",
    "                \n",
    "#             # Then it has to be S2L\n",
    "#             else:\n",
    "#                 # easy diagonal entry\n",
    "#                 A_transitions[i-1,i-1] = -(self.R_cable + self.R_load)/self.L_cable # (self.R_cable[i] + self.R_load[col_idx])/self.L_cable[i] -> self.R_load[col_idx]? not sure\n",
    "                \n",
    "#                 # search for other connections to this specific load in the colum\n",
    "#                 CM_col = self.CM[:,col_idx]\n",
    "                \n",
    "#                 mask = np.logical_and(CM_col > 0, CM_col != i) # i bc we already cover this case\n",
    "#                 indizes = list(CM_col[mask])\n",
    "                \n",
    "#                 # cross entries for the other connections to this load\n",
    "#                 for j, idx in enumerate(indizes):\n",
    "#                     idx = int(idx)\n",
    "#                     A_transitions[i-1, idx-1] = -self.R_load/self.L_cable # self.L_cable[i] if LT is an arry with diffrent values and self.R_load[col_idx]?\n",
    "        \n",
    "#         return A_transitions\n",
    "\n",
    "    def generate_A_tran_diag(self):\n",
    "        diag = np.eye(self.num_connections)\n",
    "        vec = np.zeros(self.num_connections)[:, None]\n",
    "        for i in range(self.num_connections):\n",
    "            vec[i] = -Rb/Lb #Rb[i]/Lb[i] \n",
    "        A_tran_diag = vec*diag\n",
    "        return A_tran_diag\n",
    "    \n",
    "    def generate_A_load_row(self, load_x):\n",
    "        A_load_row = np.zeros(self.num_connections)\n",
    "\n",
    "        CM_row = CM[(self.num_source+1)-load_x]\n",
    "\n",
    "#         print(CM_row)\n",
    "\n",
    "        indizes = list(CM_row[CM_row != 0]) # get entries unequal 0\n",
    "        signs = np.sign(indizes) # get signs\n",
    "        indizes_ = indizes*signs # delet signs from indices\n",
    "        indizes_.astype(dtype=np.int32)\n",
    "\n",
    "\n",
    "        for _, (idx, sign) in enumerate(zip(indizes_, signs)):\n",
    "            idx = int(idx)\n",
    "            C_sum = 0 # C[idx] for diffrent values\n",
    "#             print(f'C_sum:{C_sum}')\n",
    "#             print(f'Cb:{Cb}')\n",
    "\n",
    "            for _, jdx in enumerate(indizes):\n",
    "                C_sum += self.C_cable # self.C_cable[jdx] if diffrent parameters\n",
    "\n",
    "\n",
    "#             print(f'C_sum:{C_sum}')\n",
    "#             print(f'C_sum**-1:{C_sum**-1}')\n",
    "            A_load_row[idx-1] = sign * -(C_sum**-1)\n",
    "        return A_load_row\n",
    "    \n",
    "#     def get_A_transition(self):\n",
    "#         A_tran_diag = generate_A_tran_diag()\n",
    "#         A_load_col = np.zeros(self.num_loads)\n",
    "        \n",
    "#         for i in range(1, self.num_loads+1):\n",
    "#             A_load_col[i] = generate_A_load_col(i)\n",
    "        \n",
    "#         A_load_row = np.zeros(self.num_loads)[:,None]\n",
    "#         for i in range(1, self.num_loads+1):\n",
    "#             A_load_row[i] = generate_A_load_row(i)\n",
    "            \n",
    "#         A_load_diag = generate_A_load_diag()\n",
    "        \n",
    "#         A_transition = np.block([A_tran_diag, A_load_col],\n",
    "#                                 [A_load_row, A_load_diag])\n",
    "#         return A_transition\n",
    "        \n",
    "    def generate_A_load_col(self, load_x):\n",
    "        A_load_col = np.zeros(self.num_connections)\n",
    "\n",
    "        CM_col = CM[(self.num_source+1)-load_x]\n",
    "\n",
    "        indizes = list(CM_col[CM_col != 0]) # get entries unequal 0\n",
    "\n",
    "        signs = np.sign(indizes) # get signs\n",
    "        indizes_ = indizes*signs # delet signs from indices\n",
    "\n",
    "        for i, (idx, sign) in enumerate(zip(indizes_, signs)):\n",
    "            idx = int(idx)\n",
    "            A_load_col[idx-1] = sign *1/Lb\n",
    "            \n",
    "        return A_load_col\n",
    "    \n",
    "    def generate_A_load_diag(self):\n",
    "        diag = np.eye(self.num_loads)\n",
    "\n",
    "        vec = np.zeros(self.num_loads)\n",
    "        \n",
    "        print(vec.shape)\n",
    "\n",
    "\n",
    "        for i in range(self.num_loads):\n",
    "            print(i)\n",
    "            CM_row = CM[(self.num_source)+i]\n",
    "#             print(CM_row)\n",
    "            indizes = list(CM_row[CM_row != 0])\n",
    "#             print(indizes)\n",
    "            C_sum = 0\n",
    "            for _, (idx, sign) in enumerate(zip(indizes_, signs)):\n",
    "#                 print(idx)\n",
    "                idx = int(idx)\n",
    "                C_sum += self.C_cable  # Cb[idx]\n",
    "\n",
    "            vec[i] = - (self.R_load * (C_sum))**-1 # Rload[i]\n",
    "\n",
    "        A_load_diag = vec*diag\n",
    "        \n",
    "        return A_load_diag\n",
    "\n",
    "    \n",
    "    def generate_A(self):\n",
    "        \"\"\"Generate the A matrix\n",
    "        \n",
    "        The previously constructed matrices are now plugged together in the form:\n",
    "\n",
    "            [[A_source, A_col, 0],\n",
    "            [A_row, A_load_diag, A_load_col],\n",
    "            [0, A_load_row, A_load_diag]]\n",
    "\n",
    "        Returns:\n",
    "            A: A matrix for state space ((2*num_source+num_connections),(2*num_source+num_connections))\n",
    "        \"\"\"\n",
    "        # get A_source\n",
    "        A_source = np.zeros((2*self.num_source,2*self.num_source)) # construct matrix of zeros\n",
    "        A_source_list = [self.get_A_source(i) for i in range(1,self.num_source+1)]\n",
    "                \n",
    "        for i, ele in enumerate(A_source_list):\n",
    "            start = 2*i\n",
    "            stop = 2*i+2\n",
    "            A_source[start:stop,start:stop] = ele\n",
    "        \n",
    "        # get A_col\n",
    "        A_col = np.zeros((2*self.num_source, self.num_connections))\n",
    "        A_col_list = [self.get_A_col(i) for i in range(1,self.num_source+1)] # start at 1 bc Source 1 ...\n",
    "        \n",
    "        for i, ele in enumerate(A_col_list):\n",
    "            start = 2*i\n",
    "            stop = 2*i+2\n",
    "            A_col[start:stop,:] = ele\n",
    "        \n",
    "        # get A_row\n",
    "        A_row = np.zeros((self.num_connections, 2*self.num_source))\n",
    "        A_row_list = [self.get_A_row(i) for i in range(1,self.num_source+1)] # start at 1 bc Source 1 ...\n",
    "        \n",
    "        for i, ele in enumerate(A_row_list):\n",
    "            start = 2*i\n",
    "            stop = 2*i+2\n",
    "            A_row[:,start:stop] = ele\n",
    "            \n",
    "#         A_transitions = self.get_A_transitions()\n",
    "\n",
    "        A_tran_diag = self.generate_A_tran_diag()\n",
    "    \n",
    "        \n",
    "        A_load_col_list = list()\n",
    "        for i in range(self.num_loads):\n",
    "            A_load_col_list.append(self.generate_A_load_col(i+1))\n",
    "        A_load_col = np.vstack(A_load_col_list).transpose() # i-> idx // i+1 -> num of load\n",
    "        \n",
    "        print(A_load_col)\n",
    "        print(A_load_col.shape)\n",
    "        \n",
    "        A_load_row_list = list()\n",
    "        for i in range(self.num_loads):\n",
    "            A_load_row_list.append(self.generate_A_load_row(i+1))\n",
    "        A_load_row = np.vstack(A_load_row_list)\n",
    "        \n",
    "        print(A_load_row)\n",
    "        print(A_load_row.shape)\n",
    "        \n",
    "        A_load_diag = self.generate_A_load_diag()\n",
    "        \n",
    "#         A_transition = np.block([A_tran_diag, A_load_col],\n",
    "#                                 [A_load_row, A_load_diag])\n",
    "        \n",
    "        A_load_zeros = np.zeros((2*self.num_source, self.num_loads))\n",
    "        \n",
    "        A_load_zeros_t = A_load_zeros.transpose()\n",
    "        \n",
    "        print(f\"A_source.shape: {A_source.shape}\")\n",
    "        print(f\"A_col.shape: {A_col.shape}\")\n",
    "        print(f\"A_load_zeros.shape: {A_load_zeros.shape}\")\n",
    "        print(f\"A_row.shape: {A_row.shape}\")\n",
    "        print(f\"A_tran_diag.shape: {A_tran_diag.shape}\")\n",
    "        print(f\"A_load_col.shape: {A_load_col.shape}\")\n",
    "        print(f\"A_load_zeros_t.shape: {A_load_zeros_t.shape}\")\n",
    "        print(f\"A_load_row.shape: {A_load_row.shape}\")\n",
    "        print(f\"A_load_diag.shape: {A_load_diag.shape}\")\n",
    "        \n",
    "        A = np.block([[A_source, A_col, A_load_zeros],\n",
    "                     [A_row, A_tran_diag, A_load_col],\n",
    "                     [A_load_zeros_t, A_load_row, A_load_diag]])\n",
    "        \n",
    "        return A\n",
    "    \n",
    "    def generate_B(self):\n",
    "        \"\"\"Generate the B matrix\n",
    "        \n",
    "        The previously constructed matrices are now plugged together in the form:\n",
    "\n",
    "            [[B_source,        0, ...,         0],\n",
    "             [       0, B_source, ...,         0],\n",
    "             [       0,        0, ...,         0],\n",
    "             [       0,        0, ...,  B_source]]\n",
    "\n",
    "        Returns:\n",
    "            B: B matrix for state space (2*num_source+num_connections,num_source)\n",
    "\n",
    "        \"\"\"\n",
    "        B = np.zeros((2*self.num_source+self.num_connections,self.num_source))\n",
    "        \n",
    "        B_source_list = [self.get_B_source() for i in range(1,self.num_source+1)] # start at 1 bc Source 1 ...\n",
    "        for i, ele in enumerate(B_source_list):\n",
    "#             start_c = i\n",
    "#             stop_c = i+1\n",
    "            start_r = 2*i\n",
    "            stop_r = 2*i+2\n",
    "            B[start_r:stop_r,i:i+1] = ele\n",
    "        return B\n",
    "    \n",
    "    def generate_C(self):\n",
    "        \"\"\"Generate the C matrix\n",
    "        \n",
    "        Retruns:\n",
    "            C: Identity matrix (2*num_source+num_connections)\n",
    "        \"\"\"\n",
    "        return np.eye(2*self.num_source+self.num_connections)\n",
    "    \n",
    "    def generate_D(self):\n",
    "        \"\"\"Generate the D vector\n",
    "        \n",
    "        Retruns:\n",
    "            0: Zero vector (2*num_source+num_connections)\n",
    "        \"\"\"\n",
    "        return 0\n",
    "    \n",
    "    def get_sys(self):\n",
    "        \"\"\"Returns state space matrices\"\"\"\n",
    "\n",
    "        A = self.generate_A()\n",
    "        B = self.generate_B()\n",
    "        C = self.generate_C()\n",
    "        D = self.generate_D()\n",
    "        return (A, B, C, D)\n",
    "    \n",
    "    def draw_graph(self):\n",
    "        \"\"\"Plots a graph according to the CM matrix\n",
    "        \n",
    "        Red nodes corresponse to a source.\n",
    "        Lightblue nodes corresponse to a load.\n",
    "        \"\"\"\n",
    "        \n",
    "        edges = []\n",
    "        color = []\n",
    "        for i in range(1, self.num_connections+1):\n",
    "            (row, col) = np.where(self.CM==i)\n",
    "            (row_idx, col_idx) = (row[0]+1, col[0]+1)\n",
    "            edges.append((row_idx, col_idx))\n",
    "            if row_idx <= self.num_source:\n",
    "                color.append('red')\n",
    "            else:\n",
    "                color.append('blue')\n",
    "        \n",
    "        G = nx.Graph(edges)\n",
    "        \n",
    "        color_map = []\n",
    "\n",
    "        for node in G:\n",
    "            if node <= self.num_source:\n",
    "                color_map.append('red')\n",
    "            else:\n",
    "                color_map.append('lightblue')\n",
    "\n",
    "        nx.draw(G, node_color=color_map, with_labels = True)\n",
    "        plt.show()\n",
    "        \n",
    "        pass"
   ]
  },
  {
   "cell_type": "code",
   "execution_count": 247,
   "id": "86477ea6",
   "metadata": {},
   "outputs": [],
   "source": [
    "Grid_FC = NodeConstructor(2, 1, parameter, S2S_p=1, S2L_p=1)"
   ]
  },
  {
   "cell_type": "code",
   "execution_count": 248,
   "id": "cc0e09a0",
   "metadata": {
    "scrolled": true
   },
   "outputs": [
    {
     "name": "stdout",
     "output_type": "stream",
     "text": [
      "[[    0.        ]\n",
      " [-1047.12041885]\n",
      " [-1047.12041885]]\n",
      "(3, 1)\n",
      "[[       0.         62499999.99999999 62499999.99999999]]\n",
      "(1, 3)\n",
      "(1,)\n",
      "0\n",
      "A_source.shape: (4, 4)\n",
      "A_col.shape: (4, 3)\n",
      "A_load_zeros.shape: (4, 1)\n",
      "A_row.shape: (3, 4)\n",
      "A_tran_diag.shape: (3, 3)\n",
      "A_load_col.shape: (3, 1)\n",
      "A_load_zeros_t.shape: (1, 4)\n",
      "A_load_row.shape: (1, 3)\n",
      "A_load_diag.shape: (1, 1)\n"
     ]
    },
    {
     "data": {
      "text/plain": [
       "(array([[-1.73913043e+02, -4.34782609e+02,  0.00000000e+00,\n",
       "          0.00000000e+00,  0.00000000e+00,  0.00000000e+00,\n",
       "          0.00000000e+00,  0.00000000e+00],\n",
       "        [ 9.98402556e+04,  0.00000000e+00,  0.00000000e+00,\n",
       "          0.00000000e+00, -9.98402556e+04, -9.98402556e+04,\n",
       "          0.00000000e+00,  0.00000000e+00],\n",
       "        [ 0.00000000e+00,  0.00000000e+00, -1.73913043e+02,\n",
       "         -4.34782609e+02,  0.00000000e+00,  0.00000000e+00,\n",
       "          0.00000000e+00,  0.00000000e+00],\n",
       "        [ 0.00000000e+00,  0.00000000e+00,  9.98402556e+04,\n",
       "          0.00000000e+00,  9.98402556e+04,  0.00000000e+00,\n",
       "         -9.98402556e+04,  0.00000000e+00],\n",
       "        [ 0.00000000e+00,  1.04712042e+03,  0.00000000e+00,\n",
       "         -1.04712042e+03, -7.56020942e+02, -0.00000000e+00,\n",
       "         -0.00000000e+00,  0.00000000e+00],\n",
       "        [ 0.00000000e+00,  1.04712042e+03,  0.00000000e+00,\n",
       "          0.00000000e+00, -0.00000000e+00, -7.56020942e+02,\n",
       "         -0.00000000e+00, -1.04712042e+03],\n",
       "        [ 0.00000000e+00,  0.00000000e+00,  0.00000000e+00,\n",
       "          1.04712042e+03, -0.00000000e+00, -0.00000000e+00,\n",
       "         -7.56020942e+02, -1.04712042e+03],\n",
       "        [ 0.00000000e+00,  0.00000000e+00,  0.00000000e+00,\n",
       "          0.00000000e+00,  0.00000000e+00,  6.25000000e+07,\n",
       "          6.25000000e+07, -4.46428571e+06]]),\n",
       " array([[434.7826087,   0.       ],\n",
       "        [  0.       ,   0.       ],\n",
       "        [  0.       , 434.7826087],\n",
       "        [  0.       ,   0.       ],\n",
       "        [  0.       ,   0.       ],\n",
       "        [  0.       ,   0.       ],\n",
       "        [  0.       ,   0.       ]]),\n",
       " array([[1., 0., 0., 0., 0., 0., 0.],\n",
       "        [0., 1., 0., 0., 0., 0., 0.],\n",
       "        [0., 0., 1., 0., 0., 0., 0.],\n",
       "        [0., 0., 0., 1., 0., 0., 0.],\n",
       "        [0., 0., 0., 0., 1., 0., 0.],\n",
       "        [0., 0., 0., 0., 0., 1., 0.],\n",
       "        [0., 0., 0., 0., 0., 0., 1.]]),\n",
       " 0)"
      ]
     },
     "execution_count": 248,
     "metadata": {},
     "output_type": "execute_result"
    }
   ],
   "source": [
    "Grid_FC.get_sys()"
   ]
  },
  {
   "cell_type": "code",
   "execution_count": 249,
   "id": "405bd503",
   "metadata": {},
   "outputs": [
    {
     "data": {
      "text/plain": [
       "array([[ -173.91304348,  -434.7826087 ],\n",
       "       [99840.25559105,     0.        ]])"
      ]
     },
     "execution_count": 249,
     "metadata": {},
     "output_type": "execute_result"
    }
   ],
   "source": []
  },
  {
   "cell_type": "code",
   "execution_count": 22,
   "id": "902a60cc",
   "metadata": {},
   "outputs": [],
   "source": [
    "num_connections = 3"
   ]
  },
  {
   "cell_type": "code",
   "execution_count": 188,
   "id": "f6e44c14",
   "metadata": {},
   "outputs": [],
   "source": [
    "X = np.ones((3,1))"
   ]
  },
  {
   "cell_type": "code",
   "execution_count": 189,
   "id": "b3e17d56",
   "metadata": {},
   "outputs": [],
   "source": [
    "Y= np.zeros((3,1))"
   ]
  },
  {
   "cell_type": "code",
   "execution_count": 212,
   "id": "f440beb8",
   "metadata": {},
   "outputs": [
    {
     "data": {
      "text/plain": [
       "array([[0., 0., 0.],\n",
       "       [0., 1., 0.],\n",
       "       [0., 0., 2.]])"
      ]
     },
     "execution_count": 212,
     "metadata": {},
     "output_type": "execute_result"
    }
   ],
   "source": [
    "np.arange(3)*np.eye(3)"
   ]
  },
  {
   "cell_type": "code",
   "execution_count": 23,
   "id": "b20443c6",
   "metadata": {},
   "outputs": [],
   "source": [
    "CM = np.array([[0,1,2],\n",
    "              [-1,0,3],\n",
    "              [-2,-3,0]])"
   ]
  },
  {
   "cell_type": "code",
   "execution_count": 24,
   "id": "772424ab",
   "metadata": {},
   "outputs": [
    {
     "data": {
      "text/plain": [
       "array([[ 0,  1,  2],\n",
       "       [-1,  0,  3],\n",
       "       [-2, -3,  0]])"
      ]
     },
     "execution_count": 24,
     "metadata": {},
     "output_type": "execute_result"
    }
   ],
   "source": [
    "CM"
   ]
  },
  {
   "cell_type": "code",
   "execution_count": 45,
   "id": "bf93261f",
   "metadata": {},
   "outputs": [],
   "source": [
    "source_x=1"
   ]
  },
  {
   "cell_type": "code",
   "execution_count": 46,
   "id": "b45f4e4f",
   "metadata": {},
   "outputs": [],
   "source": [
    "CM_row = CM[source_x-1]"
   ]
  },
  {
   "cell_type": "code",
   "execution_count": 39,
   "id": "63c476ad",
   "metadata": {},
   "outputs": [
    {
     "data": {
      "text/plain": [
       "[-1, 3]"
      ]
     },
     "execution_count": 39,
     "metadata": {},
     "output_type": "execute_result"
    }
   ],
   "source": [
    "list(CM_row[CM_row != 0])"
   ]
  },
  {
   "cell_type": "code",
   "execution_count": 40,
   "id": "4c78ae7e",
   "metadata": {},
   "outputs": [],
   "source": []
  },
  {
   "cell_type": "code",
   "execution_count": 41,
   "id": "0e15d194",
   "metadata": {},
   "outputs": [
    {
     "data": {
      "text/plain": [
       "array([[1., 0., 0.],\n",
       "       [0., 1., 0.],\n",
       "       [0., 0., 1.]])"
      ]
     },
     "execution_count": 41,
     "metadata": {},
     "output_type": "execute_result"
    }
   ],
   "source": [
    "diag"
   ]
  },
  {
   "cell_type": "code",
   "execution_count": null,
   "id": "5eeb861a",
   "metadata": {},
   "outputs": [],
   "source": [
    "diag = np.eye(num_connections)\n",
    "vec = np.zeros(num_connections)[:, None]\n",
    "for i in range(num_connections):\n",
    "    vec[i] = -Rb/Lb #Rb[i]/Lb[i] \n",
    "A_tran_diag = vec*diag"
   ]
  },
  {
   "cell_type": "code",
   "execution_count": 127,
   "id": "97652b82",
   "metadata": {},
   "outputs": [],
   "source": []
  },
  {
   "cell_type": "code",
   "execution_count": 129,
   "id": "51799def",
   "metadata": {},
   "outputs": [
    {
     "data": {
      "text/plain": [
       "(3, 1)"
      ]
     },
     "execution_count": 129,
     "metadata": {},
     "output_type": "execute_result"
    }
   ],
   "source": [
    "A_tran_diag.shape"
   ]
  },
  {
   "cell_type": "code",
   "execution_count": 86,
   "id": "439d27f3",
   "metadata": {},
   "outputs": [],
   "source": [
    "num_source = 2"
   ]
  },
  {
   "cell_type": "code",
   "execution_count": 96,
   "id": "d170ece1",
   "metadata": {},
   "outputs": [],
   "source": [
    "num_loads = 1"
   ]
  },
  {
   "cell_type": "code",
   "execution_count": 97,
   "id": "e8fcad16",
   "metadata": {},
   "outputs": [],
   "source": [
    "load_x = 1"
   ]
  },
  {
   "cell_type": "code",
   "execution_count": null,
   "id": "c47def0b",
   "metadata": {},
   "outputs": [],
   "source": [
    "A_load_row = np.zeros(self.num_connections)\n",
    "\n",
    "CM_row = CM[(self.num_source+1)-load_x]\n",
    "\n",
    "print(CM_row)\n",
    "\n",
    "indizes = list(CM_row[CM_row != 0]) # get entries unequal 0\n",
    "signs = np.sign(indizes) # get signs\n",
    "indizes_ = indizes*signs # delet signs from indices\n",
    "indizes_.astype(dtype=np.int32)\n",
    "\n",
    "for _, (idx, sign) in enumerate(zip(indizes_, signs)):\n",
    "    idx = int(idx)\n",
    "    C_sum = 0 # C[idx] for diffrent values\n",
    "    print(f'C_sum:{C_sum}')\n",
    "    print(f'Cb:{Cb}')\n",
    "\n",
    "    for _, jdx in enumerate(indizes):\n",
    "        C_sum += self.C_cable # self.C_cable[jdx] if diffrent parameters\n",
    "\n",
    "\n",
    "    print(f'C_sum:{C_sum}')\n",
    "    print(f'C_sum**-1:{C_sum**-1}')\n",
    "    A_load_row[idx-1] = sign * -(C_sum**-1)"
   ]
  },
  {
   "cell_type": "code",
   "execution_count": 114,
   "id": "dc7dc925",
   "metadata": {},
   "outputs": [
    {
     "name": "stdout",
     "output_type": "stream",
     "text": [
      "[-2 -3  0]\n",
      "2\n",
      "3\n"
     ]
    }
   ],
   "source": [
    "A_load_row = np.zeros(num_connections)\n",
    "\n",
    "CM_col = CM[(num_source+1)-load_x]\n",
    "\n",
    "print(CM_col)\n",
    "\n",
    "indizes = list(CM_col[CM_col != 0]) # get entries unequal 0\n",
    "\n",
    "signs = np.sign(indizes) # get signs\n",
    "indizes_ = indizes*signs # delet signs from indices\n",
    "\n",
    "for i, (idx, sign) in enumerate(zip(indizes_, signs)):\n",
    "    print(idx)\n",
    "    idx = int(idx)\n",
    "    A_load_row[idx-1] = sign *1/Lb \n",
    "\n",
    "    "
   ]
  },
  {
   "cell_type": "code",
   "execution_count": 108,
   "id": "26e11c5c",
   "metadata": {},
   "outputs": [
    {
     "data": {
      "text/plain": [
       "array([    0.        , -1047.12041885, -1047.12041885])"
      ]
     },
     "execution_count": 108,
     "metadata": {},
     "output_type": "execute_result"
    }
   ],
   "source": [
    "A_load_row"
   ]
  },
  {
   "cell_type": "code",
   "execution_count": 125,
   "id": "fe657e3d",
   "metadata": {},
   "outputs": [
    {
     "name": "stdout",
     "output_type": "stream",
     "text": [
      "[-2 -3  0]\n",
      "[-2, -3]\n",
      "2\n",
      "3\n"
     ]
    }
   ],
   "source": [
    "diag = np.eye(num_loads)\n",
    "\n",
    "vec = np.zeros(num_loads)[:, None]\n",
    "\n",
    "\n",
    "\n",
    "print(CM_row)\n",
    "\n",
    "for i in range(num_loads):\n",
    "    CM_row = CM[(num_source+1)-load_x]\n",
    "    indizes = list(CM_row[CM_row != 0])\n",
    "    print(indizes)\n",
    "    C_sum = 0\n",
    "    for _, (idx, sign) in enumerate(zip(indizes_, signs)):\n",
    "        print(idx)\n",
    "        idx = int(idx)\n",
    "        C_sum += Cb  # Cb[idx]\n",
    "    \n",
    "    vec[i] = - (RL * (C_sum))**-1\n",
    "\n",
    "A_load_diag = vec*diag"
   ]
  },
  {
   "cell_type": "code",
   "execution_count": 130,
   "id": "1a28bab9",
   "metadata": {},
   "outputs": [
    {
     "data": {
      "text/plain": [
       "()"
      ]
     },
     "execution_count": 130,
     "metadata": {},
     "output_type": "execute_result"
    }
   ],
   "source": [
    "A_load_diag.shape"
   ]
  },
  {
   "cell_type": "code",
   "execution_count": 142,
   "id": "3cf8ccc7",
   "metadata": {},
   "outputs": [],
   "source": [
    "A = np.zeros((3,3)).squeeze()\n",
    "B = np.zeros((3,1)).squeeze()\n",
    "C = np.zeros((3,1)).squeeze()\n",
    "D = 1"
   ]
  },
  {
   "cell_type": "code",
   "execution_count": 143,
   "id": "8f17d52a",
   "metadata": {},
   "outputs": [
    {
     "ename": "ValueError",
     "evalue": "all the input array dimensions for the concatenation axis must match exactly, but along dimension 0, the array at index 0 has size 3 and the array at index 1 has size 1",
     "output_type": "error",
     "traceback": [
      "\u001b[1;31m---------------------------------------------------------------------------\u001b[0m",
      "\u001b[1;31mValueError\u001b[0m                                Traceback (most recent call last)",
      "\u001b[1;32m~\\AppData\\Local\\Temp/ipykernel_14044/3316283599.py\u001b[0m in \u001b[0;36m<module>\u001b[1;34m\u001b[0m\n\u001b[1;32m----> 1\u001b[1;33m np.block([[A, B],\n\u001b[0m\u001b[0;32m      2\u001b[0m         [C, D]])\n",
      "\u001b[1;32m<__array_function__ internals>\u001b[0m in \u001b[0;36mblock\u001b[1;34m(*args, **kwargs)\u001b[0m\n",
      "\u001b[1;32mc:\\users\\marvin\\appdata\\local\\programs\\python\\python39\\lib\\site-packages\\numpy\\core\\shape_base.py\u001b[0m in \u001b[0;36mblock\u001b[1;34m(arrays)\u001b[0m\n\u001b[0;32m    848\u001b[0m         \u001b[1;32mreturn\u001b[0m \u001b[0m_block_slicing\u001b[0m\u001b[1;33m(\u001b[0m\u001b[0marrays\u001b[0m\u001b[1;33m,\u001b[0m \u001b[0mlist_ndim\u001b[0m\u001b[1;33m,\u001b[0m \u001b[0mresult_ndim\u001b[0m\u001b[1;33m)\u001b[0m\u001b[1;33m\u001b[0m\u001b[1;33m\u001b[0m\u001b[0m\n\u001b[0;32m    849\u001b[0m     \u001b[1;32melse\u001b[0m\u001b[1;33m:\u001b[0m\u001b[1;33m\u001b[0m\u001b[1;33m\u001b[0m\u001b[0m\n\u001b[1;32m--> 850\u001b[1;33m         \u001b[1;32mreturn\u001b[0m \u001b[0m_block_concatenate\u001b[0m\u001b[1;33m(\u001b[0m\u001b[0marrays\u001b[0m\u001b[1;33m,\u001b[0m \u001b[0mlist_ndim\u001b[0m\u001b[1;33m,\u001b[0m \u001b[0mresult_ndim\u001b[0m\u001b[1;33m)\u001b[0m\u001b[1;33m\u001b[0m\u001b[1;33m\u001b[0m\u001b[0m\n\u001b[0m\u001b[0;32m    851\u001b[0m \u001b[1;33m\u001b[0m\u001b[0m\n\u001b[0;32m    852\u001b[0m \u001b[1;33m\u001b[0m\u001b[0m\n",
      "\u001b[1;32mc:\\users\\marvin\\appdata\\local\\programs\\python\\python39\\lib\\site-packages\\numpy\\core\\shape_base.py\u001b[0m in \u001b[0;36m_block_concatenate\u001b[1;34m(arrays, list_ndim, result_ndim)\u001b[0m\n\u001b[0;32m    892\u001b[0m \u001b[1;33m\u001b[0m\u001b[0m\n\u001b[0;32m    893\u001b[0m \u001b[1;32mdef\u001b[0m \u001b[0m_block_concatenate\u001b[0m\u001b[1;33m(\u001b[0m\u001b[0marrays\u001b[0m\u001b[1;33m,\u001b[0m \u001b[0mlist_ndim\u001b[0m\u001b[1;33m,\u001b[0m \u001b[0mresult_ndim\u001b[0m\u001b[1;33m)\u001b[0m\u001b[1;33m:\u001b[0m\u001b[1;33m\u001b[0m\u001b[1;33m\u001b[0m\u001b[0m\n\u001b[1;32m--> 894\u001b[1;33m     \u001b[0mresult\u001b[0m \u001b[1;33m=\u001b[0m \u001b[0m_block\u001b[0m\u001b[1;33m(\u001b[0m\u001b[0marrays\u001b[0m\u001b[1;33m,\u001b[0m \u001b[0mlist_ndim\u001b[0m\u001b[1;33m,\u001b[0m \u001b[0mresult_ndim\u001b[0m\u001b[1;33m)\u001b[0m\u001b[1;33m\u001b[0m\u001b[1;33m\u001b[0m\u001b[0m\n\u001b[0m\u001b[0;32m    895\u001b[0m     \u001b[1;32mif\u001b[0m \u001b[0mlist_ndim\u001b[0m \u001b[1;33m==\u001b[0m \u001b[1;36m0\u001b[0m\u001b[1;33m:\u001b[0m\u001b[1;33m\u001b[0m\u001b[1;33m\u001b[0m\u001b[0m\n\u001b[0;32m    896\u001b[0m         \u001b[1;31m# Catch an edge case where _block returns a view because\u001b[0m\u001b[1;33m\u001b[0m\u001b[1;33m\u001b[0m\u001b[1;33m\u001b[0m\u001b[0m\n",
      "\u001b[1;32mc:\\users\\marvin\\appdata\\local\\programs\\python\\python39\\lib\\site-packages\\numpy\\core\\shape_base.py\u001b[0m in \u001b[0;36m_block\u001b[1;34m(arrays, max_depth, result_ndim, depth)\u001b[0m\n\u001b[0;32m    659\u001b[0m     \"\"\"\n\u001b[0;32m    660\u001b[0m     \u001b[1;32mif\u001b[0m \u001b[0mdepth\u001b[0m \u001b[1;33m<\u001b[0m \u001b[0mmax_depth\u001b[0m\u001b[1;33m:\u001b[0m\u001b[1;33m\u001b[0m\u001b[1;33m\u001b[0m\u001b[0m\n\u001b[1;32m--> 661\u001b[1;33m         arrs = [_block(arr, max_depth, result_ndim, depth+1)\n\u001b[0m\u001b[0;32m    662\u001b[0m                 for arr in arrays]\n\u001b[0;32m    663\u001b[0m         \u001b[1;32mreturn\u001b[0m \u001b[0m_concatenate\u001b[0m\u001b[1;33m(\u001b[0m\u001b[0marrs\u001b[0m\u001b[1;33m,\u001b[0m \u001b[0maxis\u001b[0m\u001b[1;33m=\u001b[0m\u001b[1;33m-\u001b[0m\u001b[1;33m(\u001b[0m\u001b[0mmax_depth\u001b[0m\u001b[1;33m-\u001b[0m\u001b[0mdepth\u001b[0m\u001b[1;33m)\u001b[0m\u001b[1;33m)\u001b[0m\u001b[1;33m\u001b[0m\u001b[1;33m\u001b[0m\u001b[0m\n",
      "\u001b[1;32mc:\\users\\marvin\\appdata\\local\\programs\\python\\python39\\lib\\site-packages\\numpy\\core\\shape_base.py\u001b[0m in \u001b[0;36m<listcomp>\u001b[1;34m(.0)\u001b[0m\n\u001b[0;32m    659\u001b[0m     \"\"\"\n\u001b[0;32m    660\u001b[0m     \u001b[1;32mif\u001b[0m \u001b[0mdepth\u001b[0m \u001b[1;33m<\u001b[0m \u001b[0mmax_depth\u001b[0m\u001b[1;33m:\u001b[0m\u001b[1;33m\u001b[0m\u001b[1;33m\u001b[0m\u001b[0m\n\u001b[1;32m--> 661\u001b[1;33m         arrs = [_block(arr, max_depth, result_ndim, depth+1)\n\u001b[0m\u001b[0;32m    662\u001b[0m                 for arr in arrays]\n\u001b[0;32m    663\u001b[0m         \u001b[1;32mreturn\u001b[0m \u001b[0m_concatenate\u001b[0m\u001b[1;33m(\u001b[0m\u001b[0marrs\u001b[0m\u001b[1;33m,\u001b[0m \u001b[0maxis\u001b[0m\u001b[1;33m=\u001b[0m\u001b[1;33m-\u001b[0m\u001b[1;33m(\u001b[0m\u001b[0mmax_depth\u001b[0m\u001b[1;33m-\u001b[0m\u001b[0mdepth\u001b[0m\u001b[1;33m)\u001b[0m\u001b[1;33m)\u001b[0m\u001b[1;33m\u001b[0m\u001b[1;33m\u001b[0m\u001b[0m\n",
      "\u001b[1;32mc:\\users\\marvin\\appdata\\local\\programs\\python\\python39\\lib\\site-packages\\numpy\\core\\shape_base.py\u001b[0m in \u001b[0;36m_block\u001b[1;34m(arrays, max_depth, result_ndim, depth)\u001b[0m\n\u001b[0;32m    661\u001b[0m         arrs = [_block(arr, max_depth, result_ndim, depth+1)\n\u001b[0;32m    662\u001b[0m                 for arr in arrays]\n\u001b[1;32m--> 663\u001b[1;33m         \u001b[1;32mreturn\u001b[0m \u001b[0m_concatenate\u001b[0m\u001b[1;33m(\u001b[0m\u001b[0marrs\u001b[0m\u001b[1;33m,\u001b[0m \u001b[0maxis\u001b[0m\u001b[1;33m=\u001b[0m\u001b[1;33m-\u001b[0m\u001b[1;33m(\u001b[0m\u001b[0mmax_depth\u001b[0m\u001b[1;33m-\u001b[0m\u001b[0mdepth\u001b[0m\u001b[1;33m)\u001b[0m\u001b[1;33m)\u001b[0m\u001b[1;33m\u001b[0m\u001b[1;33m\u001b[0m\u001b[0m\n\u001b[0m\u001b[0;32m    664\u001b[0m     \u001b[1;32melse\u001b[0m\u001b[1;33m:\u001b[0m\u001b[1;33m\u001b[0m\u001b[1;33m\u001b[0m\u001b[0m\n\u001b[0;32m    665\u001b[0m         \u001b[1;31m# We've 'bottomed out' - arrays is either a scalar or an array\u001b[0m\u001b[1;33m\u001b[0m\u001b[1;33m\u001b[0m\u001b[1;33m\u001b[0m\u001b[0m\n",
      "\u001b[1;31mValueError\u001b[0m: all the input array dimensions for the concatenation axis must match exactly, but along dimension 0, the array at index 0 has size 3 and the array at index 1 has size 1"
     ]
    }
   ],
   "source": [
    "np.block([[A, B],\n",
    "        [C, D]])"
   ]
  },
  {
   "cell_type": "code",
   "execution_count": null,
   "id": "96a00f46",
   "metadata": {},
   "outputs": [],
   "source": []
  }
 ],
 "metadata": {
  "kernelspec": {
   "display_name": "Python 3 (ipykernel)",
   "language": "python",
   "name": "python3"
  },
  "language_info": {
   "codemirror_mode": {
    "name": "ipython",
    "version": 3
   },
   "file_extension": ".py",
   "mimetype": "text/x-python",
   "name": "python",
   "nbconvert_exporter": "python",
   "pygments_lexer": "ipython3",
   "version": "3.9.4"
  }
 },
 "nbformat": 4,
 "nbformat_minor": 5
}
