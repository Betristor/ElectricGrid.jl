{
 "cells": [
  {
   "cell_type": "code",
   "execution_count": null,
   "id": "64f22894",
   "metadata": {},
   "outputs": [],
   "source": [
    "using DrWatson\n",
    "@quickactivate \"dare\"\n",
    "\n",
    "using ReinforcementLearning\n",
    "using IntervalSets\n",
    "using LinearAlgebra\n",
    "using ControlSystems\n",
    "using CUDA\n",
    "\n",
    "include(srcdir(\"nodeconstructor.jl\"))\n",
    "include(srcdir(\"env.jl\"));"
   ]
  },
  {
   "cell_type": "code",
   "execution_count": null,
   "id": "4208e077",
   "metadata": {},
   "outputs": [],
   "source": [
    "CM = [0.0  1.0\n",
    " -1.0  0.0]\n",
    "\n",
    "parameters = Dict()\n",
    "source_list = []\n",
    "\n",
    "source = Dict()\n",
    "\n",
    "source[\"pwr\"] = 45000.0\n",
    "source[\"v_rip\"] = 0.01556109320329396\n",
    "source[\"vdc\"] = 750\n",
    "source[\"i_rip\"] = 0.10108821490394984\n",
    "source[\"fltr\"] = \"LCL\"\n",
    "source[\"R1\"] = 0.4022094955070556\n",
    "source[\"R2\"] = 0.4022094955070556\n",
    "source[\"R_C\"] = 0.0006447094780419011\n",
    "source[\"L1\"] = 0.001005523738767639\n",
    "source[\"L2\"] = 0.001005523738767639\n",
    "source[\"C\"] = 2.302533850149647e-5;\n",
    "\n",
    "push!(source_list, source);\n",
    "\n",
    "load_list = []\n",
    "load = Dict()\n",
    "\n",
    "load[\"impedance\"] = \"RLC\"\n",
    "load[\"R\"] = 30236.0;\n",
    "load[\"L\"] = 57.042;\n",
    "load[\"C\"] = 39.18;\n",
    "push!(load_list, load);\n",
    "\n",
    "cable_list = []\n",
    "\n",
    "cable = Dict()\n",
    "cable[\"R\"] = 6.84059\n",
    "cable[\"L\"] = 0.00250127\n",
    "cable[\"C\"] = 3.7898e-6;\n",
    "push!(cable_list, cable);\n",
    "\n",
    "parameters[\"source\"] = source_list\n",
    "parameters[\"cable\"] = cable_list\n",
    "parameters[\"load\"] = load_list;\n",
    "parameters[\"grid\"] = Dict(\"fs\" => 10000.0, \"phase\" => 1, \"v_rms\" => 230);"
   ]
  },
  {
   "cell_type": "code",
   "execution_count": null,
   "id": "49443215",
   "metadata": {},
   "outputs": [],
   "source": [
    "parameters"
   ]
  },
  {
   "cell_type": "code",
   "execution_count": null,
   "id": "50f47dd6",
   "metadata": {},
   "outputs": [],
   "source": [
    "nc = NodeConstructor(num_sources=1, num_loads=1, parameters=parameters, CM=CM);"
   ]
  },
  {
   "cell_type": "code",
   "execution_count": null,
   "id": "66d96870",
   "metadata": {},
   "outputs": [],
   "source": [
    "A, B, C, D = get_sys(nc);"
   ]
  },
  {
   "cell_type": "code",
   "execution_count": null,
   "id": "4a723f70",
   "metadata": {},
   "outputs": [],
   "source": [
    "limits = Dict(\"i_lim\" => 20, \"v_lim\" => 600)"
   ]
  },
  {
   "cell_type": "code",
   "execution_count": null,
   "id": "c38302ec",
   "metadata": {},
   "outputs": [],
   "source": [
    "states = get_states(nc)\n",
    "norm_array = []\n",
    "for state_name in states\n",
    "    if startswith(state_name, \"i\")\n",
    "        push!(norm_array, limits[\"i_lim\"])\n",
    "    elseif startswith(state_name, \"u\")\n",
    "        push!(norm_array, limits[\"v_lim\"])\n",
    "    end\n",
    "end"
   ]
  },
  {
   "cell_type": "code",
   "execution_count": null,
   "id": "4efdd8e0",
   "metadata": {},
   "outputs": [],
   "source": [
    "norm_array"
   ]
  },
  {
   "cell_type": "code",
   "execution_count": null,
   "id": "36da2a6d",
   "metadata": {},
   "outputs": [],
   "source": [
    "ns = length(A[1,:])\n",
    "na = length(B[1,:])"
   ]
  },
  {
   "cell_type": "code",
   "execution_count": null,
   "id": "4e79af13",
   "metadata": {},
   "outputs": [],
   "source": [
    "# time step\n",
    "ts = 1e-5\n",
    "V_source = 300"
   ]
  },
  {
   "cell_type": "code",
   "execution_count": null,
   "id": "7ac7889b",
   "metadata": {},
   "outputs": [],
   "source": [
    "x0 = [ 0.0 for i = 1:length(A[1,:]) ]\n",
    "Ad = exp(A*ts)\n",
    "Bd = A \\ (Ad - C) * B"
   ]
  },
  {
   "cell_type": "code",
   "execution_count": null,
   "id": "423c5b3c",
   "metadata": {},
   "outputs": [],
   "source": [
    "env = SimEnv(A=A, B=B, C=C, Ad=Ad, Bd=Bd, norm_array=norm_array, x0=x0, v_dc=V_source, ts=rationalize(ts), convert_state_to_cpu=true);"
   ]
  },
  {
   "cell_type": "code",
   "execution_count": null,
   "id": "66cc523f",
   "metadata": {},
   "outputs": [],
   "source": [
    "env.reward = reward_func(\"Power_exp\", env)"
   ]
  },
  {
   "cell_type": "code",
   "execution_count": null,
   "id": "de1af3a7",
   "metadata": {},
   "outputs": [],
   "source": [
    "state(env)"
   ]
  },
  {
   "cell_type": "code",
   "execution_count": null,
   "id": "5b6abfaf",
   "metadata": {},
   "outputs": [],
   "source": [
    "policy = RandomPolicy(action_space(env))"
   ]
  },
  {
   "cell_type": "code",
   "execution_count": null,
   "id": "fd25547e",
   "metadata": {},
   "outputs": [],
   "source": [
    "[policy(env) for _ in 1:10]"
   ]
  },
  {
   "cell_type": "code",
   "execution_count": null,
   "id": "ef5a2fdf",
   "metadata": {},
   "outputs": [],
   "source": [
    "run(policy, env)"
   ]
  },
  {
   "cell_type": "code",
   "execution_count": null,
   "id": "9efe4df9",
   "metadata": {},
   "outputs": [],
   "source": [
    "state(env)"
   ]
  },
  {
   "cell_type": "code",
   "execution_count": null,
   "id": "7453da2d",
   "metadata": {},
   "outputs": [],
   "source": [
    "reset!(env)"
   ]
  },
  {
   "cell_type": "code",
   "execution_count": null,
   "id": "10d27b34",
   "metadata": {},
   "outputs": [],
   "source": [
    "env(-1)"
   ]
  },
  {
   "cell_type": "code",
   "execution_count": null,
   "id": "88655363",
   "metadata": {},
   "outputs": [],
   "source": [
    "u[0] = 230"
   ]
  },
  {
   "cell_type": "code",
   "execution_count": null,
   "id": "8c530d07",
   "metadata": {},
   "outputs": [],
   "source": []
  }
 ],
 "metadata": {
  "kernelspec": {
   "display_name": "Julia 1.7.2",
   "language": "julia",
   "name": "julia-1.7"
  },
  "language_info": {
   "file_extension": ".jl",
   "mimetype": "application/julia",
   "name": "julia",
   "version": "1.7.2"
  }
 },
 "nbformat": 4,
 "nbformat_minor": 5
}
