{
 "cells": [
  {
   "cell_type": "markdown",
   "metadata": {},
   "source": [
    "# __Classical Controllers Demonstration__"
   ]
  },
  {
   "cell_type": "markdown",
   "metadata": {},
   "source": [
    "Getting the script set up. Remember to run:\n",
    "1) activate .\n",
    "2) instantiate"
   ]
  },
  {
   "cell_type": "code",
   "execution_count": 1,
   "metadata": {},
   "outputs": [],
   "source": [
    "using DrWatson\n",
    "@quickactivate \"dare\"\n",
    "\n",
    "using Plots\n",
    "using LinearAlgebra\n",
    "using FFTW\n",
    "using ControlSystems\n",
    "using ReinforcementLearning\n",
    "using IntervalSets\n",
    "using CUDA\n",
    "\n",
    "include(srcdir(\"Classical_Control.jl\"));\n",
    "include(srcdir(\"Power_System_Theory.jl\"));\n",
    "include(srcdir(\"Classical_Control_Plots.jl\"));\n",
    "include(srcdir(\"nodeconstructor.jl\"));\n",
    "include(srcdir(\"env.jl\"));"
   ]
  },
  {
   "cell_type": "markdown",
   "metadata": {},
   "source": [
    "_______________________________________________________________________________\n",
    "## Parameters - Time simulation\n",
    "\n",
    "Here we set the simulation time step, which is the inverse of both the sampling and switching frequencies."
   ]
  },
  {
   "cell_type": "code",
   "execution_count": 2,
   "metadata": {},
   "outputs": [],
   "source": [
    "Timestep = 100; #time step in μs ~ 100μs => 10kHz, 50μs => 20kHz, 20μs => 50kHz\n",
    "t_final = 1.5; #time in seconds, total simulation run time\n",
    "\n",
    "#_______________________________________________________________________________\n",
    "# Environment Calcs\n",
    "Nps = (1/(Timestep*1e-6)); # time intervals\n",
    "μps = 1/Nps; # time step\n",
    "t = 0:μps:t_final; # time\n",
    "\n",
    "f_cntr = 1/μps; # Hz, Sampling frequency of controller ~ 15 kHz -> 50kHz"
   ]
  },
  {
   "cell_type": "markdown",
   "metadata": {},
   "source": [
    "_______________________________________________________________________________\n",
    "## Classical Source Settings\n",
    "\n",
    "We have to specify the number of classically controllable sources their power parameters. Each source represents a three-phase half-bridge power electronic converter, which is electricallly modelled as an ideal voltage source connected to a network through a filter. \n",
    "\n",
    "All sources may be given a delay in integer values of the simulation time interval. Typically the delay can be considered to be 1.5 sampling time steps. While the controller is automatically designed for 1.5 x μps, the half is not something that can be simulated in this toolbox.\n",
    "\n",
    "Each source may be run in one of a number of modes. The mode selection is stored in a dictionary found within the mutable struct (a julia object). If you don't feel like typing in the full string, you may specify the mode by just passing throught the corresponding index.<br>\n",
    "\n",
    ">1. \"Voltage Control Mode\" - controls the output voltage to nominal (e.g. 230 V rms)<br>\n",
    ">2. \"PQ Control Mode\" - controls the output real and imaginary powers to nominal<br>\n",
    ">3. \"Droop Control Mode\" - a higher level voltage control mode with dynamic power balancing<br>\n",
    ">4. \"Synchronverter Mode\" - mimics a virtual synchronous generator<br>\n",
    ">5. \"Swing Mode\" - no control, just creates a sinusoidal output voltage\n",
    "\n",
    "The controllers typically follow a nested control strategy with an inner PI current control loop, followed by an outer PI voltage control mode. The Kp and Ki values are automatically tuned through the LoopShaping method. Some of the modes may have additional tuning parameters. For example, the Droop control mode and Synchronverter Mode have droop coefficients which are tuned given the maximum drop in frequency and maximum drop in rms voltage. For the Synchronverter mode we also have the time constants which determine the virtual inertia of the inverter."
   ]
  },
  {
   "cell_type": "code",
   "execution_count": null,
   "metadata": {},
   "outputs": [],
   "source": [
    "#_______________________________________________________________________________\n",
    "# Setting up the Sources\n",
    "\n",
    "num_sources = 2;\n",
    "\n",
    "Source = Source_Controller(t_final, f_cntr, num_sources, delay = 1);\n",
    "\n",
    "#=\n",
    "    Typical values for the frequency droop are a 100% increase in power for a\n",
    "    frequency decrease between 3% and 5% (from nominal values)\n",
    "=#\n",
    "\n",
    "Source.Δfmax = 0.03*50/100; # The drop in frequency, Hz, which will cause a 100% increase in active power\n",
    "Source.ΔEmax = 0.05*230/100; # The drop in rms voltage, which will cause a 100% decrease in reactive power\n",
    "τ = 1.0;\n",
    "\n",
    "Source.τv = τ; # time constant of the voltage loop\n",
    "Source.τf = τ;\n",
    "\n",
    "Mode_Keys = collect(keys(Source.Modes));\n",
    "\n",
    "Source_Initialiser(Source, Mode_Keys[3], num_source = 1, Prated = 150e3);\n",
    "Source_Initialiser(Source, \"PQ Control Mode\", num_source = 2, Prated = 100e3, Qrated = 20e3);"
   ]
  },
  {
   "cell_type": "markdown",
   "metadata": {},
   "source": [
    "_______________________________________________________________________________\n",
    "## Environment (Electrical Network) Settings\n",
    "\n",
    "Now we have to tell our simulation what the network looks like. For example, the connectivity (graph topology), the cable impedances, and the loads.\n",
    "\n",
    "Currently, there is only one option available. Two sources connected to a load. The load has an inductive and a capacitive component that can be specified separately."
   ]
  },
  {
   "cell_type": "code",
   "execution_count": null,
   "metadata": {},
   "outputs": [],
   "source": [
    "#_______________________________________________________________________________\n",
    "# Circuit Elements Calcs\n",
    "\n",
    "num_loads = 1;\n",
    "\n",
    "# Load 1 Impedance\n",
    "Vo_rms = 230; # rms output voltage\n",
    "\n",
    "SL1 = 75e3; # VA, 3-ph Apparent Power\n",
    "pf1 = 0.6; # power factor\n",
    "SL2 = 50e3; # VA, 3-ph Apparent Power\n",
    "pf2 = -0.9999; # power factor\n",
    "\n",
    "# Network Cable Impedances\n",
    "l = 0.5 # length in km\n",
    "Lt1 = 0.0024*l # H, line inductance\n",
    "Lt2 = 0.0024*l\n",
    "Rt1 = 0.222*l # Ω, line resistance\n",
    "Rt2 = 0.222*l\n",
    "\n",
    "#_______________________________________________________________________________\n",
    "# State space representation\n",
    "A, B, C, D, B2, D2 = Two_Sources_One_Load(Source, Vo_rms, SL1, pf1, SL2, pf2, Lt1, Lt2, Rt1, Rt2)\n",
    "\n",
    "Env = Environment(t_final, μps, A, B, C, D, num_sources, num_loads)\n",
    "Env.V_poc_loc = [3 4; 11 12; 19 20]; # ID's at which nodes the are sources located\n",
    "Env.I_poc_loc = [5 6; 13 14; 21 22];\n",
    "Env.I_inv_loc = [1 2; 9 10; 17 18];"
   ]
  },
  {
   "cell_type": "markdown",
   "metadata": {},
   "source": [
    "_______________________________________________________________________________\n",
    "## Running the Time Domain Simulation\n",
    "\n",
    "Note that half way through the simulation the power set point of the 2nd source changes. The source transitions from generating to absorbing real power."
   ]
  },
  {
   "cell_type": "code",
   "execution_count": null,
   "metadata": {},
   "outputs": [],
   "source": [
    "\n",
    "for i in 1:Env.N-1\n",
    "\n",
    "    Measurements(Env); # measuring powers, and rms values\n",
    "\n",
    "    # Control System _______________________________________________________\n",
    "\n",
    "    if t[i] > t_final/2\n",
    "        Source.pq0_set[2,:] = [-50e3; 10e3; 0]; # changing power set points of 2nd source\n",
    "    end\n",
    "\n",
    "    #-----------------------------------------------------------------------\n",
    "\n",
    "    Action = Classical_Policy(Source, Env); # calculating the actions to be performed by the sources.\n",
    "\n",
    "    # System Dynamics ______________________________________________________\n",
    "\n",
    "    Evolution(Env, Action);\n",
    "\n",
    "end\n"
   ]
  },
  {
   "cell_type": "markdown",
   "metadata": {},
   "source": [
    "_______________________________________________________________________________\n",
    "## Plotting the Results"
   ]
  },
  {
   "cell_type": "code",
   "execution_count": null,
   "metadata": {},
   "outputs": [],
   "source": [
    "Plot_I_dq0(10, 5000, Source, Env, num_source = 2)\n",
    "\n",
    "#Plot_V_dq0(10, 5000, Source, Env, num_source = 2)\n",
    "\n",
    "Inst_Vout_Vref(0, 50, Source, Env, num_node = 2, num_source = 2)\n",
    "\n",
    "Inst_Iout_Iref(0, 50, Source, Env, num_source = 2, num_node = 2)\n",
    "\n",
    "Plot_PLL(0, 500, Source, Env, num_source = 2, ph = 2)\n",
    "\n",
    "Plot_Irms(0, 5000, Env, num_node = 2)\n",
    "\n",
    "Plot_Vrms(0, 5000, Env, Source, num_node = 1, num_source = 1)\n",
    "Plot_Vrms(0, 5000, Env, Source, num_node = 2, num_source = 2)\n",
    "\n",
    "Plot_Real_Imag_Active_Reactive(10, 5000, Env, Source, num_node = 1, num_source = 1)\n",
    "Plot_Real_Imag_Active_Reactive(10, 5000, Env, Source, num_node = 2, num_source = 2)\n",
    "\n",
    "#Plot_fft(0, 1, Env, Source, num_node = 2, num_source = 2)"
   ]
  },
  {
   "cell_type": "code",
   "execution_count": null,
   "metadata": {},
   "outputs": [],
   "source": []
  }
 ],
 "metadata": {
  "kernelspec": {
   "display_name": "Julia 1.7.2",
   "language": "julia",
   "name": "julia-1.7"
  },
  "language_info": {
   "file_extension": ".jl",
   "mimetype": "application/julia",
   "name": "julia",
   "version": "1.7.2"
  },
  "vscode": {
   "interpreter": {
    "hash": "77fa586337b96eece9c55e46754526368717afeb3fb3c8ebd1dc061a7e168173"
   }
  }
 },
 "nbformat": 4,
 "nbformat_minor": 2
}
