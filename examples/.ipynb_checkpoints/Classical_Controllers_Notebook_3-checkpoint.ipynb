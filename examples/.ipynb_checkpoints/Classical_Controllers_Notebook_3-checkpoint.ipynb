{
 "cells": [
  {
   "cell_type": "markdown",
   "metadata": {},
   "source": [
    "# __Classical Controllers Demonstration__\n",
    "...........o0o----ooo0o0ooo~~~  *Start*  ~~~ooo0o0ooo----o0o..........."
   ]
  },
  {
   "cell_type": "markdown",
   "metadata": {},
   "source": [
    "Getting the script set up. Remember to run:\n",
    "1) activate .\n",
    "2) instantiate"
   ]
  },
  {
   "cell_type": "code",
   "execution_count": 1,
   "metadata": {},
   "outputs": [],
   "source": [
    "using DrWatson;\n",
    "@quickactivate \"dare\";\n",
    "\n",
    "using Plots;\n",
    "using LinearAlgebra;\n",
    "using FFTW;\n",
    "using ControlSystems;\n",
    "using ReinforcementLearning;\n",
    "using IntervalSets;\n",
    "using CUDA;\n",
    "\n",
    "include(srcdir(\"Classical_Control.jl\"));\n",
    "include(srcdir(\"Power_System_Theory.jl\"));\n",
    "include(srcdir(\"Classical_Control_Plots.jl\"));\n",
    "include(srcdir(\"nodeconstructor.jl\"));\n",
    "include(srcdir(\"env.jl\"));"
   ]
  },
  {
   "cell_type": "markdown",
   "metadata": {},
   "source": [
    "_______________________________________________________________________________\n",
    "## Parameters - Time simulation\n",
    "\n",
    "Here we set the simulation time step, which is the inverse of both the sampling and switching frequencies. Also we specify the number of classically controllable sources and the loads and their power parameters."
   ]
  },
  {
   "cell_type": "code",
   "execution_count": 2,
   "metadata": {},
   "outputs": [],
   "source": [
    "Timestep = 100; #time step in μs ~ 100μs => 10kHz, 50μs => 20kHz, 20μs => 50kHz\n",
    "t_final = 1.5; #time in seconds, total simulation run time\n",
    "\n",
    "num_sources = 2;\n",
    "num_loads = 1;\n",
    "\n",
    "# Load 1 Impedance\n",
    "Vo_rms = 230; # rms output voltage\n",
    "\n",
    "SL1 = 75e3; # VA, 3-ph Apparent Power\n",
    "pf1 = 0.6; # power factor\n",
    "SL2 = 50e3; # VA, 3-ph Apparent Power\n",
    "pf2 = -0.9999; # power factor\n",
    "\n",
    "#_______________________________________________________________________________\n",
    "# Environment Calcs\n",
    "Nps = (1/(Timestep*1e-6)); # time intervals\n",
    "μps = 1/Nps; # time step\n",
    "t = 0:μps:t_final; # time\n",
    "\n",
    "f_cntr = 1/μps; # Hz, Sampling frequency of controller ~ 15 kHz -> 50kHz"
   ]
  },
  {
   "cell_type": "markdown",
   "metadata": {},
   "source": [
    "_______________________________________________________________________________\n",
    "## Classical Source Settings\n",
    "\n",
    "Each source represents a three-phase half-bridge power electronic converter, which is electricallly modelled as an ideal voltage source connected to a network through a filter.\n",
    "\n",
    "Each source may be run in one of a number of modes. The mode selection is stored in a dictionary found within the mutable struct (a julia object). If you don't feel like typing in the full string, you may specify the mode by just passing throught the corresponding index.<br>\n",
    "\n",
    ">1. \"Voltage Control Mode\" - controls the output voltage to nominal (e.g. 230 V rms)<br>\n",
    ">2. \"PQ Control Mode\" - controls the output real and imaginary powers to nominal<br>\n",
    ">3. \"Droop Control Mode\" - a higher level voltage control mode with dynamic power balancing<br>\n",
    ">4. \"Synchronverter Mode\" - mimics a virtual synchronous generator<br>\n",
    ">5. \"Swing Mode\" - no control, just creates a sinusoidal output voltage\n"
   ]
  },
  {
   "cell_type": "code",
   "execution_count": 3,
   "metadata": {},
   "outputs": [
    {
     "name": "stdout",
     "output_type": "stream",
     "text": [
      "\n",
      "Error. Voltage Controller with Positive Poles.\n",
      "Source = 1\n",
      "\n",
      "\n",
      "Error. Voltage Controller with Positive Poles.\n",
      "Source = 2\n",
      "\n"
     ]
    }
   ],
   "source": [
    "#_______________________________________________________________________________\n",
    "# Setting up the Sources\n",
    "Source = Source_Controller(t_final, f_cntr, num_sources, delay = 1);\n",
    "\n",
    "#=\n",
    "    Typical values for the frequency droop are a 100% increase in power for a\n",
    "    frequency decrease between 3% and 5% (from nominal values)\n",
    "=#\n",
    "\n",
    "Source.Δfmax = 0.03*50/100; # The drop in frequency, Hz, which will cause a 100% increase in active power\n",
    "Source.ΔEmax = 0.05*230/100; # The drop in rms voltage, which will cause a 100% decrease in reactive power\n",
    "τ = 1.0;\n",
    "\n",
    "Source.τv = τ; # time constant of the voltage loop\n",
    "Source.τf = τ;\n",
    "\n",
    "Mode_Keys = collect(keys(Source.Modes));\n",
    "\n",
    "Source_Initialiser(Source, Mode_Keys[3], num_source = 1, Prated = 150e3);\n",
    "Source_Initialiser(Source, Mode_Keys[3], num_source = 2, Prated = 100e3);"
   ]
  },
  {
   "cell_type": "markdown",
   "metadata": {},
   "source": [
    "_______________________________________________________________________________\n",
    "## Environment (Electrical Network) Settings\n",
    "\n",
    "Now we have to tell our simulation what the network looks like. For example, the connectivity (graph topology) and the cable impedances."
   ]
  },
  {
   "cell_type": "code",
   "execution_count": 4,
   "metadata": {},
   "outputs": [],
   "source": [
    "#_______________________________________________________________________________\n",
    "# Circuit Elements Calcs\n",
    "\n",
    "# Network Cable Impedances\n",
    "l = 0.5; # length in km\n",
    "Lt1 = 0.0024*l; # H, line inductance\n",
    "Lt2 = 0.0024*l;\n",
    "Rt1 = 0.222*l; # Ω, line resistance\n",
    "Rt2 = 0.222*l;\n",
    "\n",
    "#_______________________________________________________________________________\n",
    "# State space representation\n",
    "A, B, C, D, B2, D2 = Two_Sources_One_Load(Source, Vo_rms, SL1, pf1, SL2, pf2, Lt1, Lt2, Rt1, Rt2);\n",
    "\n",
    "Env = Environment(t_final, μps, A, B, C, D, num_sources, num_loads);\n",
    "Env.V_poc_loc = [3 4; 11 12; 19 20]; # ID's at which nodes the are sources located\n",
    "Env.I_poc_loc = [5 6; 13 14; 21 22];\n",
    "Env.I_inv_loc = [1 2; 9 10; 17 18];"
   ]
  },
  {
   "cell_type": "markdown",
   "metadata": {},
   "source": [
    "_______________________________________________________________________________\n",
    "## Running the Time Domain Simulation"
   ]
  },
  {
   "cell_type": "code",
   "execution_count": null,
   "metadata": {},
   "outputs": [
    {
     "name": "stdout",
     "output_type": "stream",
     "text": [
      "\n",
      "Here we go.\n",
      "\n",
      "Progress : 0.0 %\n",
      "Progress : 10.0 %\n",
      "Progress : 20.0 %\n",
      "Progress : 30.0 %\n",
      "Progress : 40.0 %\n",
      "Progress : 50.0 %\n",
      "Progress : 60.0 %\n",
      "Progress : 70.0 %\n"
     ]
    }
   ],
   "source": [
    "#%% Starting time simulation\n",
    "println(\"\\nHere we go.\\n\");\n",
    "\n",
    "@time begin\n",
    "\n",
    "    println(\"Progress : 0.0 %\");\n",
    "\n",
    "    for i in 1:Env.N-1\n",
    "\n",
    "        # Progress Bar\n",
    "        if i > 1 && floor((10*t[i]/t_final)) != floor((10*t[i - 1]/t_final))\n",
    "            flush(stdout);\n",
    "            println(\"Progress : \", 10*floor((10*t[i]/t_final)), \" %\");\n",
    "        end\n",
    "\n",
    "        # Environment __________________________________________________________\n",
    "\n",
    "        Measurements(Env);\n",
    "\n",
    "        # Control System _______________________________________________________\n",
    "\n",
    "        if t[i] > 10*t_final/2\n",
    "            pq0 = [50e3; 10e3; 0];\n",
    "        else\n",
    "            pq0 = [Source.P[2]; Source.Q[2]; 0];\n",
    "        end\n",
    "\n",
    "        #-----------------------------------------------------------------------\n",
    "\n",
    "        Action = Classical_Policy(Source, Env);\n",
    "\n",
    "        Phase_Locked_Loop_3ph(Source, 1);\n",
    "        Phase_Locked_Loop_1ph(Source, 2, Kp = 0.5, Ki = 5, ph = 1);\n",
    "        Phase_Locked_Loop_1ph(Source, 2, Kp = 0.5, Ki = 5, ph = 2);\n",
    "        Phase_Locked_Loop_1ph(Source, 2, Kp = 0.5, Ki = 5, ph = 3);\n",
    "\n",
    "        # System Dynamics ______________________________________________________\n",
    "\n",
    "        Evolution(Env, Action);\n",
    "\n",
    "    end\n",
    "\n",
    "    println(\"Progress : 100.0 %\\n\");\n",
    "end"
   ]
  },
  {
   "cell_type": "markdown",
   "metadata": {},
   "source": [
    "_______________________________________________________________________________\n",
    "## Plotting the Results"
   ]
  },
  {
   "cell_type": "code",
   "execution_count": null,
   "metadata": {},
   "outputs": [],
   "source": [
    "#%% Plots\n",
    "\n",
    "Plot_I_dq0(0, 5000, Source, Env, num_source = 2);\n",
    "\n",
    "Plot_V_dq0(0, 5000, Source, Env, num_source = 2);\n",
    "\n",
    "Inst_Vout_Vref(0, 50, Source, Env, num_node = 1, num_source = 1);\n",
    "\n",
    "Inst_Iout_Iref(0, 50, Source, Env, num_source = 2, num_node = 2);\n",
    "\n",
    "Plot_PLL(0, 500, Source, Env, num_source = 2, ph = 2);\n",
    "\n",
    "Plot_Irms(0, 5000, Env, num_node = 1);\n",
    "\n",
    "Plot_Vrms(0, 5000, Env, Source, num_node = 1, num_source = 1);\n",
    "Plot_Vrms(0, 5000, Env, Source, num_node = 2, num_source = 2);\n",
    "\n",
    "#Plot_Real_Imag_Active_Reactive(0, 5000, Env, Source, num_node = 1, num_source = 1)\n",
    "Plot_Real_Imag_Active_Reactive(0, 5000, Env, Source, num_node = 2, num_source = 2);\n",
    "\n",
    "#Plot_fft(0, 1, Env, Source, num_node = 2, num_source = 2)"
   ]
  },
  {
   "cell_type": "markdown",
   "metadata": {},
   "source": [
    "...........o0o----ooo0o0ooo~~~  *Fin*  ~~~ooo0o0ooo----o0o..........."
   ]
  },
  {
   "cell_type": "code",
   "execution_count": null,
   "metadata": {},
   "outputs": [],
   "source": []
  }
 ],
 "metadata": {
  "kernelspec": {
   "display_name": "Julia 1.7.2",
   "language": "julia",
   "name": "julia-1.7"
  },
  "language_info": {
   "file_extension": ".jl",
   "mimetype": "application/julia",
   "name": "julia",
   "version": "1.7.2"
  },
  "vscode": {
   "interpreter": {
    "hash": "77fa586337b96eece9c55e46754526368717afeb3fb3c8ebd1dc061a7e168173"
   }
  }
 },
 "nbformat": 4,
 "nbformat_minor": 2
}
