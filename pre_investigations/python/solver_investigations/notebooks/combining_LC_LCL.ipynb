{
 "cells": [
  {
   "cell_type": "code",
   "execution_count": null,
   "id": "09c44dac",
   "metadata": {},
   "outputs": [],
   "source": [
    "%load_ext autoreload\n",
    "%autoreload 2\n",
    "\n",
    "%load_ext line_profiler"
   ]
  },
  {
   "cell_type": "code",
   "execution_count": null,
   "id": "4b899033",
   "metadata": {},
   "outputs": [],
   "source": [
    "import numpy as np\n",
    "from dare.utils.nodeconstructorcable import NodeConstructorCable\n",
    "import matplotlib.pyplot as plt\n",
    "import scipy\n",
    "import control\n",
    "import copy\n",
    "import networkx as nx\n",
    "import random"
   ]
  },
  {
   "cell_type": "code",
   "execution_count": null,
   "id": "25a565cb",
   "metadata": {},
   "outputs": [],
   "source": [
    "def generate_sin(num, t, V_eff=230 * np.sqrt(2), f0 = 50):\n",
    "    v = list()\n",
    "    for i in range(num):\n",
    "        v.append(V_eff * np.sin(2*np.pi * f0 * t+i))\n",
    "    out = np.vstack(v)\n",
    "    return out"
   ]
  },
  {
   "cell_type": "code",
   "execution_count": null,
   "id": "18b6b36c",
   "metadata": {},
   "outputs": [],
   "source": [
    "CM = np.array([[0,1,3],\n",
    "              [-1,0,2],\n",
    "              [-3,-2,0]])"
   ]
  },
  {
   "cell_type": "code",
   "execution_count": null,
   "id": "3d38347f",
   "metadata": {},
   "outputs": [],
   "source": [
    "parameter['source'][0]['fltr']='LC'"
   ]
  },
  {
   "cell_type": "code",
   "execution_count": null,
   "id": "377b9f09",
   "metadata": {},
   "outputs": [],
   "source": [
    "Grid_FC = NodeConstructorCable(2, 1, CM=CM)"
   ]
  },
  {
   "cell_type": "code",
   "execution_count": null,
   "id": "250cca14",
   "metadata": {},
   "outputs": [],
   "source": [
    "Grid_FC.parameter"
   ]
  },
  {
   "cell_type": "code",
   "execution_count": null,
   "id": "69ad8277",
   "metadata": {},
   "outputs": [],
   "source": [
    "def cntr_fltr(source_list):\n",
    "    \n",
    "    cntr_LCL=0\n",
    "    cntr_LC=0\n",
    "    cntr_L=0\n",
    "    \n",
    "    for _, source in enumerate(source_list):\n",
    "        if source['fltr'] == 'LCL':\n",
    "            cntr_LCL+=1\n",
    "        elif source['fltr'] == 'LC':\n",
    "            cntr_LC+=1\n",
    "        elif source['fltr'] == 'L':\n",
    "            cntr_L+=1\n",
    "    return (cntr_LCL, cntr_LC, cntr_L)\n",
    "            "
   ]
  },
  {
   "cell_type": "code",
   "execution_count": null,
   "id": "e6a0af2e",
   "metadata": {},
   "outputs": [],
   "source": [
    "LCL, LC, L = cntr_fltr(source_list)"
   ]
  },
  {
   "cell_type": "code",
   "execution_count": null,
   "id": "bd7f949b",
   "metadata": {},
   "outputs": [],
   "source": [
    "LCL, LC, L"
   ]
  },
  {
   "cell_type": "code",
   "execution_count": null,
   "id": "0c678f91",
   "metadata": {},
   "outputs": [],
   "source": [
    "Grid_FC = NodeConstructorCable(6, 6)\n",
    "A, B, C, D = Grid_FC.get_sys()\n",
    "sys = control.ss(A, B, C, D)\n",
    "\n",
    "# define time vector\n",
    "ts = 1e-4\n",
    "t_end = 0.1\n",
    "steps = int(1/ts)\n",
    "t = np.arange(0, t_end+ts, ts)\n",
    "num_samples = len(t)\n",
    "\n",
    "# generate init state\n",
    "x0 = np.zeros((A.shape[0],1))\n",
    "\n",
    "# simple input signal of constant 230V from all sources\n",
    "u = generate_sin(Grid_FC.num_source, t, f0=50)\n",
    "\n",
    "T1, yout, xout1 = control.forced_response(sys, T=t, U=u, X0=x0, return_x=True, squeeze=True)\n",
    "\n",
    "plt.plot(t, xout1[1], label='$v_1$')\n",
    "plt.xlabel(r'$t\\,/\\,\\mathrm{s}$')\n",
    "plt.ylabel('$v_{\\mathrm{1}}\\,/\\,\\mathrm{V}$')\n",
    "plt.title('Plot current $v_1$')\n",
    "plt.legend()\n",
    "plt.grid()\n",
    "plt.show()"
   ]
  },
  {
   "cell_type": "code",
   "execution_count": null,
   "id": "8d77ab9d",
   "metadata": {},
   "outputs": [],
   "source": []
  },
  {
   "cell_type": "code",
   "execution_count": null,
   "id": "7d73ef16",
   "metadata": {},
   "outputs": [],
   "source": []
  },
  {
   "cell_type": "code",
   "execution_count": null,
   "id": "8adcbf50",
   "metadata": {},
   "outputs": [],
   "source": []
  },
  {
   "cell_type": "code",
   "execution_count": null,
   "id": "14425fa5",
   "metadata": {},
   "outputs": [],
   "source": []
  },
  {
   "cell_type": "code",
   "execution_count": null,
   "id": "93a4708b",
   "metadata": {},
   "outputs": [],
   "source": []
  }
 ],
 "metadata": {
  "kernelspec": {
   "display_name": "Python 3 (ipykernel)",
   "language": "python",
   "name": "python3"
  },
  "language_info": {
   "codemirror_mode": {
    "name": "ipython",
    "version": 3
   },
   "file_extension": ".py",
   "mimetype": "text/x-python",
   "name": "python",
   "nbconvert_exporter": "python",
   "pygments_lexer": "ipython3",
   "version": "3.9.4"
  }
 },
 "nbformat": 4,
 "nbformat_minor": 5
}
