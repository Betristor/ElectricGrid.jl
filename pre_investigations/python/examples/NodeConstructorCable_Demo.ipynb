{
 "cells": [
  {
   "cell_type": "code",
   "execution_count": null,
   "id": "a4380f6b",
   "metadata": {},
   "outputs": [],
   "source": [
    "import control\n",
    "import matplotlib.pyplot as plt\n",
    "import numpy as np"
   ]
  },
  {
   "cell_type": "code",
   "execution_count": null,
   "id": "6e25c597",
   "metadata": {},
   "outputs": [],
   "source": [
    "from dare.utils.nodeconstructorcable import NodeConstructorCable"
   ]
  },
  {
   "cell_type": "code",
   "execution_count": null,
   "id": "0c207109",
   "metadata": {},
   "outputs": [],
   "source": [
    "def generate_sin(num, t, V_eff=230 * np.sqrt(2), f0 = 50):\n",
    "    v = list()\n",
    "    for i in range(num):\n",
    "        v.append(V_eff * np.sin(2*np.pi * f0 * t+i))\n",
    "    out = np.vstack(v)\n",
    "    return out"
   ]
  },
  {
   "cell_type": "code",
   "execution_count": null,
   "id": "d4bbb4f6",
   "metadata": {},
   "outputs": [],
   "source": [
    "# set up CM\n",
    "\n",
    "CM = np.array([[0, 0, 1],\n",
    "               [0, 0, 2],\n",
    "               [-1, -2, 0]])"
   ]
  },
  {
   "cell_type": "code",
   "execution_count": null,
   "id": "970bddc1",
   "metadata": {},
   "outputs": [],
   "source": [
    "Grid_S2_L1_2C = NodeConstructorCable(2, 1, CM = CM)"
   ]
  },
  {
   "cell_type": "code",
   "execution_count": null,
   "id": "94d1eabb",
   "metadata": {},
   "outputs": [],
   "source": [
    "A, B, C, D = Grid_S2_L1_2C.get_sys()"
   ]
  },
  {
   "cell_type": "code",
   "execution_count": null,
   "id": "53e5f41b",
   "metadata": {},
   "outputs": [],
   "source": [
    "sys = control.ss(A, B, C, D)"
   ]
  },
  {
   "cell_type": "code",
   "execution_count": null,
   "id": "ae21f58d",
   "metadata": {},
   "outputs": [],
   "source": [
    "# define time vector\n",
    "ts = 1e-4\n",
    "t_end = 0.005\n",
    "steps = int(1/ts)\n",
    "t = np.arange(0, t_end+ts, ts)\n",
    "num_samples = len(t)\n",
    "\n",
    "# generate init state\n",
    "x0 = np.zeros((A.shape[0],1))\n",
    "\n",
    "# simple input signal of constant 230V from all sources\n",
    "u = np.array([230]).repeat(Grid_S2_L1_2C.num_source)[:,None] * np.ones((Grid_S2_L1_2C.num_source,len(t)))\n",
    "\n",
    "T, yout, xout = control.forced_response(sys, T=t, U=u, X0=x0, return_x=True, squeeze=True)\n",
    "\n",
    "plt.plot(t, xout[1], label='$v_1$')\n",
    "plt.xlabel(r'$t\\,/\\,\\mathrm{s}$')\n",
    "plt.ylabel('$v_{\\mathrm{1}}\\,/\\,\\mathrm{V}$')\n",
    "plt.title('Plot current $v_1$')\n",
    "plt.legend()\n",
    "plt.grid()\n",
    "plt.show()"
   ]
  },
  {
   "cell_type": "code",
   "execution_count": null,
   "id": "3a1efa4d",
   "metadata": {},
   "outputs": [],
   "source": []
  }
 ],
 "metadata": {
  "kernelspec": {
   "display_name": "Python 3 (ipykernel)",
   "language": "python",
   "name": "python3"
  },
  "language_info": {
   "codemirror_mode": {
    "name": "ipython",
    "version": 3
   },
   "file_extension": ".py",
   "mimetype": "text/x-python",
   "name": "python",
   "nbconvert_exporter": "python",
   "pygments_lexer": "ipython3",
   "version": "3.9.4"
  }
 },
 "nbformat": 4,
 "nbformat_minor": 5
}
