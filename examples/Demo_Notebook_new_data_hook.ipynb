{
 "cells": [
  {
   "cell_type": "code",
   "execution_count": 1,
   "id": "285d8354",
   "metadata": {},
   "outputs": [
    {
     "data": {
      "application/vnd.webio.node+json": {
       "children": [],
       "instanceArgs": {
        "namespace": "html",
        "tag": "div"
       },
       "nodeType": "DOM",
       "props": {},
       "type": "node"
      },
      "text/html": [
       "<div style=\"padding: 1em; background-color: #f8d6da; border: 1px solid #f5c6cb; font-weight: bold;\">\n",
       "<p>The WebIO Jupyter extension was not detected. See the\n",
       "<a href=\"https://juliagizmos.github.io/WebIO.jl/latest/providers/ijulia/\" target=\"_blank\">\n",
       "    WebIO Jupyter integration documentation\n",
       "</a>\n",
       "for more information.\n",
       "</div>\n"
      ],
      "text/plain": [
       "WebIO._IJuliaInit()"
      ]
     },
     "metadata": {},
     "output_type": "display_data"
    }
   ],
   "source": [
    "using DrWatson\n",
    "@quickactivate \"dare\"\n",
    "\n",
    "using ReinforcementLearning\n",
    "using IntervalSets\n",
    "using LinearAlgebra\n",
    "using ControlSystems\n",
    "using CUDA\n",
    "using DataStructures\n",
    "using DataFrames\n",
    "using PlotlyJS\n",
    "\n",
    "include(srcdir(\"nodeconstructor.jl\"))\n",
    "include(srcdir(\"data_hook.jl\"))\n",
    "include(srcdir(\"env.jl\"))\n",
    "include(srcdir(\"sin_policy.jl\"))\n",
    "include(srcdir(\"plotting.jl\"))\n",
    "include(srcdir(\"custom_control.jl\"));"
   ]
  },
  {
   "cell_type": "markdown",
   "id": "f9ef46dd",
   "metadata": {},
   "source": [
    "### Define CM Matrix"
   ]
  },
  {
   "cell_type": "code",
   "execution_count": 2,
   "id": "0cddbe8b",
   "metadata": {
    "scrolled": true
   },
   "outputs": [
    {
     "data": {
      "text/plain": [
       "10×10 Matrix{Float64}:\n",
       "  0.0   1.0    0.0    0.0    2.0    3.0    4.0    5.0   6.0   7.0\n",
       " -1.0   0.0    0.0    0.0    0.0    8.0    0.0    0.0   0.0   9.0\n",
       "  0.0   0.0    0.0    0.0   10.0   11.0   12.0   13.0   0.0  14.0\n",
       "  0.0   0.0    0.0    0.0   15.0   16.0   17.0    0.0  18.0  19.0\n",
       " -2.0   0.0  -10.0  -15.0    0.0   20.0    0.0   21.0  22.0   0.0\n",
       " -3.0  -8.0  -11.0  -16.0  -20.0    0.0   23.0   24.0  25.0  26.0\n",
       " -4.0   0.0  -12.0  -17.0    0.0  -23.0    0.0   27.0  28.0  29.0\n",
       " -5.0   0.0  -13.0    0.0  -21.0  -24.0  -27.0    0.0   0.0  30.0\n",
       " -6.0   0.0    0.0  -18.0  -22.0  -25.0  -28.0    0.0   0.0   0.0\n",
       " -7.0  -9.0  -14.0  -19.0    0.0  -26.0  -29.0  -30.0   0.0   0.0"
      ]
     },
     "execution_count": 2,
     "metadata": {},
     "output_type": "execute_result"
    }
   ],
   "source": [
    "CM = [0.0   1.0    0.0    0.0    2.0    3.0    4.0    5.0   6.0   7.0\n",
    "     -1.0   0.0    0.0    0.0    0.0    8.0    0.0    0.0   0.0   9.0\n",
    "      0.0   0.0    0.0    0.0   10.0   11.0   12.0   13.0   0.0  14.0\n",
    "      0.0   0.0    0.0    0.0   15.0   16.0   17.0    0.0  18.0  19.0\n",
    "     -2.0   0.0  -10.0  -15.0    0.0   20.0    0.0   21.0  22.0   0.0\n",
    "     -3.0  -8.0  -11.0  -16.0  -20.0    0.0   23.0   24.0  25.0  26.0\n",
    "     -4.0   0.0  -12.0  -17.0    0.0  -23.0    0.0   27.0  28.0  29.0\n",
    "     -5.0   0.0  -13.0    0.0  -21.0  -24.0  -27.0    0.0   0.0  30.0\n",
    "     -6.0   0.0    0.0  -18.0  -22.0  -25.0  -28.0    0.0   0.0   0.0\n",
    "     -7.0  -9.0  -14.0  -19.0    0.0  -26.0  -29.0  -30.0   0.0   0.0]\n",
    "\n"
   ]
  },
  {
   "cell_type": "markdown",
   "id": "fd1653d1",
   "metadata": {},
   "source": [
    "### Create the environment and thus the Nodeconstructor with the CM Matrix"
   ]
  },
  {
   "cell_type": "code",
   "execution_count": 3,
   "id": "0cf03e4d",
   "metadata": {
    "scrolled": false
   },
   "outputs": [
    {
     "name": "stdout",
     "output_type": "stream",
     "text": [
      "INFO: v_dc = 350V will get applied to all actions\n",
      "INFO: Generating standard norm_array from nodeconstructor\n",
      "WARNING: limits set to fixed value - define in nc.parameters\n"
     ]
    },
    {
     "data": {
      "text/markdown": [
       "# SimEnv\n",
       "\n",
       "## Traits\n",
       "\n",
       "| Trait Type        |                  Value |\n",
       "|:----------------- | ----------------------:|\n",
       "| NumAgentStyle     |          SingleAgent() |\n",
       "| DynamicStyle      |           Sequential() |\n",
       "| InformationStyle  | ImperfectInformation() |\n",
       "| ChanceStyle       |           Stochastic() |\n",
       "| RewardStyle       |           StepReward() |\n",
       "| UtilityStyle      |           GeneralSum() |\n",
       "| ActionStyle       |     MinimalActionSet() |\n",
       "| StateStyle        |     Observation{Any}() |\n",
       "| DefaultStateStyle |     Observation{Any}() |\n",
       "\n",
       "## Is Environment Terminated?\n",
       "\n",
       "No\n",
       "\n",
       "## State Space\n",
       "\n",
       "`Space{Vector{ClosedInterval{Float64}}}(ClosedInterval{Float64}[-1.0..1.0, -1.0..1.0, -1.0..1.0, -1.0..1.0, -1.0..1.0, -1.0..1.0, -1.0..1.0, -1.0..1.0, -1.0..1.0, -1.0..1.0, -1.0..1.0, -1.0..1.0, -1.0..1.0, -1.0..1.0, -1.0..1.0, -1.0..1.0, -1.0..1.0, -1.0..1.0, -1.0..1.0, -1.0..1.0, -1.0..1.0, -1.0..1.0, -1.0..1.0, -1.0..1.0, -1.0..1.0, -1.0..1.0, -1.0..1.0, -1.0..1.0, -1.0..1.0, -1.0..1.0, -1.0..1.0, -1.0..1.0, -1.0..1.0, -1.0..1.0, -1.0..1.0, -1.0..1.0, -1.0..1.0, -1.0..1.0, -1.0..1.0, -1.0..1.0, -1.0..1.0, -1.0..1.0, -1.0..1.0, -1.0..1.0, -1.0..1.0, -1.0..1.0, -1.0..1.0, -1.0..1.0, -1.0..1.0, -1.0..1.0, -1.0..1.0, -1.0..1.0, -1.0..1.0, -1.0..1.0, -1.0..1.0, -1.0..1.0, -1.0..1.0, -1.0..1.0, -1.0..1.0, -1.0..1.0, -1.0..1.0, -1.0..1.0, -1.0..1.0, -1.0..1.0, -1.0..1.0, -1.0..1.0, -1.0..1.0, -1.0..1.0, -1.0..1.0, -1.0..1.0, -1.0..1.0, -1.0..1.0, -1.0..1.0, -1.0..1.0, -1.0..1.0, -1.0..1.0, -1.0..1.0, -1.0..1.0, -1.0..1.0, -1.0..1.0, -1.0..1.0, -1.0..1.0, -1.0..1.0, -1.0..1.0, -1.0..1.0, -1.0..1.0, -1.0..1.0, -1.0..1.0, -1.0..1.0, -1.0..1.0, -1.0..1.0, -1.0..1.0, -1.0..1.0, -1.0..1.0, -1.0..1.0, -1.0..1.0, -1.0..1.0, -1.0..1.0, -1.0..1.0, -1.0..1.0, -1.0..1.0, -1.0..1.0, -1.0..1.0, -1.0..1.0, -1.0..1.0, -1.0..1.0, -1.0..1.0, -1.0..1.0, -1.0..1.0, -1.0..1.0, -1.0..1.0, -1.0..1.0, -1.0..1.0, -1.0..1.0, -1.0..1.0, -1.0..1.0, -1.0..1.0, -1.0..1.0, -1.0..1.0, -1.0..1.0, -1.0..1.0, -1.0..1.0, -1.0..1.0, -1.0..1.0, -1.0..1.0, -1.0..1.0, -1.0..1.0, -1.0..1.0, -1.0..1.0, -1.0..1.0, -1.0..1.0, -1.0..1.0, -1.0..1.0, -1.0..1.0, -1.0..1.0, -1.0..1.0, -1.0..1.0, -1.0..1.0, -1.0..1.0, -1.0..1.0, -1.0..1.0, -1.0..1.0, -1.0..1.0, -1.0..1.0, -1.0..1.0, -1.0..1.0, -1.0..1.0, -1.0..1.0, -1.0..1.0, -1.0..1.0, -1.0..1.0, -1.0..1.0, -1.0..1.0, -1.0..1.0, -1.0..1.0, -1.0..1.0, -1.0..1.0, -1.0..1.0, -1.0..1.0, -1.0..1.0, -1.0..1.0, -1.0..1.0, -1.0..1.0, -1.0..1.0, -1.0..1.0, -1.0..1.0, -1.0..1.0, -1.0..1.0, -1.0..1.0, -1.0..1.0, -1.0..1.0])`\n",
       "\n",
       "## Action Space\n",
       "\n",
       "`Space{Vector{ClosedInterval{Float64}}}(ClosedInterval{Float64}[-1.0..1.0, -1.0..1.0, -1.0..1.0, -1.0..1.0, -1.0..1.0, -1.0..1.0, -1.0..1.0, -1.0..1.0, -1.0..1.0, -1.0..1.0, -1.0..1.0, -1.0..1.0, -1.0..1.0, -1.0..1.0, -1.0..1.0])`\n",
       "\n",
       "## Current State\n",
       "\n",
       "```\n",
       "[0.0, 0.0, 0.0, 0.0, 0.0, 0.0, 0.0, 0.0, 0.0, 0.0, 0.0, 0.0, 0.0, 0.0, 0.0, 0.0, 0.0, 0.0, 0.0, 0.0, 0.0, 0.0, 0.0, 0.0, 0.0, 0.0, 0.0, 0.0, 0.0, 0.0, 0.0, 0.0, 0.0, 0.0, 0.0, 0.0, 0.0, 0.0, 0.0, 0.0, 0.0, 0.0, 0.0, 0.0, 0.0, 0.0, 0.0, 0.0, 0.0, 0.0, 0.0, 0.0, 0.0, 0.0, 0.0, 0.0, 0.0, 0.0, 0.0, 0.0, 0.0, 0.0, 0.0, 0.0, 0.0, 0.0, 0.0, 0.0, 0.0, 0.0, 0.0, 0.0, 0.0, 0.0, 0.0, 0.0, 0.0, 0.0, 0.0, 0.0, 0.0, 0.0, 0.0, 0.0, 0.0, 0.0, 0.0, 0.0, 0.0, 0.0, 0.0, 0.0, 0.0, 0.0, 0.0, 0.0, 0.0, 0.0, 0.0, 0.0, 0.0, 0.0, 0.0, 0.0, 0.0, 0.0, 0.0, 0.0, 0.0, 0.0, 0.0, 0.0, 0.0, 0.0, 0.0, 0.0, 0.0, 0.0, 0.0, 0.0, 0.0, 0.0, 0.0, 0.0, 0.0, 0.0, 0.0, 0.0, 0.0, 0.0, 0.0, 0.0, 0.0, 0.0, 0.0, 0.0, 0.0, 0.0, 0.0, 0.0, 0.0, 0.0, 0.0, 0.0, 0.0, 0.0, 0.0, 0.0, 0.0, 0.0, 0.0, 0.0, 0.0, 0.0, 0.0, 0.0, 0.0, 0.0, 0.0, 0.0, 0.0, 0.0, 0.0, 0.0, 0.0, 0.0, 0.0, 0.0, 0.0, 0.0, 0.0]\n",
       "```\n"
      ],
      "text/plain": [
       "# SimEnv\n",
       "\n",
       "## Traits\n",
       "\n",
       "| Trait Type        |                  Value |\n",
       "|:----------------- | ----------------------:|\n",
       "| NumAgentStyle     |          SingleAgent() |\n",
       "| DynamicStyle      |           Sequential() |\n",
       "| InformationStyle  | ImperfectInformation() |\n",
       "| ChanceStyle       |           Stochastic() |\n",
       "| RewardStyle       |           StepReward() |\n",
       "| UtilityStyle      |           GeneralSum() |\n",
       "| ActionStyle       |     MinimalActionSet() |\n",
       "| StateStyle        |     Observation{Any}() |\n",
       "| DefaultStateStyle |     Observation{Any}() |\n",
       "\n",
       "## Is Environment Terminated?\n",
       "\n",
       "No\n",
       "\n",
       "## State Space\n",
       "\n",
       "`Space{Vector{ClosedInterval{Float64}}}(ClosedInterval{Float64}[-1.0..1.0, -1.0..1.0, -1.0..1.0, -1.0..1.0, -1.0..1.0, -1.0..1.0, -1.0..1.0, -1.0..1.0, -1.0..1.0, -1.0..1.0, -1.0..1.0, -1.0..1.0, -1.0..1.0, -1.0..1.0, -1.0..1.0, -1.0..1.0, -1.0..1.0, -1.0..1.0, -1.0..1.0, -1.0..1.0, -1.0..1.0, -1.0..1.0, -1.0..1.0, -1.0..1.0, -1.0..1.0, -1.0..1.0, -1.0..1.0, -1.0..1.0, -1.0..1.0, -1.0..1.0, -1.0..1.0, -1.0..1.0, -1.0..1.0, -1.0..1.0, -1.0..1.0, -1.0..1.0, -1.0..1.0, -1.0..1.0, -1.0..1.0, -1.0..1.0, -1.0..1.0, -1.0..1.0, -1.0..1.0, -1.0..1.0, -1.0..1.0, -1.0..1.0, -1.0..1.0, -1.0..1.0, -1.0..1.0, -1.0..1.0, -1.0..1.0, -1.0..1.0, -1.0..1.0, -1.0..1.0, -1.0..1.0, -1.0..1.0, -1.0..1.0, -1.0..1.0, -1.0..1.0, -1.0..1.0, -1.0..1.0, -1.0..1.0, -1.0..1.0, -1.0..1.0, -1.0..1.0, -1.0..1.0, -1.0..1.0, -1.0..1.0, -1.0..1.0, -1.0..1.0, -1.0..1.0, -1.0..1.0, -1.0..1.0, -1.0..1.0, -1.0..1.0, -1.0..1.0, -1.0..1.0, -1.0..1.0, -1.0..1.0, -1.0..1.0, -1.0..1.0, -1.0..1.0, -1.0..1.0, -1.0..1.0, -1.0..1.0, -1.0..1.0, -1.0..1.0, -1.0..1.0, -1.0..1.0, -1.0..1.0, -1.0..1.0, -1.0..1.0, -1.0..1.0, -1.0..1.0, -1.0..1.0, -1.0..1.0, -1.0..1.0, -1.0..1.0, -1.0..1.0, -1.0..1.0, -1.0..1.0, -1.0..1.0, -1.0..1.0, -1.0..1.0, -1.0..1.0, -1.0..1.0, -1.0..1.0, -1.0..1.0, -1.0..1.0, -1.0..1.0, -1.0..1.0, -1.0..1.0, -1.0..1.0, -1.0..1.0, -1.0..1.0, -1.0..1.0, -1.0..1.0, -1.0..1.0, -1.0..1.0, -1.0..1.0, -1.0..1.0, -1.0..1.0, -1.0..1.0, -1.0..1.0, -1.0..1.0, -1.0..1.0, -1.0..1.0, -1.0..1.0, -1.0..1.0, -1.0..1.0, -1.0..1.0, -1.0..1.0, -1.0..1.0, -1.0..1.0, -1.0..1.0, -1.0..1.0, -1.0..1.0, -1.0..1.0, -1.0..1.0, -1.0..1.0, -1.0..1.0, -1.0..1.0, -1.0..1.0, -1.0..1.0, -1.0..1.0, -1.0..1.0, -1.0..1.0, -1.0..1.0, -1.0..1.0, -1.0..1.0, -1.0..1.0, -1.0..1.0, -1.0..1.0, -1.0..1.0, -1.0..1.0, -1.0..1.0, -1.0..1.0, -1.0..1.0, -1.0..1.0, -1.0..1.0, -1.0..1.0, -1.0..1.0, -1.0..1.0, -1.0..1.0, -1.0..1.0, -1.0..1.0, -1.0..1.0, -1.0..1.0, -1.0..1.0, -1.0..1.0, -1.0..1.0])`\n",
       "\n",
       "## Action Space\n",
       "\n",
       "`Space{Vector{ClosedInterval{Float64}}}(ClosedInterval{Float64}[-1.0..1.0, -1.0..1.0, -1.0..1.0, -1.0..1.0, -1.0..1.0, -1.0..1.0, -1.0..1.0, -1.0..1.0, -1.0..1.0, -1.0..1.0, -1.0..1.0, -1.0..1.0, -1.0..1.0, -1.0..1.0, -1.0..1.0])`\n",
       "\n",
       "## Current State\n",
       "\n",
       "```\n",
       "[0.0, 0.0, 0.0, 0.0, 0.0, 0.0, 0.0, 0.0, 0.0, 0.0, 0.0, 0.0, 0.0, 0.0, 0.0, 0.0, 0.0, 0.0, 0.0, 0.0, 0.0, 0.0, 0.0, 0.0, 0.0, 0.0, 0.0, 0.0, 0.0, 0.0, 0.0, 0.0, 0.0, 0.0, 0.0, 0.0, 0.0, 0.0, 0.0, 0.0, 0.0, 0.0, 0.0, 0.0, 0.0, 0.0, 0.0, 0.0, 0.0, 0.0, 0.0, 0.0, 0.0, 0.0, 0.0, 0.0, 0.0, 0.0, 0.0, 0.0, 0.0, 0.0, 0.0, 0.0, 0.0, 0.0, 0.0, 0.0, 0.0, 0.0, 0.0, 0.0, 0.0, 0.0, 0.0, 0.0, 0.0, 0.0, 0.0, 0.0, 0.0, 0.0, 0.0, 0.0, 0.0, 0.0, 0.0, 0.0, 0.0, 0.0, 0.0, 0.0, 0.0, 0.0, 0.0, 0.0, 0.0, 0.0, 0.0, 0.0, 0.0, 0.0, 0.0, 0.0, 0.0, 0.0, 0.0, 0.0, 0.0, 0.0, 0.0, 0.0, 0.0, 0.0, 0.0, 0.0, 0.0, 0.0, 0.0, 0.0, 0.0, 0.0, 0.0, 0.0, 0.0, 0.0, 0.0, 0.0, 0.0, 0.0, 0.0, 0.0, 0.0, 0.0, 0.0, 0.0, 0.0, 0.0, 0.0, 0.0, 0.0, 0.0, 0.0, 0.0, 0.0, 0.0, 0.0, 0.0, 0.0, 0.0, 0.0, 0.0, 0.0, 0.0, 0.0, 0.0, 0.0, 0.0, 0.0, 0.0, 0.0, 0.0, 0.0, 0.0, 0.0, 0.0, 0.0, 0.0, 0.0, 0.0, 0.0]\n",
       "```\n"
      ]
     },
     "execution_count": 3,
     "metadata": {},
     "output_type": "execute_result"
    }
   ],
   "source": [
    "env = SimEnv(num_sources=5, num_loads=5,CM=CM)"
   ]
  },
  {
   "cell_type": "markdown",
   "id": "8456c287",
   "metadata": {},
   "source": [
    "### Define Policy"
   ]
  },
  {
   "cell_type": "code",
   "execution_count": 4,
   "id": "30e36dd5",
   "metadata": {
    "scrolled": true
   },
   "outputs": [
    {
     "data": {
      "text/plain": [
       "typename(RandomPolicy)\n",
       "├─ action_space => typename(Space)\n",
       "│  └─ s => 15-element Vector{ClosedInterval{Float64}}\n",
       "└─ rng => typename(Random._GLOBAL_RNG)\n"
      ]
     },
     "execution_count": 4,
     "metadata": {},
     "output_type": "execute_result"
    }
   ],
   "source": [
    "policy = RandomPolicy(action_space(env))\n",
    "#policy = sin_policy()"
   ]
  },
  {
   "cell_type": "markdown",
   "id": "ba84fbb8",
   "metadata": {},
   "source": [
    "### Create Hook:\n",
    "#### 2 Options:\n",
    "   - pass the states to be stored to \"collect_state_ids\"\n",
    "       - need to know the exact Name of the states in the Nodeconstructor\n",
    "       - only states at L and C \n",
    "   - hand in the ID(Number) of Sources, Loads and Cables which states shall be stored\n",
    "       - computes Voltage and Current at all R, L and C"
   ]
  },
  {
   "cell_type": "code",
   "execution_count": 7,
   "id": "2d66f02f",
   "metadata": {},
   "outputs": [
    {
     "data": {
      "text/plain": [
       "DataHook(false, \"episode_data/\", nothing, nothing, Any[0.0035784495592666972, 6.6761697096123e-6, 0.0035784495592666972, 9.089816940920157e-6, 0.0008729980976043039, 2.4997377340748733e-5, 0.0008729980976043039, 2.712873533610117e-6, 0.0033445666015055955, 7.002992057736374e-6  …  0.00021104131309299551, 0.002442294566032497, 6.0720122788127355, 35.749, 64.41600725452808, 5.853, 11.797007509471223, 41.088, 33.24500696128682, 36.84700771121106], Any[], Any[], Any[], [1, 2], [1, 2, 3], [1], Any[], Any[], [\"u_v1_a\"], \u001b[1m0×0 DataFrame\u001b[0m, \u001b[1m0×0 DataFrame\u001b[0m, 1, false, Float64[], 0.0, false, nothing, -1.0e6, 0, nothing, false)"
      ]
     },
     "execution_count": 7,
     "metadata": {},
     "output_type": "execute_result"
    }
   ],
   "source": [
    "hook = DataHook(collect_state_ids=[], collect_sources=[1,2], collect_cables=[1,2,3],collect_loads=[1],collect_action_ids=[\"u_v1_a\"], collect_state_paras=get_state_paras(env.nc))"
   ]
  },
  {
   "cell_type": "code",
   "execution_count": 13,
   "id": "a170b0c5",
   "metadata": {
    "scrolled": true
   },
   "outputs": [
    {
     "name": "stdout",
     "output_type": "stream",
     "text": [
      "Any[\"source1_i_R1_a\", \"source1_i_R_C_a\", \"source1_i_R2_a\", \"source1_i_R_C_cables_a\", \"source1_i_R1_b\", \"source1_i_R_C_b\", \"source1_i_R2_b\", \"source1_i_R_C_cables_b\", \"source1_i_R1_c\", \"source1_i_R_C_c\", \"source1_i_R2_c\", \"source1_i_R_C_cables_c\", \"source2_i_R1_a\", \"source2_i_R_C_a\", \"source2_i_R2_a\", \"source2_i_R_C_cables_a\", \"source2_i_R1_b\", \"source2_i_R_C_b\", \"source2_i_R2_b\", \"source2_i_R_C_cables_b\", \"source2_i_R1_c\", \"source2_i_R_C_c\", \"source2_i_R2_c\", \"source2_i_R_C_cables_c\", \"cable1_i_R_a\", \"cable1_i_R_b\", \"cable1_i_R_c\", \"cable2_i_R_a\", \"cable2_i_R_b\", \"cable2_i_R_c\", \"cable3_i_R_a\", \"cable3_i_R_b\", \"cable3_i_R_c\", (\"load1_i_R_a\", \"load1_i_C_a\", \"load1_i_C_cables_a\"), (\"load1_i_R_b\", \"load1_i_C_b\", \"load1_i_C_cables_b\"), (\"load1_i_R_c\", \"load1_i_C_c\", \"load1_i_C_cables_c\")]"
     ]
    },
    {
     "data": {
      "text/plain": [
       "DataHook(false, \"episode_data/\", [-400.05223847612575 -279.4506345381942 … 0.0 0.0; 149786.4858887885 0.0 … 0.0 0.0; … ; 0.0 0.0 … -4.919184501806342e-7 0.0; 0.0 0.0 … 0.0 0.0], [279.4506345381942 0.0 … 0.0 0.0; 0.0 0.0 … 0.0 0.0; … ; 0.0 0.0 … 0.0 0.0; 0.0 0.0 … 0.0 0.0], Any[0.0035784495592666972, 6.6761697096123e-6, 0.0035784495592666972, 9.089816940920157e-6, 0.0008729980976043039, 2.4997377340748733e-5, 0.0008729980976043039, 2.712873533610117e-6, 0.0033445666015055955, 7.002992057736374e-6  …  0.00021104131309299551, 0.002442294566032497, 6.0720122788127355, 35.749, 64.41600725452808, 5.853, 11.797007509471223, 41.088, 33.24500696128682, 36.84700771121106], Any[1.4313798237066788, 0.0001869327518691444, 1.4313798237066788, 0.0001869327518691444, 1.4313798237066788, 0.0001869327518691444, 1.4313798237066788, 0.0001869327518691444, 1.4313798237066788, 0.0001869327518691444  …  6.671786391172762, 2.903260450342027, 2.903260450342027, 2.903260450342027, 4.466961727687194, 4.466961727687194, 4.466961727687194, (98296.275, 0.9999979778017283, 2.0221982715615897e-6), (98296.275, 0.9999979778017283, 2.0221982715615897e-6), (98296.275, 0.9999979778017283, 2.0221982715615897e-6)], Any[1, 2, 3, 4, 58, 59, 60, 61, 115, 116  …  134, 21, 78, 135, 22, 79, 136, 50, 107, 164], Any[\"source1_i_R1_a\", \"source1_i_R_C_a\", \"source1_i_R2_a\", \"source1_i_R_C_cables_a\", \"source1_i_R1_b\", \"source1_i_R_C_b\", \"source1_i_R2_b\", \"source1_i_R_C_cables_b\", \"source1_i_R1_c\", \"source1_i_R_C_c\"  …  \"cable1_i_R_c\", \"cable2_i_R_a\", \"cable2_i_R_b\", \"cable2_i_R_c\", \"cable3_i_R_a\", \"cable3_i_R_b\", \"cable3_i_R_c\", (\"load1_i_R_a\", \"load1_i_C_a\", \"load1_i_C_cables_a\"), (\"load1_i_R_b\", \"load1_i_C_b\", \"load1_i_C_cables_b\"), (\"load1_i_R_c\", \"load1_i_C_c\", \"load1_i_C_cables_c\")], [1, 2], [1, 2, 3], [1], Any[\"source1_i_L1_a\", \"source1_u_C_a\", \"source1_i_L2_a\", \"source1_u_C_cables_a\", \"source1_i_L1_b\", \"source1_u_C_b\", \"source1_i_L2_b\", \"source1_u_C_cables_b\", \"source1_i_L1_c\", \"source1_u_C_c\"  …  \"cable2_i_L_c\", \"cable3_i_L_a\", \"cable3_i_L_b\", \"cable3_i_L_c\", \"load1_u_C_total_a\", \"load1_i_L_a\", \"load1_u_C_total_b\", \"load1_i_L_b\", \"load1_u_C_total_c\", \"load1_i_L_c\"], Any[], [\"u_v1_a\"], \u001b[1m500×330 DataFrame\u001b[0m\n",
       "\u001b[1m Row \u001b[0m│\u001b[1m episode \u001b[0m\u001b[1m time    \u001b[0m\u001b[1m source1_i_L1_a \u001b[0m\u001b[1m source1_u_L1_a \u001b[0m\u001b[1m source1_i_R1_a \u001b[0m\u001b[1m sourc\u001b[0m ⋯\n",
       "\u001b[1m     \u001b[0m│\u001b[90m Int64   \u001b[0m\u001b[90m Float32 \u001b[0m\u001b[90m Float64        \u001b[0m\u001b[90m Float64        \u001b[0m\u001b[90m Float64        \u001b[0m\u001b[90m Float\u001b[0m ⋯\n",
       "─────┼──────────────────────────────────────────────────────────────────────────\n",
       "   1 │       1   0.0           0.0            -49.0166         0.0             ⋯\n",
       "   2 │       1   0.0001       -0.313299        -9.48929       -0.313299\n",
       "   3 │       1   0.0002       -7.60663       -219.373         -7.60663       -\n",
       "   4 │       1   0.0003       -6.30499         76.7779        -6.30499\n",
       "   5 │       1   0.0004        0.467528       207.629          0.467528        ⋯\n",
       "   6 │       1   0.0005       -6.0954        -256.542         -6.0954\n",
       "   7 │       1   0.0006        1.55901        216.506          1.55901\n",
       "   8 │       1   0.0007        0.992416       -68.5679         0.992416\n",
       "  ⋮  │    ⋮        ⋮           ⋮               ⋮               ⋮               ⋱\n",
       " 493 │       1   0.0492      -19.4498         -26.2888       -19.4498        - ⋯\n",
       " 494 │       1   0.0493      -22.0323        -124.116        -22.0323        -\n",
       " 495 │       1   0.0494      -18.5304          91.9794       -18.5304        -\n",
       " 496 │       1   0.0495      -18.6588         -15.222        -18.6588        -\n",
       " 497 │       1   0.0496      -24.9349        -168.488        -24.9349        - ⋯\n",
       " 498 │       1   0.0497      -17.235          305.177        -17.235         -\n",
       " 499 │       1   0.0498      -15.3657          69.8946       -15.3657        -\n",
       " 500 │       1   0.0499      -18.8637        -109.781        -18.8637        -\n",
       "\u001b[36m                                                325 columns and 484 rows omitted\u001b[0m, \u001b[1m0×0 DataFrame\u001b[0m, 2, false, [0.0], 0.0, false, nothing, -1.0e6, 0, nothing, false)"
      ]
     },
     "execution_count": 13,
     "metadata": {},
     "output_type": "execute_result"
    }
   ],
   "source": [
    "run(policy, env, StopAfterEpisode(1), hook)"
   ]
  },
  {
   "cell_type": "markdown",
   "id": "07764130",
   "metadata": {},
   "source": [
    "## Labeling in Dataframe:"
   ]
  },
  {
   "cell_type": "code",
   "execution_count": 19,
   "id": "7953a593",
   "metadata": {
    "scrolled": false
   },
   "outputs": [
    {
     "data": {
      "text/plain": [
       "Dict{Any, Any} with 11 entries:\n",
       "  \"L1\"    => 0.00357845\n",
       "  \"C\"     => 6.67617e-6\n",
       "  \"fltr\"  => \"LCL\"\n",
       "  \"pwr\"   => 10000.0\n",
       "  \"L2\"    => 0.00357845\n",
       "  \"R_C\"   => 0.000186933\n",
       "  \"v_rip\" => 0.0144773\n",
       "  \"vdc\"   => 720\n",
       "  \"R1\"    => 1.43138\n",
       "  \"i_rip\" => 0.12271\n",
       "  \"R2\"    => 1.43138"
      ]
     },
     "execution_count": 19,
     "metadata": {},
     "output_type": "execute_result"
    }
   ],
   "source": [
    "env.nc.parameters[\"source\"][1]"
   ]
  },
  {
   "cell_type": "code",
   "execution_count": 31,
   "id": "583977cb",
   "metadata": {},
   "outputs": [
    {
     "data": {
      "text/plain": [
       "Dict{Any, Any} with 3 entries:\n",
       "  \"C\" => 3.69628e-6\n",
       "  \"L\" => 0.00243955\n",
       "  \"R\" => 6.67179"
      ]
     },
     "execution_count": 31,
     "metadata": {},
     "output_type": "execute_result"
    }
   ],
   "source": [
    "env.nc.parameters[\"cable\"][1]"
   ]
  },
  {
   "cell_type": "code",
   "execution_count": 30,
   "id": "77a79442",
   "metadata": {
    "scrolled": false
   },
   "outputs": [
    {
     "data": {
      "text/plain": [
       "Dict{Any, Any} with 4 entries:\n",
       "  \"C\"         => 6.072\n",
       "  \"L\"         => 35.749\n",
       "  \"R\"         => 98296.3\n",
       "  \"impedance\" => \"RLC\""
      ]
     },
     "execution_count": 30,
     "metadata": {},
     "output_type": "execute_result"
    }
   ],
   "source": [
    "env.nc.parameters[\"load\"][1]"
   ]
  },
  {
   "cell_type": "markdown",
   "id": "5e51f052",
   "metadata": {},
   "source": [
    "## Column Title in Dataframe:\n",
    "### Sources: source(id) _ (i/u) _ (Component-name)_(Phase)\n",
    "### Cables: cable(id) _ (i/u) _ (Component-Name)_(Phase)\n",
    "### Loads: load(id) _ (i/u) _ (Component-Name)_(Phase)\n"
   ]
  },
  {
   "cell_type": "markdown",
   "id": "8fe6a63c",
   "metadata": {},
   "source": [
    "### Examples:"
   ]
  },
  {
   "cell_type": "code",
   "execution_count": 35,
   "id": "e7f3eb37",
   "metadata": {},
   "outputs": [
    {
     "data": {
      "text/plain": [
       "500-element Vector{Float64}:\n",
       "   0.0\n",
       "   0.9001158322194358\n",
       "   6.383562610694312\n",
       "   7.473887696326451\n",
       "   3.6433613517686396\n",
       "   0.027123288661029598\n",
       "  -0.6489733248366256\n",
       "  -0.5045380268786201\n",
       "   0.04520628694126836\n",
       "  -6.048049233970998\n",
       "   ⋮\n",
       " -22.607132076881637\n",
       " -24.967277130189863\n",
       " -23.591038526337616\n",
       " -11.36259759878951\n",
       "   3.985651996860473\n",
       "  12.74252764712622\n",
       "  17.31898853358597\n",
       "  14.538573121522896\n",
       "   4.085769829480749\n",
       "  -7.664933770054584"
      ]
     },
     "execution_count": 35,
     "metadata": {},
     "output_type": "execute_result"
    }
   ],
   "source": [
    "state_name1= \"source2_i_R1_a\"\n",
    "state_name2= \"cable3_u_R_b\"\n",
    "state_name3= \"load1_i_C_a\"\n",
    "\n",
    "hook.df[:, Symbol(state_name3)]"
   ]
  },
  {
   "cell_type": "code",
   "execution_count": null,
   "id": "b1b78463",
   "metadata": {},
   "outputs": [],
   "source": []
  },
  {
   "cell_type": "code",
   "execution_count": null,
   "id": "721cff31",
   "metadata": {},
   "outputs": [],
   "source": []
  }
 ],
 "metadata": {
  "kernelspec": {
   "display_name": "Julia 1.7.2",
   "language": "julia",
   "name": "julia-1.7"
  },
  "language_info": {
   "file_extension": ".jl",
   "mimetype": "application/julia",
   "name": "julia",
   "version": "1.7.2"
  }
 },
 "nbformat": 4,
 "nbformat_minor": 5
}
