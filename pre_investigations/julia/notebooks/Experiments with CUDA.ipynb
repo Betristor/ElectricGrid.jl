{
 "cells": [
  {
   "cell_type": "markdown",
   "id": "0c4c866f",
   "metadata": {},
   "source": [
    "## Using CUDA"
   ]
  },
  {
   "cell_type": "code",
   "execution_count": 1,
   "id": "346b3727",
   "metadata": {},
   "outputs": [],
   "source": [
    "using DrWatson\n",
    "@quickactivate \"MicroGridSimWithRL\""
   ]
  },
  {
   "cell_type": "code",
   "execution_count": 2,
   "id": "7655cb7f",
   "metadata": {},
   "outputs": [],
   "source": [
    "using CUDA\n",
    "using Test\n",
    "using BenchmarkTools\n",
    "using Flux\n",
    "using ReinforcementLearning"
   ]
  },
  {
   "cell_type": "code",
   "execution_count": 3,
   "id": "f807c93a",
   "metadata": {},
   "outputs": [
    {
     "data": {
      "text/plain": [
       "10-element CuArray{Float32, 1, CUDA.Mem.DeviceBuffer}:\n",
       " 2.0\n",
       " 2.0\n",
       " 2.0\n",
       " 2.0\n",
       " 2.0\n",
       " 2.0\n",
       " 2.0\n",
       " 2.0\n",
       " 2.0\n",
       " 2.0"
      ]
     },
     "execution_count": 3,
     "metadata": {},
     "output_type": "execute_result"
    }
   ],
   "source": [
    "N =10\n",
    "x_d = CUDA.fill(1.0f0, N) # Float32\n",
    "y_d = CUDA.fill(2.0f0, N)"
   ]
  },
  {
   "cell_type": "code",
   "execution_count": 4,
   "id": "57217413",
   "metadata": {},
   "outputs": [
    {
     "data": {
      "text/plain": [
       "10-element CuArray{Float32, 1, CUDA.Mem.DeviceBuffer}:\n",
       " 3.0\n",
       " 3.0\n",
       " 3.0\n",
       " 3.0\n",
       " 3.0\n",
       " 3.0\n",
       " 3.0\n",
       " 3.0\n",
       " 3.0\n",
       " 3.0"
      ]
     },
     "execution_count": 4,
     "metadata": {},
     "output_type": "execute_result"
    }
   ],
   "source": [
    "y_d .+= x_d\n",
    "y_d"
   ]
  },
  {
   "cell_type": "code",
   "execution_count": 5,
   "id": "7caf590e",
   "metadata": {},
   "outputs": [
    {
     "data": {
      "text/plain": [
       "\u001b[32m\u001b[1mTest Passed\u001b[22m\u001b[39m\n",
       "  Expression: all(y_d .== 3.0f0)"
      ]
     },
     "execution_count": 5,
     "metadata": {},
     "output_type": "execute_result"
    }
   ],
   "source": [
    "@test all(y_d .== 3.0f0)"
   ]
  },
  {
   "cell_type": "code",
   "execution_count": 14,
   "id": "1699f65a",
   "metadata": {},
   "outputs": [
    {
     "data": {
      "text/plain": [
       "10-element CuArray{Float32, 1, CUDA.Mem.DeviceBuffer}:\n",
       " 1.0\n",
       " 1.0\n",
       " 1.0\n",
       " 1.0\n",
       " 1.0\n",
       " 1.0\n",
       " 1.0\n",
       " 1.0\n",
       " 1.0\n",
       " 1.0"
      ]
     },
     "execution_count": 14,
     "metadata": {},
     "output_type": "execute_result"
    }
   ],
   "source": [
    "function broadcast_add!(x, y)\n",
    "        CUDA.@sync y += x\n",
    "    nothing\n",
    "end\n",
    "\n",
    "fill!(y_d, 2)\n",
    "x_d"
   ]
  },
  {
   "cell_type": "code",
   "execution_count": 16,
   "id": "7b742c5f",
   "metadata": {},
   "outputs": [
    {
     "name": "stdout",
     "output_type": "stream",
     "text": [
      "  69.000 μs (31 allocations: 1.78 KiB)\n"
     ]
    }
   ],
   "source": [
    "@btime broadcast_add!($x_d, $y_d)"
   ]
  },
  {
   "cell_type": "code",
   "execution_count": 17,
   "id": "4c004545",
   "metadata": {},
   "outputs": [
    {
     "data": {
      "text/plain": [
       "CUDA.HostKernel{typeof(gpu_add1!), Tuple{CuDeviceVector{Float32, 1}, CuDeviceVector{Float32, 1}}}(gpu_add1!, CuFunction(Ptr{Nothing} @0x00000000a078a0e0, CuModule(Ptr{Nothing} @0x00000000a07515f0, CuContext(0x0000000062cb8aa0, instance b4028a4f937b5eae))), CUDA.KernelState(Ptr{Nothing} @0x0000000304000000))"
      ]
     },
     "execution_count": 17,
     "metadata": {},
     "output_type": "execute_result"
    }
   ],
   "source": [
    "function gpu_add1!(x, y)\n",
    "    for i = 1:length(x)\n",
    "        @inbounds y[i] += x[i]\n",
    "    end\n",
    "    nothing\n",
    "end\n",
    "\n",
    "fill!(y_d, 2)\n",
    "\n",
    "@cuda gpu_add1!(x_d, y_d)"
   ]
  },
  {
   "cell_type": "code",
   "execution_count": 18,
   "id": "71629580",
   "metadata": {},
   "outputs": [
    {
     "name": "stdout",
     "output_type": "stream",
     "text": [
      "  72.500 μs (5 allocations: 304 bytes)\n"
     ]
    },
    {
     "data": {
      "text/plain": [
       "CUDA.HostKernel{typeof(gpu_add1!), Tuple{CuDeviceVector{Float32, 1}, CuDeviceVector{Float32, 1}}}(gpu_add1!, CuFunction(Ptr{Nothing} @0x00000000a078a0e0, CuModule(Ptr{Nothing} @0x00000000a07515f0, CuContext(0x0000000062cb8aa0, instance b4028a4f937b5eae))), CUDA.KernelState(Ptr{Nothing} @0x0000000304000000))"
      ]
     },
     "execution_count": 18,
     "metadata": {},
     "output_type": "execute_result"
    }
   ],
   "source": [
    "function benc_gpu1!(x, y)\n",
    "    CUDA.@sync begin\n",
    "        @cuda gpu_add1!(x, y)\n",
    "    end\n",
    "end\n",
    "\n",
    "@btime benc_gpu1!($x_d, $y_d)"
   ]
  },
  {
   "cell_type": "code",
   "execution_count": 19,
   "id": "bbd7c8f2",
   "metadata": {},
   "outputs": [
    {
     "name": "stderr",
     "output_type": "stream",
     "text": [
      "┌ Warning: Calling CUDA.@profile only informs an external profiler to start.\n",
      "│ The user is responsible for launching Julia under a CUDA profiler.\n",
      "│ \n",
      "│ It is recommended to use Nsight Systems, which supports interactive profiling:\n",
      "│ $ nsys launch julia\n",
      "└ @ CUDA.Profile C:\\Users\\vikas\\.julia\\packages\\CUDA\\GGwVa\\lib\\cudadrv\\profile.jl:82\n"
     ]
    },
    {
     "data": {
      "text/plain": [
       "CUDA.HostKernel{typeof(gpu_add1!), Tuple{CuDeviceVector{Float32, 1}, CuDeviceVector{Float32, 1}}}(gpu_add1!, CuFunction(Ptr{Nothing} @0x00000000a078a0e0, CuModule(Ptr{Nothing} @0x00000000a07515f0, CuContext(0x0000000062cb8aa0, instance b4028a4f937b5eae))), CUDA.KernelState(Ptr{Nothing} @0x0000000304000000))"
      ]
     },
     "execution_count": 19,
     "metadata": {},
     "output_type": "execute_result"
    }
   ],
   "source": [
    "CUDA.@profile benc_gpu1!(x_d, y_d)"
   ]
  },
  {
   "cell_type": "code",
   "execution_count": 23,
   "id": "12711560",
   "metadata": {},
   "outputs": [
    {
     "data": {
      "text/plain": [
       "1-element CuArray{Int64, 1, CUDA.Mem.DeviceBuffer}:\n",
       " 1"
      ]
     },
     "execution_count": 23,
     "metadata": {},
     "output_type": "execute_result"
    }
   ],
   "source": [
    "A = CuArray([1])"
   ]
  },
  {
   "cell_type": "code",
   "execution_count": 27,
   "id": "79d09ebb",
   "metadata": {},
   "outputs": [],
   "source": [
    "for i = 1:200\n",
    "    push!(A, i)\n",
    "end"
   ]
  },
  {
   "cell_type": "code",
   "execution_count": 28,
   "id": "bea912db",
   "metadata": {},
   "outputs": [
    {
     "data": {
      "text/plain": [
       "180046-element CuArray{Int64, 1, CUDA.Mem.DeviceBuffer}:\n",
       "   1\n",
       "   1\n",
       "   2\n",
       "   3\n",
       "   4\n",
       "   5\n",
       "   6\n",
       "   7\n",
       "   8\n",
       "   9\n",
       "  10\n",
       "  11\n",
       "  12\n",
       "   ⋮\n",
       " 189\n",
       " 190\n",
       " 191\n",
       " 192\n",
       " 193\n",
       " 194\n",
       " 195\n",
       " 196\n",
       " 197\n",
       " 198\n",
       " 199\n",
       " 200"
      ]
     },
     "execution_count": 28,
     "metadata": {},
     "output_type": "execute_result"
    }
   ],
   "source": [
    "A"
   ]
  },
  {
   "cell_type": "code",
   "execution_count": 30,
   "id": "7534d941",
   "metadata": {},
   "outputs": [
    {
     "ename": "LoadError",
     "evalue": "UndefVarError: sample not defined",
     "output_type": "error",
     "traceback": [
      "UndefVarError: sample not defined",
      "",
      "Stacktrace:",
      " [1] top-level scope",
      "   @ In[30]:1",
      " [2] eval",
      "   @ .\\boot.jl:373 [inlined]",
      " [3] include_string(mapexpr::typeof(REPL.softscope), mod::Module, code::String, filename::String)",
      "   @ Base .\\loading.jl:1196"
     ]
    }
   ],
   "source": [
    "sample(A, 10)"
   ]
  },
  {
   "cell_type": "code",
   "execution_count": 32,
   "id": "1f4d701f",
   "metadata": {},
   "outputs": [
    {
     "data": {
      "text/plain": [
       "BatchSampler{(:state, :action, :reward, :terminal, :next_state)}"
      ]
     },
     "execution_count": 32,
     "metadata": {},
     "output_type": "execute_result"
    }
   ],
   "source": [
    "BatchSampler{SARTS}"
   ]
  },
  {
   "cell_type": "code",
   "execution_count": 33,
   "id": "69492fda",
   "metadata": {},
   "outputs": [
    {
     "ename": "LoadError",
     "evalue": "UndefVarError: p not defined",
     "output_type": "error",
     "traceback": [
      "UndefVarError: p not defined",
      "",
      "Stacktrace:",
      " [1] top-level scope",
      "   @ In[33]:1",
      " [2] eval",
      "   @ .\\boot.jl:373 [inlined]",
      " [3] include_string(mapexpr::typeof(REPL.softscope), mod::Module, code::String, filename::String)",
      "   @ Base .\\loading.jl:1196"
     ]
    }
   ],
   "source": [
    "inds, batch = sample(p.rng, traj, BatchSampler{SARTS}(p.batch_size))"
   ]
  },
  {
   "cell_type": "code",
   "execution_count": 34,
   "id": "facdb6a5",
   "metadata": {},
   "outputs": [
    {
     "data": {
      "text/plain": [
       "1-element Vector{VersionNumber}:\n",
       " v\"6.1.0\""
      ]
     },
     "execution_count": 34,
     "metadata": {},
     "output_type": "execute_result"
    }
   ],
   "source": [
    " [CUDA.capability(dev) for dev in CUDA.devices()]"
   ]
  },
  {
   "cell_type": "code",
   "execution_count": 35,
   "id": "4a1915ad",
   "metadata": {},
   "outputs": [
    {
     "data": {
      "text/plain": [
       "CuDevice(0): NVIDIA GeForce MX150"
      ]
     },
     "execution_count": 35,
     "metadata": {},
     "output_type": "execute_result"
    }
   ],
   "source": [
    "CUDA.device()"
   ]
  },
  {
   "cell_type": "code",
   "execution_count": 36,
   "id": "b07b410f",
   "metadata": {},
   "outputs": [
    {
     "data": {
      "text/plain": [
       "5"
      ]
     },
     "execution_count": 36,
     "metadata": {},
     "output_type": "execute_result"
    }
   ],
   "source": [
    "function add(x, y)\n",
    "    x+y\n",
    "end\n",
    "\n",
    "add(2,3)"
   ]
  },
  {
   "cell_type": "code",
   "execution_count": 51,
   "id": "3c398671",
   "metadata": {},
   "outputs": [
    {
     "name": "stdout",
     "output_type": "stream",
     "text": [
      "nothing"
     ]
    }
   ],
   "source": [
    "Flux.gpu(add)"
   ]
  },
  {
   "cell_type": "code",
   "execution_count": 42,
   "id": "328f7050",
   "metadata": {},
   "outputs": [
    {
     "data": {
      "text/plain": [
       "3"
      ]
     },
     "execution_count": 42,
     "metadata": {},
     "output_type": "execute_result"
    }
   ],
   "source": [
    "add(1, 2)"
   ]
  },
  {
   "cell_type": "code",
   "execution_count": 43,
   "id": "91386cb9",
   "metadata": {},
   "outputs": [
    {
     "data": {
      "text/plain": [
       "3"
      ]
     },
     "execution_count": 43,
     "metadata": {},
     "output_type": "execute_result"
    }
   ],
   "source": [
    "x= cu(1)\n",
    "y = cu(2)\n",
    "add(x, y)"
   ]
  },
  {
   "cell_type": "code",
   "execution_count": 45,
   "id": "ec50811a",
   "metadata": {},
   "outputs": [
    {
     "ename": "LoadError",
     "evalue": "UndefVarError: type not defined",
     "output_type": "error",
     "traceback": [
      "UndefVarError: type not defined",
      "",
      "Stacktrace:",
      " [1] top-level scope",
      "   @ In[45]:1",
      " [2] eval",
      "   @ .\\boot.jl:373 [inlined]",
      " [3] include_string(mapexpr::typeof(REPL.softscope), mod::Module, code::String, filename::String)",
      "   @ Base .\\loading.jl:1196"
     ]
    }
   ],
   "source": []
  },
  {
   "cell_type": "code",
   "execution_count": 46,
   "id": "56261134",
   "metadata": {},
   "outputs": [
    {
     "name": "stdout",
     "output_type": "stream",
     "text": [
      "  21.486 ns (0 allocations: 0 bytes)\n"
     ]
    },
    {
     "data": {
      "text/plain": [
       "3"
      ]
     },
     "execution_count": 46,
     "metadata": {},
     "output_type": "execute_result"
    }
   ],
   "source": [
    "@btime add(x,y)"
   ]
  },
  {
   "cell_type": "code",
   "execution_count": 47,
   "id": "2eaf5582",
   "metadata": {},
   "outputs": [
    {
     "name": "stdout",
     "output_type": "stream",
     "text": [
      "  383.744 ns (3 allocations: 352 bytes)\n"
     ]
    },
    {
     "data": {
      "text/plain": [
       "3"
      ]
     },
     "execution_count": 47,
     "metadata": {},
     "output_type": "execute_result"
    }
   ],
   "source": [
    "@btime Flux.gpu(add(x,y))"
   ]
  },
  {
   "cell_type": "code",
   "execution_count": 49,
   "id": "bb694368",
   "metadata": {},
   "outputs": [
    {
     "data": {
      "text/html": [
       "# 1 method for generic function <b>add</b>:<ul><li> add(x, y) in Main at In[36]:1</li> </ul>"
      ],
      "text/plain": [
       "# 1 method for generic function \"add\":\n",
       "[1] add(x, y) in Main at In[36]:1"
      ]
     },
     "execution_count": 49,
     "metadata": {},
     "output_type": "execute_result"
    }
   ],
   "source": [
    "methods(add)"
   ]
  },
  {
   "cell_type": "code",
   "execution_count": null,
   "id": "39b088fb",
   "metadata": {},
   "outputs": [],
   "source": [
    "()"
   ]
  }
 ],
 "metadata": {
  "kernelspec": {
   "display_name": "Julia 1.7.2",
   "language": "julia",
   "name": "julia-1.7"
  },
  "language_info": {
   "file_extension": ".jl",
   "mimetype": "application/julia",
   "name": "julia",
   "version": "1.7.2"
  }
 },
 "nbformat": 4,
 "nbformat_minor": 5
}
