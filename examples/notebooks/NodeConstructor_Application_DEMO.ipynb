{
 "cells": [
  {
   "cell_type": "markdown",
   "id": "7db2b578",
   "metadata": {},
   "source": [
    "# NodeConstructor Application\n",
    "\n",
    "The creation of a grid always follows a certain pattern and can therefore be automated. In this way, you can avoid errors that may arise from the handwritten rearrangement of the equations. It is therefore obvious to write an automatism for the generation, which generates the matrices on the basis of input parameters. In this notebook we will discuss:\n",
    "\n",
    "- ### Automatic Generation of Grids\n",
    "- ### Three-phase Systems"
   ]
  },
  {
   "cell_type": "markdown",
   "id": "2ae3d2ef",
   "metadata": {},
   "source": [
    "## Automatic Generation of Grids"
   ]
  },
  {
   "cell_type": "markdown",
   "id": "cace0c05",
   "metadata": {},
   "source": [
    "In this part of the notebook the example of the `NodeConstructor_Theory.ipynb` shall be reproduced with the help of the NodeConstructor.\n",
    "\n",
    "An important point is the information about how the components are connected by which cable. To pass this information to the NodeConstructor we introduce the connection matrix (`CM`)."
   ]
  },
  {
   "cell_type": "markdown",
   "id": "ae622aa4",
   "metadata": {},
   "source": [
    "### Structured Grid Generation via Connection Matrix"
   ]
  },
  {
   "cell_type": "markdown",
   "id": "0227d19b",
   "metadata": {},
   "source": [
    "The connection matrix specifies how the elements of the grid are connected. In our grid there are two basic elements: sources and loads, which are then connected via cables.\n",
    "\n",
    "To get a better understanding of the CM, the CM of the previous example is shown below:"
   ]
  },
  {
   "cell_type": "markdown",
   "id": "d1de021b",
   "metadata": {},
   "source": [
    "| From\\To  | Source 1 | Source 2 | Load 1 |\n",
    "|:---------|:--------:|:--------:|:------:|\n",
    "| **Source 1** |     0    |     0    |    1   |\n",
    "| **Source 2** |     0    |     0    |    2   |\n",
    "| **Load 1**   |    -1    |    -2    |    0   |"
   ]
  },
  {
   "cell_type": "markdown",
   "id": "d55bb29e",
   "metadata": {},
   "source": [
    "The first column of the above matrix indicates which element we start from. The sources are considered first and after that the loads. The first row of the matrix indicates the elements to which we can connect. The number and order is identical to the first column.\n",
    "\n",
    "Since our grid elements cannot be connected to themselves, there are always zeros on the main diagonal. In the second row of the table we can now identify the connections of the first source. This source is not connected to the second source but to the first load, which is why we find a \"1\" in this cell. We can read this entry as: \"Source 1 is connected to load 1 by cable 1\". In the third row of the table above, all connections are made from source 2, which is connected to load 1 via cable 2. The fourth line contains the connections of the 1 load. As shown before, it is connected to source 1 and source 2, but the entries have a negative sign. The negative sign indicates that the flow direction of the current is assumed to be negative. The sign of the entries is taken into account when constructing the DGLs, but has no influence on the subsequent current flow in the simulation. The matrix is antisymmetric, which means that we have a mirroring of the matrix along the main diagonal with the sign of the entries reversed.\n",
    "\n",
    "In Julia, this matrix then looks like this:"
   ]
  },
  {
   "cell_type": "code",
   "execution_count": null,
   "id": "898df96b",
   "metadata": {},
   "outputs": [],
   "source": [
    "CM = [ 0  0  1\n",
    "       0  0  2\n",
    "      -1 -2  0];"
   ]
  },
  {
   "cell_type": "markdown",
   "id": "e2b84179",
   "metadata": {},
   "source": [
    "We now import the JuliaElectricGrid package:"
   ]
  },
  {
   "cell_type": "code",
   "execution_count": null,
   "id": "08e01153",
   "metadata": {},
   "outputs": [],
   "source": [
    "# Import the package\n",
    "using JEG"
   ]
  },
  {
   "cell_type": "markdown",
   "id": "c160db41",
   "metadata": {},
   "source": [
    "To reproduce the above example exactly, the important parameters must be passed through the parameter dict: "
   ]
  },
  {
   "cell_type": "code",
   "execution_count": null,
   "id": "9511270c",
   "metadata": {},
   "outputs": [],
   "source": [
    "# Source\n",
    "R = 1.1e-3\n",
    "L = 70e-6\n",
    "R_c = 7e-3\n",
    "C = 250e-6\n",
    "\n",
    "# Cable\n",
    "C_b = 1e-4/2\n",
    "L_b = 1e-4\n",
    "R_b = 1e-3\n",
    "\n",
    "# Load\n",
    "R_l = 100\n",
    "C_l = 1e-2\n",
    "L_l = 1e-2;"
   ]
  },
  {
   "cell_type": "code",
   "execution_count": null,
   "id": "cebc780e",
   "metadata": {},
   "outputs": [],
   "source": [
    "parameters = Dict()\n",
    "\n",
    "grid_properties = Dict()\n",
    "grid_properties[\"fs\"] =  10e3\n",
    "grid_properties[\"v_rms\"] = 230\n",
    "grid_properties[\"phase\"] = 1;\n",
    "parameters[\"grid\"] = grid_properties\n",
    "\n",
    "source1 = Dict()\n",
    "source2 = Dict()\n",
    "source_list = []\n",
    "\n",
    "source1[\"fltr\"] = \"LCL\"\n",
    "source1[\"R1\"] = R\n",
    "source1[\"L1\"] = L\n",
    "source1[\"C\"] = C\n",
    "source1[\"R_C\"] = R_c\n",
    "source1[\"R2\"] = R\n",
    "source1[\"L2\"] = L\n",
    "\n",
    "source2[\"fltr\"] = \"LC\"\n",
    "source2[\"R1\"] = R\n",
    "source2[\"L1\"] = L\n",
    "source2[\"C\"] = C\n",
    "source2[\"R_C\"] = R_c\n",
    "push!(source_list, source1, source2)\n",
    "\n",
    "parameters[\"source\"] = source_list\n",
    "\n",
    "cable = Dict()\n",
    "cable[\"R\"] = R_b\n",
    "cable[\"L\"] = L_b\n",
    "cable[\"C\"] = C_b\n",
    "cable_list = []\n",
    "\n",
    "push!(cable_list, cable, cable);\n",
    "parameters[\"cable\"] = cable_list\n",
    "\n",
    "load1 = Dict()\n",
    "load_list = []\n",
    "\n",
    "load1[\"impedance\"] = \"RLC\"\n",
    "load1[\"R\"] = R_l;\n",
    "load1[\"L\"] = L_l;\n",
    "load1[\"C\"] = C_l;\n",
    "\n",
    "push!(load_list, load1);\n",
    "parameters[\"load\"] = load_list;"
   ]
  },
  {
   "cell_type": "markdown",
   "id": "268f1c74",
   "metadata": {},
   "source": [
    "Now the NodeConstructor is called. In addition to the number of sources and loads, this also receives the CM and the parameter dict:"
   ]
  },
  {
   "cell_type": "code",
   "execution_count": null,
   "id": "2d874b9a",
   "metadata": {
    "scrolled": false
   },
   "outputs": [],
   "source": [
    "S2_L1 = NodeConstructor(num_sources=2, num_loads=1, parameters=parameters, CM=CM);"
   ]
  },
  {
   "cell_type": "markdown",
   "id": "70324bfa",
   "metadata": {},
   "source": [
    "With the function `DrawGraph()` the topology of the grid can now be displayed. Here, the color orange corresponds to a source and the color blue corresponds to a load."
   ]
  },
  {
   "cell_type": "code",
   "execution_count": null,
   "id": "0dfea61e",
   "metadata": {},
   "outputs": [],
   "source": [
    "DrawGraph(S2_L1)"
   ]
  },
  {
   "cell_type": "markdown",
   "id": "84112f3f",
   "metadata": {},
   "source": [
    "After the grid has been created it can be passed to the function `GetSystem()`, which then returns the system matrices for the state space representation in the continous time domain."
   ]
  },
  {
   "cell_type": "code",
   "execution_count": null,
   "id": "d32b4cfa",
   "metadata": {},
   "outputs": [],
   "source": [
    "A, B, C, D = GetSystem(S2_L1);"
   ]
  },
  {
   "cell_type": "markdown",
   "id": "4a4820db",
   "metadata": {},
   "source": [
    "We convert the matrices into the discrete time domain and create a discrete StateSpace object with the help of `ControlSystems`. This object can then represent the dynamics of the system for a given time interval using the function `lsim()`."
   ]
  },
  {
   "cell_type": "code",
   "execution_count": null,
   "id": "2bbbfcb5",
   "metadata": {},
   "outputs": [],
   "source": [
    "ts = 1e-5\n",
    "Ad = exp(A*ts)\n",
    "Bd = A \\ (Ad - C) * B\n",
    "sys_d = StateSpace(Ad, Bd, C, D, ts);"
   ]
  },
  {
   "cell_type": "markdown",
   "id": "a9d76899",
   "metadata": {},
   "source": [
    "To use `lsim()` you need defined initial states `x0`, a time vector `t` and a input signal `u`. In our case we apply a jump to 250 V to the system."
   ]
  },
  {
   "cell_type": "code",
   "execution_count": null,
   "id": "6560be47",
   "metadata": {},
   "outputs": [],
   "source": [
    "ns = length(A[1,:]) # get num of states\n",
    "ni = length(B[1,:]) # get num of inputs\n",
    "t = collect(0:ts:0.1)\n",
    "x0 = [0.0 for i = 1:ns]\n",
    "u = [250.0 for i = 1:length(t)]\n",
    "uu = [u for i = 1:ni ]\n",
    "uuu = mapreduce(permutedims, vcat, uu);"
   ]
  },
  {
   "cell_type": "markdown",
   "id": "b5e40cc1",
   "metadata": {},
   "source": [
    "`lsim()` now solves the difference equations for the given time steps and we can observe how the states evolve."
   ]
  },
  {
   "cell_type": "code",
   "execution_count": null,
   "id": "27941a42",
   "metadata": {},
   "outputs": [],
   "source": [
    "xout, _, _, _ = lsim(sys_d,uuu,t,x0=x0);"
   ]
  },
  {
   "cell_type": "markdown",
   "id": "24fd6961",
   "metadata": {},
   "source": [
    "Here we plot the voltage across the capacitor in the first source."
   ]
  },
  {
   "cell_type": "code",
   "execution_count": null,
   "id": "1002c3bd",
   "metadata": {},
   "outputs": [],
   "source": [
    "layout = Layout(xaxis_title=\"Time in µs\", yaxis_title=\"v_C / V\")\n",
    "p = plot(t, xout[2,:], layout)"
   ]
  },
  {
   "cell_type": "markdown",
   "id": "a6c7be65",
   "metadata": {},
   "source": [
    "### Random Grid Generation \n",
    "\n",
    "The manual creation of a grid can be time consuming because all parameters have to be specified. To quickly create different topologies with little effort, automatic generation can be used. t only needs the number of sources and loads, all other parameters are set by default or are randomly selected. An important feature is the creation of random node structures, where the parameters of the elements are chosen randomly."
   ]
  },
  {
   "cell_type": "code",
   "execution_count": null,
   "id": "856b41db",
   "metadata": {
    "scrolled": true
   },
   "outputs": [],
   "source": [
    "S2_L2_FC = NodeConstructor(num_sources=2, num_loads=2);"
   ]
  },
  {
   "cell_type": "markdown",
   "id": "9c1b7141",
   "metadata": {},
   "source": [
    "To create the CM matrix randomly, the parameters `S2S_p`, `L2L_p` and `S2L_p` can also be used to set the connection probabilities. These indicate the probability with which a source/load will be connected to any other source/load. A fully connected grid would be obtained if all parameters are set to 1."
   ]
  },
  {
   "cell_type": "code",
   "execution_count": null,
   "id": "854421ad",
   "metadata": {},
   "outputs": [],
   "source": [
    "S2_L2_FC = NodeConstructor(num_sources=2, num_loads=2, S2S_p=1, S2L_p=1, L2L_p=1);"
   ]
  },
  {
   "cell_type": "markdown",
   "id": "fdba3e51",
   "metadata": {},
   "source": [
    "Let's check the CM matrix."
   ]
  },
  {
   "cell_type": "code",
   "execution_count": null,
   "id": "4b727ee6",
   "metadata": {},
   "outputs": [],
   "source": [
    "S2_L2_FC.CM"
   ]
  },
  {
   "cell_type": "markdown",
   "id": "be551e90",
   "metadata": {},
   "source": [
    "With a look into the parameter dict we also see that the parameters of the individual elements were randomly generated. The current policy for the sources is that an LC filter is always taken and the other filter types are chosen randomly."
   ]
  },
  {
   "cell_type": "code",
   "execution_count": null,
   "id": "359aba05",
   "metadata": {},
   "outputs": [],
   "source": [
    "S2_L2_FC.parameters[\"source\"]"
   ]
  },
  {
   "cell_type": "markdown",
   "id": "65d4b92e",
   "metadata": {},
   "source": [
    "For larger networks, of course, only the number of sources and loads can be handed over, so that the network structures are created on the basis of the default values. An important point here is that it is ensured that no subnets are created. By default, it is ensured that each element of the network has at least one connection to the other components of the network, so that no subnetworks are created.\n",
    "\n",
    "Internally, this is done by checking for connections for each element. If these are not present, they are automatically created. For smaller networks it is advisable to specify a CM matrix, because otherwise usually too many connections are made than necessary. However, this is no longer noticeable with more than 10+ elements."
   ]
  },
  {
   "cell_type": "code",
   "execution_count": null,
   "id": "f66105c5",
   "metadata": {},
   "outputs": [],
   "source": [
    "S5_L15 = NodeConstructor(num_sources=5, num_loads=15);"
   ]
  },
  {
   "cell_type": "markdown",
   "id": "ac00ae85",
   "metadata": {},
   "source": [
    "## Three-phase simulation"
   ]
  },
  {
   "cell_type": "markdown",
   "id": "7a33f4b0",
   "metadata": {},
   "source": [
    "Until now, only single-phase grids have been created with NodeConstructor. However, the default value for the number of phases is 3, so we will now also consider the three-phase variant. For the simulation of the grid in 3 phases the system matrix is extended:\n",
    "\n",
    "\\begin{equation}\n",
    "A_{all} = \\begin{pmatrix}\n",
    "        A_{a} & 0 & 0 \\\\\n",
    "        0 & A_{b} & 0 \\\\\n",
    "        0 & 0 & A_{c} \n",
    "    \\end{pmatrix}\n",
    "\\end{equation}\n",
    "\n",
    "Lets see how this looks like in Julia."
   ]
  },
  {
   "cell_type": "code",
   "execution_count": null,
   "id": "fe8f5597",
   "metadata": {},
   "outputs": [],
   "source": [
    "S1_L2 = NodeConstructor(num_sources=1, num_loads=2);"
   ]
  },
  {
   "cell_type": "code",
   "execution_count": null,
   "id": "81b0cdf7",
   "metadata": {},
   "outputs": [],
   "source": [
    "S1_L2.parameters[\"grid\"][\"phase\"]"
   ]
  },
  {
   "cell_type": "code",
   "execution_count": null,
   "id": "d729c3d6",
   "metadata": {},
   "outputs": [],
   "source": [
    "A, B, C, D = GetSystem(S1_L2)\n",
    "ts = 1e-4\n",
    "Ad = exp(A*ts)\n",
    "Bd = A \\ (Ad - C) * B\n",
    "sys_d = StateSpace(Ad, Bd, C, D, ts);"
   ]
  },
  {
   "cell_type": "markdown",
   "id": "9d155c22",
   "metadata": {},
   "source": [
    "We then collect a few useful variables and set the time horizon for the simulation."
   ]
  },
  {
   "cell_type": "code",
   "execution_count": null,
   "id": "6742eae7",
   "metadata": {},
   "outputs": [],
   "source": [
    "ns = S1_L2.num_spp  # get num of states per phase\n",
    "ni = S1_L2.num_sources # get num of inputs per phase\n",
    "t = collect(0:ts:1);"
   ]
  },
  {
   "cell_type": "markdown",
   "id": "25503285",
   "metadata": {},
   "source": [
    "Next we want to generate the three-phase input signals and repeat it for the number of sources:"
   ]
  },
  {
   "cell_type": "code",
   "execution_count": null,
   "id": "4a2ba415",
   "metadata": {},
   "outputs": [],
   "source": [
    "# Stepfunction\n",
    "u = sqrt(2)*[230, 0, -230]\n",
    "uu = repeat(u, inner=ni) .* ones(length(t))';"
   ]
  },
  {
   "cell_type": "code",
   "execution_count": null,
   "id": "9a9758b7",
   "metadata": {},
   "outputs": [],
   "source": [
    "# Sin wave\n",
    "u = [230 * sin.(2*pi*t .- 2/3*pi*(i-1)) for i = 1:3]\n",
    "uu = transpose(hcat(repeat(u[1], inner=[1,ni]),repeat(u[2], inner=[1,ni]),repeat(u[3], inner=[1,ni])));"
   ]
  },
  {
   "cell_type": "markdown",
   "id": "38b7c27f",
   "metadata": {},
   "source": [
    "Lets have a look:"
   ]
  },
  {
   "cell_type": "code",
   "execution_count": null,
   "id": "398e536e",
   "metadata": {},
   "outputs": [],
   "source": [
    "layout = Layout(xaxis_title=\"Time in µs\", yaxis_title=\"U in V\")\n",
    "input = 1\n",
    "\n",
    "phase_a = scatter(x=t, y=uu[input+ni*0,:], mode=\"lines\", name=\"Phase A\")\n",
    "phase_b = scatter(x=t, y=uu[input+ni*1,:], mode=\"lines\", name=\"Phase B\")\n",
    "phase_c = scatter(x=t, y=uu[input+ni*2,:], mode=\"lines\", name=\"Phase C\")\n",
    "\n",
    "plot([phase_a, phase_b, phase_c], layout)"
   ]
  },
  {
   "cell_type": "markdown",
   "id": "d6cec2be",
   "metadata": {},
   "source": [
    "Again, the discretized matrices can now be used to model the grid."
   ]
  },
  {
   "cell_type": "code",
   "execution_count": null,
   "id": "c4f34ffc",
   "metadata": {},
   "outputs": [],
   "source": [
    "x0 = [0.0 for i = 1:ns*3]\n",
    "xout, _, _, _ = lsim(sys_d,uu,t,x0=x0);"
   ]
  },
  {
   "cell_type": "markdown",
   "id": "8fb97bff",
   "metadata": {},
   "source": [
    "Now a state can be selected and the corresponding trajectories can be plotted."
   ]
  },
  {
   "cell_type": "code",
   "execution_count": null,
   "id": "5ac6268d",
   "metadata": {},
   "outputs": [],
   "source": [
    "state_list = GetStateIds(S1_L2)"
   ]
  },
  {
   "cell_type": "code",
   "execution_count": null,
   "id": "50497cac",
   "metadata": {},
   "outputs": [],
   "source": [
    "state = 3\n",
    "state_list = GetStateIds(S1_L2)\n",
    "\n",
    "layout = Layout(xaxis_title=\"Time in µs\", yaxis_title=\"$(state_list[state]) in V\")\n",
    "\n",
    "phase_a = scatter(x=t, y=xout[state+ns*0,:], mode=\"lines\", name=\"Phase A\")\n",
    "phase_b = scatter(x=t, y=xout[state+ns*1,:], mode=\"lines\", name=\"Phase B\")\n",
    "phase_c = scatter(x=t, y=xout[state+ns*2,:], mode=\"lines\", name=\"Phase C\")\n",
    "\n",
    "plot([phase_a, phase_b, phase_c], layout)\n"
   ]
  },
  {
   "cell_type": "markdown",
   "id": "6c2b3872",
   "metadata": {},
   "source": [
    "### Access to the different states"
   ]
  },
  {
   "cell_type": "markdown",
   "id": "2ac99a0c",
   "metadata": {},
   "source": [
    "A way to get the different states of our NodeConstructor is to use the function `GetStateIds()`."
   ]
  },
  {
   "cell_type": "code",
   "execution_count": null,
   "id": "1410bd96",
   "metadata": {},
   "outputs": [],
   "source": [
    "state_list = GetStateIds(S1_L2)"
   ]
  },
  {
   "cell_type": "markdown",
   "id": "a8f3115f",
   "metadata": {},
   "source": [
    "The IDs created here are unique and can be used to access particular states. When creating the IDs, the sources are checked first in the order LCL, LC and then L. Then the cables are listed, which are also arranged in order. For the loads the order is RLC, LC, RL, L, RC, C and then R.\n",
    "\n",
    "For the three-phase case, the state IDs are repeated and the respective phase is added.\n",
    "\n",
    "These can then be accessed as follows:"
   ]
  },
  {
   "cell_type": "code",
   "execution_count": null,
   "id": "16cb151a",
   "metadata": {},
   "outputs": [],
   "source": [
    "state = 3\n",
    "println(state_list[state+ns*0])\n",
    "println(state_list[state+ns*1])\n",
    "println(state_list[state+ns*2])"
   ]
  },
  {
   "cell_type": "markdown",
   "id": "7df87a77",
   "metadata": {},
   "source": [
    "Or:"
   ]
  },
  {
   "cell_type": "code",
   "execution_count": null,
   "id": "3bad98ee",
   "metadata": {},
   "outputs": [],
   "source": [
    "state = \"source1_i_L1\"\n",
    "idx_of_state = findall(x->occursin(state, x), state_list)\n",
    "idx = idx_of_state"
   ]
  },
  {
   "cell_type": "code",
   "execution_count": null,
   "id": "18ac1c00",
   "metadata": {},
   "outputs": [],
   "source": [
    "state = \"source1_i_L1_a\"\n",
    "idx_of_state = findall(x->occursin(state, x), state_list)\n",
    "idx = idx_of_state"
   ]
  },
  {
   "cell_type": "markdown",
   "id": "9e4c044d",
   "metadata": {},
   "source": [
    "The actions in the grid are also assigned unique IDs, here the sources are sorted in order. The IDs are output via the function `GetActionIds()`."
   ]
  },
  {
   "cell_type": "code",
   "execution_count": null,
   "id": "6311cdfe",
   "metadata": {},
   "outputs": [],
   "source": [
    "GetActionIds(S1_L2)"
   ]
  },
  {
   "cell_type": "code",
   "execution_count": null,
   "id": "bb4503c2",
   "metadata": {},
   "outputs": [],
   "source": []
  }
 ],
 "metadata": {
  "@webio": {
   "lastCommId": "72ccfeaeeaf94ddb864847f81781eadb",
   "lastKernelId": "e95a6ff3-e0a7-46a3-a2be-0cdd4c2b8534"
  },
  "kernelspec": {
   "display_name": "Julia 1.8.5",
   "language": "julia",
   "name": "julia-1.8"
  },
  "language_info": {
   "file_extension": ".jl",
   "mimetype": "application/julia",
   "name": "julia",
   "version": "1.8.5"
  }
 },
 "nbformat": 4,
 "nbformat_minor": 5
}
