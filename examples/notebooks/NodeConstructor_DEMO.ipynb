{
 "cells": [
  {
   "cell_type": "markdown",
   "id": "1aa1010c",
   "metadata": {},
   "source": [
    "# NodeConstructor Demo"
   ]
  },
  {
   "attachments": {},
   "cell_type": "markdown",
   "id": "567425c1",
   "metadata": {},
   "source": [
    "The NodeConstructor has the goal to convert the physical system, here the grid, into a mathematical model. This mathematical model can then be used to simulate the behavior of the network. This notebook addresses the following points:\n",
    "\n",
    "- ### Introduction to the NodeConstructor\n",
    "- ### Representation of the physical grid\n",
    "- ### Building of the state-space matrices\n"
   ]
  },
  {
   "cell_type": "markdown",
   "id": "503c296e",
   "metadata": {},
   "source": [
    "## Introduction"
   ]
  },
  {
   "attachments": {},
   "cell_type": "markdown",
   "id": "95c30e03",
   "metadata": {},
   "source": [
    "![Illustration of where the NodeConstructor is located](figures/OverviewJEG.png \"\")\n",
    "\n",
    "The NodeConstructor is part of the enviroment (see graphic). Its function is to create the mathematical model of the grid to be simulated. The inputs for the NodeConstructor are the specifications of the grid, which will be discussed in more detail subsequently. Within the NodeConstructor, an ordinary differential equation (ODE) system is created based on the underlying physical models and properties of the individual components. Based on this ODE system, the necessary matrices can be extracted.\n",
    "\n",
    "In the following, we will discuss how the mathematical model of an electrical power grid can be generated using the NodeConstructor."
   ]
  },
  {
   "attachments": {},
   "cell_type": "markdown",
   "id": "f0a0e9bf",
   "metadata": {},
   "source": [
    "## Modelling a physical grid"
   ]
  },
  {
   "attachments": {},
   "cell_type": "markdown",
   "id": "22618086",
   "metadata": {},
   "source": [
    "The following graphic shows a simple example grid:\n",
    "\n",
    "\n",
    "![ExampleGrid](figures/ExampleGrid.png \"Illustration of a simple network and its electrical equivalent circuit diagram.\")\n",
    "\n",
    "Two sources (wind turbine on the left and PV arrays on the right), as well as a load (exemplary of a household which is composed of various objects) can be seen in this. In addition, the sources are connected to the load via cables. For the sources, we assume that the voltage is provided by a DC link, so we can assume that the voltage can be modeled by a voltage source and a filter. Loads are divided into active loads, which, based on an internal function, can take power from the network, and passive loads, which are described by their resistive, capacitive and/or inductive components and thus dissipate a certain power. Cable modeling relies on the Pi equivalent circuit like depicted in the fiure below.\n",
    "\n",
    "If you abstract the above figure and insert the respective components according to the description, you get the following single-phase circuit:\n",
    "\n",
    "![ExampleGridCurcuit](figures/ExampleGridCurcuit.png \"Abstraction of the previously presented example grid.\")\n",
    "\n",
    "With the help of this example, we will now discuss the derivation of a mathematical model and what information the NodeConstructor will later need to generate this model automatically."
   ]
  },
  {
   "cell_type": "markdown",
   "id": "9345679b",
   "metadata": {},
   "source": [
    "### Fundamentals of electrical engineering"
   ]
  },
  {
   "attachments": {},
   "cell_type": "markdown",
   "id": "b5858e7e",
   "metadata": {},
   "source": [
    "If we annotate the above equivalent circuit, we get the following representation:\n",
    "\n",
    "![ExampleGridCurcuitAnnotations](figures/ExampleGridCurcuit_Annotations_Kirchhof.png \"Equivalent curcuit with annotations.\")\n",
    "\n",
    "In this, the components are annotated and the currents are noted with the technical flow direction. For the sake of clarity, the voltages are only indicated by green arrows, but have the same name as the corresponding component to which they are applied.\n",
    "\n",
    "Based on the components within the equivalent circuit diagram, we can now construct the differential equations. Togehter with Kirchhoff's laws\n",
    "\n",
    "\\begin{align}\n",
    "    \\sum_k^n i_k(t) &= 0,\\\\\n",
    "    \\sum_k^n u_n(t) &= 0\n",
    "\\end{align}\n",
    "\n",
    "and the component equations\n",
    "\n",
    "\\begin{align}\n",
    "    u(t) &= R i(t),\\\\\n",
    "    i(t) &= C\\dot u(t),\\\\\n",
    "    u(t) &= L\\dot i(t).\n",
    "\\end{align}\n",
    "\n",
    "This gives the following equation system:\n",
    "\n",
    "\\begin{align}\n",
    "    \\text{M1:}\\;& 0 = u_{in1}  - u_{R11} - u_{L11} - u_{C11} - u_{RC1}, \\tag{1}\\label{equ:1}\\\\\n",
    "    \\text{M2:}\\;& 0 = u_{C11} + u_{RC1} - u_{Cb11},\\tag{2}\\label{equ:2}\\\\\n",
    "    \\text{M3:}\\;& 0 = u_{Cb11} - u_{Rb1} - u_{Lb1} - u_{Cb21},\\tag{3}\\label{equ:3}\\\\\n",
    "    \\text{M4:}\\;& 0 = u_{RL} - u_{LL}, \\tag{4}\\label{equ:4}\\\\\n",
    "    \\text{M5:}\\;& 0 = u_{Cb22} + u_{Rb2} + u_{Lb2} - u_{Cb12}, \\tag{5}\\label{equ:5}\\\\\n",
    "    \\text{M6:}\\;& 0 = u_{Cb12} + u_{R22} + u_{L22} - u_{C12} - u_{RC2}, \\tag{6}\\label{equ:6}\\\\\n",
    "    \\text{M7:}\\;& 0 = u_{RC2} + u_{C12} + u_{L12} + u_{R12} - u_{in2}, \\tag{7}\\label{equ:7}\\\\\n",
    "    \\text{N1:}\\;& 0 = i_{11} - i_{RC1} - i_{Cb11} - i_{Rb1}, \\tag{8}\\label{equ:8}\\\\\n",
    "    \\text{N2:}\\;& 0 = i_{Rb1} - i_{Cb21} - i_{CL} - i_{RL} - i_{LL} - i_{Cb22} + i_{Rb2}, \\tag{9}\\label{equ:9}\\\\\n",
    "    \\text{N3:}\\;& 0 = i_{22} - i_{Rb2} - i_{Cb21}, \\tag{10}\\label{equ:10}\\\\\n",
    "    \\text{N4:}\\;& 0 = i_{12} - i_{RC2} - i_{22}. \\tag{11}\\label{equ:11}\n",
    "\\end{align}\n",
    "\n",
    "\n",
    "\n",
    "For the sake of clarity, the time dependencies are omitted here. For node 2 the connected capacitances are summed up, because there are several capacitors connected in parallel, e.g.:\n",
    "\n",
    "\\begin{equation}\n",
    "    C_{SL} = C_{b1} + C_L + C_{b2}\n",
    "\\end{equation}\n",
    "\n",
    "We then call this capacitor $C_{SL}$ through which the current $i_{CSL}$ flows and the voltage $u_{CSL}$ is applied. Now we insert the component equations into the equations \\ref{equ:1} to \\ref{equ:11} and rearrange them,  so that an ODE system is obtained:\n",
    "\n",
    "\\begin{align}\n",
    "    \\dot i_{11} &= \\frac{1}{L_{11}} \\left( u_{in1}  - R_{11} i_{11} - R_{RC1} i_{RC1} - u_{C12} \\right), \\\\\n",
    "    \\dot u_{C11} &= \\frac{1}{C_{11}R_{C11}} \\left(u_{Cb11} - u_{RC1} \\right), \\\\\n",
    "    \\dot i_{Rb1} &= \\frac{1}{L_{b1}} \\left( u_{Cb11} - i_{Rb1} R_{b1} \\right),\\\\\n",
    "    \\dot i_{LL} &= \\frac{1}{L_{L}} u_{CL}\\\\\n",
    "    \\dot i_{Rb2} &= \\frac{1}{L_{b2}} \\left( u_{Cb12} - i_{Rb2} R_{b2} - u_{Cb22}\\right),\\\\\n",
    "    \\dot i_{22} &= \\frac{1}{L_{22}} \\left( u_{C12}  - i_{22} (R_{C2}+R_{22}) - R_{RC1} i_{RC2} - u_{Cb12} \\right), \\\\\n",
    "    \\dot i_{12} &= \\frac{1}{L_{12}} \\left( u_{in2}  - i_{12} (R_{12} + R_{RC1}) - R_{RC1} i_{C1} - u_{C12} \\right), \\\\\n",
    "    \\dot u_{Cb11} &= \\frac{1}{C_{b1}} \\left(i_{11} - i_{Rb1} - \\frac{1}{R_{C1}} u_{Cb11} + \\frac{1}{R_{C1}} u_{C11}\\right)\\\\\n",
    "    \\dot u_{CSL} &= \\frac{1}{C_{SL}} \\left( i_{Rb1} + i_{Rb2} - \\frac{1}{R_{L}} u_{CSL} - i_{LL} \\right)\\\\\n",
    "    \\dot u_{Cb12} &= \\frac{1}{C_{b2}} \\left(i_{22} - i_{Rb2}\\right).\\\\\n",
    "    \\dot u_{C12} &= \\frac{1}{C_{12}} \\left(i_{12} - i_{22}\\right).\\\\\n",
    "\\end{align}\n",
    "\n",
    "These differential equations describe the system completely and could be solved for exampled using numerical solvers like Forward Euler or Runge-Kutta. "
   ]
  },
  {
   "attachments": {},
   "cell_type": "markdown",
   "id": "8cba7e89",
   "metadata": {},
   "source": [
    "### Forming the system matrices from the ODEs"
   ]
  },
  {
   "attachments": {},
   "cell_type": "markdown",
   "id": "41fb7b45",
   "metadata": {},
   "source": [
    "The differential equations found are now to be converted into the common state-space representation:\n",
    "\n",
    "\\begin{align}\n",
    "    \\dot{\\vec{x}}(t) &= \\mathbf{A} \\vec{x}(t) + \\mathbf{B} \\vec{u}(t)\\\\\n",
    "    \\vec{y}(t) &= \\mathbf{C} \\vec{x}(t) + \\mathbf{D} \\vec{u}(t)\n",
    "\\end{align}\n",
    "\n",
    "Since we are interested in how our grid evolves over time, the first equation is most relevant to our application. $x(t)$ describes in general the state vector, $\\dot x(t)$ the changes of this state vector. The change of the system is described on the one hand by the system dynamics, which is expressed by the matrix $\\mathbf{A}$ and on the other hand by the input signals $u(t)$ acting on the system combined with the matrix $\\mathbf{B}$.\n",
    "\n",
    "For our example, we can find the following state vector:\n",
    "\n",
    "\\begin{equation}\n",
    "    \\vec{x}(t) = \n",
    "    \\begin{pmatrix}\n",
    "        i_{11} & u_{C11} & u_{Cb11}  & i_{12} & u_{C12} & i_{22} & u_{Cb12} & i_{Rb1} & i_{Rb2} & u_{CSL} & i_{LL}\n",
    "    \\end{pmatrix}^\\top\n",
    "\\end{equation}\n",
    "\n",
    "and the following input vector:\n",
    "\n",
    "\\begin{equation}\n",
    "    \\vec{u}(t) = \n",
    "    \\begin{pmatrix}\n",
    "        u_{in1} & u_{in2}\n",
    "    \\end{pmatrix}^\\top.\n",
    "\\end{equation}\n",
    "\n",
    "It should be noted that the order of the states here is first sources, then cables and finally the loads. \n",
    "\n",
    "This leads for the investigated example to the following matrices:\n",
    "\n",
    "\\begin{equation}\n",
    "    \\mathbf{A} = \n",
    "    \\begin{pmatrix}\n",
    "        -\\frac{R_{11}}{L_{11}} & 0 & -\\frac{1}{L_{11}} & 0 & 0 & 0 & 0 & 0 & 0 & 0 & 0\\\\\n",
    "        0 & -\\frac{1}{C_{11} R_{C1}} & \\frac{1}{C_{11} R_{C1}} & 0 & 0 & 0 & 0 & 0 & 0 & 0 & 0\\\\\n",
    "        \\frac{1}{C_{b1}} & \\frac{1}{C_{b1} R_{C1}} & -\\frac{1}{C_{b1} R_{C1}} & 0 & 0 & 0 & 0 & -\\frac{1}{C_{b1}} & 0 & 0 & 0\\\\\n",
    "        0 & 0 & 0 & -\\frac{R_{12} + R_{C2}}{L_{12}} & -\\frac{1}{L_{12}} & \\frac{R_{C2}}{L_{12}} & 0 & 0 & 0 & 0 & 0\\\\\n",
    "        0 & 0 & 0 & \\frac{1}{C_{12}} & 0 & -\\frac{1}{C_{12}} & 0 & 0 & 0 & 0 & 0\\\\\n",
    "        0 & 0 & 0 & \\frac{R_{C2}}{L_{22}} & \\frac{1}{L_{22}} & -\\frac{R_{22} + R_{C2}}{L_{22}} & -\\frac{1}{L_{22}} &0&0&0&0\\\\\n",
    "        0 & 0 & 0 & 0 & 0 & \\frac{1}{C_{b2}} & 0 & 0 & -\\frac{1}{C_{b2}} & 0 & 0\\\\\n",
    "        0 & 0 & \\frac{1}{L_{b1}} & 0 & 0 & 0 & 0 & -\\frac{R_{b1}}{L_{b1}} & 0 & -\\frac{1}{L_{b1}} & 0\\\\\n",
    "        0 & 0 & 0 & 0 & 0 & 0 & \\frac{1}{L_{b2}} & 0 & -\\frac{R_{b2}}{L_{b1}} & -\\frac{1}{L_{b2}} & 0\\\\\n",
    "        0 & 0 & 0 & 0 & 0 & 0 & 0 & \\frac{1}{C_{SL}} & \\frac{1}{C_{SL}} & -\\frac{1}{R_{L} C_{SL}} & -\\frac{1}{C_{SL}}\\\\\n",
    "        0 & 0 & 0 & 0 & 0 & 0 & 0 & 0 & 0 & \\frac{1}{L_{L}} & 0\\\\\n",
    "    \\end{pmatrix}\n",
    "\\end{equation}\n",
    "\n",
    "and\n",
    "\n",
    "\\begin{equation}\n",
    "    \\mathbf{B} = \n",
    "    \\begin{pmatrix}\n",
    "        \\frac{1}{L_{11}} & 0 \\\\\n",
    "        0 & 0 \\\\\n",
    "        0 & 0 \\\\\n",
    "        0 & \\frac{1}{L_{12}} \\\\\n",
    "        0 & 0 \\\\\n",
    "        0 & 0 \\\\\n",
    "        0 & 0 \\\\\n",
    "        0 & 0 \\\\\n",
    "        0 & 0 \\\\\n",
    "        0 & 0 \\\\\n",
    "        0 & 0 \\\\\n",
    "    \\end{pmatrix}\n",
    "\\end{equation}"
   ]
  },
  {
   "cell_type": "markdown",
   "id": "16db875a",
   "metadata": {},
   "source": [
    "### Solving the ODE system"
   ]
  },
  {
   "cell_type": "markdown",
   "id": "ffc56bfb",
   "metadata": {},
   "source": [
    "Theory of exact discritization"
   ]
  },
  {
   "attachments": {},
   "cell_type": "markdown",
   "id": "95976fdc",
   "metadata": {},
   "source": [
    "We now have the state-space matrices we need to simulate the grid.  There are several tools to solve the differential equations. We use the `ControlSystem` package ([Source](https://juliacontrol.github.io/ControlSystems.jl/latest/man/creating_systems/#ss-Creating-State-Space-Systems)), to be more precise the `lsim()` function. (AST Lecture 3, Slide A_d 47 folgende, Quelle)"
   ]
  },
  {
   "cell_type": "code",
   "execution_count": null,
   "id": "f8fb4835",
   "metadata": {},
   "outputs": [],
   "source": [
    "using ControlSystemsBase\n",
    "using LinearAlgebra\n",
    "using PlotlyJS"
   ]
  },
  {
   "cell_type": "markdown",
   "id": "d6f38a88",
   "metadata": {},
   "source": [
    "Next we define some the values of the components:"
   ]
  },
  {
   "cell_type": "code",
   "execution_count": null,
   "id": "d482f2b5",
   "metadata": {},
   "outputs": [],
   "source": [
    "# Source\n",
    "R = 1.1e-3\n",
    "L = 70e-6\n",
    "R_c = 7e-3\n",
    "C = 250e-6\n",
    "\n",
    "# Cable\n",
    "C_b = 1e-4/2\n",
    "L_b = 1e-4\n",
    "R_b = 1e-3\n",
    "\n",
    "# Load\n",
    "R_l = 100\n",
    "C_l = 1e-2\n",
    "L_l = 1e-2;"
   ]
  },
  {
   "attachments": {},
   "cell_type": "markdown",
   "id": "88a2eec9",
   "metadata": {},
   "source": [
    "Now we construct the matrices:"
   ]
  },
  {
   "cell_type": "code",
   "execution_count": null,
   "id": "090afbdf",
   "metadata": {},
   "outputs": [],
   "source": [
    "A = zeros((11,11))\n",
    "A[1,1] = -R/L\n",
    "A[1,3] = -1/L\n",
    "A[2,2] = -1/(C*R_c)\n",
    "A[2,3] = 1/(C*R_c)\n",
    "A[3,1] = 1/C_b\n",
    "A[3,2] = 1/(R_c*C_b)\n",
    "A[3,3] = -1/(R_c*C_b)\n",
    "A[3,8] = -1/C_b\n",
    "A[4,4] = -(R+R_c)/L\n",
    "A[4,5] = -1/L\n",
    "A[4,6] = R_c/L\n",
    "A[5,4] = 1/C\n",
    "A[5,6] = -1/C\n",
    "A[6,4] = R_c/L\n",
    "A[6,5] = 1/L\n",
    "A[6,6] = -(R+R_c)/L\n",
    "A[6,7] = -1/L\n",
    "A[7,6] = 1/C_b\n",
    "A[7,9] = -1/C_b\n",
    "A[8,3] = 1/L_b\n",
    "A[8,8] = -R_b/L_b\n",
    "A[8,10] = -1/L_b\n",
    "A[9,7] = 1/L_b\n",
    "A[9,9] = -R_b/L_b\n",
    "A[9,10] = -1/L_b\n",
    "\n",
    "C_SL = C_b + C_l + C_b\n",
    "\n",
    "A[10,8] = 1/C_SL\n",
    "A[10,9] = 1/C_SL\n",
    "A[10,10] = -1/(R_l*C_SL)\n",
    "A[10,11] = -1/C_SL\n",
    "A[11,10] = 1/L_l;"
   ]
  },
  {
   "cell_type": "code",
   "execution_count": null,
   "id": "1f9eb4d6",
   "metadata": {
    "scrolled": true
   },
   "outputs": [],
   "source": [
    "B = zeros((11,2))\n",
    "\n",
    "B[1,1] = 1/L\n",
    "B[4,2] = 1/L;"
   ]
  },
  {
   "cell_type": "code",
   "execution_count": null,
   "id": "4f75dafc",
   "metadata": {},
   "outputs": [],
   "source": [
    "C = Diagonal(ones(11));"
   ]
  },
  {
   "cell_type": "code",
   "execution_count": null,
   "id": "0489b4cd",
   "metadata": {},
   "outputs": [],
   "source": [
    "D = 0;"
   ]
  },
  {
   "cell_type": "markdown",
   "id": "60833611",
   "metadata": {},
   "source": [
    "We convert the matrices into the discrete time domain and create a discrete StateSpace object with the help of `ControlSystems`. This object can then represent the dynamics of the system for a given time interval using the function `lsim()`."
   ]
  },
  {
   "cell_type": "code",
   "execution_count": null,
   "id": "c9d91037",
   "metadata": {},
   "outputs": [],
   "source": [
    "ts = 1e-5\n",
    "Ad = exp(A*ts)\n",
    "Bd = A \\ (Ad - C) * B\n",
    "sys_d = StateSpace(Ad, Bd, C, D, ts);"
   ]
  },
  {
   "cell_type": "code",
   "execution_count": null,
   "id": "ce129037",
   "metadata": {},
   "outputs": [],
   "source": [
    "ns = length(A[1,:]) # get num of states\n",
    "ni = length(B[1,:]) # get num of inputs\n",
    "t = collect(0:ts:0.1)\n",
    "x0 = [0.0 for i = 1:ns]\n",
    "u = [230.0 for i = 1:length(t)]\n",
    "uu = [u for i = 1:ni ]\n",
    "uuu = mapreduce(permutedims, vcat, uu);"
   ]
  },
  {
   "attachments": {},
   "cell_type": "markdown",
   "id": "7389beff",
   "metadata": {},
   "source": [
    "To use `lsim()` you need defined initial states `x0`, a time vector `t` and a input signal `u`. In our case we apply a jump to 230 V to the system."
   ]
  },
  {
   "cell_type": "code",
   "execution_count": null,
   "id": "8022be1f",
   "metadata": {},
   "outputs": [],
   "source": [
    "xout, _, _, _ = lsim(sys_d,uuu,t,x0=x0);"
   ]
  },
  {
   "cell_type": "code",
   "execution_count": null,
   "id": "e0dd18e1",
   "metadata": {
    "scrolled": false
   },
   "outputs": [],
   "source": [
    "layout = Layout(xaxis_title=\"Time in µs\", yaxis_title=\"v_C / V\")\n",
    "p = plot(t, xout[5,:], layout)"
   ]
  },
  {
   "cell_type": "markdown",
   "id": "7db2b578",
   "metadata": {},
   "source": [
    "## Automatic generation of grids"
   ]
  },
  {
   "attachments": {},
   "cell_type": "markdown",
   "id": "cace0c05",
   "metadata": {},
   "source": [
    "The creation of a grid always follows a certain pattern and can therefore be automated. In this way, you can avoid errors that may arise from the handwritten rearrangement of the equations. It is therefore obvious to write an automatism for the generation, which generates the matrices on the basis of input parameters.\n",
    "\n",
    "In this part of the notebook the above example shall be reproduced with the help of the NodeConstructor.\n",
    "\n",
    "An important point is the information about how the components are connected by which cable. To pass this information to the NodeConstructor we introduce the connection matrix (`CM`)."
   ]
  },
  {
   "cell_type": "markdown",
   "id": "ae622aa4",
   "metadata": {},
   "source": [
    "### Connection matrix"
   ]
  },
  {
   "attachments": {},
   "cell_type": "markdown",
   "id": "0227d19b",
   "metadata": {},
   "source": [
    "The connection matrix specifies how the elements of the grid are connected. In our grid there are two basic elements: sources and loads, which are then connected via cables.\n",
    "\n",
    "To get a better understanding of the CM, the CM of the previous example is shown below:"
   ]
  },
  {
   "cell_type": "markdown",
   "id": "d1de021b",
   "metadata": {},
   "source": [
    "| From\\To  | Source 1 | Source 2 | Load 1 |\n",
    "|:---------|:--------:|:--------:|:------:|\n",
    "| **Source 1** |     0    |     0    |    1   |\n",
    "| **Source 2** |     0    |     0    |    2   |\n",
    "| **Load 1**   |    -1    |    -2    |    0   |"
   ]
  },
  {
   "attachments": {},
   "cell_type": "markdown",
   "id": "d55bb29e",
   "metadata": {},
   "source": [
    "The first column of the above matrix indicates which element we start from. The sources are considered first and after that the loads. The first row of the matrix indicates the elements to which we can connect. The number and order is identical to the first column.\n",
    "\n",
    "Since our grid elements cannot be connected to themselves, there are always zeros on the main diagonal. In the second row of the table we can now identify the connections of the first source. This source is not connected to the second source but to the first load, which is why we find a \"1\" in this cell. We can read this entry as: \"Source 1 is connected to load 1 by cable 1\". In the third row of the table above, all connections are made from source 2, which is connected to load 1 via cable 2. The fourth line contains the connections of the 1 load. As shown before, it is connected to source 1 and source 2, but the entries have a negative sign. The negative sign indicates that the flow direction of the current is assumed to be negative. The sign of the entries is taken into account when constructing the DGLs, but has no influence on the subsequent current flow in the simulation. The matrix is antisymmetric, which means that we have a mirroring of the matrix along the main diagonal with the sign of the entries reversed.\n",
    "\n",
    "In Julia, this matrix then looks like this:"
   ]
  },
  {
   "cell_type": "code",
   "execution_count": null,
   "id": "898df96b",
   "metadata": {},
   "outputs": [],
   "source": [
    "CM = [ 0  0  1\n",
    "       0  0  2\n",
    "      -1 -2  0];"
   ]
  },
  {
   "cell_type": "markdown",
   "id": "e2b84179",
   "metadata": {},
   "source": [
    "We now import the JuliaElectricGrid package:"
   ]
  },
  {
   "cell_type": "code",
   "execution_count": null,
   "id": "08e01153",
   "metadata": {},
   "outputs": [],
   "source": [
    "# Import the package\n",
    "using JEG"
   ]
  },
  {
   "cell_type": "markdown",
   "id": "c160db41",
   "metadata": {},
   "source": [
    "To reproduce the above example exactly, the important parameters must be passed through the parameter dict: "
   ]
  },
  {
   "cell_type": "code",
   "execution_count": null,
   "id": "cebc780e",
   "metadata": {},
   "outputs": [],
   "source": [
    "parameters = Dict()\n",
    "\n",
    "grid_properties = Dict()\n",
    "grid_properties[\"fs\"] =  10e3\n",
    "grid_properties[\"v_rms\"] = 230\n",
    "grid_properties[\"phase\"] = 1;\n",
    "parameters[\"grid\"] = grid_properties\n",
    "\n",
    "source1 = Dict()\n",
    "source2 = Dict()\n",
    "source_list = []\n",
    "\n",
    "source1[\"fltr\"] = \"LCL\"\n",
    "source1[\"R1\"] = R\n",
    "source1[\"L1\"] = L\n",
    "source1[\"C\"] = C\n",
    "source1[\"R_C\"] = R_c\n",
    "source1[\"R2\"] = R\n",
    "source1[\"L2\"] = L\n",
    "\n",
    "source2[\"fltr\"] = \"LC\"\n",
    "source2[\"R1\"] = R\n",
    "source2[\"L1\"] = L\n",
    "source2[\"C\"] = C\n",
    "source2[\"R_C\"] = R_c\n",
    "push!(source_list, source1, source2)\n",
    "\n",
    "parameters[\"source\"] = source_list\n",
    "\n",
    "cable = Dict()\n",
    "cable[\"R\"] = R_b\n",
    "cable[\"L\"] = L_b\n",
    "cable[\"C\"] = C_b\n",
    "cable_list = []\n",
    "\n",
    "push!(cable_list, cable, cable);\n",
    "parameters[\"cable\"] = cable_list\n",
    "\n",
    "load1 = Dict()\n",
    "load_list = []\n",
    "\n",
    "load1[\"impedance\"] = \"RLC\"\n",
    "load1[\"R\"] = R_l;\n",
    "load1[\"L\"] = L_l;\n",
    "load1[\"C\"] = C_l;\n",
    "\n",
    "push!(load_list, load1);\n",
    "parameters[\"load\"] = load_list;"
   ]
  },
  {
   "cell_type": "markdown",
   "id": "268f1c74",
   "metadata": {},
   "source": [
    "Now the NodeConstructor is called. In addition to the number of sources and loads, this also receives the CM and the parameter dict:"
   ]
  },
  {
   "cell_type": "code",
   "execution_count": null,
   "id": "2d874b9a",
   "metadata": {},
   "outputs": [],
   "source": [
    "S2_L1 = NodeConstructor(num_sources=2, num_loads=1, parameters=parameters, CM=CM);"
   ]
  },
  {
   "cell_type": "markdown",
   "id": "70324bfa",
   "metadata": {},
   "source": [
    "With the function `DrawGraph()` the topology of the grid can now be displayed. Here, the color orange corresponds to a source and the color blue corresponds to a load."
   ]
  },
  {
   "cell_type": "code",
   "execution_count": null,
   "id": "0dfea61e",
   "metadata": {},
   "outputs": [],
   "source": [
    "DrawGraph(S2_L1)"
   ]
  },
  {
   "cell_type": "markdown",
   "id": "84112f3f",
   "metadata": {},
   "source": [
    "After the grid has been created it can be passed to the function `GetSystem()`, which then returns the matrices for the state space representation in the continous time domain."
   ]
  },
  {
   "cell_type": "markdown",
   "id": "7d6a971e",
   "metadata": {},
   "source": [
    "-Where does the matrix come from?"
   ]
  },
  {
   "cell_type": "code",
   "execution_count": null,
   "id": "d32b4cfa",
   "metadata": {},
   "outputs": [],
   "source": [
    "A, B, C, D = GetSystem(S2_L1);"
   ]
  },
  {
   "cell_type": "markdown",
   "id": "4a4820db",
   "metadata": {},
   "source": [
    "We convert the matrices into the discrete time domain and create a discrete StateSpace object with the help of `ControlSystems`. This object can then represent the dynamics of the system for a given time interval using the function `lsim()`."
   ]
  },
  {
   "cell_type": "code",
   "execution_count": null,
   "id": "2bbbfcb5",
   "metadata": {},
   "outputs": [],
   "source": [
    "ts = 1e-5\n",
    "Ad = exp(A*ts)\n",
    "Bd = A \\ (Ad - C) * B\n",
    "sys_d = StateSpace(Ad, Bd, C, D, ts);"
   ]
  },
  {
   "cell_type": "markdown",
   "id": "a9d76899",
   "metadata": {},
   "source": [
    "To use `lsim()` you need defined initial states `x0`, a time vector `t` and a input signal `u`. In our case we apply a jump to 250 V to the system."
   ]
  },
  {
   "cell_type": "code",
   "execution_count": null,
   "id": "6560be47",
   "metadata": {},
   "outputs": [],
   "source": [
    "ns = length(A[1,:]) # get num of states\n",
    "ni = length(B[1,:]) # get num of inputs\n",
    "t = collect(0:ts:0.1)\n",
    "x0 = [0.0 for i = 1:ns]\n",
    "u = [250.0 for i = 1:length(t)]\n",
    "uu = [u for i = 1:ni ]\n",
    "uuu = mapreduce(permutedims, vcat, uu);"
   ]
  },
  {
   "cell_type": "markdown",
   "id": "b5e40cc1",
   "metadata": {},
   "source": [
    "`lsim()` now solves the difference equations for the given time steps and we can observe how the states evolve."
   ]
  },
  {
   "cell_type": "code",
   "execution_count": null,
   "id": "27941a42",
   "metadata": {},
   "outputs": [],
   "source": [
    "xout, _, _, _ = lsim(sys_d,uuu,t,x0=x0);"
   ]
  },
  {
   "cell_type": "markdown",
   "id": "24fd6961",
   "metadata": {},
   "source": [
    "Here we plot the voltage across the capacitor in the first source."
   ]
  },
  {
   "cell_type": "code",
   "execution_count": null,
   "id": "1002c3bd",
   "metadata": {},
   "outputs": [],
   "source": [
    "layout = Layout(xaxis_title=\"Time in µs\", yaxis_title=\"v_C / V\")\n",
    "p = plot(t, xout[2,:], layout)"
   ]
  },
  {
   "cell_type": "code",
   "execution_count": null,
   "id": "b59b091d",
   "metadata": {},
   "outputs": [],
   "source": []
  },
  {
   "cell_type": "markdown",
   "id": "bc923842",
   "metadata": {},
   "source": [
    "Manuell parameterization"
   ]
  },
  {
   "cell_type": "markdown",
   "id": "02751bee",
   "metadata": {},
   "source": [
    ".... Split up here ....."
   ]
  },
  {
   "cell_type": "markdown",
   "id": "ba4d3658",
   "metadata": {},
   "source": [
    "Automatic generation"
   ]
  },
  {
   "cell_type": "markdown",
   "id": "a6c7be65",
   "metadata": {},
   "source": [
    "## Automatic generation of the grids"
   ]
  },
  {
   "cell_type": "markdown",
   "id": "d86d2d3e",
   "metadata": {},
   "source": [
    "An important feature is the creation of random node structures, where the parameters of the elements are chosen randomly. For fully connected structures, this can be generated, for example, using the parameters `S2S_p`, `L2L_p` and `S2L_p`. These indicate the connection probability of a source/load with any other source/load. If these parameters are set to 1, a fully connected node is generated."
   ]
  },
  {
   "cell_type": "code",
   "execution_count": null,
   "id": "856b41db",
   "metadata": {
    "scrolled": true
   },
   "outputs": [],
   "source": [
    "S2_L2_FC = NodeConstructor(num_sources=2, num_loads=2, S2S_p=1, S2L_p=1);"
   ]
  },
  {
   "cell_type": "markdown",
   "id": "fdba3e51",
   "metadata": {},
   "source": [
    "Let's check the CM matrix."
   ]
  },
  {
   "cell_type": "code",
   "execution_count": null,
   "id": "4b727ee6",
   "metadata": {},
   "outputs": [],
   "source": [
    "S2_L2_FC.CM"
   ]
  },
  {
   "cell_type": "markdown",
   "id": "be551e90",
   "metadata": {},
   "source": [
    "With a look into the parameter dict we also see that the parameters of the individual elements were randomly generated. The current policy for the sources is that an LC filter is always taken and the other filter types are chosen randomly."
   ]
  },
  {
   "cell_type": "code",
   "execution_count": null,
   "id": "359aba05",
   "metadata": {},
   "outputs": [],
   "source": [
    "S2_L2_FC.parameters[\"source\"]"
   ]
  },
  {
   "cell_type": "markdown",
   "id": "65d4b92e",
   "metadata": {},
   "source": [
    "For larger networks, of course, only the number of sources and loads can be handed over, so that the network structures are created on the basis of the default values. An important point here is that it is ensured that no subnets are created. By default, it is ensured that each element of the network has at least one connection to the other components of the network, so that no subnetworks are created.\n",
    "\n",
    "Internally, this is done by checking for connections for each element. If these are not present, they are automatically created. For smaller networks it is advisable to specify a CM matrix, because otherwise usually too many connections are made than necessary. However, this is no longer noticeable with more than 10+ elements."
   ]
  },
  {
   "cell_type": "code",
   "execution_count": null,
   "id": "f66105c5",
   "metadata": {},
   "outputs": [],
   "source": [
    "S5_L15 = NodeConstructor(num_sources=5, num_loads=15);"
   ]
  },
  {
   "cell_type": "markdown",
   "id": "ac00ae85",
   "metadata": {},
   "source": [
    "## Three-phase simulation"
   ]
  },
  {
   "cell_type": "markdown",
   "id": "7a33f4b0",
   "metadata": {},
   "source": [
    "Until now, only single-phase grids have been created with NodeConstructor. However, the default value for the number of phases is 3, so we will now also consider the three-phase variant."
   ]
  },
  {
   "cell_type": "code",
   "execution_count": null,
   "id": "fe8f5597",
   "metadata": {},
   "outputs": [],
   "source": [
    "S5_L15 = NodeConstructor(num_sources=1, num_loads=2);"
   ]
  },
  {
   "cell_type": "code",
   "execution_count": null,
   "id": "81b0cdf7",
   "metadata": {},
   "outputs": [],
   "source": [
    "S5_L15.parameters[\"grid\"][\"phase\"]"
   ]
  },
  {
   "cell_type": "code",
   "execution_count": null,
   "id": "d729c3d6",
   "metadata": {},
   "outputs": [],
   "source": [
    "A, B, C, D = GetSystem(S5_L15)\n",
    "ts = 1e-4\n",
    "Ad = exp(A*ts)\n",
    "Bd = A \\ (Ad - C) * B\n",
    "sys_d = StateSpace(Ad, Bd, C, D, ts);"
   ]
  },
  {
   "cell_type": "markdown",
   "id": "9d155c22",
   "metadata": {},
   "source": [
    "We then collect a few useful variables and set the time horizon for the simulation."
   ]
  },
  {
   "cell_type": "code",
   "execution_count": null,
   "id": "6742eae7",
   "metadata": {},
   "outputs": [],
   "source": [
    "ns = S5_L15.num_spp  # get num of states per phase\n",
    "ni = S5_L15.num_sources # get num of inputs per phase\n",
    "t = collect(0:ts:1);"
   ]
  },
  {
   "cell_type": "markdown",
   "id": "25503285",
   "metadata": {},
   "source": [
    "Next we want to generate the three-phase input signals and repeat it for the number of sources:"
   ]
  },
  {
   "cell_type": "code",
   "execution_count": null,
   "id": "4a2ba415",
   "metadata": {},
   "outputs": [],
   "source": [
    "# Stepfunction\n",
    "u = sqrt(2)*[230, 0, -230]\n",
    "uu = repeat(u, inner=ni) .* ones(length(t))';"
   ]
  },
  {
   "cell_type": "code",
   "execution_count": null,
   "id": "9a9758b7",
   "metadata": {},
   "outputs": [],
   "source": [
    "# Sin wave\n",
    "u = [230 * sin.(2*pi*t .- 2/3*pi*(i-1)) for i = 1:3]\n",
    "uu = transpose(hcat(repeat(u[1], inner=[1,ni]),repeat(u[2], inner=[1,ni]),repeat(u[3], inner=[1,ni])));"
   ]
  },
  {
   "cell_type": "markdown",
   "id": "38b7c27f",
   "metadata": {},
   "source": [
    "Lets have a look:"
   ]
  },
  {
   "cell_type": "code",
   "execution_count": null,
   "id": "398e536e",
   "metadata": {},
   "outputs": [],
   "source": [
    "layout = Layout(xaxis_title=\"Time in µs\", yaxis_title=\"U in V\")\n",
    "input = 1\n",
    "\n",
    "phase_a = scatter(x=t, y=uu[input+ni*0,:], mode=\"lines\", name=\"Phase A\")\n",
    "phase_b = scatter(x=t, y=uu[input+ni*1,:], mode=\"lines\", name=\"Phase B\")\n",
    "phase_c = scatter(x=t, y=uu[input+ni*2,:], mode=\"lines\", name=\"Phase C\")\n",
    "\n",
    "plot([phase_a, phase_b, phase_c], layout)"
   ]
  },
  {
   "cell_type": "markdown",
   "id": "d6cec2be",
   "metadata": {},
   "source": [
    "Again, the discretized matrices can now be used to model the grid."
   ]
  },
  {
   "cell_type": "code",
   "execution_count": null,
   "id": "c4f34ffc",
   "metadata": {},
   "outputs": [],
   "source": [
    "x0 = [0.0 for i = 1:ns*3]\n",
    "xout, _, _, _ = lsim(sys_d,uu,t,x0=x0);"
   ]
  },
  {
   "cell_type": "markdown",
   "id": "8fb97bff",
   "metadata": {},
   "source": [
    "Now a state can be selected and the corresponding trajectories can be plotted."
   ]
  },
  {
   "cell_type": "code",
   "execution_count": null,
   "id": "5ac6268d",
   "metadata": {},
   "outputs": [],
   "source": [
    "state_list = GetStateIds(S5_L15)"
   ]
  },
  {
   "cell_type": "code",
   "execution_count": null,
   "id": "50497cac",
   "metadata": {},
   "outputs": [],
   "source": [
    "state = 3\n",
    "state_list = GetStateIds(S5_L15)\n",
    "\n",
    "layout = Layout(xaxis_title=\"Time in µs\", yaxis_title=\"$(state_list[state]) in V\")\n",
    "\n",
    "phase_a = scatter(x=t, y=xout[state+ns*0,:], mode=\"lines\", name=\"Phase A\")\n",
    "phase_b = scatter(x=t, y=xout[state+ns*1,:], mode=\"lines\", name=\"Phase B\")\n",
    "phase_c = scatter(x=t, y=xout[state+ns*2,:], mode=\"lines\", name=\"Phase C\")\n",
    "\n",
    "plot([phase_a, phase_b, phase_c], layout)\n"
   ]
  },
  {
   "cell_type": "markdown",
   "id": "6c2b3872",
   "metadata": {},
   "source": [
    "## Access to the different states"
   ]
  },
  {
   "cell_type": "markdown",
   "id": "2ac99a0c",
   "metadata": {},
   "source": [
    "A way to get the different states of our NodeConstructor is to use the function `GetStateIds()`."
   ]
  },
  {
   "cell_type": "code",
   "execution_count": null,
   "id": "1410bd96",
   "metadata": {},
   "outputs": [],
   "source": [
    "state_list = GetStateIds(S5_L15)"
   ]
  },
  {
   "cell_type": "markdown",
   "id": "a8f3115f",
   "metadata": {},
   "source": [
    "The IDs created here are unique and can be used to access particular states. When creating the IDs, the sources are checked first in the order LCL, LC and then L. Then the cables are listed, which are also arranged in order. For the loads the order is RLC, LC, RL, L, RC, C and then R.\n",
    "\n",
    "For the three-phase case, the state IDs are repeated and the respective phase is added.\n",
    "\n",
    "These can then be accessed as follows:"
   ]
  },
  {
   "cell_type": "code",
   "execution_count": null,
   "id": "16cb151a",
   "metadata": {},
   "outputs": [],
   "source": [
    "state = 3\n",
    "println(state_list[state+ns*0])\n",
    "println(state_list[state+ns*1])\n",
    "println(state_list[state+ns*2])"
   ]
  },
  {
   "cell_type": "markdown",
   "id": "7df87a77",
   "metadata": {},
   "source": [
    "Or:"
   ]
  },
  {
   "cell_type": "code",
   "execution_count": null,
   "id": "3bad98ee",
   "metadata": {},
   "outputs": [],
   "source": [
    "state = \"source1_i_L1\"\n",
    "idx_of_state = findall(x->occursin(state, x), state_list)\n",
    "idx = idx_of_state"
   ]
  },
  {
   "cell_type": "code",
   "execution_count": null,
   "id": "18ac1c00",
   "metadata": {},
   "outputs": [],
   "source": [
    "state = \"source1_i_L1_a\"\n",
    "idx_of_state = findall(x->occursin(state, x), state_list)\n",
    "idx = idx_of_state"
   ]
  },
  {
   "cell_type": "markdown",
   "id": "9e4c044d",
   "metadata": {},
   "source": [
    "The actions in the grid are also assigned unique IDs, here the sources are sorted in order. The IDs are output via the function `GetActionIds()`."
   ]
  },
  {
   "cell_type": "code",
   "execution_count": null,
   "id": "6311cdfe",
   "metadata": {},
   "outputs": [],
   "source": [
    "GetActionIds(S5_L15)"
   ]
  },
  {
   "cell_type": "code",
   "execution_count": null,
   "id": "bb4503c2",
   "metadata": {},
   "outputs": [],
   "source": []
  }
 ],
 "metadata": {
  "@webio": {
   "lastCommId": null,
   "lastKernelId": null
  },
  "kernelspec": {
   "display_name": "Julia 1.8.0",
   "language": "julia",
   "name": "julia-1.8"
  },
  "language_info": {
   "file_extension": ".jl",
   "mimetype": "application/julia",
   "name": "julia",
   "version": "1.8.0"
  }
 },
 "nbformat": 4,
 "nbformat_minor": 5
}
