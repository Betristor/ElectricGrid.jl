{
 "cells": [
  {
   "attachments": {},
   "cell_type": "markdown",
   "id": "2888dffe",
   "metadata": {},
   "source": [
    "# Interaction with the ElectricGridEnv\n",
    "\n",
    "This is the second notebook belonging to the environment (`env`). In the previous one we saw how to set up a simple `env` and showed some of the basic parameters (see `Env_Create_DEMO.ipynb`). This notebook is intended to show how to interact with the env and, above all, how to extract and store the data.\n",
    "\n",
    "- ### Apply action\n",
    "- ### Data hook\n",
    "- ### AC-Grid"
   ]
  },
  {
   "attachments": {},
   "cell_type": "markdown",
   "id": "ade818fa",
   "metadata": {},
   "source": [
    "## Basic interaction with the environment\n",
    "\n",
    "The dynmaic bahaviour of the envorinment is simulated using linear state-space systems. It interacts step-wise with the agent/controller like shown in the figure below. Based on the input/action `u` at timestep `k` the state `x` is calculated.\n",
    "\n",
    "BILD\n",
    "\n",
    "Based on that action `u_k` and the internal state-space system the system is evolved for one timestep and the new states `x_k+1` of the system are calulated.\n",
    "The state-space system is defined depending on the electric components - for more information about the odernary differential equation,... see NodeConstructor_DEMO.ipynb"
   ]
  },
  {
   "attachments": {},
   "cell_type": "markdown",
   "id": "8209b098",
   "metadata": {},
   "source": [
    "In this exmaple notebook we will use the described parameter dict to define a simple, small example env to learn how to interact with it.\n",
    "This environment consists of a single phase electrical power grid with 1 source and 1 load as shown in the figure below. For reasons of clarity, only phase a is shown:\n",
    "\n",
    "![](figures/ExampleGrid4.png \"\")\n",
    "\n",
    "To get an env consisting of that specific setting with the correct filter type and load, the parameter dict is defined in beforehand and handed over to the env.\n",
    "\n",
    "Instead of `num_sorces` and `num_loads`, now the parameter dict and the connection matrix CM is used which defines if there is a connection between two nodes (e.g., source <-> load) (if there is a connetion -> !=0) or if there is no connection (in that case the entry is `0`). For more information about the CM matrix see `NodeConstructor_DEMO.ipynb`.\n",
    "\n",
    "To create a usefull example we first calulate a load which fits in case of power rating to the power of the source.\n",
    "Therefore the function `ParallelLoadImpedance()` provied by the `JEG` package is used which calulates the passive parameters for a load for specified aparant power:"
   ]
  },
  {
   "cell_type": "code",
   "execution_count": 1,
   "id": "08e01153",
   "metadata": {},
   "outputs": [],
   "source": [
    "using JEG\n",
    "using ReinforcementLearning"
   ]
  },
  {
   "cell_type": "code",
   "execution_count": 2,
   "id": "a8f3322d",
   "metadata": {},
   "outputs": [
    {
     "data": {
      "text/plain": [
       "(1.058, Inf, Inf, 1.058 + 0.0im)"
      ]
     },
     "metadata": {},
     "output_type": "display_data"
    }
   ],
   "source": [
    "S_source = 200e3\n",
    "\n",
    "S_load = 150e3\n",
    "pf_load = 1\n",
    "v_rms = 230\n",
    "R_load, L_load, X, Z = ParallelLoadImpedance(S_load, pf_load, v_rms)"
   ]
  },
  {
   "attachments": {},
   "cell_type": "markdown",
   "id": "f039119e",
   "metadata": {},
   "source": [
    "Then we use these values during definiton of the env in the parameter dict."
   ]
  },
  {
   "cell_type": "code",
   "execution_count": 5,
   "id": "23420f15",
   "metadata": {},
   "outputs": [
    {
     "data": {
      "text/plain": [
       "5-element Vector{String}:\n",
       " \"source1_i_L1_a\"\n",
       " \"source1_v_C_filt_a\"\n",
       " \"source1_v_C_cables_a\"\n",
       " \"cable1_i_L_a\"\n",
       " \"load1_v_C_total_a\""
      ]
     },
     "metadata": {},
     "output_type": "display_data"
    }
   ],
   "source": [
    "CM = [0. 1.\n",
    "    -1. 0.]\n",
    "\n",
    "parameters = Dict{Any, Any}(\n",
    "        \"source\" => Any[\n",
    "                        Dict{Any, Any}(\"pwr\" => S_source, \"control_type\" => \"classic\", \"mode\" => \"Step\", \"fltr\" => \"LC\"),\n",
    "                        ],\n",
    "        \"load\"   => Any[\n",
    "                        Dict{Any, Any}(\"impedance\" => \"R\", \"R\" => R_load),\n",
    "                        ],\n",
    "        \"cable\"   => Any[\n",
    "                        Dict{Any, Any}(\"R\" => 1e-3, \"L\" => 1e-4, \"C\" => 1e-4, \"i_limit\" => 1e4, \"v_limit\" => 1e4,),\n",
    "                        ],\n",
    "        \"grid\" => Dict{Any, Any}(\"fs\"=>1e4, \"phase\"=>3, \"v_rms\"=>230, \"f_grid\" => 50, \"ramp_end\"=>0.0)\n",
    "    )\n",
    "\n",
    "\n",
    "env = ElectricGridEnv(CM = CM, parameters = parameters)\n",
    "\n",
    "env.state_ids[1:5]"
   ]
  },
  {
   "attachments": {},
   "cell_type": "markdown",
   "id": "6c4d3e68",
   "metadata": {},
   "source": [
    "As can be seen, the five states marked in the equivalent circuit diagram in the figure above can be found via the `env.state_ids`.\n",
    "Analog, the `action_ids` can be found which consists of 3 entries, one per phase for the defined source.\n"
   ]
  },
  {
   "cell_type": "code",
   "execution_count": 9,
   "id": "352e84a0",
   "metadata": {},
   "outputs": [
    {
     "data": {
      "text/plain": [
       "3-element Vector{String}:\n",
       " \"source1_u_a\"\n",
       " \"source1_u_b\"\n",
       " \"source1_u_c\""
      ]
     },
     "metadata": {},
     "output_type": "display_data"
    }
   ],
   "source": [
    "env.action_ids"
   ]
  },
  {
   "attachments": {},
   "cell_type": "markdown",
   "id": "72623d4d",
   "metadata": {},
   "source": [
    "To interact with the env, the function `env(action)` can be called:"
   ]
  },
  {
   "cell_type": "code",
   "execution_count": 8,
   "id": "45cdfb22",
   "metadata": {},
   "outputs": [
    {
     "ename": "DimensionMismatch",
     "evalue": "DimensionMismatch: arrays could not be broadcast to a common size; got a dimension with lengths 6 and 3",
     "output_type": "error",
     "traceback": [
      "DimensionMismatch: arrays could not be broadcast to a common size; got a dimension with lengths 6 and 3\n",
      "\n",
      "Stacktrace:\n",
      " [1] _bcs1\n",
      "   @ .\\broadcast.jl:516 [inlined]\n",
      " [2] _bcs\n",
      "   @ .\\broadcast.jl:510 [inlined]\n",
      " [3] broadcast_shape\n",
      "   @ .\\broadcast.jl:504 [inlined]\n",
      " [4] combine_axes\n",
      "   @ .\\broadcast.jl:499 [inlined]\n",
      " [5] instantiate\n",
      "   @ .\\broadcast.jl:281 [inlined]\n",
      " [6] materialize(bc::Base.Broadcast.Broadcasted{Base.Broadcast.DefaultArrayStyle{1}, Nothing, typeof(*), Tuple{Vector{Float64}, Vector{Float64}}})\n",
      "   @ Base.Broadcast .\\broadcast.jl:860\n",
      " [7] (::ElectricGridEnv)(action::Vector{Float64})\n",
      "   @ JEG c:\\Users\\marmey\\Documents\\dare\\src\\electric_grid_env.jl:505\n",
      " [8] top-level scope\n",
      "   @ c:\\Users\\marmey\\Documents\\dare\\examples\\notebooks\\Env_Interaction_DEMO.ipynb:1"
     ]
    }
   ],
   "source": [
    "env([0.2, 0.2, 0.2])"
   ]
  },
  {
   "attachments": {},
   "cell_type": "markdown",
   "id": "1c8c9e68",
   "metadata": {},
   "source": [
    "Here, the source gets an action of `0.2` to all three phases.\n",
    "As can be seen, the states have changed from 0 to different values.\n",
    "\n",
    "This interaction can be done in a loop while the state is logged during this process:"
   ]
  },
  {
   "cell_type": "code",
   "execution_count": 16,
   "id": "4683bb40",
   "metadata": {},
   "outputs": [
    {
     "ename": "UndefVarError",
     "evalue": "UndefVarError: reset! not defined",
     "output_type": "error",
     "traceback": [
      "UndefVarError: reset! not defined\n",
      "\n",
      "Stacktrace:\n",
      " [1] top-level scope\n",
      "   @ c:\\Users\\marmey\\Documents\\dare\\examples\\notebooks\\Env_Interaction_DEMO.ipynb:2"
     ]
    }
   ],
   "source": [
    "# run 3 steps\n",
    "reset!(env)\n",
    "for _ in 1:3\n",
    "    env([0.2, 0.2, 0.2])\n",
    "end\n",
    "\n",
    "env.state[1:5]  # print states after 3 steps"
   ]
  },
  {
   "attachments": {},
   "cell_type": "markdown",
   "id": "45525180",
   "metadata": {},
   "source": [
    "The `control_type` of the source is chosen as classic in `mode => Step`. That means it is open-loop and as action a step is given to the input resulting in an input voltage of `env.nc.parameters[\"grid\"][\"v_rms\"]`. For more information about possible control modes, see `ClassicalController_Notebook` or documentation (LINK)."
   ]
  },
  {
   "cell_type": "markdown",
   "id": "f58327df",
   "metadata": {},
   "source": [
    "## The MultiController"
   ]
  },
  {
   "attachments": {},
   "cell_type": "markdown",
   "id": "273d6d9b",
   "metadata": {},
   "source": [
    "The JEG toolbox provides a more enhanced methode to run an experiment with a specific number of steps and even more episodes.\n",
    "It is based in the `run` command provided by the [ReinforcementLeaning.jl/run](https://github.com/JuliaReinforcementLearning/ReinforcementLearning.jl/blob/master/src/ReinforcementLearningCore/src/core/run.jl) toolbox and therefore can be used to `learn` a control task or to `simulate` a fixed setup.\n",
    "\n",
    "First we take a look onto simulating the behaviour of an env without learning. Therefore the `Simulate()` function from the `MultiController` is used. \n",
    "This acts as a configuration tool to define the corresponding classic controllers and RL-agents.\n",
    "Additionally it links inputs to the `env.state_ids` and outputs to the `env.action_ids`.\n",
    "\n",
    "In our example here, we only apply classic controllers to learn how the tool works (learning with RL agents is investigated in `RL_Single_Agent_DEMO.ipynb`). \n",
    "The interaction of the different components (env, agent, classic controllers, wrapper,...) is shown in the diagram below.\n",
    "\n",
    "\n",
    "\n",
    "![](figures/DareOverview.png \"\")\n",
    "\n",
    "\n",
    "The depicted multiagent ensures that the states and actions for every source are exchanged with the correct agent or classic controller. This is depending on the `control_types` and `mode`s.\n",
    "Therfore, the `SetupAgents(env)` methode returns a `Controller` of type `MultiController`."
   ]
  },
  {
   "cell_type": "code",
   "execution_count": 18,
   "id": "21d235f0",
   "metadata": {},
   "outputs": [],
   "source": [
    "Controller = SetupAgents(env);"
   ]
  },
  {
   "cell_type": "markdown",
   "id": "d1395c01",
   "metadata": {},
   "source": [
    "Then the experiment is executed for (default) one episode. The length of the episode is defined depending on the parameter `env.maxsteps` (default = 500), which alternatively can be defined via `env.t_end` and `env.ts`. \n",
    "Inside the `Simulate()` the run command (RL.base) executes 500 steps applying the defined controllers in the env.\n",
    "Every step the control inputs are calulated based on the corresponding states and the env is evolved for `ts`. Then the new state is given to the controller/agent again. \n",
    "\n",
    "The 500 steps only gets executed if non on the defined voltage and current limits of the states are exectued (which would be equivalent to a system crash!).\n",
    "In that case a flag in the env is set (`env.done = true`) which stops the episode.\n",
    "\n",
    "To investigate the env <-> agent interaction (without learning), we now execute the `simulate` methode for one episode."
   ]
  },
  {
   "cell_type": "code",
   "execution_count": 26,
   "id": "beed67d7",
   "metadata": {},
   "outputs": [
    {
     "data": {
      "text/html": [
       "<div class=\"data-frame\"><p>500 rows × 121 columns (omitted printing of 114 columns)</p><table class=\"data-frame\"><thead><tr><th></th><th>episode</th><th>time</th><th>source1_v_d</th><th>source1_v_q</th><th>source1_i_d</th><th>source1_i_q</th><th>source1_p_inv</th></tr><tr><th></th><th title=\"Int64\">Int64</th><th title=\"Float32\">Float32</th><th title=\"Float64\">Float64</th><th title=\"Float64\">Float64</th><th title=\"Float64\">Float64</th><th title=\"Float64\">Float64</th><th title=\"Float64\">Float64</th></tr></thead><tbody><tr><th>1</th><td>1</td><td>0.0</td><td>0.0</td><td>0.0</td><td>0.0</td><td>0.0</td><td>0.0</td></tr><tr><th>2</th><td>1</td><td>0.0001</td><td>0.0</td><td>0.0</td><td>0.0</td><td>0.0</td><td>0.0</td></tr><tr><th>3</th><td>1</td><td>0.0002</td><td>0.0</td><td>0.0</td><td>0.0</td><td>0.0</td><td>0.0</td></tr><tr><th>4</th><td>1</td><td>0.0003</td><td>0.0</td><td>0.0</td><td>0.0</td><td>0.0</td><td>0.0</td></tr><tr><th>5</th><td>1</td><td>0.0004</td><td>0.0</td><td>0.0</td><td>0.0</td><td>0.0</td><td>0.0</td></tr><tr><th>6</th><td>1</td><td>0.0005</td><td>0.0</td><td>0.0</td><td>0.0</td><td>0.0</td><td>0.0</td></tr><tr><th>7</th><td>1</td><td>0.0006</td><td>0.0</td><td>0.0</td><td>0.0</td><td>0.0</td><td>0.0</td></tr><tr><th>8</th><td>1</td><td>0.0007</td><td>0.0</td><td>0.0</td><td>0.0</td><td>0.0</td><td>0.0</td></tr><tr><th>9</th><td>1</td><td>0.0008</td><td>0.0</td><td>0.0</td><td>0.0</td><td>0.0</td><td>0.0</td></tr><tr><th>10</th><td>1</td><td>0.0009</td><td>0.0</td><td>0.0</td><td>0.0</td><td>0.0</td><td>0.0</td></tr><tr><th>11</th><td>1</td><td>0.001</td><td>0.0</td><td>0.0</td><td>0.0</td><td>0.0</td><td>0.0</td></tr><tr><th>12</th><td>1</td><td>0.0011</td><td>0.0</td><td>0.0</td><td>0.0</td><td>0.0</td><td>0.0</td></tr><tr><th>13</th><td>1</td><td>0.0012</td><td>0.0</td><td>0.0</td><td>0.0</td><td>0.0</td><td>0.0</td></tr><tr><th>14</th><td>1</td><td>0.0013</td><td>0.0</td><td>0.0</td><td>0.0</td><td>0.0</td><td>0.0</td></tr><tr><th>15</th><td>1</td><td>0.0014</td><td>0.0</td><td>0.0</td><td>0.0</td><td>0.0</td><td>0.0</td></tr><tr><th>16</th><td>1</td><td>0.0015</td><td>0.0</td><td>0.0</td><td>0.0</td><td>0.0</td><td>0.0</td></tr><tr><th>17</th><td>1</td><td>0.0016</td><td>0.0</td><td>0.0</td><td>0.0</td><td>0.0</td><td>0.0</td></tr><tr><th>18</th><td>1</td><td>0.0017</td><td>0.0</td><td>0.0</td><td>0.0</td><td>0.0</td><td>0.0</td></tr><tr><th>19</th><td>1</td><td>0.0018</td><td>0.0</td><td>0.0</td><td>0.0</td><td>0.0</td><td>0.0</td></tr><tr><th>20</th><td>1</td><td>0.0019</td><td>0.0</td><td>0.0</td><td>0.0</td><td>0.0</td><td>0.0</td></tr><tr><th>21</th><td>1</td><td>0.002</td><td>0.0</td><td>0.0</td><td>0.0</td><td>0.0</td><td>0.0</td></tr><tr><th>22</th><td>1</td><td>0.0021</td><td>0.0</td><td>0.0</td><td>0.0</td><td>0.0</td><td>0.0</td></tr><tr><th>23</th><td>1</td><td>0.0022</td><td>0.0</td><td>0.0</td><td>0.0</td><td>0.0</td><td>0.0</td></tr><tr><th>24</th><td>1</td><td>0.0023</td><td>0.0</td><td>0.0</td><td>0.0</td><td>0.0</td><td>0.0</td></tr><tr><th>&vellip;</th><td>&vellip;</td><td>&vellip;</td><td>&vellip;</td><td>&vellip;</td><td>&vellip;</td><td>&vellip;</td><td>&vellip;</td></tr></tbody></table></div>"
      ],
      "text/latex": [
       "\\begin{tabular}{r|cccccccc}\n",
       "\t& episode & time & source1\\_v\\_d & source1\\_v\\_q & source1\\_i\\_d & source1\\_i\\_q & source1\\_p\\_inv & \\\\\n",
       "\t\\hline\n",
       "\t& Int64 & Float32 & Float64 & Float64 & Float64 & Float64 & Float64 & \\\\\n",
       "\t\\hline\n",
       "\t1 & 1 & 0.0 & 0.0 & 0.0 & 0.0 & 0.0 & 0.0 & $\\dots$ \\\\\n",
       "\t2 & 1 & 0.0001 & 0.0 & 0.0 & 0.0 & 0.0 & 0.0 & $\\dots$ \\\\\n",
       "\t3 & 1 & 0.0002 & 0.0 & 0.0 & 0.0 & 0.0 & 0.0 & $\\dots$ \\\\\n",
       "\t4 & 1 & 0.0003 & 0.0 & 0.0 & 0.0 & 0.0 & 0.0 & $\\dots$ \\\\\n",
       "\t5 & 1 & 0.0004 & 0.0 & 0.0 & 0.0 & 0.0 & 0.0 & $\\dots$ \\\\\n",
       "\t6 & 1 & 0.0005 & 0.0 & 0.0 & 0.0 & 0.0 & 0.0 & $\\dots$ \\\\\n",
       "\t7 & 1 & 0.0006 & 0.0 & 0.0 & 0.0 & 0.0 & 0.0 & $\\dots$ \\\\\n",
       "\t8 & 1 & 0.0007 & 0.0 & 0.0 & 0.0 & 0.0 & 0.0 & $\\dots$ \\\\\n",
       "\t9 & 1 & 0.0008 & 0.0 & 0.0 & 0.0 & 0.0 & 0.0 & $\\dots$ \\\\\n",
       "\t10 & 1 & 0.0009 & 0.0 & 0.0 & 0.0 & 0.0 & 0.0 & $\\dots$ \\\\\n",
       "\t11 & 1 & 0.001 & 0.0 & 0.0 & 0.0 & 0.0 & 0.0 & $\\dots$ \\\\\n",
       "\t12 & 1 & 0.0011 & 0.0 & 0.0 & 0.0 & 0.0 & 0.0 & $\\dots$ \\\\\n",
       "\t13 & 1 & 0.0012 & 0.0 & 0.0 & 0.0 & 0.0 & 0.0 & $\\dots$ \\\\\n",
       "\t14 & 1 & 0.0013 & 0.0 & 0.0 & 0.0 & 0.0 & 0.0 & $\\dots$ \\\\\n",
       "\t15 & 1 & 0.0014 & 0.0 & 0.0 & 0.0 & 0.0 & 0.0 & $\\dots$ \\\\\n",
       "\t16 & 1 & 0.0015 & 0.0 & 0.0 & 0.0 & 0.0 & 0.0 & $\\dots$ \\\\\n",
       "\t17 & 1 & 0.0016 & 0.0 & 0.0 & 0.0 & 0.0 & 0.0 & $\\dots$ \\\\\n",
       "\t18 & 1 & 0.0017 & 0.0 & 0.0 & 0.0 & 0.0 & 0.0 & $\\dots$ \\\\\n",
       "\t19 & 1 & 0.0018 & 0.0 & 0.0 & 0.0 & 0.0 & 0.0 & $\\dots$ \\\\\n",
       "\t20 & 1 & 0.0019 & 0.0 & 0.0 & 0.0 & 0.0 & 0.0 & $\\dots$ \\\\\n",
       "\t21 & 1 & 0.002 & 0.0 & 0.0 & 0.0 & 0.0 & 0.0 & $\\dots$ \\\\\n",
       "\t22 & 1 & 0.0021 & 0.0 & 0.0 & 0.0 & 0.0 & 0.0 & $\\dots$ \\\\\n",
       "\t23 & 1 & 0.0022 & 0.0 & 0.0 & 0.0 & 0.0 & 0.0 & $\\dots$ \\\\\n",
       "\t24 & 1 & 0.0023 & 0.0 & 0.0 & 0.0 & 0.0 & 0.0 & $\\dots$ \\\\\n",
       "\t$\\dots$ & $\\dots$ & $\\dots$ & $\\dots$ & $\\dots$ & $\\dots$ & $\\dots$ & $\\dots$ &  \\\\\n",
       "\\end{tabular}\n"
      ],
      "text/plain": [
       "\u001b[1m500×121 DataFrame\u001b[0m\n",
       "\u001b[1m Row \u001b[0m│\u001b[1m episode \u001b[0m\u001b[1m time    \u001b[0m\u001b[1m source1_v_d \u001b[0m\u001b[1m source1_v_q \u001b[0m\u001b[1m source1_i_d \u001b[0m\u001b[1m source1_i_q \u001b[0m\u001b[1m s\u001b[0m ⋯\n",
       "\u001b[1m     \u001b[0m│\u001b[90m Int64   \u001b[0m\u001b[90m Float32 \u001b[0m\u001b[90m Float64     \u001b[0m\u001b[90m Float64     \u001b[0m\u001b[90m Float64     \u001b[0m\u001b[90m Float64     \u001b[0m\u001b[90m F\u001b[0m ⋯\n",
       "─────┼──────────────────────────────────────────────────────────────────────────\n",
       "   1 │       1   0.0             0.0          0.0          0.0          0.0    ⋯\n",
       "   2 │       1   0.0001          0.0          0.0          0.0          0.0\n",
       "   3 │       1   0.0002          0.0          0.0          0.0          0.0\n",
       "   4 │       1   0.0003          0.0          0.0          0.0          0.0\n",
       "   5 │       1   0.0004          0.0          0.0          0.0          0.0    ⋯\n",
       "   6 │       1   0.0005          0.0          0.0          0.0          0.0\n",
       "   7 │       1   0.0006          0.0          0.0          0.0          0.0\n",
       "   8 │       1   0.0007          0.0          0.0          0.0          0.0\n",
       "  ⋮  │    ⋮        ⋮          ⋮            ⋮            ⋮            ⋮         ⋱\n",
       " 494 │       1   0.0493          0.0          0.0          0.0          0.0    ⋯\n",
       " 495 │       1   0.0494          0.0          0.0          0.0          0.0\n",
       " 496 │       1   0.0495          0.0          0.0          0.0          0.0\n",
       " 497 │       1   0.0496          0.0          0.0          0.0          0.0\n",
       " 498 │       1   0.0497          0.0          0.0          0.0          0.0    ⋯\n",
       " 499 │       1   0.0498          0.0          0.0          0.0          0.0\n",
       " 500 │       1   0.0499          0.0          0.0          0.0          0.0\n",
       "\u001b[36m                                                115 columns and 485 rows omitted\u001b[0m"
      ]
     },
     "metadata": {},
     "output_type": "display_data"
    }
   ],
   "source": [
    "hook = Simulate(Controller, env);\n",
    "hook.df"
   ]
  },
  {
   "cell_type": "markdown",
   "id": "229ad5f4",
   "metadata": {},
   "source": [
    "If not defined in beforehand and handed over to the `simulate` methode, it returns a deafault `hook`. \n",
    "\n"
   ]
  },
  {
   "cell_type": "markdown",
   "id": "7e959a0b",
   "metadata": {},
   "source": [
    "## Data-Hook"
   ]
  },
  {
   "attachments": {},
   "cell_type": "markdown",
   "id": "c4da41da",
   "metadata": {},
   "source": [
    "To collect the data - so how the states evolved over time by the chosen actions - theses hooks ([ReinforcmentLearning.jl/data-hooks](https://juliareinforcementlearning.org/docs/How_to_use_hooks/)) are used which will be executed at different stages of the experiment.\n",
    "Via theses hooks the data to be collected is stored in a `DataFrame` labeled via the state- and action_ids. This all happens using the `DataHook` provided by the `JEG` package.\n",
    "\n",
    "This DataFrame can be seen in the output of the upper cell. It contains 500 rows - one for each simulated step.\n",
    "In the different colons the information about the simulation is stored, e.g. the number of the episode, time, states, actions...\n",
    "By default a `DefaultDataHook` is generated which collects all available information about the states of the `env`. \n",
    "\n",
    "If we are interested how the state of the current through the filter inductor of source 1 (first state in the env `source1_i_L1_a`) evolves over time, we can grap the data like follows:"
   ]
  },
  {
   "cell_type": "code",
   "execution_count": 28,
   "id": "dd5a7d6e",
   "metadata": {},
   "outputs": [
    {
     "data": {
      "text/plain": [
       "500-element Vector{Float64}:\n",
       "   0.0\n",
       "   0.0\n",
       "  64.38793241613949\n",
       " 118.5118638524073\n",
       " 159.6623242035541\n",
       " 188.4161060129909\n",
       " 206.7479466095761\n",
       " 216.9637166049256\n",
       " 221.29328943565338\n",
       " 221.71322649159114\n",
       "   ⋮\n",
       " 204.02614278089519\n",
       " 204.02614278089519\n",
       " 204.02614278089519\n",
       " 204.02614278089519\n",
       " 204.02614278089519\n",
       " 204.02614278089519\n",
       " 204.02614278089519\n",
       " 204.02614278089519\n",
       " 204.02614278089519"
      ]
     },
     "metadata": {},
     "output_type": "display_data"
    }
   ],
   "source": [
    "id = env.state_ids[1] # get first state_id\n",
    "println(id)\n",
    "hook.df[:, id]"
   ]
  },
  {
   "attachments": {},
   "cell_type": "markdown",
   "id": "ab8c582c",
   "metadata": {},
   "source": [
    "If we only want to log specific states during the experiment, a `DataHook` can be defined in beforehand.\n",
    "It only has to be defined which states and actions should be logged during initialisation. Then the `hook` has to be handed over to the `Simulate()` (or `Learn()`) command.\n",
    "\n",
    "In the following we will collect only the state `\"source1_i_L1_a\"` and the first action `\"source1_u_a\"`.\n",
    "Alternatively, for example the number of source can be used to collect all the data for a specific source (compare out-commented example code). A lot of other flags can be defined to collect more measurements (RMS, reward, powers,...).\n",
    "For more details we refer to the documentation and the other example notebooks."
   ]
  },
  {
   "cell_type": "code",
   "execution_count": 33,
   "id": "1aac6cda",
   "metadata": {},
   "outputs": [
    {
     "data": {
      "text/html": [
       "<div class=\"data-frame\"><p>500 rows × 10 columns (omitted printing of 4 columns)</p><table class=\"data-frame\"><thead><tr><th></th><th>episode</th><th>time</th><th>source1_i_L1_a</th><th>source1_v_L1_a</th><th>action</th><th>next_state_source1_i_L1_a</th></tr><tr><th></th><th title=\"Int64\">Int64</th><th title=\"Float32\">Float32</th><th title=\"Float64\">Float64</th><th title=\"Float64\">Float64</th><th title=\"Vector{Union{Nothing, Float64}}\">Array…</th><th title=\"Float64\">Float64</th></tr></thead><tbody><tr><th>1</th><td>1</td><td>0.0</td><td>0.0</td><td>0.0</td><td>[0.575, 0.575, 0.575]</td><td>0.0</td></tr><tr><th>2</th><td>1</td><td>0.0001</td><td>0.0</td><td>0.0</td><td>[0.575, 0.575, 0.575]</td><td>64.3879</td></tr><tr><th>3</th><td>1</td><td>0.0002</td><td>64.3879</td><td>205.206</td><td>[0.575, 0.575, 0.575]</td><td>118.512</td></tr><tr><th>4</th><td>1</td><td>0.0003</td><td>118.512</td><td>163.059</td><td>[0.575, 0.575, 0.575]</td><td>159.662</td></tr><tr><th>5</th><td>1</td><td>0.0004</td><td>159.662</td><td>118.471</td><td>[0.575, 0.575, 0.575]</td><td>188.416</td></tr><tr><th>6</th><td>1</td><td>0.0005</td><td>188.416</td><td>79.1171</td><td>[0.575, 0.575, 0.575]</td><td>206.748</td></tr><tr><th>7</th><td>1</td><td>0.0006</td><td>206.748</td><td>47.433</td><td>[0.575, 0.575, 0.575]</td><td>216.964</td></tr><tr><th>8</th><td>1</td><td>0.0007</td><td>216.964</td><td>23.6258</td><td>[0.575, 0.575, 0.575]</td><td>221.293</td></tr><tr><th>9</th><td>1</td><td>0.0008</td><td>221.293</td><td>7.07961</td><td>[0.575, 0.575, 0.575]</td><td>221.713</td></tr><tr><th>10</th><td>1</td><td>0.0009</td><td>221.713</td><td>-3.29035</td><td>[0.575, 0.575, 0.575]</td><td>219.837</td></tr><tr><th>11</th><td>1</td><td>0.001</td><td>219.837</td><td>-8.84257</td><td>[0.575, 0.575, 0.575]</td><td>216.869</td></tr><tr><th>12</th><td>1</td><td>0.0011</td><td>216.869</td><td>-10.9624</td><td>[0.575, 0.575, 0.575]</td><td>213.633</td></tr><tr><th>13</th><td>1</td><td>0.0012</td><td>213.633</td><td>-10.866</td><td>[0.575, 0.575, 0.575]</td><td>210.628</td></tr><tr><th>14</th><td>1</td><td>0.0013</td><td>210.628</td><td>-9.51317</td><td>[0.575, 0.575, 0.575]</td><td>208.116</td></tr><tr><th>15</th><td>1</td><td>0.0014</td><td>208.116</td><td>-7.60108</td><td>[0.575, 0.575, 0.575]</td><td>206.185</td></tr><tr><th>16</th><td>1</td><td>0.0015</td><td>206.185</td><td>-5.59584</td><td>[0.575, 0.575, 0.575]</td><td>204.82</td></tr><tr><th>17</th><td>1</td><td>0.0016</td><td>204.82</td><td>-3.77656</td><td>[0.575, 0.575, 0.575]</td><td>203.942</td></tr><tr><th>18</th><td>1</td><td>0.0017</td><td>203.942</td><td>-2.28148</td><td>[0.575, 0.575, 0.575]</td><td>203.448</td></tr><tr><th>19</th><td>1</td><td>0.0018</td><td>203.448</td><td>-1.15116</td><td>[0.575, 0.575, 0.575]</td><td>203.234</td></tr><tr><th>20</th><td>1</td><td>0.0019</td><td>203.234</td><td>-0.365185</td><td>[0.575, 0.575, 0.575]</td><td>203.206</td></tr><tr><th>21</th><td>1</td><td>0.002</td><td>203.206</td><td>0.129335</td><td>[0.575, 0.575, 0.575]</td><td>203.288</td></tr><tr><th>22</th><td>1</td><td>0.0021</td><td>203.288</td><td>0.397567</td><td>[0.575, 0.575, 0.575]</td><td>203.423</td></tr><tr><th>23</th><td>1</td><td>0.0022</td><td>203.423</td><td>0.503928</td><td>[0.575, 0.575, 0.575]</td><td>203.573</td></tr><tr><th>24</th><td>1</td><td>0.0023</td><td>203.573</td><td>0.504717</td><td>[0.575, 0.575, 0.575]</td><td>203.713</td></tr><tr><th>&vellip;</th><td>&vellip;</td><td>&vellip;</td><td>&vellip;</td><td>&vellip;</td><td>&vellip;</td><td>&vellip;</td></tr></tbody></table></div>"
      ],
      "text/latex": [
       "\\begin{tabular}{r|ccccccc}\n",
       "\t& episode & time & source1\\_i\\_L1\\_a & source1\\_v\\_L1\\_a & action & next\\_state\\_source1\\_i\\_L1\\_a & \\\\\n",
       "\t\\hline\n",
       "\t& Int64 & Float32 & Float64 & Float64 & Array… & Float64 & \\\\\n",
       "\t\\hline\n",
       "\t1 & 1 & 0.0 & 0.0 & 0.0 & [0.575, 0.575, 0.575] & 0.0 & $\\dots$ \\\\\n",
       "\t2 & 1 & 0.0001 & 0.0 & 0.0 & [0.575, 0.575, 0.575] & 64.3879 & $\\dots$ \\\\\n",
       "\t3 & 1 & 0.0002 & 64.3879 & 205.206 & [0.575, 0.575, 0.575] & 118.512 & $\\dots$ \\\\\n",
       "\t4 & 1 & 0.0003 & 118.512 & 163.059 & [0.575, 0.575, 0.575] & 159.662 & $\\dots$ \\\\\n",
       "\t5 & 1 & 0.0004 & 159.662 & 118.471 & [0.575, 0.575, 0.575] & 188.416 & $\\dots$ \\\\\n",
       "\t6 & 1 & 0.0005 & 188.416 & 79.1171 & [0.575, 0.575, 0.575] & 206.748 & $\\dots$ \\\\\n",
       "\t7 & 1 & 0.0006 & 206.748 & 47.433 & [0.575, 0.575, 0.575] & 216.964 & $\\dots$ \\\\\n",
       "\t8 & 1 & 0.0007 & 216.964 & 23.6258 & [0.575, 0.575, 0.575] & 221.293 & $\\dots$ \\\\\n",
       "\t9 & 1 & 0.0008 & 221.293 & 7.07961 & [0.575, 0.575, 0.575] & 221.713 & $\\dots$ \\\\\n",
       "\t10 & 1 & 0.0009 & 221.713 & -3.29035 & [0.575, 0.575, 0.575] & 219.837 & $\\dots$ \\\\\n",
       "\t11 & 1 & 0.001 & 219.837 & -8.84257 & [0.575, 0.575, 0.575] & 216.869 & $\\dots$ \\\\\n",
       "\t12 & 1 & 0.0011 & 216.869 & -10.9624 & [0.575, 0.575, 0.575] & 213.633 & $\\dots$ \\\\\n",
       "\t13 & 1 & 0.0012 & 213.633 & -10.866 & [0.575, 0.575, 0.575] & 210.628 & $\\dots$ \\\\\n",
       "\t14 & 1 & 0.0013 & 210.628 & -9.51317 & [0.575, 0.575, 0.575] & 208.116 & $\\dots$ \\\\\n",
       "\t15 & 1 & 0.0014 & 208.116 & -7.60108 & [0.575, 0.575, 0.575] & 206.185 & $\\dots$ \\\\\n",
       "\t16 & 1 & 0.0015 & 206.185 & -5.59584 & [0.575, 0.575, 0.575] & 204.82 & $\\dots$ \\\\\n",
       "\t17 & 1 & 0.0016 & 204.82 & -3.77656 & [0.575, 0.575, 0.575] & 203.942 & $\\dots$ \\\\\n",
       "\t18 & 1 & 0.0017 & 203.942 & -2.28148 & [0.575, 0.575, 0.575] & 203.448 & $\\dots$ \\\\\n",
       "\t19 & 1 & 0.0018 & 203.448 & -1.15116 & [0.575, 0.575, 0.575] & 203.234 & $\\dots$ \\\\\n",
       "\t20 & 1 & 0.0019 & 203.234 & -0.365185 & [0.575, 0.575, 0.575] & 203.206 & $\\dots$ \\\\\n",
       "\t21 & 1 & 0.002 & 203.206 & 0.129335 & [0.575, 0.575, 0.575] & 203.288 & $\\dots$ \\\\\n",
       "\t22 & 1 & 0.0021 & 203.288 & 0.397567 & [0.575, 0.575, 0.575] & 203.423 & $\\dots$ \\\\\n",
       "\t23 & 1 & 0.0022 & 203.423 & 0.503928 & [0.575, 0.575, 0.575] & 203.573 & $\\dots$ \\\\\n",
       "\t24 & 1 & 0.0023 & 203.573 & 0.504717 & [0.575, 0.575, 0.575] & 203.713 & $\\dots$ \\\\\n",
       "\t$\\dots$ & $\\dots$ & $\\dots$ & $\\dots$ & $\\dots$ & $\\dots$ & $\\dots$ &  \\\\\n",
       "\\end{tabular}\n"
      ],
      "text/plain": [
       "\u001b[1m500×10 DataFrame\u001b[0m\n",
       "\u001b[1m Row \u001b[0m│\u001b[1m episode \u001b[0m\u001b[1m time    \u001b[0m\u001b[1m source1_i_L1_a \u001b[0m\u001b[1m source1_v_L1_a \u001b[0m\u001b[1m action               \u001b[0m ⋯\n",
       "\u001b[1m     \u001b[0m│\u001b[90m Int64   \u001b[0m\u001b[90m Float32 \u001b[0m\u001b[90m Float64        \u001b[0m\u001b[90m Float64        \u001b[0m\u001b[90m Array…               \u001b[0m ⋯\n",
       "─────┼──────────────────────────────────────────────────────────────────────────\n",
       "   1 │       1   0.0             0.0        0.0          Union{Nothing, Float6 ⋯\n",
       "   2 │       1   0.0001          0.0        0.0          Union{Nothing, Float6\n",
       "   3 │       1   0.0002         64.3879   205.206        Union{Nothing, Float6\n",
       "   4 │       1   0.0003        118.512    163.059        Union{Nothing, Float6\n",
       "   5 │       1   0.0004        159.662    118.471        Union{Nothing, Float6 ⋯\n",
       "   6 │       1   0.0005        188.416     79.1171       Union{Nothing, Float6\n",
       "   7 │       1   0.0006        206.748     47.433        Union{Nothing, Float6\n",
       "   8 │       1   0.0007        216.964     23.6258       Union{Nothing, Float6\n",
       "  ⋮  │    ⋮        ⋮           ⋮               ⋮                         ⋮     ⋱\n",
       " 494 │       1   0.0493        204.026     -1.19279e-13  Union{Nothing, Float6 ⋯\n",
       " 495 │       1   0.0494        204.026     -1.19279e-13  Union{Nothing, Float6\n",
       " 496 │       1   0.0495        204.026     -1.19279e-13  Union{Nothing, Float6\n",
       " 497 │       1   0.0496        204.026     -1.19279e-13  Union{Nothing, Float6\n",
       " 498 │       1   0.0497        204.026     -1.19279e-13  Union{Nothing, Float6 ⋯\n",
       " 499 │       1   0.0498        204.026     -1.19279e-13  Union{Nothing, Float6\n",
       " 500 │       1   0.0499        204.026     -1.19279e-13  Union{Nothing, Float6\n",
       "\u001b[36m                                                  6 columns and 485 rows omitted\u001b[0m"
      ]
     },
     "metadata": {},
     "output_type": "display_data"
    }
   ],
   "source": [
    "hook = DataHook(collect_state_ids = [\"source1_i_L1_a\"],\n",
    "                collect_action_ids = [\"source1_u_a\"]\n",
    "                #collect_sources  = [1]  # alternative collect all data of source 1 \n",
    "                );\n",
    "\n",
    "Simulate(Controller, env, hook=hook);\n",
    "\n",
    "hook.df"
   ]
  },
  {
   "attachments": {},
   "cell_type": "markdown",
   "id": "e8ba375e",
   "metadata": {},
   "source": [
    "After the experiment, the `RenderHookResults()` function provided by the `JEG` package can be used to show the results of the simulated episode.\n",
    "States and actions which are logged with the `DataHook` can be selected to be plotted:"
   ]
  },
  {
   "cell_type": "code",
   "execution_count": 34,
   "id": "aeafa727",
   "metadata": {},
   "outputs": [],
   "source": [
    "RenderHookResults(hook = hook, \n",
    "                    episode = 1,\n",
    "                    states_to_plot  = [\"source1_i_L1_a\"],  \n",
    "                    actions_to_plot = [\"source1_u_a\"])"
   ]
  },
  {
   "attachments": {},
   "cell_type": "markdown",
   "id": "ad5f321a",
   "metadata": {},
   "source": [
    "As can be seen, the state `\"source1_i_L1_a\"` (belonging to the left y-axis) and the action `\"source1_u_a\"` (right y-axis) are plotted over the 500 timesteps while one timestep takes `ts = 1e-4` s resulting in an episode time of 0.05 s.\n",
    "Here, the states and actions plotted/collected are not normalized.\n",
    "\n",
    "Above the `control_type` of the source is chosen as classic in `mode => Step`. \n",
    "That means an open-loop and as can be seen in the plot action a step is given to the inputs resulting in an input voltage of `env.nc.parameters[\"grid\"][\"v_rms\"]`. \n",
    "For more information about possible control modes, see `ClassicalController_Notebook` or documentation (LINK)."
   ]
  },
  {
   "attachments": {},
   "cell_type": "markdown",
   "id": "560a30d1",
   "metadata": {},
   "source": [
    "## AC-grid example\n",
    "To run an AC-grid where the source created a sin-wave voltage with the frequency of `env.nc.parameters[\"grid\"][\"f_grid\"]` just the control mode has to be changed from `Step` to `Swing`."
   ]
  },
  {
   "cell_type": "code",
   "execution_count": null,
   "id": "0fc1a9dc",
   "metadata": {},
   "outputs": [],
   "source": [
    "CM = [0. 1.\n",
    "    -1. 0.]\n",
    "\n",
    "\n",
    "parameters = Dict{Any, Any}(\n",
    "        \"source\" => Any[\n",
    "                        Dict{Any, Any}(\"pwr\" => S_source, \"control_type\" => \"classic\", \"mode\" => \"Swing\", \"fltr\" => \"LC\", \"i_limit\" => 1e4, \"v_limit\" => 1e4,),\n",
    "                        ],\n",
    "        \"load\"   => Any[\n",
    "                        Dict{Any, Any}(\"impedance\" => \"R\", \"R\" => R_load)\n",
    "                        ],\n",
    "        \"cable\"   => Any[\n",
    "                        Dict{Any, Any}(\"R\" => 1e-3, \"L\" => 1e-4, \"C\" => 1e-4),\n",
    "                        ],\n",
    "        \"grid\" => Dict{Any, Any}(\"fs\"=>1e4, \"phase\"=>3, \"v_rms\"=>230, \"f_grid\" => 50, \"ramp_end\"=>0.0)\n",
    "    )\n",
    "\n",
    "env = ElectricGridEnv(CM = CM, parameters = parameters)\n",
    "\n",
    "states_to_plot = [\"source1_v_C_filt_a\", \"source1_v_C_filt_b\", \"source1_v_C_filt_c\"]\n",
    "action_to_plot = [\"source1_u_a\"]\n",
    "\n",
    "hook = DataHook(collect_state_ids = states_to_plot)\n",
    "\n",
    "Controller = SetupAgents(env)\n",
    "Simulate(Controller, env, hook=hook)\n",
    "\n",
    "RenderHookResults(hook = hook,\n",
    "                  states_to_plot  = states_to_plot)"
   ]
  },
  {
   "attachments": {},
   "cell_type": "markdown",
   "id": "0b7edf1b",
   "metadata": {},
   "source": [
    "Based on that introdcution more enhanced environments can be created consiting of more sources and loads connected to each other, e.g.,\n",
    "- controlled by classic grid controllers to share the power based on the droop concept --> See: `Classic_Controllers_Notebooks`,\n",
    "- train RL agents to fullfill current control for single sources --> See: `RL_Single_Agent_DEMO.ipynb`,\n",
    "- train RL agents to interact in a bigger power grid with classically controlled sources --> See: `RL_Classical_Controllers_Merge_DEMO.ipynb`."
   ]
  }
 ],
 "metadata": {
  "@webio": {
   "lastCommId": "f0defb50d5b94f7e83e9d7f49d4ec3a8",
   "lastKernelId": "5f87e2b7-5a6a-47c9-8324-1db0aa9c5859"
  },
  "kernelspec": {
   "display_name": "Julia 1.8.5",
   "language": "julia",
   "name": "julia-1.8"
  },
  "language_info": {
   "file_extension": ".jl",
   "mimetype": "application/julia",
   "name": "julia",
   "version": "1.8.5"
  }
 },
 "nbformat": 4,
 "nbformat_minor": 5
}
